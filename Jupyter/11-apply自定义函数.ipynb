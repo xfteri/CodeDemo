{
 "cells": [
  {
   "cell_type": "code",
   "execution_count": 33,
   "id": "129a16c6",
   "metadata": {
    "ExecuteTime": {
     "end_time": "2022-12-28T11:22:56.174249Z",
     "start_time": "2022-12-28T11:22:56.162281Z"
    }
   },
   "outputs": [],
   "source": [
    "import pandas as pd"
   ]
  },
  {
   "cell_type": "markdown",
   "id": "fc03cfb3",
   "metadata": {},
   "source": [
    "# apply 函数简介"
   ]
  },
  {
   "cell_type": "markdown",
   "id": "14326f5b",
   "metadata": {},
   "source": [
    "- pandas 的 apply() 函数可以作用于 Series 或者整个 DataFrame，功能也是自动遍历整个 Series 或者 DataFrame，对每一个元素运行指定的函数。\n",
    "\n",
    "    - 1）pandas 提供了很多数据处理的 API，但当提供的 API 不能满足需求的时候，需要自己编写数据处理函数, 这个时候可以使用 apply 函数\n",
    "    - 2）apply 函数可以接收一个自定义函数，可以将 DataFrame 的行或列数据传递给自定义函数处理\n",
    "    - 3）apply 函数类似于编写一个 for 循环，遍历行、列的每一个元素, 但比使用 for 循环效率高很多"
   ]
  },
  {
   "cell_type": "markdown",
   "id": "6e773e58",
   "metadata": {},
   "source": [
    "# Series 的 apply 方法"
   ]
  },
  {
   "cell_type": "markdown",
   "id": "cdaba29e",
   "metadata": {},
   "source": [
    "## 创建一个 DataFrame 数据集，准备数据"
   ]
  },
  {
   "cell_type": "code",
   "execution_count": 34,
   "id": "d5dd1f54",
   "metadata": {
    "ExecuteTime": {
     "end_time": "2022-12-28T11:22:56.190206Z",
     "start_time": "2022-12-28T11:22:56.176244Z"
    }
   },
   "outputs": [
    {
     "data": {
      "text/html": [
       "<div>\n",
       "<style scoped>\n",
       "    .dataframe tbody tr th:only-of-type {\n",
       "        vertical-align: middle;\n",
       "    }\n",
       "\n",
       "    .dataframe tbody tr th {\n",
       "        vertical-align: top;\n",
       "    }\n",
       "\n",
       "    .dataframe thead th {\n",
       "        text-align: right;\n",
       "    }\n",
       "</style>\n",
       "<table border=\"1\" class=\"dataframe\">\n",
       "  <thead>\n",
       "    <tr style=\"text-align: right;\">\n",
       "      <th></th>\n",
       "      <th>a</th>\n",
       "      <th>b</th>\n",
       "    </tr>\n",
       "  </thead>\n",
       "  <tbody>\n",
       "    <tr>\n",
       "      <th>0</th>\n",
       "      <td>10</td>\n",
       "      <td>20</td>\n",
       "    </tr>\n",
       "    <tr>\n",
       "      <th>1</th>\n",
       "      <td>20</td>\n",
       "      <td>30</td>\n",
       "    </tr>\n",
       "    <tr>\n",
       "      <th>2</th>\n",
       "      <td>30</td>\n",
       "      <td>40</td>\n",
       "    </tr>\n",
       "  </tbody>\n",
       "</table>\n",
       "</div>"
      ],
      "text/plain": [
       "    a   b\n",
       "0  10  20\n",
       "1  20  30\n",
       "2  30  40"
      ]
     },
     "execution_count": 34,
     "metadata": {},
     "output_type": "execute_result"
    }
   ],
   "source": [
    "# 创建一个 DataFrame 数据集，准备数据\n",
    "df = pd.DataFrame({'a':[10,20,30],'b':[20,30,40]})\n",
    "df"
   ]
  },
  {
   "cell_type": "markdown",
   "id": "1a694db8",
   "metadata": {},
   "source": [
    "## 创建一个自定义函数"
   ]
  },
  {
   "cell_type": "code",
   "execution_count": 35,
   "id": "4fdf1bb3",
   "metadata": {
    "ExecuteTime": {
     "end_time": "2022-12-28T11:22:56.206164Z",
     "start_time": "2022-12-28T11:22:56.192202Z"
    }
   },
   "outputs": [],
   "source": [
    "def my_sq(x):\n",
    "    \"\"\"求平方\"\"\"\n",
    "    return x**2"
   ]
  },
  {
   "cell_type": "markdown",
   "id": "6775dafc",
   "metadata": {},
   "source": [
    "## 使用 apply 方法进行数据处理"
   ]
  },
  {
   "cell_type": "code",
   "execution_count": 36,
   "id": "722eeca3",
   "metadata": {
    "ExecuteTime": {
     "end_time": "2022-12-28T11:22:56.222121Z",
     "start_time": "2022-12-28T11:22:56.208159Z"
    }
   },
   "outputs": [
    {
     "data": {
      "text/plain": [
       "0    100\n",
       "1    400\n",
       "2    900\n",
       "Name: a, dtype: int64"
      ]
     },
     "execution_count": 36,
     "metadata": {},
     "output_type": "execute_result"
    }
   ],
   "source": [
    "df['a'].apply(my_sq)"
   ]
  },
  {
   "cell_type": "markdown",
   "id": "3d68ee0d",
   "metadata": {},
   "source": [
    "## series 的 apply 还可以接收多个参数"
   ]
  },
  {
   "cell_type": "code",
   "execution_count": 37,
   "id": "ba5a21d5",
   "metadata": {
    "ExecuteTime": {
     "end_time": "2022-12-28T11:22:56.237081Z",
     "start_time": "2022-12-28T11:22:56.223118Z"
    }
   },
   "outputs": [],
   "source": [
    "def my_add(x,n):\n",
    "#     求和\n",
    "    return x+n"
   ]
  },
  {
   "cell_type": "code",
   "execution_count": 38,
   "id": "95bc2dfa",
   "metadata": {
    "ExecuteTime": {
     "end_time": "2022-12-28T11:22:56.252041Z",
     "start_time": "2022-12-28T11:22:56.241070Z"
    }
   },
   "outputs": [
    {
     "data": {
      "text/plain": [
       "0    13\n",
       "1    23\n",
       "2    33\n",
       "Name: a, dtype: int64"
      ]
     },
     "execution_count": 38,
     "metadata": {},
     "output_type": "execute_result"
    }
   ],
   "source": [
    "df['a'].apply(my_add,args=(3,))"
   ]
  },
  {
   "cell_type": "code",
   "execution_count": 39,
   "id": "cf1759a6",
   "metadata": {
    "ExecuteTime": {
     "end_time": "2022-12-28T11:22:56.267999Z",
     "start_time": "2022-12-28T11:22:56.254036Z"
    }
   },
   "outputs": [
    {
     "data": {
      "text/plain": [
       "0    13\n",
       "1    23\n",
       "2    33\n",
       "Name: a, dtype: int64"
      ]
     },
     "execution_count": 39,
     "metadata": {},
     "output_type": "execute_result"
    }
   ],
   "source": [
    "df['a'].apply(my_add,n=3)"
   ]
  },
  {
   "cell_type": "markdown",
   "id": "63cc63a0",
   "metadata": {},
   "source": [
    "# DataFrame 的 apply 方法"
   ]
  },
  {
   "cell_type": "markdown",
   "id": "204aacc1",
   "metadata": {},
   "source": [
    "- DataFrame 的 apply 函数用法和 Series的用法基本一致，当传入一个函数后，apply 方法就会把传入的函数应用于 DataFrame 的行或列"
   ]
  },
  {
   "cell_type": "markdown",
   "id": "ed938c30",
   "metadata": {},
   "source": [
    "## 按列执行"
   ]
  },
  {
   "cell_type": "markdown",
   "id": "3ac66ab7",
   "metadata": {},
   "source": [
    "### 定义一个处理函数"
   ]
  },
  {
   "cell_type": "code",
   "execution_count": 40,
   "id": "17063420",
   "metadata": {
    "ExecuteTime": {
     "end_time": "2022-12-28T11:22:56.282958Z",
     "start_time": "2022-12-28T11:22:56.269994Z"
    }
   },
   "outputs": [],
   "source": [
    "def sub_one(x):\n",
    "#     减一操作\n",
    "    print(x)\n",
    "    return x - 1"
   ]
  },
  {
   "cell_type": "markdown",
   "id": "44581cf5",
   "metadata": {},
   "source": [
    "### 针对 df 进行 apply 操作，默认按列执行"
   ]
  },
  {
   "cell_type": "code",
   "execution_count": 41,
   "id": "012d42df",
   "metadata": {
    "ExecuteTime": {
     "end_time": "2022-12-28T11:22:56.297919Z",
     "start_time": "2022-12-28T11:22:56.284955Z"
    }
   },
   "outputs": [
    {
     "name": "stdout",
     "output_type": "stream",
     "text": [
      "0    10\n",
      "1    20\n",
      "2    30\n",
      "Name: a, dtype: int64\n",
      "0    20\n",
      "1    30\n",
      "2    40\n",
      "Name: b, dtype: int64\n"
     ]
    },
    {
     "data": {
      "text/html": [
       "<div>\n",
       "<style scoped>\n",
       "    .dataframe tbody tr th:only-of-type {\n",
       "        vertical-align: middle;\n",
       "    }\n",
       "\n",
       "    .dataframe tbody tr th {\n",
       "        vertical-align: top;\n",
       "    }\n",
       "\n",
       "    .dataframe thead th {\n",
       "        text-align: right;\n",
       "    }\n",
       "</style>\n",
       "<table border=\"1\" class=\"dataframe\">\n",
       "  <thead>\n",
       "    <tr style=\"text-align: right;\">\n",
       "      <th></th>\n",
       "      <th>a</th>\n",
       "      <th>b</th>\n",
       "    </tr>\n",
       "  </thead>\n",
       "  <tbody>\n",
       "    <tr>\n",
       "      <th>0</th>\n",
       "      <td>9</td>\n",
       "      <td>19</td>\n",
       "    </tr>\n",
       "    <tr>\n",
       "      <th>1</th>\n",
       "      <td>19</td>\n",
       "      <td>29</td>\n",
       "    </tr>\n",
       "    <tr>\n",
       "      <th>2</th>\n",
       "      <td>29</td>\n",
       "      <td>39</td>\n",
       "    </tr>\n",
       "  </tbody>\n",
       "</table>\n",
       "</div>"
      ],
      "text/plain": [
       "    a   b\n",
       "0   9  19\n",
       "1  19  29\n",
       "2  29  39"
      ]
     },
     "execution_count": 41,
     "metadata": {},
     "output_type": "execute_result"
    }
   ],
   "source": [
    "# 按列计算\n",
    "df.apply(sub_one)"
   ]
  },
  {
   "cell_type": "markdown",
   "id": "9f4757e6",
   "metadata": {},
   "source": [
    "## 按行执行"
   ]
  },
  {
   "cell_type": "markdown",
   "id": "4445deb4",
   "metadata": {},
   "source": [
    "- DataFrame 的 apply 函数有一个 axis 参数，默认值为 0，表示按列执行；可以设置为axis=1 ，表示按行执行"
   ]
  },
  {
   "cell_type": "markdown",
   "id": "66dc6ae1",
   "metadata": {},
   "source": [
    "### 针对 df 进行 apply 操作，设置按行执行"
   ]
  },
  {
   "cell_type": "code",
   "execution_count": 42,
   "id": "aae6a0af",
   "metadata": {
    "ExecuteTime": {
     "end_time": "2022-12-28T11:22:56.313877Z",
     "start_time": "2022-12-28T11:22:56.301908Z"
    }
   },
   "outputs": [
    {
     "name": "stdout",
     "output_type": "stream",
     "text": [
      "a    10\n",
      "b    20\n",
      "Name: 0, dtype: int64\n",
      "a    20\n",
      "b    30\n",
      "Name: 1, dtype: int64\n",
      "a    30\n",
      "b    40\n",
      "Name: 2, dtype: int64\n"
     ]
    },
    {
     "data": {
      "text/html": [
       "<div>\n",
       "<style scoped>\n",
       "    .dataframe tbody tr th:only-of-type {\n",
       "        vertical-align: middle;\n",
       "    }\n",
       "\n",
       "    .dataframe tbody tr th {\n",
       "        vertical-align: top;\n",
       "    }\n",
       "\n",
       "    .dataframe thead th {\n",
       "        text-align: right;\n",
       "    }\n",
       "</style>\n",
       "<table border=\"1\" class=\"dataframe\">\n",
       "  <thead>\n",
       "    <tr style=\"text-align: right;\">\n",
       "      <th></th>\n",
       "      <th>a</th>\n",
       "      <th>b</th>\n",
       "    </tr>\n",
       "  </thead>\n",
       "  <tbody>\n",
       "    <tr>\n",
       "      <th>0</th>\n",
       "      <td>9</td>\n",
       "      <td>19</td>\n",
       "    </tr>\n",
       "    <tr>\n",
       "      <th>1</th>\n",
       "      <td>19</td>\n",
       "      <td>29</td>\n",
       "    </tr>\n",
       "    <tr>\n",
       "      <th>2</th>\n",
       "      <td>29</td>\n",
       "      <td>39</td>\n",
       "    </tr>\n",
       "  </tbody>\n",
       "</table>\n",
       "</div>"
      ],
      "text/plain": [
       "    a   b\n",
       "0   9  19\n",
       "1  19  29\n",
       "2  29  39"
      ]
     },
     "execution_count": 42,
     "metadata": {},
     "output_type": "execute_result"
    }
   ],
   "source": [
    "# 按行计算\n",
    "df.apply(sub_one,axis=1)"
   ]
  },
  {
   "cell_type": "markdown",
   "id": "d62de3ce",
   "metadata": {},
   "source": [
    "## 每一个值都执行"
   ]
  },
  {
   "cell_type": "markdown",
   "id": "8b85392f",
   "metadata": {},
   "source": [
    "- DataFrame 还有一个 applymap 函数，applymap 也有一个 func 参数接收一个函数，针对 DataFrame 每个值应用 func 指定的函数进行操作，分别返回的结果构成新的 DataFrame 对象\n",
    "- 注意：applymap函数是 DataFrame 独有的，Series 没有这个方法"
   ]
  },
  {
   "cell_type": "code",
   "execution_count": 43,
   "id": "49266f01",
   "metadata": {
    "ExecuteTime": {
     "end_time": "2022-12-28T11:22:56.329834Z",
     "start_time": "2022-12-28T11:22:56.314873Z"
    }
   },
   "outputs": [
    {
     "name": "stdout",
     "output_type": "stream",
     "text": [
      "10\n",
      "20\n",
      "30\n",
      "20\n",
      "30\n",
      "40\n"
     ]
    },
    {
     "data": {
      "text/html": [
       "<div>\n",
       "<style scoped>\n",
       "    .dataframe tbody tr th:only-of-type {\n",
       "        vertical-align: middle;\n",
       "    }\n",
       "\n",
       "    .dataframe tbody tr th {\n",
       "        vertical-align: top;\n",
       "    }\n",
       "\n",
       "    .dataframe thead th {\n",
       "        text-align: right;\n",
       "    }\n",
       "</style>\n",
       "<table border=\"1\" class=\"dataframe\">\n",
       "  <thead>\n",
       "    <tr style=\"text-align: right;\">\n",
       "      <th></th>\n",
       "      <th>a</th>\n",
       "      <th>b</th>\n",
       "    </tr>\n",
       "  </thead>\n",
       "  <tbody>\n",
       "    <tr>\n",
       "      <th>0</th>\n",
       "      <td>9</td>\n",
       "      <td>19</td>\n",
       "    </tr>\n",
       "    <tr>\n",
       "      <th>1</th>\n",
       "      <td>19</td>\n",
       "      <td>29</td>\n",
       "    </tr>\n",
       "    <tr>\n",
       "      <th>2</th>\n",
       "      <td>29</td>\n",
       "      <td>39</td>\n",
       "    </tr>\n",
       "  </tbody>\n",
       "</table>\n",
       "</div>"
      ],
      "text/plain": [
       "    a   b\n",
       "0   9  19\n",
       "1  19  29\n",
       "2  29  39"
      ]
     },
     "execution_count": 43,
     "metadata": {},
     "output_type": "execute_result"
    }
   ],
   "source": [
    "# sub_one应用到df中的每一个元素\n",
    "df.applymap(sub_one)"
   ]
  },
  {
   "cell_type": "markdown",
   "id": "2e6cf773",
   "metadata": {},
   "source": [
    "# apply 使用案例"
   ]
  },
  {
   "cell_type": "markdown",
   "id": "01e43fc3",
   "metadata": {},
   "source": [
    "## 加载titanic.csv数据集，通过df.info()函数来查看数据集基本信息，从中发现缺失值"
   ]
  },
  {
   "cell_type": "code",
   "execution_count": 44,
   "id": "3136bc90",
   "metadata": {
    "ExecuteTime": {
     "end_time": "2022-12-28T11:22:56.361748Z",
     "start_time": "2022-12-28T11:22:56.331829Z"
    }
   },
   "outputs": [
    {
     "data": {
      "text/html": [
       "<div>\n",
       "<style scoped>\n",
       "    .dataframe tbody tr th:only-of-type {\n",
       "        vertical-align: middle;\n",
       "    }\n",
       "\n",
       "    .dataframe tbody tr th {\n",
       "        vertical-align: top;\n",
       "    }\n",
       "\n",
       "    .dataframe thead th {\n",
       "        text-align: right;\n",
       "    }\n",
       "</style>\n",
       "<table border=\"1\" class=\"dataframe\">\n",
       "  <thead>\n",
       "    <tr style=\"text-align: right;\">\n",
       "      <th></th>\n",
       "      <th>survived</th>\n",
       "      <th>pclass</th>\n",
       "      <th>sex</th>\n",
       "      <th>age</th>\n",
       "      <th>sibsp</th>\n",
       "      <th>parch</th>\n",
       "      <th>fare</th>\n",
       "      <th>embarked</th>\n",
       "      <th>class</th>\n",
       "      <th>who</th>\n",
       "      <th>adult_male</th>\n",
       "      <th>deck</th>\n",
       "      <th>embark_town</th>\n",
       "      <th>alive</th>\n",
       "      <th>alone</th>\n",
       "    </tr>\n",
       "  </thead>\n",
       "  <tbody>\n",
       "    <tr>\n",
       "      <th>0</th>\n",
       "      <td>0</td>\n",
       "      <td>3</td>\n",
       "      <td>male</td>\n",
       "      <td>22.0</td>\n",
       "      <td>1</td>\n",
       "      <td>0</td>\n",
       "      <td>7.2500</td>\n",
       "      <td>S</td>\n",
       "      <td>Third</td>\n",
       "      <td>man</td>\n",
       "      <td>True</td>\n",
       "      <td>NaN</td>\n",
       "      <td>Southampton</td>\n",
       "      <td>no</td>\n",
       "      <td>False</td>\n",
       "    </tr>\n",
       "    <tr>\n",
       "      <th>1</th>\n",
       "      <td>1</td>\n",
       "      <td>1</td>\n",
       "      <td>female</td>\n",
       "      <td>38.0</td>\n",
       "      <td>1</td>\n",
       "      <td>0</td>\n",
       "      <td>71.2833</td>\n",
       "      <td>C</td>\n",
       "      <td>First</td>\n",
       "      <td>woman</td>\n",
       "      <td>False</td>\n",
       "      <td>C</td>\n",
       "      <td>Cherbourg</td>\n",
       "      <td>yes</td>\n",
       "      <td>False</td>\n",
       "    </tr>\n",
       "    <tr>\n",
       "      <th>2</th>\n",
       "      <td>1</td>\n",
       "      <td>3</td>\n",
       "      <td>female</td>\n",
       "      <td>26.0</td>\n",
       "      <td>0</td>\n",
       "      <td>0</td>\n",
       "      <td>7.9250</td>\n",
       "      <td>S</td>\n",
       "      <td>Third</td>\n",
       "      <td>woman</td>\n",
       "      <td>False</td>\n",
       "      <td>NaN</td>\n",
       "      <td>Southampton</td>\n",
       "      <td>yes</td>\n",
       "      <td>True</td>\n",
       "    </tr>\n",
       "    <tr>\n",
       "      <th>3</th>\n",
       "      <td>1</td>\n",
       "      <td>1</td>\n",
       "      <td>female</td>\n",
       "      <td>35.0</td>\n",
       "      <td>1</td>\n",
       "      <td>0</td>\n",
       "      <td>53.1000</td>\n",
       "      <td>S</td>\n",
       "      <td>First</td>\n",
       "      <td>woman</td>\n",
       "      <td>False</td>\n",
       "      <td>C</td>\n",
       "      <td>Southampton</td>\n",
       "      <td>yes</td>\n",
       "      <td>False</td>\n",
       "    </tr>\n",
       "    <tr>\n",
       "      <th>4</th>\n",
       "      <td>0</td>\n",
       "      <td>3</td>\n",
       "      <td>male</td>\n",
       "      <td>35.0</td>\n",
       "      <td>0</td>\n",
       "      <td>0</td>\n",
       "      <td>8.0500</td>\n",
       "      <td>S</td>\n",
       "      <td>Third</td>\n",
       "      <td>man</td>\n",
       "      <td>True</td>\n",
       "      <td>NaN</td>\n",
       "      <td>Southampton</td>\n",
       "      <td>no</td>\n",
       "      <td>True</td>\n",
       "    </tr>\n",
       "    <tr>\n",
       "      <th>...</th>\n",
       "      <td>...</td>\n",
       "      <td>...</td>\n",
       "      <td>...</td>\n",
       "      <td>...</td>\n",
       "      <td>...</td>\n",
       "      <td>...</td>\n",
       "      <td>...</td>\n",
       "      <td>...</td>\n",
       "      <td>...</td>\n",
       "      <td>...</td>\n",
       "      <td>...</td>\n",
       "      <td>...</td>\n",
       "      <td>...</td>\n",
       "      <td>...</td>\n",
       "      <td>...</td>\n",
       "    </tr>\n",
       "    <tr>\n",
       "      <th>886</th>\n",
       "      <td>0</td>\n",
       "      <td>2</td>\n",
       "      <td>male</td>\n",
       "      <td>27.0</td>\n",
       "      <td>0</td>\n",
       "      <td>0</td>\n",
       "      <td>13.0000</td>\n",
       "      <td>S</td>\n",
       "      <td>Second</td>\n",
       "      <td>man</td>\n",
       "      <td>True</td>\n",
       "      <td>NaN</td>\n",
       "      <td>Southampton</td>\n",
       "      <td>no</td>\n",
       "      <td>True</td>\n",
       "    </tr>\n",
       "    <tr>\n",
       "      <th>887</th>\n",
       "      <td>1</td>\n",
       "      <td>1</td>\n",
       "      <td>female</td>\n",
       "      <td>19.0</td>\n",
       "      <td>0</td>\n",
       "      <td>0</td>\n",
       "      <td>30.0000</td>\n",
       "      <td>S</td>\n",
       "      <td>First</td>\n",
       "      <td>woman</td>\n",
       "      <td>False</td>\n",
       "      <td>B</td>\n",
       "      <td>Southampton</td>\n",
       "      <td>yes</td>\n",
       "      <td>True</td>\n",
       "    </tr>\n",
       "    <tr>\n",
       "      <th>888</th>\n",
       "      <td>0</td>\n",
       "      <td>3</td>\n",
       "      <td>female</td>\n",
       "      <td>NaN</td>\n",
       "      <td>1</td>\n",
       "      <td>2</td>\n",
       "      <td>23.4500</td>\n",
       "      <td>S</td>\n",
       "      <td>Third</td>\n",
       "      <td>woman</td>\n",
       "      <td>False</td>\n",
       "      <td>NaN</td>\n",
       "      <td>Southampton</td>\n",
       "      <td>no</td>\n",
       "      <td>False</td>\n",
       "    </tr>\n",
       "    <tr>\n",
       "      <th>889</th>\n",
       "      <td>1</td>\n",
       "      <td>1</td>\n",
       "      <td>male</td>\n",
       "      <td>26.0</td>\n",
       "      <td>0</td>\n",
       "      <td>0</td>\n",
       "      <td>30.0000</td>\n",
       "      <td>C</td>\n",
       "      <td>First</td>\n",
       "      <td>man</td>\n",
       "      <td>True</td>\n",
       "      <td>C</td>\n",
       "      <td>Cherbourg</td>\n",
       "      <td>yes</td>\n",
       "      <td>True</td>\n",
       "    </tr>\n",
       "    <tr>\n",
       "      <th>890</th>\n",
       "      <td>0</td>\n",
       "      <td>3</td>\n",
       "      <td>male</td>\n",
       "      <td>32.0</td>\n",
       "      <td>0</td>\n",
       "      <td>0</td>\n",
       "      <td>7.7500</td>\n",
       "      <td>Q</td>\n",
       "      <td>Third</td>\n",
       "      <td>man</td>\n",
       "      <td>True</td>\n",
       "      <td>NaN</td>\n",
       "      <td>Queenstown</td>\n",
       "      <td>no</td>\n",
       "      <td>True</td>\n",
       "    </tr>\n",
       "  </tbody>\n",
       "</table>\n",
       "<p>891 rows × 15 columns</p>\n",
       "</div>"
      ],
      "text/plain": [
       "     survived  pclass     sex   age  sibsp  parch     fare embarked   class  \\\n",
       "0           0       3    male  22.0      1      0   7.2500        S   Third   \n",
       "1           1       1  female  38.0      1      0  71.2833        C   First   \n",
       "2           1       3  female  26.0      0      0   7.9250        S   Third   \n",
       "3           1       1  female  35.0      1      0  53.1000        S   First   \n",
       "4           0       3    male  35.0      0      0   8.0500        S   Third   \n",
       "..        ...     ...     ...   ...    ...    ...      ...      ...     ...   \n",
       "886         0       2    male  27.0      0      0  13.0000        S  Second   \n",
       "887         1       1  female  19.0      0      0  30.0000        S   First   \n",
       "888         0       3  female   NaN      1      2  23.4500        S   Third   \n",
       "889         1       1    male  26.0      0      0  30.0000        C   First   \n",
       "890         0       3    male  32.0      0      0   7.7500        Q   Third   \n",
       "\n",
       "       who  adult_male deck  embark_town alive  alone  \n",
       "0      man        True  NaN  Southampton    no  False  \n",
       "1    woman       False    C    Cherbourg   yes  False  \n",
       "2    woman       False  NaN  Southampton   yes   True  \n",
       "3    woman       False    C  Southampton   yes  False  \n",
       "4      man        True  NaN  Southampton    no   True  \n",
       "..     ...         ...  ...          ...   ...    ...  \n",
       "886    man        True  NaN  Southampton    no   True  \n",
       "887  woman       False    B  Southampton   yes   True  \n",
       "888  woman       False  NaN  Southampton    no  False  \n",
       "889    man        True    C    Cherbourg   yes   True  \n",
       "890    man        True  NaN   Queenstown    no   True  \n",
       "\n",
       "[891 rows x 15 columns]"
      ]
     },
     "execution_count": 44,
     "metadata": {},
     "output_type": "execute_result"
    }
   ],
   "source": [
    "# 通过一个数据集 titanic.csv，应用 apply 函数计算缺失值的占比以及非空值占比\n",
    "titanic = pd.read_csv('./data/titanic.csv')\n",
    "titanic"
   ]
  },
  {
   "cell_type": "code",
   "execution_count": 45,
   "id": "a654e9c9",
   "metadata": {
    "ExecuteTime": {
     "end_time": "2022-12-28T11:22:56.377705Z",
     "start_time": "2022-12-28T11:22:56.362745Z"
    }
   },
   "outputs": [
    {
     "name": "stdout",
     "output_type": "stream",
     "text": [
      "<class 'pandas.core.frame.DataFrame'>\n",
      "RangeIndex: 891 entries, 0 to 890\n",
      "Data columns (total 15 columns):\n",
      " #   Column       Non-Null Count  Dtype  \n",
      "---  ------       --------------  -----  \n",
      " 0   survived     891 non-null    int64  \n",
      " 1   pclass       891 non-null    int64  \n",
      " 2   sex          891 non-null    object \n",
      " 3   age          714 non-null    float64\n",
      " 4   sibsp        891 non-null    int64  \n",
      " 5   parch        891 non-null    int64  \n",
      " 6   fare         891 non-null    float64\n",
      " 7   embarked     889 non-null    object \n",
      " 8   class        891 non-null    object \n",
      " 9   who          891 non-null    object \n",
      " 10  adult_male   891 non-null    bool   \n",
      " 11  deck         203 non-null    object \n",
      " 12  embark_town  889 non-null    object \n",
      " 13  alive        891 non-null    object \n",
      " 14  alone        891 non-null    bool   \n",
      "dtypes: bool(2), float64(2), int64(4), object(7)\n",
      "memory usage: 92.4+ KB\n"
     ]
    }
   ],
   "source": [
    "titanic = pd.read_csv('./data/titanic.csv')\n",
    "titanic.info()"
   ]
  },
  {
   "cell_type": "markdown",
   "id": "e840fcc7",
   "metadata": {},
   "source": [
    "## 完成自定义函数"
   ]
  },
  {
   "cell_type": "markdown",
   "id": "ccc66c24",
   "metadata": {},
   "source": [
    "通过观察发现有 4 列数据存在缺失值，age 和 deck 两列缺失值较多；此时我们就来完成几个自定义函数，分别来计算：\n",
    "\n",
    "- 缺失值总数\n",
    "- 缺失值占比\n",
    "- 非缺失值占比"
   ]
  },
  {
   "cell_type": "markdown",
   "id": "226ef8fe",
   "metadata": {},
   "source": [
    "### 缺失值数目"
   ]
  },
  {
   "cell_type": "code",
   "execution_count": 46,
   "id": "f66a9df3",
   "metadata": {
    "ExecuteTime": {
     "end_time": "2022-12-28T11:22:56.392664Z",
     "start_time": "2022-12-28T11:22:56.379700Z"
    }
   },
   "outputs": [],
   "source": [
    "def count_missing(vec):\n",
    "#     计算缺失值的个数\n",
    "    return vec.isnull().sum()"
   ]
  },
  {
   "cell_type": "markdown",
   "id": "7c427dca",
   "metadata": {},
   "source": [
    "### 缺失值占比"
   ]
  },
  {
   "cell_type": "code",
   "execution_count": 47,
   "id": "239b7e7d",
   "metadata": {
    "ExecuteTime": {
     "end_time": "2022-12-28T11:22:56.407625Z",
     "start_time": "2022-12-28T11:22:56.394660Z"
    }
   },
   "outputs": [],
   "source": [
    "def prop_missing(vec):\n",
    "#     计算缺失值的比例\n",
    "    return count_missing(vec) / vec.size"
   ]
  },
  {
   "cell_type": "markdown",
   "id": "0a470680",
   "metadata": {},
   "source": [
    "### 非缺失值占比"
   ]
  },
  {
   "cell_type": "code",
   "execution_count": 48,
   "id": "904a24bc",
   "metadata": {
    "ExecuteTime": {
     "end_time": "2022-12-28T11:22:56.423582Z",
     "start_time": "2022-12-28T11:22:56.409620Z"
    }
   },
   "outputs": [],
   "source": [
    "def prop_complete(vec):\n",
    "#     计算非缺失值占比\n",
    "    return 1 - prop_missing(vec)"
   ]
  },
  {
   "cell_type": "markdown",
   "id": "7d280fea",
   "metadata": {},
   "source": [
    "## 计算每一列缺失值及非空值的占比"
   ]
  },
  {
   "cell_type": "markdown",
   "id": "50103f93",
   "metadata": {},
   "source": [
    "### 计算数据集中每列的缺失值"
   ]
  },
  {
   "cell_type": "code",
   "execution_count": 49,
   "id": "31bb89ba",
   "metadata": {
    "ExecuteTime": {
     "end_time": "2022-12-28T11:22:56.438552Z",
     "start_time": "2022-12-28T11:22:56.425577Z"
    }
   },
   "outputs": [
    {
     "data": {
      "text/plain": [
       "survived         0\n",
       "pclass           0\n",
       "sex              0\n",
       "age            177\n",
       "sibsp            0\n",
       "parch            0\n",
       "fare             0\n",
       "embarked         2\n",
       "class            0\n",
       "who              0\n",
       "adult_male       0\n",
       "deck           688\n",
       "embark_town      2\n",
       "alive            0\n",
       "alone            0\n",
       "dtype: int64"
      ]
     },
     "execution_count": 49,
     "metadata": {},
     "output_type": "execute_result"
    }
   ],
   "source": [
    "titanic.apply(count_missing) "
   ]
  },
  {
   "cell_type": "markdown",
   "id": "62bedd29",
   "metadata": {},
   "source": [
    "### 计算数据集中每列的缺失值比例"
   ]
  },
  {
   "cell_type": "code",
   "execution_count": 50,
   "id": "89751302",
   "metadata": {
    "ExecuteTime": {
     "end_time": "2022-12-28T11:22:56.453502Z",
     "start_time": "2022-12-28T11:22:56.440537Z"
    }
   },
   "outputs": [
    {
     "data": {
      "text/plain": [
       "survived       0.000000\n",
       "pclass         0.000000\n",
       "sex            0.000000\n",
       "age            0.198653\n",
       "sibsp          0.000000\n",
       "parch          0.000000\n",
       "fare           0.000000\n",
       "embarked       0.002245\n",
       "class          0.000000\n",
       "who            0.000000\n",
       "adult_male     0.000000\n",
       "deck           0.772166\n",
       "embark_town    0.002245\n",
       "alive          0.000000\n",
       "alone          0.000000\n",
       "dtype: float64"
      ]
     },
     "execution_count": 50,
     "metadata": {},
     "output_type": "execute_result"
    }
   ],
   "source": [
    "titanic.apply(prop_missing)"
   ]
  },
  {
   "cell_type": "markdown",
   "id": "ff3cb9f3",
   "metadata": {},
   "source": [
    "### 计算数据集中每列的非缺失值比例"
   ]
  },
  {
   "cell_type": "code",
   "execution_count": 51,
   "id": "3c33941d",
   "metadata": {
    "ExecuteTime": {
     "end_time": "2022-12-28T11:22:56.469459Z",
     "start_time": "2022-12-28T11:22:56.455497Z"
    }
   },
   "outputs": [
    {
     "data": {
      "text/plain": [
       "survived       1.000000\n",
       "pclass         1.000000\n",
       "sex            1.000000\n",
       "age            0.801347\n",
       "sibsp          1.000000\n",
       "parch          1.000000\n",
       "fare           1.000000\n",
       "embarked       0.997755\n",
       "class          1.000000\n",
       "who            1.000000\n",
       "adult_male     1.000000\n",
       "deck           0.227834\n",
       "embark_town    0.997755\n",
       "alive          1.000000\n",
       "alone          1.000000\n",
       "dtype: float64"
      ]
     },
     "execution_count": 51,
     "metadata": {},
     "output_type": "execute_result"
    }
   ],
   "source": [
    "titanic.apply(prop_complete)"
   ]
  },
  {
   "cell_type": "markdown",
   "id": "6e265fc9",
   "metadata": {},
   "source": [
    "## 计算每一行缺失值及非空值的占比"
   ]
  },
  {
   "cell_type": "markdown",
   "id": "365e234c",
   "metadata": {},
   "source": [
    "### 计算数据集中每行的缺失值"
   ]
  },
  {
   "cell_type": "code",
   "execution_count": 52,
   "id": "4d9215b3",
   "metadata": {
    "ExecuteTime": {
     "end_time": "2022-12-28T11:22:56.579028Z",
     "start_time": "2022-12-28T11:22:56.470457Z"
    }
   },
   "outputs": [
    {
     "data": {
      "text/plain": [
       "0    1\n",
       "1    0\n",
       "2    1\n",
       "3    0\n",
       "4    1\n",
       "dtype: int64"
      ]
     },
     "execution_count": 52,
     "metadata": {},
     "output_type": "execute_result"
    }
   ],
   "source": [
    "titanic.apply(count_missing,axis=1).head()"
   ]
  },
  {
   "cell_type": "markdown",
   "id": "9402b7f8",
   "metadata": {},
   "source": [
    "### 计算数据集中每行的缺失值比例"
   ]
  },
  {
   "cell_type": "code",
   "execution_count": 53,
   "id": "655ad18b",
   "metadata": {
    "ExecuteTime": {
     "end_time": "2022-12-28T11:22:56.672740Z",
     "start_time": "2022-12-28T11:22:56.580019Z"
    }
   },
   "outputs": [
    {
     "data": {
      "text/plain": [
       "0      0.066667\n",
       "1      0.000000\n",
       "2      0.066667\n",
       "3      0.000000\n",
       "4      0.066667\n",
       "         ...   \n",
       "886    0.066667\n",
       "887    0.000000\n",
       "888    0.133333\n",
       "889    0.000000\n",
       "890    0.066667\n",
       "Length: 891, dtype: float64"
      ]
     },
     "execution_count": 53,
     "metadata": {},
     "output_type": "execute_result"
    }
   ],
   "source": [
    "titanic.apply(prop_missing,axis=1)"
   ]
  },
  {
   "cell_type": "markdown",
   "id": "ad5409c7",
   "metadata": {},
   "source": [
    "### 计算数据集中每行的非缺失值比例"
   ]
  },
  {
   "cell_type": "code",
   "execution_count": 54,
   "id": "f47c7443",
   "metadata": {
    "ExecuteTime": {
     "end_time": "2022-12-28T11:22:56.781484Z",
     "start_time": "2022-12-28T11:22:56.673738Z"
    }
   },
   "outputs": [
    {
     "data": {
      "text/plain": [
       "0      0.933333\n",
       "1      1.000000\n",
       "2      0.933333\n",
       "3      1.000000\n",
       "4      0.933333\n",
       "         ...   \n",
       "886    0.933333\n",
       "887    1.000000\n",
       "888    0.866667\n",
       "889    1.000000\n",
       "890    0.933333\n",
       "Length: 891, dtype: float64"
      ]
     },
     "execution_count": 54,
     "metadata": {},
     "output_type": "execute_result"
    }
   ],
   "source": [
    "titanic.apply(prop_complete,axis=1)"
   ]
  },
  {
   "cell_type": "markdown",
   "id": "05191283",
   "metadata": {},
   "source": [
    "### 按缺失值数量分别统计有多少行"
   ]
  },
  {
   "cell_type": "code",
   "execution_count": 55,
   "id": "61ce1695",
   "metadata": {
    "ExecuteTime": {
     "end_time": "2022-12-28T11:22:56.876902Z",
     "start_time": "2022-12-28T11:22:56.783476Z"
    }
   },
   "outputs": [
    {
     "data": {
      "text/plain": [
       "1    549\n",
       "0    182\n",
       "2    160\n",
       "dtype: int64"
      ]
     },
     "execution_count": 55,
     "metadata": {},
     "output_type": "execute_result"
    }
   ],
   "source": [
    "titanic.apply(count_missing,axis=1).value_counts()"
   ]
  },
  {
   "cell_type": "markdown",
   "id": "ff6e56e5",
   "metadata": {},
   "source": [
    "# 函数向量化"
   ]
  },
  {
   "cell_type": "markdown",
   "id": "7c4894cb",
   "metadata": {},
   "source": [
    "## 创建一个DataFrame"
   ]
  },
  {
   "cell_type": "code",
   "execution_count": 56,
   "id": "663ce94b",
   "metadata": {
    "ExecuteTime": {
     "end_time": "2022-12-28T11:22:56.892860Z",
     "start_time": "2022-12-28T11:22:56.877899Z"
    }
   },
   "outputs": [
    {
     "data": {
      "text/html": [
       "<div>\n",
       "<style scoped>\n",
       "    .dataframe tbody tr th:only-of-type {\n",
       "        vertical-align: middle;\n",
       "    }\n",
       "\n",
       "    .dataframe tbody tr th {\n",
       "        vertical-align: top;\n",
       "    }\n",
       "\n",
       "    .dataframe thead th {\n",
       "        text-align: right;\n",
       "    }\n",
       "</style>\n",
       "<table border=\"1\" class=\"dataframe\">\n",
       "  <thead>\n",
       "    <tr style=\"text-align: right;\">\n",
       "      <th></th>\n",
       "      <th>a</th>\n",
       "      <th>b</th>\n",
       "    </tr>\n",
       "  </thead>\n",
       "  <tbody>\n",
       "    <tr>\n",
       "      <th>0</th>\n",
       "      <td>10</td>\n",
       "      <td>20</td>\n",
       "    </tr>\n",
       "    <tr>\n",
       "      <th>1</th>\n",
       "      <td>20</td>\n",
       "      <td>30</td>\n",
       "    </tr>\n",
       "    <tr>\n",
       "      <th>2</th>\n",
       "      <td>30</td>\n",
       "      <td>40</td>\n",
       "    </tr>\n",
       "  </tbody>\n",
       "</table>\n",
       "</div>"
      ],
      "text/plain": [
       "    a   b\n",
       "0  10  20\n",
       "1  20  30\n",
       "2  30  40"
      ]
     },
     "execution_count": 56,
     "metadata": {},
     "output_type": "execute_result"
    }
   ],
   "source": [
    "df = pd.DataFrame({\n",
    "    'a':[10,20,30],\n",
    "    'b':[20,30,40]\n",
    "})\n",
    "df"
   ]
  },
  {
   "cell_type": "markdown",
   "id": "9eed9df9",
   "metadata": {},
   "source": [
    "## 此时我们创建一个函数，两个 series 计算求和"
   ]
  },
  {
   "cell_type": "code",
   "execution_count": 57,
   "id": "d0d6fb42",
   "metadata": {
    "ExecuteTime": {
     "end_time": "2022-12-28T11:22:56.908839Z",
     "start_time": "2022-12-28T11:22:56.893856Z"
    }
   },
   "outputs": [],
   "source": [
    "def add_vec(x,y):\n",
    "    return x + y"
   ]
  },
  {
   "cell_type": "code",
   "execution_count": 58,
   "id": "aaf4c085",
   "metadata": {
    "ExecuteTime": {
     "end_time": "2022-12-28T11:22:56.924793Z",
     "start_time": "2022-12-28T11:22:56.910830Z"
    }
   },
   "outputs": [
    {
     "data": {
      "text/plain": [
       "0    30\n",
       "1    50\n",
       "2    70\n",
       "dtype: int64"
      ]
     },
     "execution_count": 58,
     "metadata": {},
     "output_type": "execute_result"
    }
   ],
   "source": [
    "add_vec(df['a'],df['b'])"
   ]
  },
  {
   "cell_type": "markdown",
   "id": "37c6b161",
   "metadata": {},
   "source": [
    "## 稍微修改一下函数，只加一个判断条件"
   ]
  },
  {
   "cell_type": "code",
   "execution_count": 59,
   "id": "2854e6a9",
   "metadata": {
    "ExecuteTime": {
     "end_time": "2022-12-28T11:22:56.940824Z",
     "start_time": "2022-12-28T11:22:56.925789Z"
    }
   },
   "outputs": [],
   "source": [
    "def add_vec_2(x,y):\n",
    "    if x != 0:\n",
    "        return x + y"
   ]
  },
  {
   "cell_type": "code",
   "execution_count": 60,
   "id": "5e86e8d5",
   "metadata": {
    "ExecuteTime": {
     "end_time": "2022-12-28T11:22:56.956143Z",
     "start_time": "2022-12-28T11:22:56.946804Z"
    }
   },
   "outputs": [],
   "source": [
    "# add_vec_2(df['a'],df['b'])"
   ]
  },
  {
   "cell_type": "markdown",
   "id": "694fbd95",
   "metadata": {},
   "source": [
    "- 上面函数中，判断条件if x != 0 ，x是series对象，是一个向量， 但20是具体的数值，int类型的变量，是一个标量。向量和标量不能直接计算，所以出错，这个时候可以使用numpy.vectorize()将函数向量化"
   ]
  },
  {
   "cell_type": "code",
   "execution_count": 61,
   "id": "45cc113a",
   "metadata": {
    "ExecuteTime": {
     "end_time": "2022-12-28T11:22:56.971762Z",
     "start_time": "2022-12-28T11:22:56.957144Z"
    }
   },
   "outputs": [],
   "source": [
    "import numpy as np"
   ]
  },
  {
   "cell_type": "markdown",
   "id": "48dfc5de",
   "metadata": {},
   "source": [
    "## 在声明函数时，使用装饰器@np.vectorize，将函数向量化"
   ]
  },
  {
   "cell_type": "code",
   "execution_count": 62,
   "id": "eed07d99",
   "metadata": {
    "ExecuteTime": {
     "end_time": "2022-12-28T11:22:56.987791Z",
     "start_time": "2022-12-28T11:22:56.972755Z"
    }
   },
   "outputs": [],
   "source": [
    "@np.vectorize\n",
    "def add_vec_2(x,y):\n",
    "    if x != 0:\n",
    "        return x + y\n",
    "    else:\n",
    "        return x"
   ]
  },
  {
   "cell_type": "code",
   "execution_count": 63,
   "id": "0c3bd062",
   "metadata": {
    "ExecuteTime": {
     "end_time": "2022-12-28T11:22:57.003493Z",
     "start_time": "2022-12-28T11:22:56.989722Z"
    }
   },
   "outputs": [
    {
     "data": {
      "text/plain": [
       "array([30, 50, 70], dtype=int64)"
      ]
     },
     "execution_count": 63,
     "metadata": {},
     "output_type": "execute_result"
    }
   ],
   "source": [
    "add_vec_2(df['a'],df['b'])"
   ]
  },
  {
   "cell_type": "markdown",
   "id": "bfa687ab",
   "metadata": {},
   "source": [
    "# lambda 函数"
   ]
  },
  {
   "cell_type": "markdown",
   "id": "7937dbab",
   "metadata": {},
   "source": [
    "使用 apply 和 applymap 对数据进行处理时，当处理函数比较简单的时候，没有必要创建一个函数， 可以使用lambda 表达式创建匿名函数"
   ]
  },
  {
   "cell_type": "markdown",
   "id": "e7a871d2",
   "metadata": {},
   "source": [
    "lambda匿名函数的优点如下：\n",
    "\n",
    "- 使用 Python 写一些执行脚本时，使用 lambda 可以省去定义函数的过程，让代码更加精简\n",
    "- 对于一些抽象的，不会别的地方再复用的函数，有时候给函数起个名字也是个难题，使用 lambda 不需要考虑命名的问题\n",
    "- 使用 lambda 在某些时候让代码更容易理解"
   ]
  },
  {
   "cell_type": "markdown",
   "id": "0f5c6b35",
   "metadata": {},
   "source": [
    "## 示例：df 中的数据加1"
   ]
  },
  {
   "cell_type": "code",
   "execution_count": 64,
   "id": "07077434",
   "metadata": {
    "ExecuteTime": {
     "end_time": "2022-12-28T11:22:57.019451Z",
     "start_time": "2022-12-28T11:22:57.005490Z"
    }
   },
   "outputs": [
    {
     "data": {
      "text/html": [
       "<div>\n",
       "<style scoped>\n",
       "    .dataframe tbody tr th:only-of-type {\n",
       "        vertical-align: middle;\n",
       "    }\n",
       "\n",
       "    .dataframe tbody tr th {\n",
       "        vertical-align: top;\n",
       "    }\n",
       "\n",
       "    .dataframe thead th {\n",
       "        text-align: right;\n",
       "    }\n",
       "</style>\n",
       "<table border=\"1\" class=\"dataframe\">\n",
       "  <thead>\n",
       "    <tr style=\"text-align: right;\">\n",
       "      <th></th>\n",
       "      <th>a</th>\n",
       "      <th>b</th>\n",
       "    </tr>\n",
       "  </thead>\n",
       "  <tbody>\n",
       "    <tr>\n",
       "      <th>0</th>\n",
       "      <td>11</td>\n",
       "      <td>21</td>\n",
       "    </tr>\n",
       "    <tr>\n",
       "      <th>1</th>\n",
       "      <td>21</td>\n",
       "      <td>31</td>\n",
       "    </tr>\n",
       "    <tr>\n",
       "      <th>2</th>\n",
       "      <td>31</td>\n",
       "      <td>41</td>\n",
       "    </tr>\n",
       "  </tbody>\n",
       "</table>\n",
       "</div>"
      ],
      "text/plain": [
       "    a   b\n",
       "0  11  21\n",
       "1  21  31\n",
       "2  31  41"
      ]
     },
     "execution_count": 64,
     "metadata": {},
     "output_type": "execute_result"
    }
   ],
   "source": [
    "df.apply(lambda x:x+1)"
   ]
  },
  {
   "cell_type": "markdown",
   "id": "ad3fc63d",
   "metadata": {},
   "source": [
    "# 总结\n",
    "- Series 和 DataFrame 均可以通过 apply 传入自定义函数\n",
    "- DataFrame 也可通过 applymap 传入自定义函数\n",
    "- 有些时候需要通过 np 的 vectorize 函数才能进行向量化计算\n",
    "- lambda 表达式可用于创建一些匿名的简单函数"
   ]
  }
 ],
 "metadata": {
  "kernelspec": {
   "display_name": "Python 3 (ipykernel)",
   "language": "python",
   "name": "python3"
  },
  "language_info": {
   "codemirror_mode": {
    "name": "ipython",
    "version": 3
   },
   "file_extension": ".py",
   "mimetype": "text/x-python",
   "name": "python",
   "nbconvert_exporter": "python",
   "pygments_lexer": "ipython3",
   "version": "3.8.15"
  },
  "toc": {
   "base_numbering": 1,
   "nav_menu": {},
   "number_sections": true,
   "sideBar": true,
   "skip_h1_title": false,
   "title_cell": "Table of Contents",
   "title_sidebar": "Contents",
   "toc_cell": false,
   "toc_position": {},
   "toc_section_display": true,
   "toc_window_display": false
  },
  "varInspector": {
   "cols": {
    "lenName": 16,
    "lenType": 16,
    "lenVar": 40
   },
   "kernels_config": {
    "python": {
     "delete_cmd_postfix": "",
     "delete_cmd_prefix": "del ",
     "library": "var_list.py",
     "varRefreshCmd": "print(var_dic_list())"
    },
    "r": {
     "delete_cmd_postfix": ") ",
     "delete_cmd_prefix": "rm(",
     "library": "var_list.r",
     "varRefreshCmd": "cat(var_dic_list()) "
    }
   },
   "types_to_exclude": [
    "module",
    "function",
    "builtin_function_or_method",
    "instance",
    "_Feature"
   ],
   "window_display": false
  }
 },
 "nbformat": 4,
 "nbformat_minor": 5
}
