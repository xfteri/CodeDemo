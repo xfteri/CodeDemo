{
 "cells": [
  {
   "cell_type": "code",
   "execution_count": 1,
   "id": "f8ba427d",
   "metadata": {
    "ExecuteTime": {
     "end_time": "2022-12-28T11:34:33.541303Z",
     "start_time": "2022-12-28T11:34:33.289427Z"
    }
   },
   "outputs": [],
   "source": [
    "import pandas as pd"
   ]
  },
  {
   "cell_type": "markdown",
   "id": "665399e5",
   "metadata": {},
   "source": [
    "- 学习目标\n",
    "- 掌握描述性数据分析流程\n",
    "- 能够使用pandas、seaborn进行数据分析和可视化- "
   ]
  },
  {
   "cell_type": "markdown",
   "id": "e13e12ed",
   "metadata": {},
   "source": [
    "# 案例介绍"
   ]
  },
  {
   "cell_type": "markdown",
   "id": "a07b1114",
   "metadata": {},
   "source": [
    "案例背景：\n",
    "\n",
    "- 对 App 下载和评分数据分析，帮助 App 开发者获取和留存用户\n",
    "- 通过对应用商店的数据分析为开发人员提供可操作的意见"
   ]
  },
  {
   "cell_type": "markdown",
   "id": "99adf467",
   "metadata": {},
   "source": [
    "- 字段  说明\n",
    "- id  App ID：每个 App 唯一标识\n",
    "- track_name  App 的名称\n",
    "- size_bytes  以 bytes 为单位的 App 大小\n",
    "- price  定价（美元）\n",
    "- rating_count_tot  App 所有版本的用户评分数量\n",
    "- rating_count_ver  App 当前版本的用户评分数量\n",
    "- prime_genre  App 的类别\n",
    "- user_rating  App 所有版本的用户评分\n",
    "- sup_devices.num  支持的 iOS 设备数量\n",
    "- ipadSc_urls.num  App 提供的截屏展示数量\n",
    "- lang.num  支持的语言数量"
   ]
  },
  {
   "cell_type": "markdown",
   "id": "fc639f36",
   "metadata": {},
   "source": [
    "# 数据清洗"
   ]
  },
  {
   "cell_type": "markdown",
   "id": "7575e6f1",
   "metadata": {},
   "source": [
    "## 加载applestore.csv数据，查看你数据基本信息"
   ]
  },
  {
   "cell_type": "code",
   "execution_count": 2,
   "id": "cb5c9eca",
   "metadata": {
    "ExecuteTime": {
     "end_time": "2022-12-28T11:34:33.696668Z",
     "start_time": "2022-12-28T11:34:33.543254Z"
    }
   },
   "outputs": [
    {
     "data": {
      "text/html": [
       "<div>\n",
       "<style scoped>\n",
       "    .dataframe tbody tr th:only-of-type {\n",
       "        vertical-align: middle;\n",
       "    }\n",
       "\n",
       "    .dataframe tbody tr th {\n",
       "        vertical-align: top;\n",
       "    }\n",
       "\n",
       "    .dataframe thead th {\n",
       "        text-align: right;\n",
       "    }\n",
       "</style>\n",
       "<table border=\"1\" class=\"dataframe\">\n",
       "  <thead>\n",
       "    <tr style=\"text-align: right;\">\n",
       "      <th></th>\n",
       "      <th>id</th>\n",
       "      <th>track_name</th>\n",
       "      <th>size_bytes</th>\n",
       "      <th>price</th>\n",
       "      <th>rating_count_tot</th>\n",
       "      <th>user_rating</th>\n",
       "      <th>prime_genre</th>\n",
       "      <th>sup_devices</th>\n",
       "      <th>ipadSc_urls</th>\n",
       "      <th>lang</th>\n",
       "    </tr>\n",
       "  </thead>\n",
       "  <tbody>\n",
       "    <tr>\n",
       "      <th>0</th>\n",
       "      <td>281656475</td>\n",
       "      <td>PAC-MAN Premium</td>\n",
       "      <td>100788224</td>\n",
       "      <td>3.99</td>\n",
       "      <td>21292</td>\n",
       "      <td>4.0</td>\n",
       "      <td>Games</td>\n",
       "      <td>38</td>\n",
       "      <td>5</td>\n",
       "      <td>10</td>\n",
       "    </tr>\n",
       "    <tr>\n",
       "      <th>1</th>\n",
       "      <td>281796108</td>\n",
       "      <td>Evernote - stay organized</td>\n",
       "      <td>158578688</td>\n",
       "      <td>0.00</td>\n",
       "      <td>161065</td>\n",
       "      <td>4.0</td>\n",
       "      <td>Productivity</td>\n",
       "      <td>37</td>\n",
       "      <td>5</td>\n",
       "      <td>23</td>\n",
       "    </tr>\n",
       "    <tr>\n",
       "      <th>2</th>\n",
       "      <td>281940292</td>\n",
       "      <td>WeatherBug - Local Weather, Radar, Maps, Alerts</td>\n",
       "      <td>100524032</td>\n",
       "      <td>0.00</td>\n",
       "      <td>188583</td>\n",
       "      <td>3.5</td>\n",
       "      <td>Weather</td>\n",
       "      <td>37</td>\n",
       "      <td>5</td>\n",
       "      <td>3</td>\n",
       "    </tr>\n",
       "    <tr>\n",
       "      <th>3</th>\n",
       "      <td>282614216</td>\n",
       "      <td>eBay: Best App to Buy, Sell, Save! Online Shop...</td>\n",
       "      <td>128512000</td>\n",
       "      <td>0.00</td>\n",
       "      <td>262241</td>\n",
       "      <td>4.0</td>\n",
       "      <td>Shopping</td>\n",
       "      <td>37</td>\n",
       "      <td>5</td>\n",
       "      <td>9</td>\n",
       "    </tr>\n",
       "    <tr>\n",
       "      <th>4</th>\n",
       "      <td>282935706</td>\n",
       "      <td>Bible</td>\n",
       "      <td>92774400</td>\n",
       "      <td>0.00</td>\n",
       "      <td>985920</td>\n",
       "      <td>4.5</td>\n",
       "      <td>Reference</td>\n",
       "      <td>37</td>\n",
       "      <td>5</td>\n",
       "      <td>45</td>\n",
       "    </tr>\n",
       "    <tr>\n",
       "      <th>...</th>\n",
       "      <td>...</td>\n",
       "      <td>...</td>\n",
       "      <td>...</td>\n",
       "      <td>...</td>\n",
       "      <td>...</td>\n",
       "      <td>...</td>\n",
       "      <td>...</td>\n",
       "      <td>...</td>\n",
       "      <td>...</td>\n",
       "      <td>...</td>\n",
       "    </tr>\n",
       "    <tr>\n",
       "      <th>7192</th>\n",
       "      <td>1187617475</td>\n",
       "      <td>Kubik</td>\n",
       "      <td>126644224</td>\n",
       "      <td>0.00</td>\n",
       "      <td>142</td>\n",
       "      <td>4.5</td>\n",
       "      <td>Games</td>\n",
       "      <td>38</td>\n",
       "      <td>5</td>\n",
       "      <td>1</td>\n",
       "    </tr>\n",
       "    <tr>\n",
       "      <th>7193</th>\n",
       "      <td>1187682390</td>\n",
       "      <td>VR Roller-Coaster</td>\n",
       "      <td>120760320</td>\n",
       "      <td>0.00</td>\n",
       "      <td>30</td>\n",
       "      <td>4.5</td>\n",
       "      <td>Games</td>\n",
       "      <td>38</td>\n",
       "      <td>0</td>\n",
       "      <td>1</td>\n",
       "    </tr>\n",
       "    <tr>\n",
       "      <th>7194</th>\n",
       "      <td>1187779532</td>\n",
       "      <td>Bret Michaels Emojis + Lyric Keyboard</td>\n",
       "      <td>111322112</td>\n",
       "      <td>1.99</td>\n",
       "      <td>15</td>\n",
       "      <td>4.5</td>\n",
       "      <td>Utilities</td>\n",
       "      <td>37</td>\n",
       "      <td>1</td>\n",
       "      <td>1</td>\n",
       "    </tr>\n",
       "    <tr>\n",
       "      <th>7195</th>\n",
       "      <td>1187838770</td>\n",
       "      <td>VR Roller Coaster World - Virtual Reality</td>\n",
       "      <td>97235968</td>\n",
       "      <td>0.00</td>\n",
       "      <td>85</td>\n",
       "      <td>4.5</td>\n",
       "      <td>Games</td>\n",
       "      <td>38</td>\n",
       "      <td>0</td>\n",
       "      <td>2</td>\n",
       "    </tr>\n",
       "    <tr>\n",
       "      <th>7196</th>\n",
       "      <td>1188375727</td>\n",
       "      <td>Escape the Sweet Shop Series</td>\n",
       "      <td>90898432</td>\n",
       "      <td>0.00</td>\n",
       "      <td>3</td>\n",
       "      <td>5.0</td>\n",
       "      <td>Games</td>\n",
       "      <td>40</td>\n",
       "      <td>0</td>\n",
       "      <td>2</td>\n",
       "    </tr>\n",
       "  </tbody>\n",
       "</table>\n",
       "<p>7197 rows × 10 columns</p>\n",
       "</div>"
      ],
      "text/plain": [
       "              id                                         track_name  \\\n",
       "0      281656475                                    PAC-MAN Premium   \n",
       "1      281796108                          Evernote - stay organized   \n",
       "2      281940292    WeatherBug - Local Weather, Radar, Maps, Alerts   \n",
       "3      282614216  eBay: Best App to Buy, Sell, Save! Online Shop...   \n",
       "4      282935706                                              Bible   \n",
       "...          ...                                                ...   \n",
       "7192  1187617475                                              Kubik   \n",
       "7193  1187682390                                  VR Roller-Coaster   \n",
       "7194  1187779532              Bret Michaels Emojis + Lyric Keyboard   \n",
       "7195  1187838770          VR Roller Coaster World - Virtual Reality   \n",
       "7196  1188375727                       Escape the Sweet Shop Series   \n",
       "\n",
       "      size_bytes  price  rating_count_tot  user_rating   prime_genre  \\\n",
       "0      100788224   3.99             21292          4.0         Games   \n",
       "1      158578688   0.00            161065          4.0  Productivity   \n",
       "2      100524032   0.00            188583          3.5       Weather   \n",
       "3      128512000   0.00            262241          4.0      Shopping   \n",
       "4       92774400   0.00            985920          4.5     Reference   \n",
       "...          ...    ...               ...          ...           ...   \n",
       "7192   126644224   0.00               142          4.5         Games   \n",
       "7193   120760320   0.00                30          4.5         Games   \n",
       "7194   111322112   1.99                15          4.5     Utilities   \n",
       "7195    97235968   0.00                85          4.5         Games   \n",
       "7196    90898432   0.00                 3          5.0         Games   \n",
       "\n",
       "      sup_devices  ipadSc_urls  lang  \n",
       "0              38            5    10  \n",
       "1              37            5    23  \n",
       "2              37            5     3  \n",
       "3              37            5     9  \n",
       "4              37            5    45  \n",
       "...           ...          ...   ...  \n",
       "7192           38            5     1  \n",
       "7193           38            0     1  \n",
       "7194           37            1     1  \n",
       "7195           38            0     2  \n",
       "7196           40            0     2  \n",
       "\n",
       "[7197 rows x 10 columns]"
      ]
     },
     "execution_count": 2,
     "metadata": {},
     "output_type": "execute_result"
    }
   ],
   "source": [
    "app = pd.read_csv('./data/applestore.csv',index_col=0)\n",
    "app"
   ]
  },
  {
   "cell_type": "code",
   "execution_count": 3,
   "id": "f0d9bade",
   "metadata": {
    "ExecuteTime": {
     "end_time": "2022-12-28T11:34:33.711624Z",
     "start_time": "2022-12-28T11:34:33.698659Z"
    }
   },
   "outputs": [
    {
     "name": "stdout",
     "output_type": "stream",
     "text": [
      "<class 'pandas.core.frame.DataFrame'>\n",
      "Int64Index: 7197 entries, 0 to 7196\n",
      "Data columns (total 10 columns):\n",
      " #   Column            Non-Null Count  Dtype  \n",
      "---  ------            --------------  -----  \n",
      " 0   id                7197 non-null   int64  \n",
      " 1   track_name        7197 non-null   object \n",
      " 2   size_bytes        7197 non-null   int64  \n",
      " 3   price             7197 non-null   float64\n",
      " 4   rating_count_tot  7197 non-null   int64  \n",
      " 5   user_rating       7197 non-null   float64\n",
      " 6   prime_genre       7197 non-null   object \n",
      " 7   sup_devices       7197 non-null   int64  \n",
      " 8   ipadSc_urls       7197 non-null   int64  \n",
      " 9   lang              7197 non-null   int64  \n",
      "dtypes: float64(2), int64(6), object(2)\n",
      "memory usage: 618.5+ KB\n"
     ]
    }
   ],
   "source": [
    "# 查看数据集的字段信息\n",
    "app.info()"
   ]
  },
  {
   "cell_type": "code",
   "execution_count": 4,
   "id": "3a8d14ed",
   "metadata": {
    "ExecuteTime": {
     "end_time": "2022-12-28T11:34:33.742545Z",
     "start_time": "2022-12-28T11:34:33.713621Z"
    }
   },
   "outputs": [
    {
     "data": {
      "text/html": [
       "<div>\n",
       "<style scoped>\n",
       "    .dataframe tbody tr th:only-of-type {\n",
       "        vertical-align: middle;\n",
       "    }\n",
       "\n",
       "    .dataframe tbody tr th {\n",
       "        vertical-align: top;\n",
       "    }\n",
       "\n",
       "    .dataframe thead th {\n",
       "        text-align: right;\n",
       "    }\n",
       "</style>\n",
       "<table border=\"1\" class=\"dataframe\">\n",
       "  <thead>\n",
       "    <tr style=\"text-align: right;\">\n",
       "      <th></th>\n",
       "      <th>id</th>\n",
       "      <th>size_bytes</th>\n",
       "      <th>price</th>\n",
       "      <th>rating_count_tot</th>\n",
       "      <th>user_rating</th>\n",
       "      <th>sup_devices</th>\n",
       "      <th>ipadSc_urls</th>\n",
       "      <th>lang</th>\n",
       "    </tr>\n",
       "  </thead>\n",
       "  <tbody>\n",
       "    <tr>\n",
       "      <th>count</th>\n",
       "      <td>7.197000e+03</td>\n",
       "      <td>7.197000e+03</td>\n",
       "      <td>7197.000000</td>\n",
       "      <td>7.197000e+03</td>\n",
       "      <td>7197.000000</td>\n",
       "      <td>7197.000000</td>\n",
       "      <td>7197.000000</td>\n",
       "      <td>7197.000000</td>\n",
       "    </tr>\n",
       "    <tr>\n",
       "      <th>mean</th>\n",
       "      <td>8.631310e+08</td>\n",
       "      <td>1.991345e+08</td>\n",
       "      <td>1.726218</td>\n",
       "      <td>1.289291e+04</td>\n",
       "      <td>3.526956</td>\n",
       "      <td>37.361817</td>\n",
       "      <td>3.707100</td>\n",
       "      <td>5.434903</td>\n",
       "    </tr>\n",
       "    <tr>\n",
       "      <th>std</th>\n",
       "      <td>2.712368e+08</td>\n",
       "      <td>3.592069e+08</td>\n",
       "      <td>5.833006</td>\n",
       "      <td>7.573941e+04</td>\n",
       "      <td>1.517948</td>\n",
       "      <td>3.737715</td>\n",
       "      <td>1.986005</td>\n",
       "      <td>7.919593</td>\n",
       "    </tr>\n",
       "    <tr>\n",
       "      <th>min</th>\n",
       "      <td>2.816565e+08</td>\n",
       "      <td>5.898240e+05</td>\n",
       "      <td>0.000000</td>\n",
       "      <td>0.000000e+00</td>\n",
       "      <td>0.000000</td>\n",
       "      <td>9.000000</td>\n",
       "      <td>0.000000</td>\n",
       "      <td>0.000000</td>\n",
       "    </tr>\n",
       "    <tr>\n",
       "      <th>25%</th>\n",
       "      <td>6.000937e+08</td>\n",
       "      <td>4.692275e+07</td>\n",
       "      <td>0.000000</td>\n",
       "      <td>2.800000e+01</td>\n",
       "      <td>3.500000</td>\n",
       "      <td>37.000000</td>\n",
       "      <td>3.000000</td>\n",
       "      <td>1.000000</td>\n",
       "    </tr>\n",
       "    <tr>\n",
       "      <th>50%</th>\n",
       "      <td>9.781482e+08</td>\n",
       "      <td>9.715302e+07</td>\n",
       "      <td>0.000000</td>\n",
       "      <td>3.000000e+02</td>\n",
       "      <td>4.000000</td>\n",
       "      <td>37.000000</td>\n",
       "      <td>5.000000</td>\n",
       "      <td>1.000000</td>\n",
       "    </tr>\n",
       "    <tr>\n",
       "      <th>75%</th>\n",
       "      <td>1.082310e+09</td>\n",
       "      <td>1.819249e+08</td>\n",
       "      <td>1.990000</td>\n",
       "      <td>2.793000e+03</td>\n",
       "      <td>4.500000</td>\n",
       "      <td>38.000000</td>\n",
       "      <td>5.000000</td>\n",
       "      <td>8.000000</td>\n",
       "    </tr>\n",
       "    <tr>\n",
       "      <th>max</th>\n",
       "      <td>1.188376e+09</td>\n",
       "      <td>4.025970e+09</td>\n",
       "      <td>299.990000</td>\n",
       "      <td>2.974676e+06</td>\n",
       "      <td>5.000000</td>\n",
       "      <td>47.000000</td>\n",
       "      <td>5.000000</td>\n",
       "      <td>75.000000</td>\n",
       "    </tr>\n",
       "  </tbody>\n",
       "</table>\n",
       "</div>"
      ],
      "text/plain": [
       "                 id    size_bytes        price  rating_count_tot  user_rating  \\\n",
       "count  7.197000e+03  7.197000e+03  7197.000000      7.197000e+03  7197.000000   \n",
       "mean   8.631310e+08  1.991345e+08     1.726218      1.289291e+04     3.526956   \n",
       "std    2.712368e+08  3.592069e+08     5.833006      7.573941e+04     1.517948   \n",
       "min    2.816565e+08  5.898240e+05     0.000000      0.000000e+00     0.000000   \n",
       "25%    6.000937e+08  4.692275e+07     0.000000      2.800000e+01     3.500000   \n",
       "50%    9.781482e+08  9.715302e+07     0.000000      3.000000e+02     4.000000   \n",
       "75%    1.082310e+09  1.819249e+08     1.990000      2.793000e+03     4.500000   \n",
       "max    1.188376e+09  4.025970e+09   299.990000      2.974676e+06     5.000000   \n",
       "\n",
       "       sup_devices  ipadSc_urls         lang  \n",
       "count  7197.000000  7197.000000  7197.000000  \n",
       "mean     37.361817     3.707100     5.434903  \n",
       "std       3.737715     1.986005     7.919593  \n",
       "min       9.000000     0.000000     0.000000  \n",
       "25%      37.000000     3.000000     1.000000  \n",
       "50%      37.000000     5.000000     1.000000  \n",
       "75%      38.000000     5.000000     8.000000  \n",
       "max      47.000000     5.000000    75.000000  "
      ]
     },
     "execution_count": 4,
     "metadata": {},
     "output_type": "execute_result"
    }
   ],
   "source": [
    "# 查看数据集的各字段统计值\n",
    "app.describe()"
   ]
  },
  {
   "cell_type": "markdown",
   "id": "64ed29d4",
   "metadata": {},
   "source": [
    "## 考虑将 sizebytes 变成 mb，新增数据 size_mb列"
   ]
  },
  {
   "cell_type": "code",
   "execution_count": 5,
   "id": "38dfa4a4",
   "metadata": {
    "ExecuteTime": {
     "end_time": "2022-12-28T11:34:33.773608Z",
     "start_time": "2022-12-28T11:34:33.744537Z"
    }
   },
   "outputs": [
    {
     "data": {
      "text/html": [
       "<div>\n",
       "<style scoped>\n",
       "    .dataframe tbody tr th:only-of-type {\n",
       "        vertical-align: middle;\n",
       "    }\n",
       "\n",
       "    .dataframe tbody tr th {\n",
       "        vertical-align: top;\n",
       "    }\n",
       "\n",
       "    .dataframe thead th {\n",
       "        text-align: right;\n",
       "    }\n",
       "</style>\n",
       "<table border=\"1\" class=\"dataframe\">\n",
       "  <thead>\n",
       "    <tr style=\"text-align: right;\">\n",
       "      <th></th>\n",
       "      <th>id</th>\n",
       "      <th>track_name</th>\n",
       "      <th>size_bytes</th>\n",
       "      <th>price</th>\n",
       "      <th>rating_count_tot</th>\n",
       "      <th>user_rating</th>\n",
       "      <th>prime_genre</th>\n",
       "      <th>sup_devices</th>\n",
       "      <th>ipadSc_urls</th>\n",
       "      <th>lang</th>\n",
       "      <th>size_mb</th>\n",
       "    </tr>\n",
       "  </thead>\n",
       "  <tbody>\n",
       "    <tr>\n",
       "      <th>0</th>\n",
       "      <td>281656475</td>\n",
       "      <td>PAC-MAN Premium</td>\n",
       "      <td>100788224</td>\n",
       "      <td>3.99</td>\n",
       "      <td>21292</td>\n",
       "      <td>4.0</td>\n",
       "      <td>Games</td>\n",
       "      <td>38</td>\n",
       "      <td>5</td>\n",
       "      <td>10</td>\n",
       "      <td>96.119141</td>\n",
       "    </tr>\n",
       "    <tr>\n",
       "      <th>1</th>\n",
       "      <td>281796108</td>\n",
       "      <td>Evernote - stay organized</td>\n",
       "      <td>158578688</td>\n",
       "      <td>0.00</td>\n",
       "      <td>161065</td>\n",
       "      <td>4.0</td>\n",
       "      <td>Productivity</td>\n",
       "      <td>37</td>\n",
       "      <td>5</td>\n",
       "      <td>23</td>\n",
       "      <td>151.232422</td>\n",
       "    </tr>\n",
       "    <tr>\n",
       "      <th>2</th>\n",
       "      <td>281940292</td>\n",
       "      <td>WeatherBug - Local Weather, Radar, Maps, Alerts</td>\n",
       "      <td>100524032</td>\n",
       "      <td>0.00</td>\n",
       "      <td>188583</td>\n",
       "      <td>3.5</td>\n",
       "      <td>Weather</td>\n",
       "      <td>37</td>\n",
       "      <td>5</td>\n",
       "      <td>3</td>\n",
       "      <td>95.867188</td>\n",
       "    </tr>\n",
       "    <tr>\n",
       "      <th>3</th>\n",
       "      <td>282614216</td>\n",
       "      <td>eBay: Best App to Buy, Sell, Save! Online Shop...</td>\n",
       "      <td>128512000</td>\n",
       "      <td>0.00</td>\n",
       "      <td>262241</td>\n",
       "      <td>4.0</td>\n",
       "      <td>Shopping</td>\n",
       "      <td>37</td>\n",
       "      <td>5</td>\n",
       "      <td>9</td>\n",
       "      <td>122.558594</td>\n",
       "    </tr>\n",
       "    <tr>\n",
       "      <th>4</th>\n",
       "      <td>282935706</td>\n",
       "      <td>Bible</td>\n",
       "      <td>92774400</td>\n",
       "      <td>0.00</td>\n",
       "      <td>985920</td>\n",
       "      <td>4.5</td>\n",
       "      <td>Reference</td>\n",
       "      <td>37</td>\n",
       "      <td>5</td>\n",
       "      <td>45</td>\n",
       "      <td>88.476562</td>\n",
       "    </tr>\n",
       "    <tr>\n",
       "      <th>...</th>\n",
       "      <td>...</td>\n",
       "      <td>...</td>\n",
       "      <td>...</td>\n",
       "      <td>...</td>\n",
       "      <td>...</td>\n",
       "      <td>...</td>\n",
       "      <td>...</td>\n",
       "      <td>...</td>\n",
       "      <td>...</td>\n",
       "      <td>...</td>\n",
       "      <td>...</td>\n",
       "    </tr>\n",
       "    <tr>\n",
       "      <th>7192</th>\n",
       "      <td>1187617475</td>\n",
       "      <td>Kubik</td>\n",
       "      <td>126644224</td>\n",
       "      <td>0.00</td>\n",
       "      <td>142</td>\n",
       "      <td>4.5</td>\n",
       "      <td>Games</td>\n",
       "      <td>38</td>\n",
       "      <td>5</td>\n",
       "      <td>1</td>\n",
       "      <td>120.777344</td>\n",
       "    </tr>\n",
       "    <tr>\n",
       "      <th>7193</th>\n",
       "      <td>1187682390</td>\n",
       "      <td>VR Roller-Coaster</td>\n",
       "      <td>120760320</td>\n",
       "      <td>0.00</td>\n",
       "      <td>30</td>\n",
       "      <td>4.5</td>\n",
       "      <td>Games</td>\n",
       "      <td>38</td>\n",
       "      <td>0</td>\n",
       "      <td>1</td>\n",
       "      <td>115.166016</td>\n",
       "    </tr>\n",
       "    <tr>\n",
       "      <th>7194</th>\n",
       "      <td>1187779532</td>\n",
       "      <td>Bret Michaels Emojis + Lyric Keyboard</td>\n",
       "      <td>111322112</td>\n",
       "      <td>1.99</td>\n",
       "      <td>15</td>\n",
       "      <td>4.5</td>\n",
       "      <td>Utilities</td>\n",
       "      <td>37</td>\n",
       "      <td>1</td>\n",
       "      <td>1</td>\n",
       "      <td>106.165039</td>\n",
       "    </tr>\n",
       "    <tr>\n",
       "      <th>7195</th>\n",
       "      <td>1187838770</td>\n",
       "      <td>VR Roller Coaster World - Virtual Reality</td>\n",
       "      <td>97235968</td>\n",
       "      <td>0.00</td>\n",
       "      <td>85</td>\n",
       "      <td>4.5</td>\n",
       "      <td>Games</td>\n",
       "      <td>38</td>\n",
       "      <td>0</td>\n",
       "      <td>2</td>\n",
       "      <td>92.731445</td>\n",
       "    </tr>\n",
       "    <tr>\n",
       "      <th>7196</th>\n",
       "      <td>1188375727</td>\n",
       "      <td>Escape the Sweet Shop Series</td>\n",
       "      <td>90898432</td>\n",
       "      <td>0.00</td>\n",
       "      <td>3</td>\n",
       "      <td>5.0</td>\n",
       "      <td>Games</td>\n",
       "      <td>40</td>\n",
       "      <td>0</td>\n",
       "      <td>2</td>\n",
       "      <td>86.687500</td>\n",
       "    </tr>\n",
       "  </tbody>\n",
       "</table>\n",
       "<p>7197 rows × 11 columns</p>\n",
       "</div>"
      ],
      "text/plain": [
       "              id                                         track_name  \\\n",
       "0      281656475                                    PAC-MAN Premium   \n",
       "1      281796108                          Evernote - stay organized   \n",
       "2      281940292    WeatherBug - Local Weather, Radar, Maps, Alerts   \n",
       "3      282614216  eBay: Best App to Buy, Sell, Save! Online Shop...   \n",
       "4      282935706                                              Bible   \n",
       "...          ...                                                ...   \n",
       "7192  1187617475                                              Kubik   \n",
       "7193  1187682390                                  VR Roller-Coaster   \n",
       "7194  1187779532              Bret Michaels Emojis + Lyric Keyboard   \n",
       "7195  1187838770          VR Roller Coaster World - Virtual Reality   \n",
       "7196  1188375727                       Escape the Sweet Shop Series   \n",
       "\n",
       "      size_bytes  price  rating_count_tot  user_rating   prime_genre  \\\n",
       "0      100788224   3.99             21292          4.0         Games   \n",
       "1      158578688   0.00            161065          4.0  Productivity   \n",
       "2      100524032   0.00            188583          3.5       Weather   \n",
       "3      128512000   0.00            262241          4.0      Shopping   \n",
       "4       92774400   0.00            985920          4.5     Reference   \n",
       "...          ...    ...               ...          ...           ...   \n",
       "7192   126644224   0.00               142          4.5         Games   \n",
       "7193   120760320   0.00                30          4.5         Games   \n",
       "7194   111322112   1.99                15          4.5     Utilities   \n",
       "7195    97235968   0.00                85          4.5         Games   \n",
       "7196    90898432   0.00                 3          5.0         Games   \n",
       "\n",
       "      sup_devices  ipadSc_urls  lang     size_mb  \n",
       "0              38            5    10   96.119141  \n",
       "1              37            5    23  151.232422  \n",
       "2              37            5     3   95.867188  \n",
       "3              37            5     9  122.558594  \n",
       "4              37            5    45   88.476562  \n",
       "...           ...          ...   ...         ...  \n",
       "7192           38            5     1  120.777344  \n",
       "7193           38            0     1  115.166016  \n",
       "7194           37            1     1  106.165039  \n",
       "7195           38            0     2   92.731445  \n",
       "7196           40            0     2   86.687500  \n",
       "\n",
       "[7197 rows x 11 columns]"
      ]
     },
     "execution_count": 5,
     "metadata": {},
     "output_type": "execute_result"
    }
   ],
   "source": [
    "app['size_mb'] = app['size_bytes']/(1024*1024)\n",
    "app"
   ]
  },
  {
   "cell_type": "code",
   "execution_count": 6,
   "id": "97479a89",
   "metadata": {
    "ExecuteTime": {
     "end_time": "2022-12-28T11:34:33.788624Z",
     "start_time": "2022-12-28T11:34:33.775609Z"
    }
   },
   "outputs": [
    {
     "data": {
      "text/plain": [
       "count    7197.000000\n",
       "mean      189.909414\n",
       "std       342.566408\n",
       "min         0.562500\n",
       "25%        44.749023\n",
       "50%        92.652344\n",
       "75%       173.497070\n",
       "max      3839.463867\n",
       "Name: size_mb, dtype: float64"
      ]
     },
     "execution_count": 6,
     "metadata": {},
     "output_type": "execute_result"
    }
   ],
   "source": [
    "# 查看size_mb列的统计值\n",
    "app.size_mb.describe()"
   ]
  },
  {
   "cell_type": "markdown",
   "id": "9720a7d8",
   "metadata": {},
   "source": [
    "## 根据价格新增是否免费 paid 列"
   ]
  },
  {
   "cell_type": "code",
   "execution_count": 7,
   "id": "4ce95998",
   "metadata": {
    "ExecuteTime": {
     "end_time": "2022-12-28T11:34:33.819717Z",
     "start_time": "2022-12-28T11:34:33.789628Z"
    }
   },
   "outputs": [
    {
     "data": {
      "text/html": [
       "<div>\n",
       "<style scoped>\n",
       "    .dataframe tbody tr th:only-of-type {\n",
       "        vertical-align: middle;\n",
       "    }\n",
       "\n",
       "    .dataframe tbody tr th {\n",
       "        vertical-align: top;\n",
       "    }\n",
       "\n",
       "    .dataframe thead th {\n",
       "        text-align: right;\n",
       "    }\n",
       "</style>\n",
       "<table border=\"1\" class=\"dataframe\">\n",
       "  <thead>\n",
       "    <tr style=\"text-align: right;\">\n",
       "      <th></th>\n",
       "      <th>id</th>\n",
       "      <th>track_name</th>\n",
       "      <th>size_bytes</th>\n",
       "      <th>price</th>\n",
       "      <th>rating_count_tot</th>\n",
       "      <th>user_rating</th>\n",
       "      <th>prime_genre</th>\n",
       "      <th>sup_devices</th>\n",
       "      <th>ipadSc_urls</th>\n",
       "      <th>lang</th>\n",
       "      <th>size_mb</th>\n",
       "      <th>paid</th>\n",
       "    </tr>\n",
       "  </thead>\n",
       "  <tbody>\n",
       "    <tr>\n",
       "      <th>0</th>\n",
       "      <td>281656475</td>\n",
       "      <td>PAC-MAN Premium</td>\n",
       "      <td>100788224</td>\n",
       "      <td>3.99</td>\n",
       "      <td>21292</td>\n",
       "      <td>4.0</td>\n",
       "      <td>Games</td>\n",
       "      <td>38</td>\n",
       "      <td>5</td>\n",
       "      <td>10</td>\n",
       "      <td>96.119141</td>\n",
       "      <td>1</td>\n",
       "    </tr>\n",
       "    <tr>\n",
       "      <th>1</th>\n",
       "      <td>281796108</td>\n",
       "      <td>Evernote - stay organized</td>\n",
       "      <td>158578688</td>\n",
       "      <td>0.00</td>\n",
       "      <td>161065</td>\n",
       "      <td>4.0</td>\n",
       "      <td>Productivity</td>\n",
       "      <td>37</td>\n",
       "      <td>5</td>\n",
       "      <td>23</td>\n",
       "      <td>151.232422</td>\n",
       "      <td>0</td>\n",
       "    </tr>\n",
       "    <tr>\n",
       "      <th>2</th>\n",
       "      <td>281940292</td>\n",
       "      <td>WeatherBug - Local Weather, Radar, Maps, Alerts</td>\n",
       "      <td>100524032</td>\n",
       "      <td>0.00</td>\n",
       "      <td>188583</td>\n",
       "      <td>3.5</td>\n",
       "      <td>Weather</td>\n",
       "      <td>37</td>\n",
       "      <td>5</td>\n",
       "      <td>3</td>\n",
       "      <td>95.867188</td>\n",
       "      <td>0</td>\n",
       "    </tr>\n",
       "    <tr>\n",
       "      <th>3</th>\n",
       "      <td>282614216</td>\n",
       "      <td>eBay: Best App to Buy, Sell, Save! Online Shop...</td>\n",
       "      <td>128512000</td>\n",
       "      <td>0.00</td>\n",
       "      <td>262241</td>\n",
       "      <td>4.0</td>\n",
       "      <td>Shopping</td>\n",
       "      <td>37</td>\n",
       "      <td>5</td>\n",
       "      <td>9</td>\n",
       "      <td>122.558594</td>\n",
       "      <td>0</td>\n",
       "    </tr>\n",
       "    <tr>\n",
       "      <th>4</th>\n",
       "      <td>282935706</td>\n",
       "      <td>Bible</td>\n",
       "      <td>92774400</td>\n",
       "      <td>0.00</td>\n",
       "      <td>985920</td>\n",
       "      <td>4.5</td>\n",
       "      <td>Reference</td>\n",
       "      <td>37</td>\n",
       "      <td>5</td>\n",
       "      <td>45</td>\n",
       "      <td>88.476562</td>\n",
       "      <td>0</td>\n",
       "    </tr>\n",
       "    <tr>\n",
       "      <th>...</th>\n",
       "      <td>...</td>\n",
       "      <td>...</td>\n",
       "      <td>...</td>\n",
       "      <td>...</td>\n",
       "      <td>...</td>\n",
       "      <td>...</td>\n",
       "      <td>...</td>\n",
       "      <td>...</td>\n",
       "      <td>...</td>\n",
       "      <td>...</td>\n",
       "      <td>...</td>\n",
       "      <td>...</td>\n",
       "    </tr>\n",
       "    <tr>\n",
       "      <th>7192</th>\n",
       "      <td>1187617475</td>\n",
       "      <td>Kubik</td>\n",
       "      <td>126644224</td>\n",
       "      <td>0.00</td>\n",
       "      <td>142</td>\n",
       "      <td>4.5</td>\n",
       "      <td>Games</td>\n",
       "      <td>38</td>\n",
       "      <td>5</td>\n",
       "      <td>1</td>\n",
       "      <td>120.777344</td>\n",
       "      <td>0</td>\n",
       "    </tr>\n",
       "    <tr>\n",
       "      <th>7193</th>\n",
       "      <td>1187682390</td>\n",
       "      <td>VR Roller-Coaster</td>\n",
       "      <td>120760320</td>\n",
       "      <td>0.00</td>\n",
       "      <td>30</td>\n",
       "      <td>4.5</td>\n",
       "      <td>Games</td>\n",
       "      <td>38</td>\n",
       "      <td>0</td>\n",
       "      <td>1</td>\n",
       "      <td>115.166016</td>\n",
       "      <td>0</td>\n",
       "    </tr>\n",
       "    <tr>\n",
       "      <th>7194</th>\n",
       "      <td>1187779532</td>\n",
       "      <td>Bret Michaels Emojis + Lyric Keyboard</td>\n",
       "      <td>111322112</td>\n",
       "      <td>1.99</td>\n",
       "      <td>15</td>\n",
       "      <td>4.5</td>\n",
       "      <td>Utilities</td>\n",
       "      <td>37</td>\n",
       "      <td>1</td>\n",
       "      <td>1</td>\n",
       "      <td>106.165039</td>\n",
       "      <td>1</td>\n",
       "    </tr>\n",
       "    <tr>\n",
       "      <th>7195</th>\n",
       "      <td>1187838770</td>\n",
       "      <td>VR Roller Coaster World - Virtual Reality</td>\n",
       "      <td>97235968</td>\n",
       "      <td>0.00</td>\n",
       "      <td>85</td>\n",
       "      <td>4.5</td>\n",
       "      <td>Games</td>\n",
       "      <td>38</td>\n",
       "      <td>0</td>\n",
       "      <td>2</td>\n",
       "      <td>92.731445</td>\n",
       "      <td>0</td>\n",
       "    </tr>\n",
       "    <tr>\n",
       "      <th>7196</th>\n",
       "      <td>1188375727</td>\n",
       "      <td>Escape the Sweet Shop Series</td>\n",
       "      <td>90898432</td>\n",
       "      <td>0.00</td>\n",
       "      <td>3</td>\n",
       "      <td>5.0</td>\n",
       "      <td>Games</td>\n",
       "      <td>40</td>\n",
       "      <td>0</td>\n",
       "      <td>2</td>\n",
       "      <td>86.687500</td>\n",
       "      <td>0</td>\n",
       "    </tr>\n",
       "  </tbody>\n",
       "</table>\n",
       "<p>7197 rows × 12 columns</p>\n",
       "</div>"
      ],
      "text/plain": [
       "              id                                         track_name  \\\n",
       "0      281656475                                    PAC-MAN Premium   \n",
       "1      281796108                          Evernote - stay organized   \n",
       "2      281940292    WeatherBug - Local Weather, Radar, Maps, Alerts   \n",
       "3      282614216  eBay: Best App to Buy, Sell, Save! Online Shop...   \n",
       "4      282935706                                              Bible   \n",
       "...          ...                                                ...   \n",
       "7192  1187617475                                              Kubik   \n",
       "7193  1187682390                                  VR Roller-Coaster   \n",
       "7194  1187779532              Bret Michaels Emojis + Lyric Keyboard   \n",
       "7195  1187838770          VR Roller Coaster World - Virtual Reality   \n",
       "7196  1188375727                       Escape the Sweet Shop Series   \n",
       "\n",
       "      size_bytes  price  rating_count_tot  user_rating   prime_genre  \\\n",
       "0      100788224   3.99             21292          4.0         Games   \n",
       "1      158578688   0.00            161065          4.0  Productivity   \n",
       "2      100524032   0.00            188583          3.5       Weather   \n",
       "3      128512000   0.00            262241          4.0      Shopping   \n",
       "4       92774400   0.00            985920          4.5     Reference   \n",
       "...          ...    ...               ...          ...           ...   \n",
       "7192   126644224   0.00               142          4.5         Games   \n",
       "7193   120760320   0.00                30          4.5         Games   \n",
       "7194   111322112   1.99                15          4.5     Utilities   \n",
       "7195    97235968   0.00                85          4.5         Games   \n",
       "7196    90898432   0.00                 3          5.0         Games   \n",
       "\n",
       "      sup_devices  ipadSc_urls  lang     size_mb  paid  \n",
       "0              38            5    10   96.119141     1  \n",
       "1              37            5    23  151.232422     0  \n",
       "2              37            5     3   95.867188     0  \n",
       "3              37            5     9  122.558594     0  \n",
       "4              37            5    45   88.476562     0  \n",
       "...           ...          ...   ...         ...   ...  \n",
       "7192           38            5     1  120.777344     0  \n",
       "7193           38            0     1  115.166016     0  \n",
       "7194           37            1     1  106.165039     1  \n",
       "7195           38            0     2   92.731445     0  \n",
       "7196           40            0     2   86.687500     0  \n",
       "\n",
       "[7197 rows x 12 columns]"
      ]
     },
     "execution_count": 7,
     "metadata": {},
     "output_type": "execute_result"
    }
   ],
   "source": [
    "app['paid'] = app['price'].apply(lambda x: 1 if x > 0 else 0)\n",
    "app"
   ]
  },
  {
   "cell_type": "code",
   "execution_count": 8,
   "id": "c3547955",
   "metadata": {
    "ExecuteTime": {
     "end_time": "2022-12-28T11:34:33.834677Z",
     "start_time": "2022-12-28T11:34:33.820714Z"
    }
   },
   "outputs": [
    {
     "data": {
      "text/plain": [
       "0    4056\n",
       "1    3141\n",
       "Name: paid, dtype: int64"
      ]
     },
     "execution_count": 8,
     "metadata": {},
     "output_type": "execute_result"
    }
   ],
   "source": [
    "# 查看paid列的统计信息\n",
    "app['paid'].value_counts()"
   ]
  },
  {
   "cell_type": "markdown",
   "id": "83da986b",
   "metadata": {},
   "source": [
    "- 小结：\n",
    "\n",
    "- 处理了给分析造成难度的值(size-bytes)\n",
    "- 添加了方便分析的特征（免费/收费)"
   ]
  },
  {
   "cell_type": "markdown",
   "id": "9ed5a9aa",
   "metadata": {},
   "source": [
    "# 单变量分析"
   ]
  },
  {
   "cell_type": "markdown",
   "id": "30df2dd1",
   "metadata": {},
   "source": [
    "## 查看 App 的结果是如何分布的"
   ]
  },
  {
   "cell_type": "code",
   "execution_count": 9,
   "id": "aabb115d",
   "metadata": {
    "ExecuteTime": {
     "end_time": "2022-12-28T11:34:33.850635Z",
     "start_time": "2022-12-28T11:34:33.836673Z"
    }
   },
   "outputs": [
    {
     "data": {
      "text/plain": [
       "0.00      4056\n",
       "0.99       728\n",
       "2.99       683\n",
       "1.99       621\n",
       "4.99       394\n",
       "3.99       277\n",
       "6.99       166\n",
       "9.99        81\n",
       "5.99        52\n",
       "7.99        33\n",
       "14.99       21\n",
       "19.99       13\n",
       "8.99         9\n",
       "24.99        8\n",
       "29.99        6\n",
       "13.99        6\n",
       "11.99        6\n",
       "12.99        5\n",
       "15.99        4\n",
       "17.99        3\n",
       "59.99        3\n",
       "39.99        2\n",
       "20.99        2\n",
       "23.99        2\n",
       "49.99        2\n",
       "22.99        2\n",
       "27.99        2\n",
       "16.99        2\n",
       "299.99       1\n",
       "21.99        1\n",
       "47.99        1\n",
       "99.99        1\n",
       "74.99        1\n",
       "34.99        1\n",
       "18.99        1\n",
       "249.99       1\n",
       "Name: price, dtype: int64"
      ]
     },
     "execution_count": 9,
     "metadata": {},
     "output_type": "execute_result"
    }
   ],
   "source": [
    "app.price.value_counts()"
   ]
  },
  {
   "cell_type": "markdown",
   "id": "0e180182",
   "metadata": {},
   "source": [
    "- 从数据中可以看出，价格>50的比较少，可以按照价格将 App 数据进行分组"
   ]
  },
  {
   "cell_type": "markdown",
   "id": "37bd684d",
   "metadata": {},
   "source": [
    "## 按照价格将 App 数据进行分组今天 15:17俊辉"
   ]
  },
  {
   "cell_type": "code",
   "execution_count": 10,
   "id": "41909bc4",
   "metadata": {
    "ExecuteTime": {
     "end_time": "2022-12-28T11:34:33.880555Z",
     "start_time": "2022-12-28T11:34:33.853626Z"
    }
   },
   "outputs": [
    {
     "data": {
      "text/html": [
       "<div>\n",
       "<style scoped>\n",
       "    .dataframe tbody tr th:only-of-type {\n",
       "        vertical-align: middle;\n",
       "    }\n",
       "\n",
       "    .dataframe tbody tr th {\n",
       "        vertical-align: top;\n",
       "    }\n",
       "\n",
       "    .dataframe thead th {\n",
       "        text-align: right;\n",
       "    }\n",
       "</style>\n",
       "<table border=\"1\" class=\"dataframe\">\n",
       "  <thead>\n",
       "    <tr style=\"text-align: right;\">\n",
       "      <th></th>\n",
       "      <th>id</th>\n",
       "      <th>track_name</th>\n",
       "      <th>size_bytes</th>\n",
       "      <th>price</th>\n",
       "      <th>rating_count_tot</th>\n",
       "      <th>user_rating</th>\n",
       "      <th>prime_genre</th>\n",
       "      <th>sup_devices</th>\n",
       "      <th>ipadSc_urls</th>\n",
       "      <th>lang</th>\n",
       "      <th>size_mb</th>\n",
       "      <th>paid</th>\n",
       "      <th>price_new</th>\n",
       "    </tr>\n",
       "  </thead>\n",
       "  <tbody>\n",
       "    <tr>\n",
       "      <th>0</th>\n",
       "      <td>281656475</td>\n",
       "      <td>PAC-MAN Premium</td>\n",
       "      <td>100788224</td>\n",
       "      <td>3.99</td>\n",
       "      <td>21292</td>\n",
       "      <td>4.0</td>\n",
       "      <td>Games</td>\n",
       "      <td>38</td>\n",
       "      <td>5</td>\n",
       "      <td>10</td>\n",
       "      <td>96.119141</td>\n",
       "      <td>1</td>\n",
       "      <td>&lt;10</td>\n",
       "    </tr>\n",
       "    <tr>\n",
       "      <th>1</th>\n",
       "      <td>281796108</td>\n",
       "      <td>Evernote - stay organized</td>\n",
       "      <td>158578688</td>\n",
       "      <td>0.00</td>\n",
       "      <td>161065</td>\n",
       "      <td>4.0</td>\n",
       "      <td>Productivity</td>\n",
       "      <td>37</td>\n",
       "      <td>5</td>\n",
       "      <td>23</td>\n",
       "      <td>151.232422</td>\n",
       "      <td>0</td>\n",
       "      <td>&lt;2</td>\n",
       "    </tr>\n",
       "    <tr>\n",
       "      <th>2</th>\n",
       "      <td>281940292</td>\n",
       "      <td>WeatherBug - Local Weather, Radar, Maps, Alerts</td>\n",
       "      <td>100524032</td>\n",
       "      <td>0.00</td>\n",
       "      <td>188583</td>\n",
       "      <td>3.5</td>\n",
       "      <td>Weather</td>\n",
       "      <td>37</td>\n",
       "      <td>5</td>\n",
       "      <td>3</td>\n",
       "      <td>95.867188</td>\n",
       "      <td>0</td>\n",
       "      <td>&lt;2</td>\n",
       "    </tr>\n",
       "    <tr>\n",
       "      <th>3</th>\n",
       "      <td>282614216</td>\n",
       "      <td>eBay: Best App to Buy, Sell, Save! Online Shop...</td>\n",
       "      <td>128512000</td>\n",
       "      <td>0.00</td>\n",
       "      <td>262241</td>\n",
       "      <td>4.0</td>\n",
       "      <td>Shopping</td>\n",
       "      <td>37</td>\n",
       "      <td>5</td>\n",
       "      <td>9</td>\n",
       "      <td>122.558594</td>\n",
       "      <td>0</td>\n",
       "      <td>&lt;2</td>\n",
       "    </tr>\n",
       "    <tr>\n",
       "      <th>4</th>\n",
       "      <td>282935706</td>\n",
       "      <td>Bible</td>\n",
       "      <td>92774400</td>\n",
       "      <td>0.00</td>\n",
       "      <td>985920</td>\n",
       "      <td>4.5</td>\n",
       "      <td>Reference</td>\n",
       "      <td>37</td>\n",
       "      <td>5</td>\n",
       "      <td>45</td>\n",
       "      <td>88.476562</td>\n",
       "      <td>0</td>\n",
       "      <td>&lt;2</td>\n",
       "    </tr>\n",
       "  </tbody>\n",
       "</table>\n",
       "</div>"
      ],
      "text/plain": [
       "          id                                         track_name  size_bytes  \\\n",
       "0  281656475                                    PAC-MAN Premium   100788224   \n",
       "1  281796108                          Evernote - stay organized   158578688   \n",
       "2  281940292    WeatherBug - Local Weather, Radar, Maps, Alerts   100524032   \n",
       "3  282614216  eBay: Best App to Buy, Sell, Save! Online Shop...   128512000   \n",
       "4  282935706                                              Bible    92774400   \n",
       "\n",
       "   price  rating_count_tot  user_rating   prime_genre  sup_devices  \\\n",
       "0   3.99             21292          4.0         Games           38   \n",
       "1   0.00            161065          4.0  Productivity           37   \n",
       "2   0.00            188583          3.5       Weather           37   \n",
       "3   0.00            262241          4.0      Shopping           37   \n",
       "4   0.00            985920          4.5     Reference           37   \n",
       "\n",
       "   ipadSc_urls  lang     size_mb  paid price_new  \n",
       "0            5    10   96.119141     1       <10  \n",
       "1            5    23  151.232422     0        <2  \n",
       "2            5     3   95.867188     0        <2  \n",
       "3            5     9  122.558594     0        <2  \n",
       "4            5    45   88.476562     0        <2  "
      ]
     },
     "execution_count": 10,
     "metadata": {},
     "output_type": "execute_result"
    }
   ],
   "source": [
    "bins = [0,2,10,30]\n",
    "labels = ['<2','<10','<30']\n",
    "app['price_new'] = pd.cut(app.price,bins,right=False,labels=labels)\n",
    "app.head()"
   ]
  },
  {
   "cell_type": "code",
   "execution_count": 11,
   "id": "21278041",
   "metadata": {
    "ExecuteTime": {
     "end_time": "2022-12-28T11:34:33.912470Z",
     "start_time": "2022-12-28T11:34:33.881552Z"
    }
   },
   "outputs": [
    {
     "data": {
      "text/html": [
       "<div>\n",
       "<style scoped>\n",
       "    .dataframe tbody tr th:only-of-type {\n",
       "        vertical-align: middle;\n",
       "    }\n",
       "\n",
       "    .dataframe tbody tr th {\n",
       "        vertical-align: top;\n",
       "    }\n",
       "\n",
       "    .dataframe thead th {\n",
       "        text-align: right;\n",
       "    }\n",
       "</style>\n",
       "<table border=\"1\" class=\"dataframe\">\n",
       "  <thead>\n",
       "    <tr style=\"text-align: right;\">\n",
       "      <th></th>\n",
       "      <th>count</th>\n",
       "      <th>mean</th>\n",
       "      <th>std</th>\n",
       "      <th>min</th>\n",
       "      <th>25%</th>\n",
       "      <th>50%</th>\n",
       "      <th>75%</th>\n",
       "      <th>max</th>\n",
       "    </tr>\n",
       "    <tr>\n",
       "      <th>price_new</th>\n",
       "      <th></th>\n",
       "      <th></th>\n",
       "      <th></th>\n",
       "      <th></th>\n",
       "      <th></th>\n",
       "      <th></th>\n",
       "      <th></th>\n",
       "      <th></th>\n",
       "    </tr>\n",
       "  </thead>\n",
       "  <tbody>\n",
       "    <tr>\n",
       "      <th>&lt;2</th>\n",
       "      <td>5405.0</td>\n",
       "      <td>0.361981</td>\n",
       "      <td>0.675318</td>\n",
       "      <td>0.00</td>\n",
       "      <td>0.00</td>\n",
       "      <td>0.00</td>\n",
       "      <td>0.00</td>\n",
       "      <td>1.99</td>\n",
       "    </tr>\n",
       "    <tr>\n",
       "      <th>&lt;10</th>\n",
       "      <td>1695.0</td>\n",
       "      <td>4.565811</td>\n",
       "      <td>1.864034</td>\n",
       "      <td>2.99</td>\n",
       "      <td>2.99</td>\n",
       "      <td>3.99</td>\n",
       "      <td>4.99</td>\n",
       "      <td>9.99</td>\n",
       "    </tr>\n",
       "    <tr>\n",
       "      <th>&lt;30</th>\n",
       "      <td>84.0</td>\n",
       "      <td>18.573333</td>\n",
       "      <td>5.241650</td>\n",
       "      <td>11.99</td>\n",
       "      <td>14.99</td>\n",
       "      <td>16.49</td>\n",
       "      <td>21.24</td>\n",
       "      <td>29.99</td>\n",
       "    </tr>\n",
       "  </tbody>\n",
       "</table>\n",
       "</div>"
      ],
      "text/plain": [
       "            count       mean       std    min    25%    50%    75%    max\n",
       "price_new                                                                \n",
       "<2         5405.0   0.361981  0.675318   0.00   0.00   0.00   0.00   1.99\n",
       "<10        1695.0   4.565811  1.864034   2.99   2.99   3.99   4.99   9.99\n",
       "<30          84.0  18.573333  5.241650  11.99  14.99  16.49  21.24  29.99"
      ]
     },
     "execution_count": 11,
     "metadata": {},
     "output_type": "execute_result"
    }
   ],
   "source": [
    "# 分组后查看数据分布情况\n",
    "app.groupby('price_new')['price'].describe()"
   ]
  },
  {
   "cell_type": "markdown",
   "id": "cc8db573",
   "metadata": {},
   "source": [
    "## 查看不同类别 App 价格是如何分布的"
   ]
  },
  {
   "cell_type": "code",
   "execution_count": 12,
   "id": "30888b82",
   "metadata": {
    "ExecuteTime": {
     "end_time": "2022-12-28T11:34:33.974337Z",
     "start_time": "2022-12-28T11:34:33.913466Z"
    }
   },
   "outputs": [
    {
     "data": {
      "text/html": [
       "<div>\n",
       "<style scoped>\n",
       "    .dataframe tbody tr th:only-of-type {\n",
       "        vertical-align: middle;\n",
       "    }\n",
       "\n",
       "    .dataframe tbody tr th {\n",
       "        vertical-align: top;\n",
       "    }\n",
       "\n",
       "    .dataframe thead th {\n",
       "        text-align: right;\n",
       "    }\n",
       "</style>\n",
       "<table border=\"1\" class=\"dataframe\">\n",
       "  <thead>\n",
       "    <tr style=\"text-align: right;\">\n",
       "      <th></th>\n",
       "      <th>count</th>\n",
       "      <th>mean</th>\n",
       "      <th>std</th>\n",
       "      <th>min</th>\n",
       "      <th>25%</th>\n",
       "      <th>50%</th>\n",
       "      <th>75%</th>\n",
       "      <th>max</th>\n",
       "    </tr>\n",
       "    <tr>\n",
       "      <th>prime_genre</th>\n",
       "      <th></th>\n",
       "      <th></th>\n",
       "      <th></th>\n",
       "      <th></th>\n",
       "      <th></th>\n",
       "      <th></th>\n",
       "      <th></th>\n",
       "      <th></th>\n",
       "    </tr>\n",
       "  </thead>\n",
       "  <tbody>\n",
       "    <tr>\n",
       "      <th>Book</th>\n",
       "      <td>112.0</td>\n",
       "      <td>1.790536</td>\n",
       "      <td>3.342210</td>\n",
       "      <td>0.0</td>\n",
       "      <td>0.0</td>\n",
       "      <td>0.00</td>\n",
       "      <td>2.99</td>\n",
       "      <td>27.99</td>\n",
       "    </tr>\n",
       "    <tr>\n",
       "      <th>Business</th>\n",
       "      <td>57.0</td>\n",
       "      <td>5.116316</td>\n",
       "      <td>10.247031</td>\n",
       "      <td>0.0</td>\n",
       "      <td>0.0</td>\n",
       "      <td>2.99</td>\n",
       "      <td>4.99</td>\n",
       "      <td>59.99</td>\n",
       "    </tr>\n",
       "    <tr>\n",
       "      <th>Catalogs</th>\n",
       "      <td>10.0</td>\n",
       "      <td>0.799000</td>\n",
       "      <td>2.526660</td>\n",
       "      <td>0.0</td>\n",
       "      <td>0.0</td>\n",
       "      <td>0.00</td>\n",
       "      <td>0.00</td>\n",
       "      <td>7.99</td>\n",
       "    </tr>\n",
       "    <tr>\n",
       "      <th>Education</th>\n",
       "      <td>453.0</td>\n",
       "      <td>4.028234</td>\n",
       "      <td>18.725946</td>\n",
       "      <td>0.0</td>\n",
       "      <td>0.0</td>\n",
       "      <td>2.99</td>\n",
       "      <td>2.99</td>\n",
       "      <td>299.99</td>\n",
       "    </tr>\n",
       "    <tr>\n",
       "      <th>Entertainment</th>\n",
       "      <td>535.0</td>\n",
       "      <td>0.889701</td>\n",
       "      <td>1.454022</td>\n",
       "      <td>0.0</td>\n",
       "      <td>0.0</td>\n",
       "      <td>0.00</td>\n",
       "      <td>1.99</td>\n",
       "      <td>9.99</td>\n",
       "    </tr>\n",
       "    <tr>\n",
       "      <th>Finance</th>\n",
       "      <td>104.0</td>\n",
       "      <td>0.421154</td>\n",
       "      <td>1.108990</td>\n",
       "      <td>0.0</td>\n",
       "      <td>0.0</td>\n",
       "      <td>0.00</td>\n",
       "      <td>0.00</td>\n",
       "      <td>5.99</td>\n",
       "    </tr>\n",
       "    <tr>\n",
       "      <th>Food &amp; Drink</th>\n",
       "      <td>63.0</td>\n",
       "      <td>1.552381</td>\n",
       "      <td>3.972119</td>\n",
       "      <td>0.0</td>\n",
       "      <td>0.0</td>\n",
       "      <td>0.00</td>\n",
       "      <td>1.49</td>\n",
       "      <td>27.99</td>\n",
       "    </tr>\n",
       "    <tr>\n",
       "      <th>Games</th>\n",
       "      <td>3862.0</td>\n",
       "      <td>1.432923</td>\n",
       "      <td>2.486609</td>\n",
       "      <td>0.0</td>\n",
       "      <td>0.0</td>\n",
       "      <td>0.00</td>\n",
       "      <td>1.99</td>\n",
       "      <td>29.99</td>\n",
       "    </tr>\n",
       "    <tr>\n",
       "      <th>Health &amp; Fitness</th>\n",
       "      <td>180.0</td>\n",
       "      <td>1.916444</td>\n",
       "      <td>2.052378</td>\n",
       "      <td>0.0</td>\n",
       "      <td>0.0</td>\n",
       "      <td>1.99</td>\n",
       "      <td>2.99</td>\n",
       "      <td>9.99</td>\n",
       "    </tr>\n",
       "    <tr>\n",
       "      <th>Lifestyle</th>\n",
       "      <td>144.0</td>\n",
       "      <td>0.885417</td>\n",
       "      <td>1.478410</td>\n",
       "      <td>0.0</td>\n",
       "      <td>0.0</td>\n",
       "      <td>0.00</td>\n",
       "      <td>1.24</td>\n",
       "      <td>4.99</td>\n",
       "    </tr>\n",
       "    <tr>\n",
       "      <th>Medical</th>\n",
       "      <td>23.0</td>\n",
       "      <td>8.776087</td>\n",
       "      <td>10.788269</td>\n",
       "      <td>0.0</td>\n",
       "      <td>0.0</td>\n",
       "      <td>3.99</td>\n",
       "      <td>16.99</td>\n",
       "      <td>34.99</td>\n",
       "    </tr>\n",
       "    <tr>\n",
       "      <th>Music</th>\n",
       "      <td>138.0</td>\n",
       "      <td>4.835435</td>\n",
       "      <td>8.915667</td>\n",
       "      <td>0.0</td>\n",
       "      <td>0.0</td>\n",
       "      <td>0.99</td>\n",
       "      <td>4.99</td>\n",
       "      <td>49.99</td>\n",
       "    </tr>\n",
       "    <tr>\n",
       "      <th>Navigation</th>\n",
       "      <td>46.0</td>\n",
       "      <td>4.124783</td>\n",
       "      <td>11.565818</td>\n",
       "      <td>0.0</td>\n",
       "      <td>0.0</td>\n",
       "      <td>0.99</td>\n",
       "      <td>3.74</td>\n",
       "      <td>74.99</td>\n",
       "    </tr>\n",
       "    <tr>\n",
       "      <th>News</th>\n",
       "      <td>75.0</td>\n",
       "      <td>0.517733</td>\n",
       "      <td>1.127771</td>\n",
       "      <td>0.0</td>\n",
       "      <td>0.0</td>\n",
       "      <td>0.00</td>\n",
       "      <td>0.00</td>\n",
       "      <td>3.99</td>\n",
       "    </tr>\n",
       "    <tr>\n",
       "      <th>Photo &amp; Video</th>\n",
       "      <td>349.0</td>\n",
       "      <td>1.473295</td>\n",
       "      <td>2.280703</td>\n",
       "      <td>0.0</td>\n",
       "      <td>0.0</td>\n",
       "      <td>0.99</td>\n",
       "      <td>1.99</td>\n",
       "      <td>22.99</td>\n",
       "    </tr>\n",
       "    <tr>\n",
       "      <th>Productivity</th>\n",
       "      <td>178.0</td>\n",
       "      <td>4.330562</td>\n",
       "      <td>8.747042</td>\n",
       "      <td>0.0</td>\n",
       "      <td>0.0</td>\n",
       "      <td>1.99</td>\n",
       "      <td>4.99</td>\n",
       "      <td>99.99</td>\n",
       "    </tr>\n",
       "    <tr>\n",
       "      <th>Reference</th>\n",
       "      <td>64.0</td>\n",
       "      <td>4.836875</td>\n",
       "      <td>8.285100</td>\n",
       "      <td>0.0</td>\n",
       "      <td>0.0</td>\n",
       "      <td>1.99</td>\n",
       "      <td>4.99</td>\n",
       "      <td>47.99</td>\n",
       "    </tr>\n",
       "    <tr>\n",
       "      <th>Shopping</th>\n",
       "      <td>122.0</td>\n",
       "      <td>0.016311</td>\n",
       "      <td>0.180166</td>\n",
       "      <td>0.0</td>\n",
       "      <td>0.0</td>\n",
       "      <td>0.00</td>\n",
       "      <td>0.00</td>\n",
       "      <td>1.99</td>\n",
       "    </tr>\n",
       "    <tr>\n",
       "      <th>Social Networking</th>\n",
       "      <td>167.0</td>\n",
       "      <td>0.339880</td>\n",
       "      <td>1.142210</td>\n",
       "      <td>0.0</td>\n",
       "      <td>0.0</td>\n",
       "      <td>0.00</td>\n",
       "      <td>0.00</td>\n",
       "      <td>9.99</td>\n",
       "    </tr>\n",
       "    <tr>\n",
       "      <th>Sports</th>\n",
       "      <td>114.0</td>\n",
       "      <td>0.953070</td>\n",
       "      <td>2.419084</td>\n",
       "      <td>0.0</td>\n",
       "      <td>0.0</td>\n",
       "      <td>0.00</td>\n",
       "      <td>0.99</td>\n",
       "      <td>19.99</td>\n",
       "    </tr>\n",
       "    <tr>\n",
       "      <th>Travel</th>\n",
       "      <td>81.0</td>\n",
       "      <td>1.120370</td>\n",
       "      <td>2.183772</td>\n",
       "      <td>0.0</td>\n",
       "      <td>0.0</td>\n",
       "      <td>0.00</td>\n",
       "      <td>0.99</td>\n",
       "      <td>9.99</td>\n",
       "    </tr>\n",
       "    <tr>\n",
       "      <th>Utilities</th>\n",
       "      <td>248.0</td>\n",
       "      <td>1.647621</td>\n",
       "      <td>2.628541</td>\n",
       "      <td>0.0</td>\n",
       "      <td>0.0</td>\n",
       "      <td>0.99</td>\n",
       "      <td>1.99</td>\n",
       "      <td>24.99</td>\n",
       "    </tr>\n",
       "    <tr>\n",
       "      <th>Weather</th>\n",
       "      <td>72.0</td>\n",
       "      <td>1.605417</td>\n",
       "      <td>1.831316</td>\n",
       "      <td>0.0</td>\n",
       "      <td>0.0</td>\n",
       "      <td>0.99</td>\n",
       "      <td>2.99</td>\n",
       "      <td>9.99</td>\n",
       "    </tr>\n",
       "  </tbody>\n",
       "</table>\n",
       "</div>"
      ],
      "text/plain": [
       "                    count      mean        std  min  25%   50%    75%     max\n",
       "prime_genre                                                                  \n",
       "Book                112.0  1.790536   3.342210  0.0  0.0  0.00   2.99   27.99\n",
       "Business             57.0  5.116316  10.247031  0.0  0.0  2.99   4.99   59.99\n",
       "Catalogs             10.0  0.799000   2.526660  0.0  0.0  0.00   0.00    7.99\n",
       "Education           453.0  4.028234  18.725946  0.0  0.0  2.99   2.99  299.99\n",
       "Entertainment       535.0  0.889701   1.454022  0.0  0.0  0.00   1.99    9.99\n",
       "Finance             104.0  0.421154   1.108990  0.0  0.0  0.00   0.00    5.99\n",
       "Food & Drink         63.0  1.552381   3.972119  0.0  0.0  0.00   1.49   27.99\n",
       "Games              3862.0  1.432923   2.486609  0.0  0.0  0.00   1.99   29.99\n",
       "Health & Fitness    180.0  1.916444   2.052378  0.0  0.0  1.99   2.99    9.99\n",
       "Lifestyle           144.0  0.885417   1.478410  0.0  0.0  0.00   1.24    4.99\n",
       "Medical              23.0  8.776087  10.788269  0.0  0.0  3.99  16.99   34.99\n",
       "Music               138.0  4.835435   8.915667  0.0  0.0  0.99   4.99   49.99\n",
       "Navigation           46.0  4.124783  11.565818  0.0  0.0  0.99   3.74   74.99\n",
       "News                 75.0  0.517733   1.127771  0.0  0.0  0.00   0.00    3.99\n",
       "Photo & Video       349.0  1.473295   2.280703  0.0  0.0  0.99   1.99   22.99\n",
       "Productivity        178.0  4.330562   8.747042  0.0  0.0  1.99   4.99   99.99\n",
       "Reference            64.0  4.836875   8.285100  0.0  0.0  1.99   4.99   47.99\n",
       "Shopping            122.0  0.016311   0.180166  0.0  0.0  0.00   0.00    1.99\n",
       "Social Networking   167.0  0.339880   1.142210  0.0  0.0  0.00   0.00    9.99\n",
       "Sports              114.0  0.953070   2.419084  0.0  0.0  0.00   0.99   19.99\n",
       "Travel               81.0  1.120370   2.183772  0.0  0.0  0.00   0.99    9.99\n",
       "Utilities           248.0  1.647621   2.628541  0.0  0.0  0.99   1.99   24.99\n",
       "Weather              72.0  1.605417   1.831316  0.0  0.0  0.99   2.99    9.99"
      ]
     },
     "execution_count": 12,
     "metadata": {},
     "output_type": "execute_result"
    }
   ],
   "source": [
    "# 不同类别App价格是如何分布的\n",
    "app.groupby('prime_genre')['price'].describe()"
   ]
  },
  {
   "cell_type": "markdown",
   "id": "30293a31",
   "metadata": {},
   "source": [
    "## 删除价格大于 49.99 的 App 数据"
   ]
  },
  {
   "cell_type": "code",
   "execution_count": 13,
   "id": "699d7960",
   "metadata": {
    "ExecuteTime": {
     "end_time": "2022-12-28T11:34:34.004224Z",
     "start_time": "2022-12-28T11:34:33.975302Z"
    }
   },
   "outputs": [
    {
     "data": {
      "text/html": [
       "<div>\n",
       "<style scoped>\n",
       "    .dataframe tbody tr th:only-of-type {\n",
       "        vertical-align: middle;\n",
       "    }\n",
       "\n",
       "    .dataframe tbody tr th {\n",
       "        vertical-align: top;\n",
       "    }\n",
       "\n",
       "    .dataframe thead th {\n",
       "        text-align: right;\n",
       "    }\n",
       "</style>\n",
       "<table border=\"1\" class=\"dataframe\">\n",
       "  <thead>\n",
       "    <tr style=\"text-align: right;\">\n",
       "      <th></th>\n",
       "      <th>id</th>\n",
       "      <th>track_name</th>\n",
       "      <th>size_bytes</th>\n",
       "      <th>price</th>\n",
       "      <th>rating_count_tot</th>\n",
       "      <th>user_rating</th>\n",
       "      <th>prime_genre</th>\n",
       "      <th>sup_devices</th>\n",
       "      <th>ipadSc_urls</th>\n",
       "      <th>lang</th>\n",
       "      <th>size_mb</th>\n",
       "      <th>paid</th>\n",
       "      <th>price_new</th>\n",
       "    </tr>\n",
       "  </thead>\n",
       "  <tbody>\n",
       "    <tr>\n",
       "      <th>0</th>\n",
       "      <td>281656475</td>\n",
       "      <td>PAC-MAN Premium</td>\n",
       "      <td>100788224</td>\n",
       "      <td>3.99</td>\n",
       "      <td>21292</td>\n",
       "      <td>4.0</td>\n",
       "      <td>Games</td>\n",
       "      <td>38</td>\n",
       "      <td>5</td>\n",
       "      <td>10</td>\n",
       "      <td>96.119141</td>\n",
       "      <td>1</td>\n",
       "      <td>&lt;10</td>\n",
       "    </tr>\n",
       "    <tr>\n",
       "      <th>1</th>\n",
       "      <td>281796108</td>\n",
       "      <td>Evernote - stay organized</td>\n",
       "      <td>158578688</td>\n",
       "      <td>0.00</td>\n",
       "      <td>161065</td>\n",
       "      <td>4.0</td>\n",
       "      <td>Productivity</td>\n",
       "      <td>37</td>\n",
       "      <td>5</td>\n",
       "      <td>23</td>\n",
       "      <td>151.232422</td>\n",
       "      <td>0</td>\n",
       "      <td>&lt;2</td>\n",
       "    </tr>\n",
       "    <tr>\n",
       "      <th>2</th>\n",
       "      <td>281940292</td>\n",
       "      <td>WeatherBug - Local Weather, Radar, Maps, Alerts</td>\n",
       "      <td>100524032</td>\n",
       "      <td>0.00</td>\n",
       "      <td>188583</td>\n",
       "      <td>3.5</td>\n",
       "      <td>Weather</td>\n",
       "      <td>37</td>\n",
       "      <td>5</td>\n",
       "      <td>3</td>\n",
       "      <td>95.867188</td>\n",
       "      <td>0</td>\n",
       "      <td>&lt;2</td>\n",
       "    </tr>\n",
       "    <tr>\n",
       "      <th>3</th>\n",
       "      <td>282614216</td>\n",
       "      <td>eBay: Best App to Buy, Sell, Save! Online Shop...</td>\n",
       "      <td>128512000</td>\n",
       "      <td>0.00</td>\n",
       "      <td>262241</td>\n",
       "      <td>4.0</td>\n",
       "      <td>Shopping</td>\n",
       "      <td>37</td>\n",
       "      <td>5</td>\n",
       "      <td>9</td>\n",
       "      <td>122.558594</td>\n",
       "      <td>0</td>\n",
       "      <td>&lt;2</td>\n",
       "    </tr>\n",
       "    <tr>\n",
       "      <th>4</th>\n",
       "      <td>282935706</td>\n",
       "      <td>Bible</td>\n",
       "      <td>92774400</td>\n",
       "      <td>0.00</td>\n",
       "      <td>985920</td>\n",
       "      <td>4.5</td>\n",
       "      <td>Reference</td>\n",
       "      <td>37</td>\n",
       "      <td>5</td>\n",
       "      <td>45</td>\n",
       "      <td>88.476562</td>\n",
       "      <td>0</td>\n",
       "      <td>&lt;2</td>\n",
       "    </tr>\n",
       "  </tbody>\n",
       "</table>\n",
       "</div>"
      ],
      "text/plain": [
       "          id                                         track_name  size_bytes  \\\n",
       "0  281656475                                    PAC-MAN Premium   100788224   \n",
       "1  281796108                          Evernote - stay organized   158578688   \n",
       "2  281940292    WeatherBug - Local Weather, Radar, Maps, Alerts   100524032   \n",
       "3  282614216  eBay: Best App to Buy, Sell, Save! Online Shop...   128512000   \n",
       "4  282935706                                              Bible    92774400   \n",
       "\n",
       "   price  rating_count_tot  user_rating   prime_genre  sup_devices  \\\n",
       "0   3.99             21292          4.0         Games           38   \n",
       "1   0.00            161065          4.0  Productivity           37   \n",
       "2   0.00            188583          3.5       Weather           37   \n",
       "3   0.00            262241          4.0      Shopping           37   \n",
       "4   0.00            985920          4.5     Reference           37   \n",
       "\n",
       "   ipadSc_urls  lang     size_mb  paid price_new  \n",
       "0            5    10   96.119141     1       <10  \n",
       "1            5    23  151.232422     0        <2  \n",
       "2            5     3   95.867188     0        <2  \n",
       "3            5     9  122.558594     0        <2  \n",
       "4            5    45   88.476562     0        <2  "
      ]
     },
     "execution_count": 13,
     "metadata": {},
     "output_type": "execute_result"
    }
   ],
   "source": [
    "app = app[app['price'] <= 49.99]\n",
    "app.head()"
   ]
  },
  {
   "cell_type": "markdown",
   "id": "e5849489",
   "metadata": {},
   "source": [
    "## 利用 App 所有版本的评分数量对数据进行分组"
   ]
  },
  {
   "cell_type": "code",
   "execution_count": 14,
   "id": "b47a26dc",
   "metadata": {
    "ExecuteTime": {
     "end_time": "2022-12-28T11:34:34.019634Z",
     "start_time": "2022-12-28T11:34:34.005670Z"
    }
   },
   "outputs": [
    {
     "data": {
      "text/plain": [
       "count    7.190000e+03\n",
       "mean     1.290515e+04\n",
       "std      7.577526e+04\n",
       "min      0.000000e+00\n",
       "25%      2.725000e+01\n",
       "50%      3.005000e+02\n",
       "75%      2.796750e+03\n",
       "max      2.974676e+06\n",
       "Name: rating_count_tot, dtype: float64"
      ]
     },
     "execution_count": 14,
     "metadata": {},
     "output_type": "execute_result"
    }
   ],
   "source": [
    "# 查看App所有版本的评分数量的统计信息\n",
    "app.rating_count_tot.describe()"
   ]
  },
  {
   "cell_type": "code",
   "execution_count": 15,
   "id": "3815cf09",
   "metadata": {
    "ExecuteTime": {
     "end_time": "2022-12-28T11:34:34.051547Z",
     "start_time": "2022-12-28T11:34:34.020630Z"
    }
   },
   "outputs": [
    {
     "name": "stderr",
     "output_type": "stream",
     "text": [
      "C:\\Users\\hp\\AppData\\Local\\Temp\\ipykernel_14276\\2215553365.py:2: SettingWithCopyWarning: \n",
      "A value is trying to be set on a copy of a slice from a DataFrame.\n",
      "Try using .loc[row_indexer,col_indexer] = value instead\n",
      "\n",
      "See the caveats in the documentation: https://pandas.pydata.org/pandas-docs/stable/user_guide/indexing.html#returning-a-view-versus-a-copy\n",
      "  app['rating_new'] = pd.cut(app['rating_count_tot'],bins,right=False)\n"
     ]
    },
    {
     "data": {
      "text/html": [
       "<div>\n",
       "<style scoped>\n",
       "    .dataframe tbody tr th:only-of-type {\n",
       "        vertical-align: middle;\n",
       "    }\n",
       "\n",
       "    .dataframe tbody tr th {\n",
       "        vertical-align: top;\n",
       "    }\n",
       "\n",
       "    .dataframe thead th {\n",
       "        text-align: right;\n",
       "    }\n",
       "</style>\n",
       "<table border=\"1\" class=\"dataframe\">\n",
       "  <thead>\n",
       "    <tr style=\"text-align: right;\">\n",
       "      <th></th>\n",
       "      <th>id</th>\n",
       "      <th>track_name</th>\n",
       "      <th>size_bytes</th>\n",
       "      <th>price</th>\n",
       "      <th>rating_count_tot</th>\n",
       "      <th>user_rating</th>\n",
       "      <th>prime_genre</th>\n",
       "      <th>sup_devices</th>\n",
       "      <th>ipadSc_urls</th>\n",
       "      <th>lang</th>\n",
       "      <th>size_mb</th>\n",
       "      <th>paid</th>\n",
       "      <th>price_new</th>\n",
       "      <th>rating_new</th>\n",
       "    </tr>\n",
       "  </thead>\n",
       "  <tbody>\n",
       "    <tr>\n",
       "      <th>0</th>\n",
       "      <td>281656475</td>\n",
       "      <td>PAC-MAN Premium</td>\n",
       "      <td>100788224</td>\n",
       "      <td>3.99</td>\n",
       "      <td>21292</td>\n",
       "      <td>4.0</td>\n",
       "      <td>Games</td>\n",
       "      <td>38</td>\n",
       "      <td>5</td>\n",
       "      <td>10</td>\n",
       "      <td>96.119141</td>\n",
       "      <td>1</td>\n",
       "      <td>&lt;10</td>\n",
       "      <td>[5000, 100000)</td>\n",
       "    </tr>\n",
       "    <tr>\n",
       "      <th>1</th>\n",
       "      <td>281796108</td>\n",
       "      <td>Evernote - stay organized</td>\n",
       "      <td>158578688</td>\n",
       "      <td>0.00</td>\n",
       "      <td>161065</td>\n",
       "      <td>4.0</td>\n",
       "      <td>Productivity</td>\n",
       "      <td>37</td>\n",
       "      <td>5</td>\n",
       "      <td>23</td>\n",
       "      <td>151.232422</td>\n",
       "      <td>0</td>\n",
       "      <td>&lt;2</td>\n",
       "      <td>[100000, 5000000)</td>\n",
       "    </tr>\n",
       "    <tr>\n",
       "      <th>2</th>\n",
       "      <td>281940292</td>\n",
       "      <td>WeatherBug - Local Weather, Radar, Maps, Alerts</td>\n",
       "      <td>100524032</td>\n",
       "      <td>0.00</td>\n",
       "      <td>188583</td>\n",
       "      <td>3.5</td>\n",
       "      <td>Weather</td>\n",
       "      <td>37</td>\n",
       "      <td>5</td>\n",
       "      <td>3</td>\n",
       "      <td>95.867188</td>\n",
       "      <td>0</td>\n",
       "      <td>&lt;2</td>\n",
       "      <td>[100000, 5000000)</td>\n",
       "    </tr>\n",
       "    <tr>\n",
       "      <th>3</th>\n",
       "      <td>282614216</td>\n",
       "      <td>eBay: Best App to Buy, Sell, Save! Online Shop...</td>\n",
       "      <td>128512000</td>\n",
       "      <td>0.00</td>\n",
       "      <td>262241</td>\n",
       "      <td>4.0</td>\n",
       "      <td>Shopping</td>\n",
       "      <td>37</td>\n",
       "      <td>5</td>\n",
       "      <td>9</td>\n",
       "      <td>122.558594</td>\n",
       "      <td>0</td>\n",
       "      <td>&lt;2</td>\n",
       "      <td>[100000, 5000000)</td>\n",
       "    </tr>\n",
       "    <tr>\n",
       "      <th>4</th>\n",
       "      <td>282935706</td>\n",
       "      <td>Bible</td>\n",
       "      <td>92774400</td>\n",
       "      <td>0.00</td>\n",
       "      <td>985920</td>\n",
       "      <td>4.5</td>\n",
       "      <td>Reference</td>\n",
       "      <td>37</td>\n",
       "      <td>5</td>\n",
       "      <td>45</td>\n",
       "      <td>88.476562</td>\n",
       "      <td>0</td>\n",
       "      <td>&lt;2</td>\n",
       "      <td>[100000, 5000000)</td>\n",
       "    </tr>\n",
       "  </tbody>\n",
       "</table>\n",
       "</div>"
      ],
      "text/plain": [
       "          id                                         track_name  size_bytes  \\\n",
       "0  281656475                                    PAC-MAN Premium   100788224   \n",
       "1  281796108                          Evernote - stay organized   158578688   \n",
       "2  281940292    WeatherBug - Local Weather, Radar, Maps, Alerts   100524032   \n",
       "3  282614216  eBay: Best App to Buy, Sell, Save! Online Shop...   128512000   \n",
       "4  282935706                                              Bible    92774400   \n",
       "\n",
       "   price  rating_count_tot  user_rating   prime_genre  sup_devices  \\\n",
       "0   3.99             21292          4.0         Games           38   \n",
       "1   0.00            161065          4.0  Productivity           37   \n",
       "2   0.00            188583          3.5       Weather           37   \n",
       "3   0.00            262241          4.0      Shopping           37   \n",
       "4   0.00            985920          4.5     Reference           37   \n",
       "\n",
       "   ipadSc_urls  lang     size_mb  paid price_new         rating_new  \n",
       "0            5    10   96.119141     1       <10     [5000, 100000)  \n",
       "1            5    23  151.232422     0        <2  [100000, 5000000)  \n",
       "2            5     3   95.867188     0        <2  [100000, 5000000)  \n",
       "3            5     9  122.558594     0        <2  [100000, 5000000)  \n",
       "4            5    45   88.476562     0        <2  [100000, 5000000)  "
      ]
     },
     "execution_count": 15,
     "metadata": {},
     "output_type": "execute_result"
    }
   ],
   "source": [
    "bins = [0,1000,5000,100000,5000000]\n",
    "app['rating_new'] = pd.cut(app['rating_count_tot'],bins,right=False)\n",
    "app.head()"
   ]
  },
  {
   "cell_type": "code",
   "execution_count": 16,
   "id": "4c017737",
   "metadata": {
    "ExecuteTime": {
     "end_time": "2022-12-28T11:34:34.083462Z",
     "start_time": "2022-12-28T11:34:34.053542Z"
    }
   },
   "outputs": [
    {
     "data": {
      "text/html": [
       "<div>\n",
       "<style scoped>\n",
       "    .dataframe tbody tr th:only-of-type {\n",
       "        vertical-align: middle;\n",
       "    }\n",
       "\n",
       "    .dataframe tbody tr th {\n",
       "        vertical-align: top;\n",
       "    }\n",
       "\n",
       "    .dataframe thead th {\n",
       "        text-align: right;\n",
       "    }\n",
       "</style>\n",
       "<table border=\"1\" class=\"dataframe\">\n",
       "  <thead>\n",
       "    <tr style=\"text-align: right;\">\n",
       "      <th></th>\n",
       "      <th>count</th>\n",
       "      <th>mean</th>\n",
       "      <th>std</th>\n",
       "      <th>min</th>\n",
       "      <th>25%</th>\n",
       "      <th>50%</th>\n",
       "      <th>75%</th>\n",
       "      <th>max</th>\n",
       "    </tr>\n",
       "    <tr>\n",
       "      <th>rating_new</th>\n",
       "      <th></th>\n",
       "      <th></th>\n",
       "      <th></th>\n",
       "      <th></th>\n",
       "      <th></th>\n",
       "      <th></th>\n",
       "      <th></th>\n",
       "      <th></th>\n",
       "    </tr>\n",
       "  </thead>\n",
       "  <tbody>\n",
       "    <tr>\n",
       "      <th>[0, 1000)</th>\n",
       "      <td>4587.0</td>\n",
       "      <td>1.798696</td>\n",
       "      <td>3.324682</td>\n",
       "      <td>0.0</td>\n",
       "      <td>0.0</td>\n",
       "      <td>0.0</td>\n",
       "      <td>2.99</td>\n",
       "      <td>49.99</td>\n",
       "    </tr>\n",
       "    <tr>\n",
       "      <th>[1000, 5000)</th>\n",
       "      <td>1193.0</td>\n",
       "      <td>1.740721</td>\n",
       "      <td>3.203853</td>\n",
       "      <td>0.0</td>\n",
       "      <td>0.0</td>\n",
       "      <td>0.0</td>\n",
       "      <td>2.99</td>\n",
       "      <td>39.99</td>\n",
       "    </tr>\n",
       "    <tr>\n",
       "      <th>[5000, 100000)</th>\n",
       "      <td>1192.0</td>\n",
       "      <td>0.963549</td>\n",
       "      <td>1.984895</td>\n",
       "      <td>0.0</td>\n",
       "      <td>0.0</td>\n",
       "      <td>0.0</td>\n",
       "      <td>0.99</td>\n",
       "      <td>14.99</td>\n",
       "    </tr>\n",
       "    <tr>\n",
       "      <th>[100000, 5000000)</th>\n",
       "      <td>218.0</td>\n",
       "      <td>0.196376</td>\n",
       "      <td>0.925160</td>\n",
       "      <td>0.0</td>\n",
       "      <td>0.0</td>\n",
       "      <td>0.0</td>\n",
       "      <td>0.00</td>\n",
       "      <td>7.99</td>\n",
       "    </tr>\n",
       "  </tbody>\n",
       "</table>\n",
       "</div>"
      ],
      "text/plain": [
       "                    count      mean       std  min  25%  50%   75%    max\n",
       "rating_new                                                               \n",
       "[0, 1000)          4587.0  1.798696  3.324682  0.0  0.0  0.0  2.99  49.99\n",
       "[1000, 5000)       1193.0  1.740721  3.203853  0.0  0.0  0.0  2.99  39.99\n",
       "[5000, 100000)     1192.0  0.963549  1.984895  0.0  0.0  0.0  0.99  14.99\n",
       "[100000, 5000000)   218.0  0.196376  0.925160  0.0  0.0  0.0  0.00   7.99"
      ]
     },
     "execution_count": 16,
     "metadata": {},
     "output_type": "execute_result"
    }
   ],
   "source": [
    "# 分组后查看数据分布情况\n",
    "app.groupby('rating_new')['price'].describe()"
   ]
  },
  {
   "cell_type": "markdown",
   "id": "87533e2c",
   "metadata": {},
   "source": [
    "# 业务数据可视化"
   ]
  },
  {
   "cell_type": "markdown",
   "id": "aeaea53b",
   "metadata": {},
   "source": [
    "## 查看 App 的类别和用户评分之间的关系，绘制折线图"
   ]
  },
  {
   "cell_type": "code",
   "execution_count": 17,
   "id": "d2430798",
   "metadata": {
    "ExecuteTime": {
     "end_time": "2022-12-28T11:34:34.742169Z",
     "start_time": "2022-12-28T11:34:34.084459Z"
    }
   },
   "outputs": [],
   "source": [
    "import matplotlib.pyplot as plt\n",
    "import seaborn as sns\n",
    "%matplotlib inline"
   ]
  },
  {
   "cell_type": "code",
   "execution_count": 18,
   "id": "179bd1ae",
   "metadata": {
    "ExecuteTime": {
     "end_time": "2022-12-28T11:34:35.676668Z",
     "start_time": "2022-12-28T11:34:34.743164Z"
    }
   },
   "outputs": [
    {
     "data": {
      "text/plain": [
       "([0,\n",
       "  1,\n",
       "  2,\n",
       "  3,\n",
       "  4,\n",
       "  5,\n",
       "  6,\n",
       "  7,\n",
       "  8,\n",
       "  9,\n",
       "  10,\n",
       "  11,\n",
       "  12,\n",
       "  13,\n",
       "  14,\n",
       "  15,\n",
       "  16,\n",
       "  17,\n",
       "  18,\n",
       "  19,\n",
       "  20,\n",
       "  21,\n",
       "  22],\n",
       " [Text(0, 0, 'Games'),\n",
       "  Text(1, 0, 'Productivity'),\n",
       "  Text(2, 0, 'Weather'),\n",
       "  Text(3, 0, 'Shopping'),\n",
       "  Text(4, 0, 'Reference'),\n",
       "  Text(5, 0, 'Finance'),\n",
       "  Text(6, 0, 'Music'),\n",
       "  Text(7, 0, 'Utilities'),\n",
       "  Text(8, 0, 'Travel'),\n",
       "  Text(9, 0, 'Social Networking'),\n",
       "  Text(10, 0, 'Sports'),\n",
       "  Text(11, 0, 'Business'),\n",
       "  Text(12, 0, 'Health & Fitness'),\n",
       "  Text(13, 0, 'Entertainment'),\n",
       "  Text(14, 0, 'Photo & Video'),\n",
       "  Text(15, 0, 'Navigation'),\n",
       "  Text(16, 0, 'Education'),\n",
       "  Text(17, 0, 'Lifestyle'),\n",
       "  Text(18, 0, 'Food & Drink'),\n",
       "  Text(19, 0, 'News'),\n",
       "  Text(20, 0, 'Book'),\n",
       "  Text(21, 0, 'Medical'),\n",
       "  Text(22, 0, 'Catalogs')])"
      ]
     },
     "execution_count": 18,
     "metadata": {},
     "output_type": "execute_result"
    },
    {
     "data": {
      "image/png": "[encoded data removed]",
      "text/plain": [
       "<Figure size 1500x500 with 1 Axes>"
      ]
     },
     "metadata": {},
     "output_type": "display_data"
    }
   ],
   "source": [
    "# app评分关系\n",
    "# height:关键字来控制图片高度\n",
    "# aspect:控制宽高比例\n",
    "sns.relplot(x='prime_genre',y='user_rating',kind='line',data=app,height=5,aspect=3)\n",
    "# 将x轴文字旋转45度\n",
    "plt.xticks(\n",
    "    rotation=45,\n",
    "    horizontalalignment='right',\n",
    "    fontweight='light',\n",
    "    fontsize='x-large'\n",
    ")"
   ]
  },
  {
   "cell_type": "code",
   "execution_count": 19,
   "id": "8d8de07c",
   "metadata": {
    "ExecuteTime": {
     "end_time": "2022-12-28T11:34:35.691629Z",
     "start_time": "2022-12-28T11:34:35.678664Z"
    }
   },
   "outputs": [],
   "source": [
    "# 结果说明：从上图中可以看出，大部分评分集中在 2 分和 4 分之间"
   ]
  },
  {
   "cell_type": "markdown",
   "id": "61684b90",
   "metadata": {},
   "source": [
    "## 查看价格小于等于 9.99 元的 App 价格分布"
   ]
  },
  {
   "cell_type": "code",
   "execution_count": 20,
   "id": "ff19bcb5",
   "metadata": {
    "ExecuteTime": {
     "end_time": "2022-12-28T11:34:36.023873Z",
     "start_time": "2022-12-28T11:34:35.693623Z"
    }
   },
   "outputs": [
    {
     "name": "stderr",
     "output_type": "stream",
     "text": [
      "C:\\Users\\hp\\AppData\\Local\\Temp\\ipykernel_14276\\2678387412.py:4: UserWarning: \n",
      "\n",
      "`distplot` is a deprecated function and will be removed in seaborn v0.14.0.\n",
      "\n",
      "Please adapt your code to use either `displot` (a figure-level function with\n",
      "similar flexibility) or `histplot` (an axes-level function for histograms).\n",
      "\n",
      "For a guide to updating your code to use the new functions, please see\n",
      "https://gist.github.com/mwaskom/de44147ed2974457ad6372750bbe5751\n",
      "\n",
      "  sns.distplot(app_result['price'])\n"
     ]
    },
    {
     "data": {
      "text/plain": [
       "<AxesSubplot: xlabel='price', ylabel='Density'>"
      ]
     },
     "execution_count": 20,
     "metadata": {},
     "output_type": "execute_result"
    },
    {
     "data": {
      "image/png": "[encoded data removed]",
      "text/plain": [
       "<Figure size 2000x800 with 1 Axes>"
      ]
     },
     "metadata": {},
     "output_type": "display_data"
    }
   ],
   "source": [
    "plt.figure(figsize=(20,8))\n",
    "# 筛选出price<=9.99的App数据\n",
    "app_result = app[app['price']<=9.99]\n",
    "sns.distplot(app_result['price'])"
   ]
  },
  {
   "cell_type": "code",
   "execution_count": 21,
   "id": "b69cb1f1",
   "metadata": {
    "ExecuteTime": {
     "end_time": "2022-12-28T11:34:36.039900Z",
     "start_time": "2022-12-28T11:34:36.024824Z"
    }
   },
   "outputs": [],
   "source": [
    "# 结果说明：从上面的结果中看出，大部分应用都是免费的，极少数APP的收费>5元"
   ]
  },
  {
   "cell_type": "markdown",
   "id": "9271a41c",
   "metadata": {},
   "source": [
    "## 查看不同类别的收费 App 的价格分布"
   ]
  },
  {
   "cell_type": "code",
   "execution_count": 22,
   "id": "4ac2e0ee",
   "metadata": {
    "ExecuteTime": {
     "end_time": "2022-12-28T11:34:36.417539Z",
     "start_time": "2022-12-28T11:34:36.041376Z"
    }
   },
   "outputs": [
    {
     "data": {
      "text/plain": [
       "(array([ 0,  1,  2,  3,  4,  5,  6,  7,  8,  9, 10, 11, 12, 13, 14, 15, 16,\n",
       "        17, 18, 19, 20, 21, 22]),\n",
       " [Text(0, 0, 'Games'),\n",
       "  Text(0, 1, 'Utilities'),\n",
       "  Text(0, 2, 'Reference'),\n",
       "  Text(0, 3, 'Business'),\n",
       "  Text(0, 4, 'Music'),\n",
       "  Text(0, 5, 'Weather'),\n",
       "  Text(0, 6, 'Health & Fitness'),\n",
       "  Text(0, 7, 'Entertainment'),\n",
       "  Text(0, 8, 'Photo & Video'),\n",
       "  Text(0, 9, 'Navigation'),\n",
       "  Text(0, 10, 'Education'),\n",
       "  Text(0, 11, 'Lifestyle'),\n",
       "  Text(0, 12, 'Finance'),\n",
       "  Text(0, 13, 'Productivity'),\n",
       "  Text(0, 14, 'Travel'),\n",
       "  Text(0, 15, 'Food & Drink'),\n",
       "  Text(0, 16, 'Sports'),\n",
       "  Text(0, 17, 'Medical'),\n",
       "  Text(0, 18, 'News'),\n",
       "  Text(0, 19, 'Shopping'),\n",
       "  Text(0, 20, 'Book'),\n",
       "  Text(0, 21, 'Social Networking'),\n",
       "  Text(0, 22, 'Catalogs')])"
      ]
     },
     "execution_count": 22,
     "metadata": {},
     "output_type": "execute_result"
    },
    {
     "data": {
      "image/png": "[encoded data removed]",
      "text/plain": [
       "<Figure size 2000x800 with 1 Axes>"
      ]
     },
     "metadata": {},
     "output_type": "display_data"
    }
   ],
   "source": [
    "plt.figure(figsize=(20,8))\n",
    "sns.boxplot(x='price',y='prime_genre',data=app[app['paid']==1])\n",
    "plt.yticks(fontweight='light',fontsize='x-large')"
   ]
  },
  {
   "cell_type": "code",
   "execution_count": 23,
   "id": "13538171",
   "metadata": {
    "ExecuteTime": {
     "end_time": "2022-12-28T11:34:36.432500Z",
     "start_time": "2022-12-28T11:34:36.418555Z"
    }
   },
   "outputs": [],
   "source": [
    "# 结果说明：价格绝大部分都集中在 9.99 美元以内，个别类别（如医疗）等因专业性总体价格会高于其他类别"
   ]
  },
  {
   "cell_type": "markdown",
   "id": "89a26ad8",
   "metadata": {},
   "source": [
    "## 查看数量最多的前 5 个类别收费 App 的价格分布"
   ]
  },
  {
   "cell_type": "code",
   "execution_count": 24,
   "id": "f29bf091",
   "metadata": {
    "ExecuteTime": {
     "end_time": "2022-12-28T11:34:36.607072Z",
     "start_time": "2022-12-28T11:34:36.436488Z"
    }
   },
   "outputs": [
    {
     "data": {
      "text/plain": [
       "<AxesSubplot: xlabel='price', ylabel='prime_genre'>"
      ]
     },
     "execution_count": 24,
     "metadata": {},
     "output_type": "execute_result"
    },
    {
     "data": {
      "image/png": "[encoded data removed]",
      "text/plain": [
       "<Figure size 2000x800 with 1 Axes>"
      ]
     },
     "metadata": {},
     "output_type": "display_data"
    }
   ],
   "source": [
    "# 筛选出数量最多的前五类App的数据\n",
    "top5 = app.groupby('prime_genre')['price'].count().sort_values(ascending=False).head()\n",
    "app5 = app[app.prime_genre.isin(top5.index)]\n",
    "# 绘制箱线图\n",
    "plt.figure(figsize=(20,8))\n",
    "sns.boxplot(x='price',y='prime_genre',data=app5[app5['paid']==1])"
   ]
  },
  {
   "cell_type": "code",
   "execution_count": 25,
   "id": "2d112a3d",
   "metadata": {
    "ExecuteTime": {
     "end_time": "2022-12-28T11:34:36.623079Z",
     "start_time": "2022-12-28T11:34:36.609067Z"
    }
   },
   "outputs": [],
   "source": [
    "# 结果说明：从上图可以看出，Games的价格分布更广，最大值也较高，异常值也较多"
   ]
  },
  {
   "cell_type": "markdown",
   "id": "40b1b11e",
   "metadata": {},
   "source": [
    "- 箱子的中间有一条线，代表了数据的中位数\n",
    "- 箱子的上下底，分别是数据的上四分位数（Q3）和下四分位数（Q1）\n",
    "- 箱体包含了50%的数据。因此，箱子的高度在一定程度上反映了数据的波动程度\n",
    "- 上下边缘则代表了该组数据的最大值和最小值\n",
    "- 有时候箱子外部会有一些点，可以理解为数据中的\"异常值\"- "
   ]
  },
  {
   "cell_type": "markdown",
   "id": "d034d1d2",
   "metadata": {},
   "source": [
    "## 查看 App 数据中价格和用户评分的关系，绘制散点图"
   ]
  },
  {
   "cell_type": "code",
   "execution_count": 26,
   "id": "0030ffba",
   "metadata": {
    "ExecuteTime": {
     "end_time": "2022-12-28T11:34:36.810977Z",
     "start_time": "2022-12-28T11:34:36.625070Z"
    }
   },
   "outputs": [
    {
     "data": {
      "text/plain": [
       "<AxesSubplot: xlabel='price', ylabel='user_rating'>"
      ]
     },
     "execution_count": 26,
     "metadata": {},
     "output_type": "execute_result"
    },
    {
     "data": {
      "image/png": "[encoded data removed]",
      "text/plain": [
       "<Figure size 2000x800 with 1 Axes>"
      ]
     },
     "metadata": {},
     "output_type": "display_data"
    }
   ],
   "source": [
    "plt.figure(figsize=(20,8))\n",
    "sns.scatterplot(x='price',y='user_rating',data=app)"
   ]
  },
  {
   "cell_type": "code",
   "execution_count": 27,
   "id": "1f7061e9",
   "metadata": {
    "ExecuteTime": {
     "end_time": "2022-12-28T11:34:36.826983Z",
     "start_time": "2022-12-28T11:34:36.811976Z"
    }
   },
   "outputs": [],
   "source": [
    "# 结果说明：从散点图可以看出，价格和评价关联不强，高价的应用评价两级分化，但数据相对较少"
   ]
  },
  {
   "cell_type": "code",
   "execution_count": 28,
   "id": "44e6133f",
   "metadata": {
    "ExecuteTime": {
     "end_time": "2022-12-28T11:34:37.286969Z",
     "start_time": "2022-12-28T11:34:36.832967Z"
    }
   },
   "outputs": [
    {
     "data": {
      "text/plain": [
       "<AxesSubplot: xlabel='prime_genre', ylabel='user_rating'>"
      ]
     },
     "execution_count": 28,
     "metadata": {},
     "output_type": "execute_result"
    },
    {
     "data": {
      "image/png": "[encoded data removed]",
      "text/plain": [
       "<Figure size 2000x800 with 1 Axes>"
      ]
     },
     "metadata": {},
     "output_type": "display_data"
    }
   ],
   "source": [
    "# 同一类别，将免费和付费的评分进行对比\n",
    "plt.figure(figsize=(20,8))\n",
    "sns.barplot(x='prime_genre',y='user_rating',data=app5,hue='paid')"
   ]
  },
  {
   "cell_type": "markdown",
   "id": "2432a5b4",
   "metadata": {},
   "source": [
    "# 业务解读"
   ]
  },
  {
   "cell_type": "markdown",
   "id": "490caa6e",
   "metadata": {},
   "source": [
    "## 业务问题1：免费或收费 App 集中在哪些类别？"
   ]
  },
  {
   "cell_type": "markdown",
   "id": "760feb0d",
   "metadata": {},
   "source": [
    "分析思路：\n",
    "\n",
    "- 第一步：将数据统计出每个类别有多少个app\n",
    "- 第二步：从高到低进行排列\n",
    "- 第三步：将数据进行可视化- "
   ]
  },
  {
   "cell_type": "code",
   "execution_count": 29,
   "id": "fe889535",
   "metadata": {
    "ExecuteTime": {
     "end_time": "2022-12-28T11:34:37.630905Z",
     "start_time": "2022-12-28T11:34:37.288753Z"
    }
   },
   "outputs": [
    {
     "data": {
      "text/plain": [
       "<AxesSubplot: xlabel='count', ylabel='prime_genre'>"
      ]
     },
     "execution_count": 29,
     "metadata": {},
     "output_type": "execute_result"
    },
    {
     "data": {
      "image/png": "[encoded data removed]",
      "text/plain": [
       "<Figure size 2000x800 with 1 Axes>"
      ]
     },
     "metadata": {},
     "output_type": "display_data"
    }
   ],
   "source": [
    "plt.figure(figsize=(20,8))\n",
    "# 参数order指定数据显示的顺序\n",
    "sns.countplot(y='prime_genre',data=app,order=app['prime_genre'].value_counts().index,hue='paid')"
   ]
  },
  {
   "cell_type": "code",
   "execution_count": 30,
   "id": "3e24651f",
   "metadata": {
    "ExecuteTime": {
     "end_time": "2022-12-28T11:34:37.646837Z",
     "start_time": "2022-12-28T11:34:37.632857Z"
    }
   },
   "outputs": [],
   "source": [
    "# 业务解答：免费或收费都是高度集中在游戏类别"
   ]
  },
  {
   "cell_type": "markdown",
   "id": "c554277d",
   "metadata": {},
   "source": [
    "## 业务问题2：免费与收费的 App 在不同评分区间的分布？"
   ]
  },
  {
   "cell_type": "markdown",
   "id": "6bed3d0a",
   "metadata": {},
   "source": [
    "### 将评分进行分箱，查看落入不同箱中应用的数量"
   ]
  },
  {
   "cell_type": "code",
   "execution_count": 31,
   "id": "5f2990b4",
   "metadata": {
    "ExecuteTime": {
     "end_time": "2022-12-28T11:34:37.677754Z",
     "start_time": "2022-12-28T11:34:37.647834Z"
    }
   },
   "outputs": [
    {
     "name": "stderr",
     "output_type": "stream",
     "text": [
      "C:\\Users\\hp\\AppData\\Local\\Temp\\ipykernel_14276\\922444997.py:2: SettingWithCopyWarning: \n",
      "A value is trying to be set on a copy of a slice from a DataFrame.\n",
      "Try using .loc[row_indexer,col_indexer] = value instead\n",
      "\n",
      "See the caveats in the documentation: https://pandas.pydata.org/pandas-docs/stable/user_guide/indexing.html#returning-a-view-versus-a-copy\n",
      "  app['rating_level'] = pd.cut(app.user_rating,bins,right=False)\n"
     ]
    },
    {
     "data": {
      "text/html": [
       "<div>\n",
       "<style scoped>\n",
       "    .dataframe tbody tr th:only-of-type {\n",
       "        vertical-align: middle;\n",
       "    }\n",
       "\n",
       "    .dataframe tbody tr th {\n",
       "        vertical-align: top;\n",
       "    }\n",
       "\n",
       "    .dataframe thead th {\n",
       "        text-align: right;\n",
       "    }\n",
       "</style>\n",
       "<table border=\"1\" class=\"dataframe\">\n",
       "  <thead>\n",
       "    <tr style=\"text-align: right;\">\n",
       "      <th></th>\n",
       "      <th>id</th>\n",
       "      <th>track_name</th>\n",
       "      <th>size_bytes</th>\n",
       "      <th>price</th>\n",
       "      <th>rating_count_tot</th>\n",
       "      <th>user_rating</th>\n",
       "      <th>prime_genre</th>\n",
       "      <th>sup_devices</th>\n",
       "      <th>ipadSc_urls</th>\n",
       "      <th>lang</th>\n",
       "      <th>size_mb</th>\n",
       "      <th>paid</th>\n",
       "      <th>price_new</th>\n",
       "      <th>rating_new</th>\n",
       "      <th>rating_level</th>\n",
       "    </tr>\n",
       "  </thead>\n",
       "  <tbody>\n",
       "    <tr>\n",
       "      <th>0</th>\n",
       "      <td>281656475</td>\n",
       "      <td>PAC-MAN Premium</td>\n",
       "      <td>100788224</td>\n",
       "      <td>3.99</td>\n",
       "      <td>21292</td>\n",
       "      <td>4.0</td>\n",
       "      <td>Games</td>\n",
       "      <td>38</td>\n",
       "      <td>5</td>\n",
       "      <td>10</td>\n",
       "      <td>96.119141</td>\n",
       "      <td>1</td>\n",
       "      <td>&lt;10</td>\n",
       "      <td>[5000, 100000)</td>\n",
       "      <td>[2.5, 4.5)</td>\n",
       "    </tr>\n",
       "    <tr>\n",
       "      <th>1</th>\n",
       "      <td>281796108</td>\n",
       "      <td>Evernote - stay organized</td>\n",
       "      <td>158578688</td>\n",
       "      <td>0.00</td>\n",
       "      <td>161065</td>\n",
       "      <td>4.0</td>\n",
       "      <td>Productivity</td>\n",
       "      <td>37</td>\n",
       "      <td>5</td>\n",
       "      <td>23</td>\n",
       "      <td>151.232422</td>\n",
       "      <td>0</td>\n",
       "      <td>&lt;2</td>\n",
       "      <td>[100000, 5000000)</td>\n",
       "      <td>[2.5, 4.5)</td>\n",
       "    </tr>\n",
       "    <tr>\n",
       "      <th>2</th>\n",
       "      <td>281940292</td>\n",
       "      <td>WeatherBug - Local Weather, Radar, Maps, Alerts</td>\n",
       "      <td>100524032</td>\n",
       "      <td>0.00</td>\n",
       "      <td>188583</td>\n",
       "      <td>3.5</td>\n",
       "      <td>Weather</td>\n",
       "      <td>37</td>\n",
       "      <td>5</td>\n",
       "      <td>3</td>\n",
       "      <td>95.867188</td>\n",
       "      <td>0</td>\n",
       "      <td>&lt;2</td>\n",
       "      <td>[100000, 5000000)</td>\n",
       "      <td>[2.5, 4.5)</td>\n",
       "    </tr>\n",
       "    <tr>\n",
       "      <th>3</th>\n",
       "      <td>282614216</td>\n",
       "      <td>eBay: Best App to Buy, Sell, Save! Online Shop...</td>\n",
       "      <td>128512000</td>\n",
       "      <td>0.00</td>\n",
       "      <td>262241</td>\n",
       "      <td>4.0</td>\n",
       "      <td>Shopping</td>\n",
       "      <td>37</td>\n",
       "      <td>5</td>\n",
       "      <td>9</td>\n",
       "      <td>122.558594</td>\n",
       "      <td>0</td>\n",
       "      <td>&lt;2</td>\n",
       "      <td>[100000, 5000000)</td>\n",
       "      <td>[2.5, 4.5)</td>\n",
       "    </tr>\n",
       "    <tr>\n",
       "      <th>4</th>\n",
       "      <td>282935706</td>\n",
       "      <td>Bible</td>\n",
       "      <td>92774400</td>\n",
       "      <td>0.00</td>\n",
       "      <td>985920</td>\n",
       "      <td>4.5</td>\n",
       "      <td>Reference</td>\n",
       "      <td>37</td>\n",
       "      <td>5</td>\n",
       "      <td>45</td>\n",
       "      <td>88.476562</td>\n",
       "      <td>0</td>\n",
       "      <td>&lt;2</td>\n",
       "      <td>[100000, 5000000)</td>\n",
       "      <td>[4.5, 5.1)</td>\n",
       "    </tr>\n",
       "    <tr>\n",
       "      <th>...</th>\n",
       "      <td>...</td>\n",
       "      <td>...</td>\n",
       "      <td>...</td>\n",
       "      <td>...</td>\n",
       "      <td>...</td>\n",
       "      <td>...</td>\n",
       "      <td>...</td>\n",
       "      <td>...</td>\n",
       "      <td>...</td>\n",
       "      <td>...</td>\n",
       "      <td>...</td>\n",
       "      <td>...</td>\n",
       "      <td>...</td>\n",
       "      <td>...</td>\n",
       "      <td>...</td>\n",
       "    </tr>\n",
       "    <tr>\n",
       "      <th>7192</th>\n",
       "      <td>1187617475</td>\n",
       "      <td>Kubik</td>\n",
       "      <td>126644224</td>\n",
       "      <td>0.00</td>\n",
       "      <td>142</td>\n",
       "      <td>4.5</td>\n",
       "      <td>Games</td>\n",
       "      <td>38</td>\n",
       "      <td>5</td>\n",
       "      <td>1</td>\n",
       "      <td>120.777344</td>\n",
       "      <td>0</td>\n",
       "      <td>&lt;2</td>\n",
       "      <td>[0, 1000)</td>\n",
       "      <td>[4.5, 5.1)</td>\n",
       "    </tr>\n",
       "    <tr>\n",
       "      <th>7193</th>\n",
       "      <td>1187682390</td>\n",
       "      <td>VR Roller-Coaster</td>\n",
       "      <td>120760320</td>\n",
       "      <td>0.00</td>\n",
       "      <td>30</td>\n",
       "      <td>4.5</td>\n",
       "      <td>Games</td>\n",
       "      <td>38</td>\n",
       "      <td>0</td>\n",
       "      <td>1</td>\n",
       "      <td>115.166016</td>\n",
       "      <td>0</td>\n",
       "      <td>&lt;2</td>\n",
       "      <td>[0, 1000)</td>\n",
       "      <td>[4.5, 5.1)</td>\n",
       "    </tr>\n",
       "    <tr>\n",
       "      <th>7194</th>\n",
       "      <td>1187779532</td>\n",
       "      <td>Bret Michaels Emojis + Lyric Keyboard</td>\n",
       "      <td>111322112</td>\n",
       "      <td>1.99</td>\n",
       "      <td>15</td>\n",
       "      <td>4.5</td>\n",
       "      <td>Utilities</td>\n",
       "      <td>37</td>\n",
       "      <td>1</td>\n",
       "      <td>1</td>\n",
       "      <td>106.165039</td>\n",
       "      <td>1</td>\n",
       "      <td>&lt;2</td>\n",
       "      <td>[0, 1000)</td>\n",
       "      <td>[4.5, 5.1)</td>\n",
       "    </tr>\n",
       "    <tr>\n",
       "      <th>7195</th>\n",
       "      <td>1187838770</td>\n",
       "      <td>VR Roller Coaster World - Virtual Reality</td>\n",
       "      <td>97235968</td>\n",
       "      <td>0.00</td>\n",
       "      <td>85</td>\n",
       "      <td>4.5</td>\n",
       "      <td>Games</td>\n",
       "      <td>38</td>\n",
       "      <td>0</td>\n",
       "      <td>2</td>\n",
       "      <td>92.731445</td>\n",
       "      <td>0</td>\n",
       "      <td>&lt;2</td>\n",
       "      <td>[0, 1000)</td>\n",
       "      <td>[4.5, 5.1)</td>\n",
       "    </tr>\n",
       "    <tr>\n",
       "      <th>7196</th>\n",
       "      <td>1188375727</td>\n",
       "      <td>Escape the Sweet Shop Series</td>\n",
       "      <td>90898432</td>\n",
       "      <td>0.00</td>\n",
       "      <td>3</td>\n",
       "      <td>5.0</td>\n",
       "      <td>Games</td>\n",
       "      <td>40</td>\n",
       "      <td>0</td>\n",
       "      <td>2</td>\n",
       "      <td>86.687500</td>\n",
       "      <td>0</td>\n",
       "      <td>&lt;2</td>\n",
       "      <td>[0, 1000)</td>\n",
       "      <td>[4.5, 5.1)</td>\n",
       "    </tr>\n",
       "  </tbody>\n",
       "</table>\n",
       "<p>7190 rows × 15 columns</p>\n",
       "</div>"
      ],
      "text/plain": [
       "              id                                         track_name  \\\n",
       "0      281656475                                    PAC-MAN Premium   \n",
       "1      281796108                          Evernote - stay organized   \n",
       "2      281940292    WeatherBug - Local Weather, Radar, Maps, Alerts   \n",
       "3      282614216  eBay: Best App to Buy, Sell, Save! Online Shop...   \n",
       "4      282935706                                              Bible   \n",
       "...          ...                                                ...   \n",
       "7192  1187617475                                              Kubik   \n",
       "7193  1187682390                                  VR Roller-Coaster   \n",
       "7194  1187779532              Bret Michaels Emojis + Lyric Keyboard   \n",
       "7195  1187838770          VR Roller Coaster World - Virtual Reality   \n",
       "7196  1188375727                       Escape the Sweet Shop Series   \n",
       "\n",
       "      size_bytes  price  rating_count_tot  user_rating   prime_genre  \\\n",
       "0      100788224   3.99             21292          4.0         Games   \n",
       "1      158578688   0.00            161065          4.0  Productivity   \n",
       "2      100524032   0.00            188583          3.5       Weather   \n",
       "3      128512000   0.00            262241          4.0      Shopping   \n",
       "4       92774400   0.00            985920          4.5     Reference   \n",
       "...          ...    ...               ...          ...           ...   \n",
       "7192   126644224   0.00               142          4.5         Games   \n",
       "7193   120760320   0.00                30          4.5         Games   \n",
       "7194   111322112   1.99                15          4.5     Utilities   \n",
       "7195    97235968   0.00                85          4.5         Games   \n",
       "7196    90898432   0.00                 3          5.0         Games   \n",
       "\n",
       "      sup_devices  ipadSc_urls  lang     size_mb  paid price_new  \\\n",
       "0              38            5    10   96.119141     1       <10   \n",
       "1              37            5    23  151.232422     0        <2   \n",
       "2              37            5     3   95.867188     0        <2   \n",
       "3              37            5     9  122.558594     0        <2   \n",
       "4              37            5    45   88.476562     0        <2   \n",
       "...           ...          ...   ...         ...   ...       ...   \n",
       "7192           38            5     1  120.777344     0        <2   \n",
       "7193           38            0     1  115.166016     0        <2   \n",
       "7194           37            1     1  106.165039     1        <2   \n",
       "7195           38            0     2   92.731445     0        <2   \n",
       "7196           40            0     2   86.687500     0        <2   \n",
       "\n",
       "             rating_new rating_level  \n",
       "0        [5000, 100000)   [2.5, 4.5)  \n",
       "1     [100000, 5000000)   [2.5, 4.5)  \n",
       "2     [100000, 5000000)   [2.5, 4.5)  \n",
       "3     [100000, 5000000)   [2.5, 4.5)  \n",
       "4     [100000, 5000000)   [4.5, 5.1)  \n",
       "...                 ...          ...  \n",
       "7192          [0, 1000)   [4.5, 5.1)  \n",
       "7193          [0, 1000)   [4.5, 5.1)  \n",
       "7194          [0, 1000)   [4.5, 5.1)  \n",
       "7195          [0, 1000)   [4.5, 5.1)  \n",
       "7196          [0, 1000)   [4.5, 5.1)  \n",
       "\n",
       "[7190 rows x 15 columns]"
      ]
     },
     "execution_count": 31,
     "metadata": {},
     "output_type": "execute_result"
    }
   ],
   "source": [
    "bins = [0,0.5,2.5,4.5,5.1]\n",
    "app['rating_level'] = pd.cut(app.user_rating,bins,right=False)\n",
    "app"
   ]
  },
  {
   "cell_type": "code",
   "execution_count": 32,
   "id": "46486fd2",
   "metadata": {
    "ExecuteTime": {
     "end_time": "2022-12-28T11:34:37.708686Z",
     "start_time": "2022-12-28T11:34:37.679750Z"
    }
   },
   "outputs": [
    {
     "data": {
      "text/html": [
       "<div>\n",
       "<style scoped>\n",
       "    .dataframe tbody tr th:only-of-type {\n",
       "        vertical-align: middle;\n",
       "    }\n",
       "\n",
       "    .dataframe tbody tr th {\n",
       "        vertical-align: top;\n",
       "    }\n",
       "\n",
       "    .dataframe thead th {\n",
       "        text-align: right;\n",
       "    }\n",
       "</style>\n",
       "<table border=\"1\" class=\"dataframe\">\n",
       "  <thead>\n",
       "    <tr style=\"text-align: right;\">\n",
       "      <th></th>\n",
       "      <th>count</th>\n",
       "      <th>mean</th>\n",
       "      <th>std</th>\n",
       "      <th>min</th>\n",
       "      <th>25%</th>\n",
       "      <th>50%</th>\n",
       "      <th>75%</th>\n",
       "      <th>max</th>\n",
       "    </tr>\n",
       "    <tr>\n",
       "      <th>rating_level</th>\n",
       "      <th></th>\n",
       "      <th></th>\n",
       "      <th></th>\n",
       "      <th></th>\n",
       "      <th></th>\n",
       "      <th></th>\n",
       "      <th></th>\n",
       "      <th></th>\n",
       "    </tr>\n",
       "  </thead>\n",
       "  <tbody>\n",
       "    <tr>\n",
       "      <th>[0.0, 0.5)</th>\n",
       "      <td>929.0</td>\n",
       "      <td>0.000000</td>\n",
       "      <td>0.000000</td>\n",
       "      <td>0.0</td>\n",
       "      <td>0.0</td>\n",
       "      <td>0.0</td>\n",
       "      <td>0.0</td>\n",
       "      <td>0.0</td>\n",
       "    </tr>\n",
       "    <tr>\n",
       "      <th>[0.5, 2.5)</th>\n",
       "      <td>206.0</td>\n",
       "      <td>1.650485</td>\n",
       "      <td>0.400213</td>\n",
       "      <td>1.0</td>\n",
       "      <td>1.5</td>\n",
       "      <td>2.0</td>\n",
       "      <td>2.0</td>\n",
       "      <td>2.0</td>\n",
       "    </tr>\n",
       "    <tr>\n",
       "      <th>[2.5, 4.5)</th>\n",
       "      <td>2903.0</td>\n",
       "      <td>3.646056</td>\n",
       "      <td>0.467987</td>\n",
       "      <td>2.5</td>\n",
       "      <td>3.5</td>\n",
       "      <td>4.0</td>\n",
       "      <td>4.0</td>\n",
       "      <td>4.0</td>\n",
       "    </tr>\n",
       "    <tr>\n",
       "      <th>[4.5, 5.1)</th>\n",
       "      <td>3152.0</td>\n",
       "      <td>4.578046</td>\n",
       "      <td>0.181500</td>\n",
       "      <td>4.5</td>\n",
       "      <td>4.5</td>\n",
       "      <td>4.5</td>\n",
       "      <td>4.5</td>\n",
       "      <td>5.0</td>\n",
       "    </tr>\n",
       "  </tbody>\n",
       "</table>\n",
       "</div>"
      ],
      "text/plain": [
       "               count      mean       std  min  25%  50%  75%  max\n",
       "rating_level                                                     \n",
       "[0.0, 0.5)     929.0  0.000000  0.000000  0.0  0.0  0.0  0.0  0.0\n",
       "[0.5, 2.5)     206.0  1.650485  0.400213  1.0  1.5  2.0  2.0  2.0\n",
       "[2.5, 4.5)    2903.0  3.646056  0.467987  2.5  3.5  4.0  4.0  4.0\n",
       "[4.5, 5.1)    3152.0  4.578046  0.181500  4.5  4.5  4.5  4.5  5.0"
      ]
     },
     "execution_count": 32,
     "metadata": {},
     "output_type": "execute_result"
    }
   ],
   "source": [
    "app.groupby('rating_level')['user_rating'].describe()"
   ]
  },
  {
   "cell_type": "markdown",
   "id": "ecb4b5c5",
   "metadata": {},
   "source": [
    "### 数据可视化"
   ]
  },
  {
   "cell_type": "code",
   "execution_count": 33,
   "id": "aaf6fb36",
   "metadata": {
    "ExecuteTime": {
     "end_time": "2022-12-28T11:34:37.895647Z",
     "start_time": "2022-12-28T11:34:37.716665Z"
    }
   },
   "outputs": [
    {
     "data": {
      "text/plain": [
       "<AxesSubplot: xlabel='paid', ylabel='count'>"
      ]
     },
     "execution_count": 33,
     "metadata": {},
     "output_type": "execute_result"
    },
    {
     "data": {
      "image/png": "[encoded data removed]",
      "text/plain": [
       "<Figure size 2000x800 with 1 Axes>"
      ]
     },
     "metadata": {},
     "output_type": "display_data"
    }
   ],
   "source": [
    "plt.figure(figsize=(20,8))\n",
    "sns.countplot(x='paid',data=app,hue='rating_level')"
   ]
  },
  {
   "cell_type": "markdown",
   "id": "08b20b15",
   "metadata": {},
   "source": [
    "## 业务问题3：APP的价格、大小和用户评分之间有关系吗？"
   ]
  },
  {
   "cell_type": "markdown",
   "id": "0e09a612",
   "metadata": {},
   "source": [
    "### 通过 corr 计算 App 的价格、大小和用户评分之间的关系"
   ]
  },
  {
   "cell_type": "code",
   "execution_count": 34,
   "id": "1b624c82",
   "metadata": {
    "ExecuteTime": {
     "end_time": "2022-12-28T11:34:37.911484Z",
     "start_time": "2022-12-28T11:34:37.897523Z"
    }
   },
   "outputs": [
    {
     "data": {
      "text/html": [
       "<div>\n",
       "<style scoped>\n",
       "    .dataframe tbody tr th:only-of-type {\n",
       "        vertical-align: middle;\n",
       "    }\n",
       "\n",
       "    .dataframe tbody tr th {\n",
       "        vertical-align: top;\n",
       "    }\n",
       "\n",
       "    .dataframe thead th {\n",
       "        text-align: right;\n",
       "    }\n",
       "</style>\n",
       "<table border=\"1\" class=\"dataframe\">\n",
       "  <thead>\n",
       "    <tr style=\"text-align: right;\">\n",
       "      <th></th>\n",
       "      <th>user_rating</th>\n",
       "      <th>price</th>\n",
       "      <th>size_mb</th>\n",
       "    </tr>\n",
       "  </thead>\n",
       "  <tbody>\n",
       "    <tr>\n",
       "      <th>user_rating</th>\n",
       "      <td>1.000000</td>\n",
       "      <td>0.073237</td>\n",
       "      <td>0.066160</td>\n",
       "    </tr>\n",
       "    <tr>\n",
       "      <th>price</th>\n",
       "      <td>0.073237</td>\n",
       "      <td>1.000000</td>\n",
       "      <td>0.314386</td>\n",
       "    </tr>\n",
       "    <tr>\n",
       "      <th>size_mb</th>\n",
       "      <td>0.066160</td>\n",
       "      <td>0.314386</td>\n",
       "      <td>1.000000</td>\n",
       "    </tr>\n",
       "  </tbody>\n",
       "</table>\n",
       "</div>"
      ],
      "text/plain": [
       "             user_rating     price   size_mb\n",
       "user_rating     1.000000  0.073237  0.066160\n",
       "price           0.073237  1.000000  0.314386\n",
       "size_mb         0.066160  0.314386  1.000000"
      ]
     },
     "execution_count": 34,
     "metadata": {},
     "output_type": "execute_result"
    }
   ],
   "source": [
    "app[['user_rating','price','size_mb']].corr()"
   ]
  },
  {
   "cell_type": "markdown",
   "id": "d3179196",
   "metadata": {},
   "source": [
    "### 通过热力图来查看变量之间两两相关系数"
   ]
  },
  {
   "cell_type": "code",
   "execution_count": 35,
   "id": "ccdfe926",
   "metadata": {
    "ExecuteTime": {
     "end_time": "2022-12-28T11:34:38.101613Z",
     "start_time": "2022-12-28T11:34:37.912482Z"
    }
   },
   "outputs": [
    {
     "data": {
      "text/plain": [
       "<AxesSubplot: >"
      ]
     },
     "execution_count": 35,
     "metadata": {},
     "output_type": "execute_result"
    },
    {
     "data": {
      "image/png": "[encoded data removed]",
      "text/plain": [
       "<Figure size 2000x800 with 2 Axes>"
      ]
     },
     "metadata": {},
     "output_type": "display_data"
    }
   ],
   "source": [
    "plt.figure(figsize=(20,8))\n",
    "sns.heatmap(app[['user_rating','price','size_mb']].corr())"
   ]
  },
  {
   "cell_type": "markdown",
   "id": "13a66bb5",
   "metadata": {},
   "source": [
    "# 总结\n",
    "- 常规的探索性数据分析套路：查看概况->单变量分析->多变量分析->可视化分析\n",
    "- seaborn在绘制柱状图的时候，可以使用hue参数 传入类别型变量，方便进行对比"
   ]
  }
 ],
 "metadata": {
  "kernelspec": {
   "display_name": "Python 3 (ipykernel)",
   "language": "python",
   "name": "python3"
  },
  "language_info": {
   "codemirror_mode": {
    "name": "ipython",
    "version": 3
   },
   "file_extension": ".py",
   "mimetype": "text/x-python",
   "name": "python",
   "nbconvert_exporter": "python",
   "pygments_lexer": "ipython3",
   "version": "3.8.15"
  },
  "toc": {
   "base_numbering": 1,
   "nav_menu": {},
   "number_sections": true,
   "sideBar": true,
   "skip_h1_title": false,
   "title_cell": "Table of Contents",
   "title_sidebar": "Contents",
   "toc_cell": false,
   "toc_position": {},
   "toc_section_display": true,
   "toc_window_display": false
  },
  "varInspector": {
   "cols": {
    "lenName": 16,
    "lenType": 16,
    "lenVar": 40
   },
   "kernels_config": {
    "python": {
     "delete_cmd_postfix": "",
     "delete_cmd_prefix": "del ",
     "library": "var_list.py",
     "varRefreshCmd": "print(var_dic_list())"
    },
    "r": {
     "delete_cmd_postfix": ") ",
     "delete_cmd_prefix": "rm(",
     "library": "var_list.r",
     "varRefreshCmd": "cat(var_dic_list()) "
    }
   },
   "types_to_exclude": [
    "module",
    "function",
    "builtin_function_or_method",
    "instance",
    "_Feature"
   ],
   "window_display": false
  }
 },
 "nbformat": 4,
 "nbformat_minor": 5
}
