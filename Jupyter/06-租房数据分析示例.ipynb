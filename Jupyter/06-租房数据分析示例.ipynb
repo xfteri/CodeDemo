{
 "cells": [
  {
   "cell_type": "code",
   "execution_count": 1,
   "id": "16de42c4",
   "metadata": {
    "ExecuteTime": {
     "end_time": "2022-12-28T11:20:19.298074Z",
     "start_time": "2022-12-28T11:20:19.048470Z"
    }
   },
   "outputs": [],
   "source": [
    "import pandas as pd"
   ]
  },
  {
   "cell_type": "markdown",
   "id": "4ab96355",
   "metadata": {},
   "source": [
    "# 链家租房数据分析示例"
   ]
  },
  {
   "cell_type": "markdown",
   "id": "8fb2218b",
   "metadata": {},
   "source": [
    "## 数据加载和查看"
   ]
  },
  {
   "cell_type": "markdown",
   "id": "b0d28d63",
   "metadata": {},
   "source": [
    "### 加载 LJdata.csv 数据集"
   ]
  },
  {
   "cell_type": "code",
   "execution_count": 2,
   "id": "1fbbc3cf",
   "metadata": {
    "ExecuteTime": {
     "end_time": "2022-12-28T11:20:19.452022Z",
     "start_time": "2022-12-28T11:20:19.300072Z"
    }
   },
   "outputs": [
    {
     "data": {
      "text/html": [
       "<div>\n",
       "<style scoped>\n",
       "    .dataframe tbody tr th:only-of-type {\n",
       "        vertical-align: middle;\n",
       "    }\n",
       "\n",
       "    .dataframe tbody tr th {\n",
       "        vertical-align: top;\n",
       "    }\n",
       "\n",
       "    .dataframe thead th {\n",
       "        text-align: right;\n",
       "    }\n",
       "</style>\n",
       "<table border=\"1\" class=\"dataframe\">\n",
       "  <thead>\n",
       "    <tr style=\"text-align: right;\">\n",
       "      <th></th>\n",
       "      <th>区域</th>\n",
       "      <th>地址</th>\n",
       "      <th>标题</th>\n",
       "      <th>户型</th>\n",
       "      <th>面积</th>\n",
       "      <th>价格</th>\n",
       "      <th>楼层</th>\n",
       "      <th>建造时间</th>\n",
       "      <th>朝向</th>\n",
       "      <th>更新时间</th>\n",
       "      <th>看房人数</th>\n",
       "      <th>备注</th>\n",
       "      <th>链接地址</th>\n",
       "    </tr>\n",
       "  </thead>\n",
       "  <tbody>\n",
       "    <tr>\n",
       "      <th>0</th>\n",
       "      <td>燕莎租房</td>\n",
       "      <td>新源街</td>\n",
       "      <td>亮马桥 新源街  精装两居 交通便利 看房方便 随时入住</td>\n",
       "      <td>2室1厅</td>\n",
       "      <td>50</td>\n",
       "      <td>5800</td>\n",
       "      <td>中楼层(共6层)</td>\n",
       "      <td>1981年建板楼</td>\n",
       "      <td>南</td>\n",
       "      <td>2017.07.21</td>\n",
       "      <td>26</td>\n",
       "      <td>随时看房 精装修 集中供暖</td>\n",
       "      <td>https://bj.lianjia.com/zufang/101101803342.html</td>\n",
       "    </tr>\n",
       "    <tr>\n",
       "      <th>1</th>\n",
       "      <td>望京租房</td>\n",
       "      <td>澳洲康都</td>\n",
       "      <td>澳洲康都东向精致两居室...........</td>\n",
       "      <td>2室1厅</td>\n",
       "      <td>79</td>\n",
       "      <td>7800</td>\n",
       "      <td>中楼层(共28层)</td>\n",
       "      <td>2005年建板塔结合</td>\n",
       "      <td>东</td>\n",
       "      <td>2017.07.23</td>\n",
       "      <td>33</td>\n",
       "      <td>距离14号线(东段)东湖渠站731米 随时看房 精装修 集中供暖</td>\n",
       "      <td>https://bj.lianjia.com/zufang/101101753126.html</td>\n",
       "    </tr>\n",
       "    <tr>\n",
       "      <th>2</th>\n",
       "      <td>广安门租房</td>\n",
       "      <td>远见名苑</td>\n",
       "      <td>远见名苑 东向两居室 独立小区环境 适合居家</td>\n",
       "      <td>2室1厅</td>\n",
       "      <td>86</td>\n",
       "      <td>8000</td>\n",
       "      <td>低楼层(共25层)</td>\n",
       "      <td>2006年建塔楼</td>\n",
       "      <td>东</td>\n",
       "      <td>2017.07.20</td>\n",
       "      <td>34</td>\n",
       "      <td>距离7号线达官营站684米 随时看房 精装修 自供暖</td>\n",
       "      <td>https://bj.lianjia.com/zufang/101101756753.html</td>\n",
       "    </tr>\n",
       "    <tr>\n",
       "      <th>3</th>\n",
       "      <td>天通苑租房</td>\n",
       "      <td>天通苑北一区</td>\n",
       "      <td>北一区简装两居，采光好，视野美，出行方便</td>\n",
       "      <td>2室1厅</td>\n",
       "      <td>103</td>\n",
       "      <td>5300</td>\n",
       "      <td>低楼层(共13层)</td>\n",
       "      <td>2004年建板楼</td>\n",
       "      <td>东南</td>\n",
       "      <td>2017.07.25</td>\n",
       "      <td>30</td>\n",
       "      <td>距离5号线天通苑站927米 随时看房 精装修 集中供暖</td>\n",
       "      <td>https://bj.lianjia.com/zufang/101101780034.html</td>\n",
       "    </tr>\n",
       "    <tr>\n",
       "      <th>4</th>\n",
       "      <td>团结湖租房</td>\n",
       "      <td>团结湖北口</td>\n",
       "      <td>团结湖北口近地铁高楼层朝南向精装修正规两居室</td>\n",
       "      <td>2室1厅</td>\n",
       "      <td>63</td>\n",
       "      <td>6400</td>\n",
       "      <td>高楼层(共16层)</td>\n",
       "      <td>1982年建塔楼</td>\n",
       "      <td>南</td>\n",
       "      <td>2017.07.26</td>\n",
       "      <td>30</td>\n",
       "      <td>距离10号线团结湖站88米 随时看房 精装修 集中供暖</td>\n",
       "      <td>https://bj.lianjia.com/zufang/101101781083.html</td>\n",
       "    </tr>\n",
       "  </tbody>\n",
       "</table>\n",
       "</div>"
      ],
      "text/plain": [
       "      区域      地址                            标题    户型   面积    价格         楼层  \\\n",
       "0   燕莎租房     新源街  亮马桥 新源街  精装两居 交通便利 看房方便 随时入住  2室1厅   50  5800   中楼层(共6层)   \n",
       "1   望京租房    澳洲康都        澳洲康都东向精致两居室...........  2室1厅   79  7800  中楼层(共28层)   \n",
       "2  广安门租房    远见名苑        远见名苑 东向两居室 独立小区环境 适合居家  2室1厅   86  8000  低楼层(共25层)   \n",
       "3  天通苑租房  天通苑北一区          北一区简装两居，采光好，视野美，出行方便  2室1厅  103  5300  低楼层(共13层)   \n",
       "4  团结湖租房   团结湖北口        团结湖北口近地铁高楼层朝南向精装修正规两居室  2室1厅   63  6400  高楼层(共16层)   \n",
       "\n",
       "         建造时间  朝向        更新时间  看房人数                                 备注  \\\n",
       "0    1981年建板楼   南  2017.07.21    26                      随时看房 精装修 集中供暖   \n",
       "1  2005年建板塔结合   东  2017.07.23    33   距离14号线(东段)东湖渠站731米 随时看房 精装修 集中供暖   \n",
       "2    2006年建塔楼   东  2017.07.20    34         距离7号线达官营站684米 随时看房 精装修 自供暖   \n",
       "3    2004年建板楼  东南  2017.07.25    30        距离5号线天通苑站927米 随时看房 精装修 集中供暖   \n",
       "4    1982年建塔楼   南  2017.07.26    30        距离10号线团结湖站88米 随时看房 精装修 集中供暖   \n",
       "\n",
       "                                              链接地址  \n",
       "0  https://bj.lianjia.com/zufang/101101803342.html  \n",
       "1  https://bj.lianjia.com/zufang/101101753126.html  \n",
       "2  https://bj.lianjia.com/zufang/101101756753.html  \n",
       "3  https://bj.lianjia.com/zufang/101101780034.html  \n",
       "4  https://bj.lianjia.com/zufang/101101781083.html  "
      ]
     },
     "execution_count": 2,
     "metadata": {},
     "output_type": "execute_result"
    }
   ],
   "source": [
    "house_data = pd.read_csv('./data/LJdata.csv')\n",
    "house_data.head()"
   ]
  },
  {
   "cell_type": "markdown",
   "id": "1c40ce4a",
   "metadata": {},
   "source": [
    "### 查看 house_data 数据的列标签"
   ]
  },
  {
   "cell_type": "code",
   "execution_count": 3,
   "id": "7a139fad",
   "metadata": {
    "ExecuteTime": {
     "end_time": "2022-12-28T11:20:19.468002Z",
     "start_time": "2022-12-28T11:20:19.454019Z"
    }
   },
   "outputs": [
    {
     "data": {
      "text/plain": [
       "Index(['区域', '地址', '标题', '户型', '面积', '价格', '楼层', '建造时间', '朝向', '更新时间', '看房人数',\n",
       "       '备注', '链接地址'],\n",
       "      dtype='object')"
      ]
     },
     "execution_count": 3,
     "metadata": {},
     "output_type": "execute_result"
    }
   ],
   "source": [
    "# 查看 house_data 数据的列标签\n",
    "house_data.columns"
   ]
  },
  {
   "cell_type": "markdown",
   "id": "751f8203",
   "metadata": {},
   "source": [
    "### 重新设置 house_data 数据的列标签"
   ]
  },
  {
   "cell_type": "code",
   "execution_count": 4,
   "id": "308cf06b",
   "metadata": {
    "ExecuteTime": {
     "end_time": "2022-12-28T11:20:19.483960Z",
     "start_time": "2022-12-28T11:20:19.470002Z"
    }
   },
   "outputs": [
    {
     "data": {
      "text/html": [
       "<div>\n",
       "<style scoped>\n",
       "    .dataframe tbody tr th:only-of-type {\n",
       "        vertical-align: middle;\n",
       "    }\n",
       "\n",
       "    .dataframe tbody tr th {\n",
       "        vertical-align: top;\n",
       "    }\n",
       "\n",
       "    .dataframe thead th {\n",
       "        text-align: right;\n",
       "    }\n",
       "</style>\n",
       "<table border=\"1\" class=\"dataframe\">\n",
       "  <thead>\n",
       "    <tr style=\"text-align: right;\">\n",
       "      <th></th>\n",
       "      <th>district</th>\n",
       "      <th>address</th>\n",
       "      <th>title</th>\n",
       "      <th>house_type</th>\n",
       "      <th>area</th>\n",
       "      <th>price</th>\n",
       "      <th>floor</th>\n",
       "      <th>build_time</th>\n",
       "      <th>direction</th>\n",
       "      <th>update_time</th>\n",
       "      <th>view_num</th>\n",
       "      <th>extra_info</th>\n",
       "      <th>link</th>\n",
       "    </tr>\n",
       "  </thead>\n",
       "  <tbody>\n",
       "    <tr>\n",
       "      <th>0</th>\n",
       "      <td>燕莎租房</td>\n",
       "      <td>新源街</td>\n",
       "      <td>亮马桥 新源街  精装两居 交通便利 看房方便 随时入住</td>\n",
       "      <td>2室1厅</td>\n",
       "      <td>50</td>\n",
       "      <td>5800</td>\n",
       "      <td>中楼层(共6层)</td>\n",
       "      <td>1981年建板楼</td>\n",
       "      <td>南</td>\n",
       "      <td>2017.07.21</td>\n",
       "      <td>26</td>\n",
       "      <td>随时看房 精装修 集中供暖</td>\n",
       "      <td>https://bj.lianjia.com/zufang/101101803342.html</td>\n",
       "    </tr>\n",
       "    <tr>\n",
       "      <th>1</th>\n",
       "      <td>望京租房</td>\n",
       "      <td>澳洲康都</td>\n",
       "      <td>澳洲康都东向精致两居室...........</td>\n",
       "      <td>2室1厅</td>\n",
       "      <td>79</td>\n",
       "      <td>7800</td>\n",
       "      <td>中楼层(共28层)</td>\n",
       "      <td>2005年建板塔结合</td>\n",
       "      <td>东</td>\n",
       "      <td>2017.07.23</td>\n",
       "      <td>33</td>\n",
       "      <td>距离14号线(东段)东湖渠站731米 随时看房 精装修 集中供暖</td>\n",
       "      <td>https://bj.lianjia.com/zufang/101101753126.html</td>\n",
       "    </tr>\n",
       "    <tr>\n",
       "      <th>2</th>\n",
       "      <td>广安门租房</td>\n",
       "      <td>远见名苑</td>\n",
       "      <td>远见名苑 东向两居室 独立小区环境 适合居家</td>\n",
       "      <td>2室1厅</td>\n",
       "      <td>86</td>\n",
       "      <td>8000</td>\n",
       "      <td>低楼层(共25层)</td>\n",
       "      <td>2006年建塔楼</td>\n",
       "      <td>东</td>\n",
       "      <td>2017.07.20</td>\n",
       "      <td>34</td>\n",
       "      <td>距离7号线达官营站684米 随时看房 精装修 自供暖</td>\n",
       "      <td>https://bj.lianjia.com/zufang/101101756753.html</td>\n",
       "    </tr>\n",
       "    <tr>\n",
       "      <th>3</th>\n",
       "      <td>天通苑租房</td>\n",
       "      <td>天通苑北一区</td>\n",
       "      <td>北一区简装两居，采光好，视野美，出行方便</td>\n",
       "      <td>2室1厅</td>\n",
       "      <td>103</td>\n",
       "      <td>5300</td>\n",
       "      <td>低楼层(共13层)</td>\n",
       "      <td>2004年建板楼</td>\n",
       "      <td>东南</td>\n",
       "      <td>2017.07.25</td>\n",
       "      <td>30</td>\n",
       "      <td>距离5号线天通苑站927米 随时看房 精装修 集中供暖</td>\n",
       "      <td>https://bj.lianjia.com/zufang/101101780034.html</td>\n",
       "    </tr>\n",
       "    <tr>\n",
       "      <th>4</th>\n",
       "      <td>团结湖租房</td>\n",
       "      <td>团结湖北口</td>\n",
       "      <td>团结湖北口近地铁高楼层朝南向精装修正规两居室</td>\n",
       "      <td>2室1厅</td>\n",
       "      <td>63</td>\n",
       "      <td>6400</td>\n",
       "      <td>高楼层(共16层)</td>\n",
       "      <td>1982年建塔楼</td>\n",
       "      <td>南</td>\n",
       "      <td>2017.07.26</td>\n",
       "      <td>30</td>\n",
       "      <td>距离10号线团结湖站88米 随时看房 精装修 集中供暖</td>\n",
       "      <td>https://bj.lianjia.com/zufang/101101781083.html</td>\n",
       "    </tr>\n",
       "  </tbody>\n",
       "</table>\n",
       "</div>"
      ],
      "text/plain": [
       "  district address                         title house_type  area  price  \\\n",
       "0     燕莎租房     新源街  亮马桥 新源街  精装两居 交通便利 看房方便 随时入住       2室1厅    50   5800   \n",
       "1     望京租房    澳洲康都        澳洲康都东向精致两居室...........       2室1厅    79   7800   \n",
       "2    广安门租房    远见名苑        远见名苑 东向两居室 独立小区环境 适合居家       2室1厅    86   8000   \n",
       "3    天通苑租房  天通苑北一区          北一区简装两居，采光好，视野美，出行方便       2室1厅   103   5300   \n",
       "4    团结湖租房   团结湖北口        团结湖北口近地铁高楼层朝南向精装修正规两居室       2室1厅    63   6400   \n",
       "\n",
       "       floor  build_time direction update_time  view_num  \\\n",
       "0   中楼层(共6层)    1981年建板楼         南  2017.07.21        26   \n",
       "1  中楼层(共28层)  2005年建板塔结合         东  2017.07.23        33   \n",
       "2  低楼层(共25层)    2006年建塔楼         东  2017.07.20        34   \n",
       "3  低楼层(共13层)    2004年建板楼        东南  2017.07.25        30   \n",
       "4  高楼层(共16层)    1982年建塔楼         南  2017.07.26        30   \n",
       "\n",
       "                          extra_info  \\\n",
       "0                      随时看房 精装修 集中供暖   \n",
       "1   距离14号线(东段)东湖渠站731米 随时看房 精装修 集中供暖   \n",
       "2         距离7号线达官营站684米 随时看房 精装修 自供暖   \n",
       "3        距离5号线天通苑站927米 随时看房 精装修 集中供暖   \n",
       "4        距离10号线团结湖站88米 随时看房 精装修 集中供暖   \n",
       "\n",
       "                                              link  \n",
       "0  https://bj.lianjia.com/zufang/101101803342.html  \n",
       "1  https://bj.lianjia.com/zufang/101101753126.html  \n",
       "2  https://bj.lianjia.com/zufang/101101756753.html  \n",
       "3  https://bj.lianjia.com/zufang/101101780034.html  \n",
       "4  https://bj.lianjia.com/zufang/101101781083.html  "
      ]
     },
     "execution_count": 4,
     "metadata": {},
     "output_type": "execute_result"
    }
   ],
   "source": [
    "house_data.columns = ['district', 'address', 'title', 'house_type', 'area', \n",
    "                      'price', 'floor', 'build_time', 'direction', 'update_time', \n",
    "                      'view_num', 'extra_info', 'link']\n",
    "house_data.head()"
   ]
  },
  {
   "cell_type": "markdown",
   "id": "162e51b1",
   "metadata": {},
   "source": [
    "### 查看 house_data 数据的行列数量"
   ]
  },
  {
   "cell_type": "code",
   "execution_count": 5,
   "id": "46812bce",
   "metadata": {
    "ExecuteTime": {
     "end_time": "2022-12-28T11:20:19.499425Z",
     "start_time": "2022-12-28T11:20:19.484956Z"
    }
   },
   "outputs": [
    {
     "data": {
      "text/plain": [
       "(2760, 13)"
      ]
     },
     "execution_count": 5,
     "metadata": {},
     "output_type": "execute_result"
    }
   ],
   "source": [
    "house_data.shape"
   ]
  },
  {
   "cell_type": "markdown",
   "id": "1d003fc5",
   "metadata": {},
   "source": [
    "### 查看数据集基本信息：每个字段值的数量、是否非空值，以及该字段的数据类型"
   ]
  },
  {
   "cell_type": "code",
   "execution_count": 6,
   "id": "dff6139f",
   "metadata": {
    "ExecuteTime": {
     "end_time": "2022-12-28T11:20:19.515383Z",
     "start_time": "2022-12-28T11:20:19.501421Z"
    }
   },
   "outputs": [
    {
     "name": "stdout",
     "output_type": "stream",
     "text": [
      "<class 'pandas.core.frame.DataFrame'>\n",
      "RangeIndex: 2760 entries, 0 to 2759\n",
      "Data columns (total 13 columns):\n",
      " #   Column       Non-Null Count  Dtype \n",
      "---  ------       --------------  ----- \n",
      " 0   district     2760 non-null   object\n",
      " 1   address      2760 non-null   object\n",
      " 2   title        2760 non-null   object\n",
      " 3   house_type   2760 non-null   object\n",
      " 4   area         2760 non-null   int64 \n",
      " 5   price        2760 non-null   int64 \n",
      " 6   floor        2760 non-null   object\n",
      " 7   build_time   2758 non-null   object\n",
      " 8   direction    2760 non-null   object\n",
      " 9   update_time  2760 non-null   object\n",
      " 10  view_num     2760 non-null   int64 \n",
      " 11  extra_info   2760 non-null   object\n",
      " 12  link         2760 non-null   object\n",
      "dtypes: int64(3), object(10)\n",
      "memory usage: 280.4+ KB\n"
     ]
    }
   ],
   "source": [
    "house_data.info()"
   ]
  },
  {
   "cell_type": "markdown",
   "id": "6eee8c3d",
   "metadata": {},
   "source": [
    "### 查看数据集中，所有数值型字段的基本统计信息"
   ]
  },
  {
   "cell_type": "code",
   "execution_count": 7,
   "id": "aebbaf15",
   "metadata": {
    "ExecuteTime": {
     "end_time": "2022-12-28T11:20:19.531340Z",
     "start_time": "2022-12-28T11:20:19.517377Z"
    }
   },
   "outputs": [
    {
     "data": {
      "text/html": [
       "<div>\n",
       "<style scoped>\n",
       "    .dataframe tbody tr th:only-of-type {\n",
       "        vertical-align: middle;\n",
       "    }\n",
       "\n",
       "    .dataframe tbody tr th {\n",
       "        vertical-align: top;\n",
       "    }\n",
       "\n",
       "    .dataframe thead th {\n",
       "        text-align: right;\n",
       "    }\n",
       "</style>\n",
       "<table border=\"1\" class=\"dataframe\">\n",
       "  <thead>\n",
       "    <tr style=\"text-align: right;\">\n",
       "      <th></th>\n",
       "      <th>area</th>\n",
       "      <th>price</th>\n",
       "      <th>view_num</th>\n",
       "    </tr>\n",
       "  </thead>\n",
       "  <tbody>\n",
       "    <tr>\n",
       "      <th>count</th>\n",
       "      <td>2760.000000</td>\n",
       "      <td>2760.000000</td>\n",
       "      <td>2760.000000</td>\n",
       "    </tr>\n",
       "    <tr>\n",
       "      <th>mean</th>\n",
       "      <td>87.658696</td>\n",
       "      <td>7570.800725</td>\n",
       "      <td>13.448913</td>\n",
       "    </tr>\n",
       "    <tr>\n",
       "      <th>std</th>\n",
       "      <td>41.862928</td>\n",
       "      <td>6316.204986</td>\n",
       "      <td>12.746202</td>\n",
       "    </tr>\n",
       "    <tr>\n",
       "      <th>min</th>\n",
       "      <td>19.000000</td>\n",
       "      <td>1300.000000</td>\n",
       "      <td>0.000000</td>\n",
       "    </tr>\n",
       "    <tr>\n",
       "      <th>25%</th>\n",
       "      <td>58.000000</td>\n",
       "      <td>4500.000000</td>\n",
       "      <td>4.000000</td>\n",
       "    </tr>\n",
       "    <tr>\n",
       "      <th>50%</th>\n",
       "      <td>80.000000</td>\n",
       "      <td>6000.000000</td>\n",
       "      <td>10.000000</td>\n",
       "    </tr>\n",
       "    <tr>\n",
       "      <th>75%</th>\n",
       "      <td>103.000000</td>\n",
       "      <td>8500.000000</td>\n",
       "      <td>19.000000</td>\n",
       "    </tr>\n",
       "    <tr>\n",
       "      <th>max</th>\n",
       "      <td>720.000000</td>\n",
       "      <td>210000.000000</td>\n",
       "      <td>122.000000</td>\n",
       "    </tr>\n",
       "  </tbody>\n",
       "</table>\n",
       "</div>"
      ],
      "text/plain": [
       "              area          price     view_num\n",
       "count  2760.000000    2760.000000  2760.000000\n",
       "mean     87.658696    7570.800725    13.448913\n",
       "std      41.862928    6316.204986    12.746202\n",
       "min      19.000000    1300.000000     0.000000\n",
       "25%      58.000000    4500.000000     4.000000\n",
       "50%      80.000000    6000.000000    10.000000\n",
       "75%     103.000000    8500.000000    19.000000\n",
       "max     720.000000  210000.000000   122.000000"
      ]
     },
     "execution_count": 7,
     "metadata": {},
     "output_type": "execute_result"
    }
   ],
   "source": [
    "house_data.describe()"
   ]
  },
  {
   "cell_type": "markdown",
   "id": "ed44e9a9",
   "metadata": {},
   "source": [
    "### 查看数据集中，所有非数值型字段的基本统计信息"
   ]
  },
  {
   "cell_type": "code",
   "execution_count": 8,
   "id": "e58189cf",
   "metadata": {
    "ExecuteTime": {
     "end_time": "2022-12-28T11:20:19.563255Z",
     "start_time": "2022-12-28T11:20:19.532338Z"
    }
   },
   "outputs": [
    {
     "data": {
      "text/html": [
       "<div>\n",
       "<style scoped>\n",
       "    .dataframe tbody tr th:only-of-type {\n",
       "        vertical-align: middle;\n",
       "    }\n",
       "\n",
       "    .dataframe tbody tr th {\n",
       "        vertical-align: top;\n",
       "    }\n",
       "\n",
       "    .dataframe thead th {\n",
       "        text-align: right;\n",
       "    }\n",
       "</style>\n",
       "<table border=\"1\" class=\"dataframe\">\n",
       "  <thead>\n",
       "    <tr style=\"text-align: right;\">\n",
       "      <th></th>\n",
       "      <th>district</th>\n",
       "      <th>address</th>\n",
       "      <th>title</th>\n",
       "      <th>house_type</th>\n",
       "      <th>floor</th>\n",
       "      <th>build_time</th>\n",
       "      <th>direction</th>\n",
       "      <th>update_time</th>\n",
       "      <th>extra_info</th>\n",
       "      <th>link</th>\n",
       "    </tr>\n",
       "  </thead>\n",
       "  <tbody>\n",
       "    <tr>\n",
       "      <th>count</th>\n",
       "      <td>2760</td>\n",
       "      <td>2760</td>\n",
       "      <td>2760</td>\n",
       "      <td>2760</td>\n",
       "      <td>2760</td>\n",
       "      <td>2758</td>\n",
       "      <td>2760</td>\n",
       "      <td>2760</td>\n",
       "      <td>2760</td>\n",
       "      <td>2760</td>\n",
       "    </tr>\n",
       "    <tr>\n",
       "      <th>unique</th>\n",
       "      <td>208</td>\n",
       "      <td>1473</td>\n",
       "      <td>2369</td>\n",
       "      <td>24</td>\n",
       "      <td>105</td>\n",
       "      <td>138</td>\n",
       "      <td>35</td>\n",
       "      <td>14</td>\n",
       "      <td>1343</td>\n",
       "      <td>2381</td>\n",
       "    </tr>\n",
       "    <tr>\n",
       "      <th>top</th>\n",
       "      <td>望京租房</td>\n",
       "      <td>远洋山水</td>\n",
       "      <td>禾乔丽致公寓 诚意出租 看房随时 有钥匙</td>\n",
       "      <td>2室1厅</td>\n",
       "      <td>高楼层(共6层)</td>\n",
       "      <td>2004年建塔楼</td>\n",
       "      <td>南 北</td>\n",
       "      <td>2017.07.26</td>\n",
       "      <td>随时看房 精装修 集中供暖</td>\n",
       "      <td>https://bj.lianjia.com/zufang/101101660289.html</td>\n",
       "    </tr>\n",
       "    <tr>\n",
       "      <th>freq</th>\n",
       "      <td>109</td>\n",
       "      <td>19</td>\n",
       "      <td>4</td>\n",
       "      <td>1284</td>\n",
       "      <td>323</td>\n",
       "      <td>78</td>\n",
       "      <td>1009</td>\n",
       "      <td>634</td>\n",
       "      <td>469</td>\n",
       "      <td>3</td>\n",
       "    </tr>\n",
       "  </tbody>\n",
       "</table>\n",
       "</div>"
      ],
      "text/plain": [
       "       district address                 title house_type     floor build_time  \\\n",
       "count      2760    2760                  2760       2760      2760       2758   \n",
       "unique      208    1473                  2369         24       105        138   \n",
       "top        望京租房    远洋山水  禾乔丽致公寓 诚意出租 看房随时 有钥匙       2室1厅  高楼层(共6层)   2004年建塔楼   \n",
       "freq        109      19                     4       1284       323         78   \n",
       "\n",
       "       direction update_time      extra_info  \\\n",
       "count       2760        2760            2760   \n",
       "unique        35          14            1343   \n",
       "top          南 北  2017.07.26   随时看房 精装修 集中供暖   \n",
       "freq        1009         634             469   \n",
       "\n",
       "                                                   link  \n",
       "count                                              2760  \n",
       "unique                                             2381  \n",
       "top     https://bj.lianjia.com/zufang/101101660289.html  \n",
       "freq                                                  3  "
      ]
     },
     "execution_count": 8,
     "metadata": {},
     "output_type": "execute_result"
    }
   ],
   "source": [
    "import numpy as np\n",
    "house_data.describe(include=[np.object_])"
   ]
  },
  {
   "cell_type": "code",
   "execution_count": 9,
   "id": "5f626dd5",
   "metadata": {
    "ExecuteTime": {
     "end_time": "2022-12-28T11:20:19.595072Z",
     "start_time": "2022-12-28T11:20:19.565250Z"
    }
   },
   "outputs": [
    {
     "data": {
      "text/html": [
       "<div>\n",
       "<style scoped>\n",
       "    .dataframe tbody tr th:only-of-type {\n",
       "        vertical-align: middle;\n",
       "    }\n",
       "\n",
       "    .dataframe tbody tr th {\n",
       "        vertical-align: top;\n",
       "    }\n",
       "\n",
       "    .dataframe thead th {\n",
       "        text-align: right;\n",
       "    }\n",
       "</style>\n",
       "<table border=\"1\" class=\"dataframe\">\n",
       "  <thead>\n",
       "    <tr style=\"text-align: right;\">\n",
       "      <th></th>\n",
       "      <th>count</th>\n",
       "      <th>unique</th>\n",
       "      <th>top</th>\n",
       "      <th>freq</th>\n",
       "    </tr>\n",
       "  </thead>\n",
       "  <tbody>\n",
       "    <tr>\n",
       "      <th>district</th>\n",
       "      <td>2760</td>\n",
       "      <td>208</td>\n",
       "      <td>望京租房</td>\n",
       "      <td>109</td>\n",
       "    </tr>\n",
       "    <tr>\n",
       "      <th>address</th>\n",
       "      <td>2760</td>\n",
       "      <td>1473</td>\n",
       "      <td>远洋山水</td>\n",
       "      <td>19</td>\n",
       "    </tr>\n",
       "    <tr>\n",
       "      <th>title</th>\n",
       "      <td>2760</td>\n",
       "      <td>2369</td>\n",
       "      <td>禾乔丽致公寓 诚意出租 看房随时 有钥匙</td>\n",
       "      <td>4</td>\n",
       "    </tr>\n",
       "    <tr>\n",
       "      <th>house_type</th>\n",
       "      <td>2760</td>\n",
       "      <td>24</td>\n",
       "      <td>2室1厅</td>\n",
       "      <td>1284</td>\n",
       "    </tr>\n",
       "    <tr>\n",
       "      <th>floor</th>\n",
       "      <td>2760</td>\n",
       "      <td>105</td>\n",
       "      <td>高楼层(共6层)</td>\n",
       "      <td>323</td>\n",
       "    </tr>\n",
       "    <tr>\n",
       "      <th>build_time</th>\n",
       "      <td>2758</td>\n",
       "      <td>138</td>\n",
       "      <td>2004年建塔楼</td>\n",
       "      <td>78</td>\n",
       "    </tr>\n",
       "    <tr>\n",
       "      <th>direction</th>\n",
       "      <td>2760</td>\n",
       "      <td>35</td>\n",
       "      <td>南 北</td>\n",
       "      <td>1009</td>\n",
       "    </tr>\n",
       "    <tr>\n",
       "      <th>update_time</th>\n",
       "      <td>2760</td>\n",
       "      <td>14</td>\n",
       "      <td>2017.07.26</td>\n",
       "      <td>634</td>\n",
       "    </tr>\n",
       "    <tr>\n",
       "      <th>extra_info</th>\n",
       "      <td>2760</td>\n",
       "      <td>1343</td>\n",
       "      <td>随时看房 精装修 集中供暖</td>\n",
       "      <td>469</td>\n",
       "    </tr>\n",
       "    <tr>\n",
       "      <th>link</th>\n",
       "      <td>2760</td>\n",
       "      <td>2381</td>\n",
       "      <td>https://bj.lianjia.com/zufang/101101660289.html</td>\n",
       "      <td>3</td>\n",
       "    </tr>\n",
       "  </tbody>\n",
       "</table>\n",
       "</div>"
      ],
      "text/plain": [
       "            count unique                                              top  \\\n",
       "district     2760    208                                             望京租房   \n",
       "address      2760   1473                                             远洋山水   \n",
       "title        2760   2369                             禾乔丽致公寓 诚意出租 看房随时 有钥匙   \n",
       "house_type   2760     24                                             2室1厅   \n",
       "floor        2760    105                                         高楼层(共6层)   \n",
       "build_time   2758    138                                         2004年建塔楼   \n",
       "direction    2760     35                                              南 北   \n",
       "update_time  2760     14                                       2017.07.26   \n",
       "extra_info   2760   1343                                    随时看房 精装修 集中供暖   \n",
       "link         2760   2381  https://bj.lianjia.com/zufang/101101660289.html   \n",
       "\n",
       "             freq  \n",
       "district      109  \n",
       "address        19  \n",
       "title           4  \n",
       "house_type   1284  \n",
       "floor         323  \n",
       "build_time     78  \n",
       "direction    1009  \n",
       "update_time   634  \n",
       "extra_info    469  \n",
       "link            3  "
      ]
     },
     "execution_count": 9,
     "metadata": {},
     "output_type": "execute_result"
    }
   ],
   "source": [
    "# 将 DataFrame 进行转置操作(行列互换)\n",
    "house_data.describe(include=[np.object_]).T"
   ]
  },
  {
   "cell_type": "markdown",
   "id": "a6bcd46f",
   "metadata": {},
   "source": [
    "## 租房数据简单分析"
   ]
  },
  {
   "cell_type": "markdown",
   "id": "64f006dd",
   "metadata": {},
   "source": [
    "### 查看房屋租金的最高价格、最低价格、平均值和中位数"
   ]
  },
  {
   "cell_type": "code",
   "execution_count": 10,
   "id": "7a25abf2",
   "metadata": {
    "ExecuteTime": {
     "end_time": "2022-12-28T11:20:19.610992Z",
     "start_time": "2022-12-28T11:20:19.599023Z"
    }
   },
   "outputs": [
    {
     "data": {
      "text/plain": [
       "210000"
      ]
     },
     "execution_count": 10,
     "metadata": {},
     "output_type": "execute_result"
    }
   ],
   "source": [
    "house_data['price'].max()"
   ]
  },
  {
   "cell_type": "code",
   "execution_count": 11,
   "id": "29f6c9ea",
   "metadata": {
    "ExecuteTime": {
     "end_time": "2022-12-28T11:20:19.626949Z",
     "start_time": "2022-12-28T11:20:19.612985Z"
    }
   },
   "outputs": [
    {
     "data": {
      "text/plain": [
       "1300"
      ]
     },
     "execution_count": 11,
     "metadata": {},
     "output_type": "execute_result"
    }
   ],
   "source": [
    "house_data['price'].min()"
   ]
  },
  {
   "cell_type": "code",
   "execution_count": 12,
   "id": "11a6999c",
   "metadata": {
    "ExecuteTime": {
     "end_time": "2022-12-28T11:20:19.642073Z",
     "start_time": "2022-12-28T11:20:19.628944Z"
    }
   },
   "outputs": [
    {
     "data": {
      "text/plain": [
       "7570.800724637681"
      ]
     },
     "execution_count": 12,
     "metadata": {},
     "output_type": "execute_result"
    }
   ],
   "source": [
    "house_data['price'].mean()"
   ]
  },
  {
   "cell_type": "code",
   "execution_count": 13,
   "id": "d75c178d",
   "metadata": {
    "ExecuteTime": {
     "end_time": "2022-12-28T11:20:19.657944Z",
     "start_time": "2022-12-28T11:20:19.643065Z"
    }
   },
   "outputs": [
    {
     "data": {
      "text/plain": [
       "6000.0"
      ]
     },
     "execution_count": 13,
     "metadata": {},
     "output_type": "execute_result"
    }
   ],
   "source": [
    "house_data['price'].median() # 中位数"
   ]
  },
  {
   "cell_type": "markdown",
   "id": "b0a279e5",
   "metadata": {},
   "source": [
    "### 找到租金最低和最高的房子的全部信息"
   ]
  },
  {
   "cell_type": "code",
   "execution_count": 14,
   "id": "a03ae514",
   "metadata": {
    "ExecuteTime": {
     "end_time": "2022-12-28T11:20:19.672906Z",
     "start_time": "2022-12-28T11:20:19.658943Z"
    }
   },
   "outputs": [
    {
     "data": {
      "text/html": [
       "<div>\n",
       "<style scoped>\n",
       "    .dataframe tbody tr th:only-of-type {\n",
       "        vertical-align: middle;\n",
       "    }\n",
       "\n",
       "    .dataframe tbody tr th {\n",
       "        vertical-align: top;\n",
       "    }\n",
       "\n",
       "    .dataframe thead th {\n",
       "        text-align: right;\n",
       "    }\n",
       "</style>\n",
       "<table border=\"1\" class=\"dataframe\">\n",
       "  <thead>\n",
       "    <tr style=\"text-align: right;\">\n",
       "      <th></th>\n",
       "      <th>district</th>\n",
       "      <th>address</th>\n",
       "      <th>title</th>\n",
       "      <th>house_type</th>\n",
       "      <th>area</th>\n",
       "      <th>price</th>\n",
       "      <th>floor</th>\n",
       "      <th>build_time</th>\n",
       "      <th>direction</th>\n",
       "      <th>update_time</th>\n",
       "      <th>view_num</th>\n",
       "      <th>extra_info</th>\n",
       "      <th>link</th>\n",
       "    </tr>\n",
       "  </thead>\n",
       "  <tbody>\n",
       "    <tr>\n",
       "      <th>2527</th>\n",
       "      <td>良乡租房</td>\n",
       "      <td>伟业嘉园西里</td>\n",
       "      <td>半地下室 家电齐全 集中供暖 简单装修</td>\n",
       "      <td>1室1厅</td>\n",
       "      <td>46</td>\n",
       "      <td>1300</td>\n",
       "      <td>地下室(共5层)</td>\n",
       "      <td>2005年建</td>\n",
       "      <td>南</td>\n",
       "      <td>2017.07.19</td>\n",
       "      <td>14</td>\n",
       "      <td>随时看房 集中供暖</td>\n",
       "      <td>https://bj.lianjia.com/zufang/101101538484.html</td>\n",
       "    </tr>\n",
       "  </tbody>\n",
       "</table>\n",
       "</div>"
      ],
      "text/plain": [
       "     district address                 title house_type  area  price     floor  \\\n",
       "2527     良乡租房  伟业嘉园西里  半地下室 家电齐全 集中供暖 简单装修        1室1厅    46   1300  地下室(共5层)   \n",
       "\n",
       "     build_time direction update_time  view_num  extra_info  \\\n",
       "2527     2005年建         南  2017.07.19        14   随时看房 集中供暖   \n",
       "\n",
       "                                                 link  \n",
       "2527  https://bj.lianjia.com/zufang/101101538484.html  "
      ]
     },
     "execution_count": 14,
     "metadata": {},
     "output_type": "execute_result"
    }
   ],
   "source": [
    "# 获取租金最低的房子信息\n",
    "house_data.sort_values('price').head(1)"
   ]
  },
  {
   "cell_type": "code",
   "execution_count": 15,
   "id": "68ada822",
   "metadata": {
    "ExecuteTime": {
     "end_time": "2022-12-28T11:20:19.688864Z",
     "start_time": "2022-12-28T11:20:19.673905Z"
    }
   },
   "outputs": [
    {
     "data": {
      "text/html": [
       "<div>\n",
       "<style scoped>\n",
       "    .dataframe tbody tr th:only-of-type {\n",
       "        vertical-align: middle;\n",
       "    }\n",
       "\n",
       "    .dataframe tbody tr th {\n",
       "        vertical-align: top;\n",
       "    }\n",
       "\n",
       "    .dataframe thead th {\n",
       "        text-align: right;\n",
       "    }\n",
       "</style>\n",
       "<table border=\"1\" class=\"dataframe\">\n",
       "  <thead>\n",
       "    <tr style=\"text-align: right;\">\n",
       "      <th></th>\n",
       "      <th>district</th>\n",
       "      <th>address</th>\n",
       "      <th>title</th>\n",
       "      <th>house_type</th>\n",
       "      <th>area</th>\n",
       "      <th>price</th>\n",
       "      <th>floor</th>\n",
       "      <th>build_time</th>\n",
       "      <th>direction</th>\n",
       "      <th>update_time</th>\n",
       "      <th>view_num</th>\n",
       "      <th>extra_info</th>\n",
       "      <th>link</th>\n",
       "    </tr>\n",
       "  </thead>\n",
       "  <tbody>\n",
       "    <tr>\n",
       "      <th>2527</th>\n",
       "      <td>良乡租房</td>\n",
       "      <td>伟业嘉园西里</td>\n",
       "      <td>半地下室 家电齐全 集中供暖 简单装修</td>\n",
       "      <td>1室1厅</td>\n",
       "      <td>46</td>\n",
       "      <td>1300</td>\n",
       "      <td>地下室(共5层)</td>\n",
       "      <td>2005年建</td>\n",
       "      <td>南</td>\n",
       "      <td>2017.07.19</td>\n",
       "      <td>14</td>\n",
       "      <td>随时看房 集中供暖</td>\n",
       "      <td>https://bj.lianjia.com/zufang/101101538484.html</td>\n",
       "    </tr>\n",
       "  </tbody>\n",
       "</table>\n",
       "</div>"
      ],
      "text/plain": [
       "     district address                 title house_type  area  price     floor  \\\n",
       "2527     良乡租房  伟业嘉园西里  半地下室 家电齐全 集中供暖 简单装修        1室1厅    46   1300  地下室(共5层)   \n",
       "\n",
       "     build_time direction update_time  view_num  extra_info  \\\n",
       "2527     2005年建         南  2017.07.19        14   随时看房 集中供暖   \n",
       "\n",
       "                                                 link  \n",
       "2527  https://bj.lianjia.com/zufang/101101538484.html  "
      ]
     },
     "execution_count": 15,
     "metadata": {},
     "output_type": "execute_result"
    }
   ],
   "source": [
    "house_data[house_data['price']==house_data['price'].min()]"
   ]
  },
  {
   "cell_type": "code",
   "execution_count": 16,
   "id": "d57840e5",
   "metadata": {
    "ExecuteTime": {
     "end_time": "2022-12-28T11:20:19.704822Z",
     "start_time": "2022-12-28T11:20:19.690859Z"
    }
   },
   "outputs": [
    {
     "data": {
      "text/html": [
       "<div>\n",
       "<style scoped>\n",
       "    .dataframe tbody tr th:only-of-type {\n",
       "        vertical-align: middle;\n",
       "    }\n",
       "\n",
       "    .dataframe tbody tr th {\n",
       "        vertical-align: top;\n",
       "    }\n",
       "\n",
       "    .dataframe thead th {\n",
       "        text-align: right;\n",
       "    }\n",
       "</style>\n",
       "<table border=\"1\" class=\"dataframe\">\n",
       "  <thead>\n",
       "    <tr style=\"text-align: right;\">\n",
       "      <th></th>\n",
       "      <th>district</th>\n",
       "      <th>address</th>\n",
       "      <th>title</th>\n",
       "      <th>house_type</th>\n",
       "      <th>area</th>\n",
       "      <th>price</th>\n",
       "      <th>floor</th>\n",
       "      <th>build_time</th>\n",
       "      <th>direction</th>\n",
       "      <th>update_time</th>\n",
       "      <th>view_num</th>\n",
       "      <th>extra_info</th>\n",
       "      <th>link</th>\n",
       "    </tr>\n",
       "  </thead>\n",
       "  <tbody>\n",
       "    <tr>\n",
       "      <th>2527</th>\n",
       "      <td>良乡租房</td>\n",
       "      <td>伟业嘉园西里</td>\n",
       "      <td>半地下室 家电齐全 集中供暖 简单装修</td>\n",
       "      <td>1室1厅</td>\n",
       "      <td>46</td>\n",
       "      <td>1300</td>\n",
       "      <td>地下室(共5层)</td>\n",
       "      <td>2005年建</td>\n",
       "      <td>南</td>\n",
       "      <td>2017.07.19</td>\n",
       "      <td>14</td>\n",
       "      <td>随时看房 集中供暖</td>\n",
       "      <td>https://bj.lianjia.com/zufang/101101538484.html</td>\n",
       "    </tr>\n",
       "  </tbody>\n",
       "</table>\n",
       "</div>"
      ],
      "text/plain": [
       "     district address                 title house_type  area  price     floor  \\\n",
       "2527     良乡租房  伟业嘉园西里  半地下室 家电齐全 集中供暖 简单装修        1室1厅    46   1300  地下室(共5层)   \n",
       "\n",
       "     build_time direction update_time  view_num  extra_info  \\\n",
       "2527     2005年建         南  2017.07.19        14   随时看房 集中供暖   \n",
       "\n",
       "                                                 link  \n",
       "2527  https://bj.lianjia.com/zufang/101101538484.html  "
      ]
     },
     "execution_count": 16,
     "metadata": {},
     "output_type": "execute_result"
    }
   ],
   "source": [
    "house_data[house_data.price==house_data.price.min()]"
   ]
  },
  {
   "cell_type": "code",
   "execution_count": 17,
   "id": "366ba204",
   "metadata": {
    "ExecuteTime": {
     "end_time": "2022-12-28T11:20:19.720779Z",
     "start_time": "2022-12-28T11:20:19.706816Z"
    }
   },
   "outputs": [
    {
     "data": {
      "text/html": [
       "<div>\n",
       "<style scoped>\n",
       "    .dataframe tbody tr th:only-of-type {\n",
       "        vertical-align: middle;\n",
       "    }\n",
       "\n",
       "    .dataframe tbody tr th {\n",
       "        vertical-align: top;\n",
       "    }\n",
       "\n",
       "    .dataframe thead th {\n",
       "        text-align: right;\n",
       "    }\n",
       "</style>\n",
       "<table border=\"1\" class=\"dataframe\">\n",
       "  <thead>\n",
       "    <tr style=\"text-align: right;\">\n",
       "      <th></th>\n",
       "      <th>district</th>\n",
       "      <th>address</th>\n",
       "      <th>title</th>\n",
       "      <th>house_type</th>\n",
       "      <th>area</th>\n",
       "      <th>price</th>\n",
       "      <th>floor</th>\n",
       "      <th>build_time</th>\n",
       "      <th>direction</th>\n",
       "      <th>update_time</th>\n",
       "      <th>view_num</th>\n",
       "      <th>extra_info</th>\n",
       "      <th>link</th>\n",
       "    </tr>\n",
       "  </thead>\n",
       "  <tbody>\n",
       "    <tr>\n",
       "      <th>2527</th>\n",
       "      <td>良乡租房</td>\n",
       "      <td>伟业嘉园西里</td>\n",
       "      <td>半地下室 家电齐全 集中供暖 简单装修</td>\n",
       "      <td>1室1厅</td>\n",
       "      <td>46</td>\n",
       "      <td>1300</td>\n",
       "      <td>地下室(共5层)</td>\n",
       "      <td>2005年建</td>\n",
       "      <td>南</td>\n",
       "      <td>2017.07.19</td>\n",
       "      <td>14</td>\n",
       "      <td>随时看房 集中供暖</td>\n",
       "      <td>https://bj.lianjia.com/zufang/101101538484.html</td>\n",
       "    </tr>\n",
       "  </tbody>\n",
       "</table>\n",
       "</div>"
      ],
      "text/plain": [
       "     district address                 title house_type  area  price     floor  \\\n",
       "2527     良乡租房  伟业嘉园西里  半地下室 家电齐全 集中供暖 简单装修        1室1厅    46   1300  地下室(共5层)   \n",
       "\n",
       "     build_time direction update_time  view_num  extra_info  \\\n",
       "2527     2005年建         南  2017.07.19        14   随时看房 集中供暖   \n",
       "\n",
       "                                                 link  \n",
       "2527  https://bj.lianjia.com/zufang/101101538484.html  "
      ]
     },
     "execution_count": 17,
     "metadata": {},
     "output_type": "execute_result"
    }
   ],
   "source": [
    "house_data.nsmallest(1, 'price')"
   ]
  },
  {
   "cell_type": "code",
   "execution_count": 18,
   "id": "1fab05e9",
   "metadata": {
    "ExecuteTime": {
     "end_time": "2022-12-28T11:20:19.736735Z",
     "start_time": "2022-12-28T11:20:19.722773Z"
    }
   },
   "outputs": [
    {
     "data": {
      "text/html": [
       "<div>\n",
       "<style scoped>\n",
       "    .dataframe tbody tr th:only-of-type {\n",
       "        vertical-align: middle;\n",
       "    }\n",
       "\n",
       "    .dataframe tbody tr th {\n",
       "        vertical-align: top;\n",
       "    }\n",
       "\n",
       "    .dataframe thead th {\n",
       "        text-align: right;\n",
       "    }\n",
       "</style>\n",
       "<table border=\"1\" class=\"dataframe\">\n",
       "  <thead>\n",
       "    <tr style=\"text-align: right;\">\n",
       "      <th></th>\n",
       "      <th>district</th>\n",
       "      <th>address</th>\n",
       "      <th>title</th>\n",
       "      <th>house_type</th>\n",
       "      <th>area</th>\n",
       "      <th>price</th>\n",
       "      <th>floor</th>\n",
       "      <th>build_time</th>\n",
       "      <th>direction</th>\n",
       "      <th>update_time</th>\n",
       "      <th>view_num</th>\n",
       "      <th>extra_info</th>\n",
       "      <th>link</th>\n",
       "    </tr>\n",
       "  </thead>\n",
       "  <tbody>\n",
       "    <tr>\n",
       "      <th>2658</th>\n",
       "      <td>和平里租房</td>\n",
       "      <td>雍和家园二期</td>\n",
       "      <td>雍和家园 底商出租 使用面积720米</td>\n",
       "      <td>6室3厅</td>\n",
       "      <td>720</td>\n",
       "      <td>210000</td>\n",
       "      <td>低楼层(共6层)</td>\n",
       "      <td>2005年建板楼</td>\n",
       "      <td>南</td>\n",
       "      <td>2017.07.26</td>\n",
       "      <td>21</td>\n",
       "      <td>距离2号线雍和宫站293米 随时看房 集中供暖</td>\n",
       "      <td>https://bj.lianjia.com/zufang/101101672514.html</td>\n",
       "    </tr>\n",
       "  </tbody>\n",
       "</table>\n",
       "</div>"
      ],
      "text/plain": [
       "     district address               title house_type  area   price     floor  \\\n",
       "2658    和平里租房  雍和家园二期  雍和家园 底商出租 使用面积720米       6室3厅   720  210000  低楼层(共6层)   \n",
       "\n",
       "     build_time direction update_time  view_num                extra_info  \\\n",
       "2658   2005年建板楼         南  2017.07.26        21   距离2号线雍和宫站293米 随时看房 集中供暖   \n",
       "\n",
       "                                                 link  \n",
       "2658  https://bj.lianjia.com/zufang/101101672514.html  "
      ]
     },
     "execution_count": 18,
     "metadata": {},
     "output_type": "execute_result"
    }
   ],
   "source": [
    "# 获取租金最高的房子信息\n",
    "house_data.sort_values('price').tail(1)"
   ]
  },
  {
   "cell_type": "code",
   "execution_count": 19,
   "id": "505ba93e",
   "metadata": {
    "ExecuteTime": {
     "end_time": "2022-12-28T11:20:19.752693Z",
     "start_time": "2022-12-28T11:20:19.738731Z"
    }
   },
   "outputs": [
    {
     "data": {
      "text/html": [
       "<div>\n",
       "<style scoped>\n",
       "    .dataframe tbody tr th:only-of-type {\n",
       "        vertical-align: middle;\n",
       "    }\n",
       "\n",
       "    .dataframe tbody tr th {\n",
       "        vertical-align: top;\n",
       "    }\n",
       "\n",
       "    .dataframe thead th {\n",
       "        text-align: right;\n",
       "    }\n",
       "</style>\n",
       "<table border=\"1\" class=\"dataframe\">\n",
       "  <thead>\n",
       "    <tr style=\"text-align: right;\">\n",
       "      <th></th>\n",
       "      <th>district</th>\n",
       "      <th>address</th>\n",
       "      <th>title</th>\n",
       "      <th>house_type</th>\n",
       "      <th>area</th>\n",
       "      <th>price</th>\n",
       "      <th>floor</th>\n",
       "      <th>build_time</th>\n",
       "      <th>direction</th>\n",
       "      <th>update_time</th>\n",
       "      <th>view_num</th>\n",
       "      <th>extra_info</th>\n",
       "      <th>link</th>\n",
       "    </tr>\n",
       "  </thead>\n",
       "  <tbody>\n",
       "    <tr>\n",
       "      <th>2658</th>\n",
       "      <td>和平里租房</td>\n",
       "      <td>雍和家园二期</td>\n",
       "      <td>雍和家园 底商出租 使用面积720米</td>\n",
       "      <td>6室3厅</td>\n",
       "      <td>720</td>\n",
       "      <td>210000</td>\n",
       "      <td>低楼层(共6层)</td>\n",
       "      <td>2005年建板楼</td>\n",
       "      <td>南</td>\n",
       "      <td>2017.07.26</td>\n",
       "      <td>21</td>\n",
       "      <td>距离2号线雍和宫站293米 随时看房 集中供暖</td>\n",
       "      <td>https://bj.lianjia.com/zufang/101101672514.html</td>\n",
       "    </tr>\n",
       "  </tbody>\n",
       "</table>\n",
       "</div>"
      ],
      "text/plain": [
       "     district address               title house_type  area   price     floor  \\\n",
       "2658    和平里租房  雍和家园二期  雍和家园 底商出租 使用面积720米       6室3厅   720  210000  低楼层(共6层)   \n",
       "\n",
       "     build_time direction update_time  view_num                extra_info  \\\n",
       "2658   2005年建板楼         南  2017.07.26        21   距离2号线雍和宫站293米 随时看房 集中供暖   \n",
       "\n",
       "                                                 link  \n",
       "2658  https://bj.lianjia.com/zufang/101101672514.html  "
      ]
     },
     "execution_count": 19,
     "metadata": {},
     "output_type": "execute_result"
    }
   ],
   "source": [
    "house_data[house_data['price']==house_data['price'].max()]"
   ]
  },
  {
   "cell_type": "code",
   "execution_count": 20,
   "id": "d4b5c820",
   "metadata": {
    "ExecuteTime": {
     "end_time": "2022-12-28T11:20:19.768651Z",
     "start_time": "2022-12-28T11:20:19.754688Z"
    }
   },
   "outputs": [
    {
     "data": {
      "text/html": [
       "<div>\n",
       "<style scoped>\n",
       "    .dataframe tbody tr th:only-of-type {\n",
       "        vertical-align: middle;\n",
       "    }\n",
       "\n",
       "    .dataframe tbody tr th {\n",
       "        vertical-align: top;\n",
       "    }\n",
       "\n",
       "    .dataframe thead th {\n",
       "        text-align: right;\n",
       "    }\n",
       "</style>\n",
       "<table border=\"1\" class=\"dataframe\">\n",
       "  <thead>\n",
       "    <tr style=\"text-align: right;\">\n",
       "      <th></th>\n",
       "      <th>district</th>\n",
       "      <th>address</th>\n",
       "      <th>title</th>\n",
       "      <th>house_type</th>\n",
       "      <th>area</th>\n",
       "      <th>price</th>\n",
       "      <th>floor</th>\n",
       "      <th>build_time</th>\n",
       "      <th>direction</th>\n",
       "      <th>update_time</th>\n",
       "      <th>view_num</th>\n",
       "      <th>extra_info</th>\n",
       "      <th>link</th>\n",
       "    </tr>\n",
       "  </thead>\n",
       "  <tbody>\n",
       "    <tr>\n",
       "      <th>2658</th>\n",
       "      <td>和平里租房</td>\n",
       "      <td>雍和家园二期</td>\n",
       "      <td>雍和家园 底商出租 使用面积720米</td>\n",
       "      <td>6室3厅</td>\n",
       "      <td>720</td>\n",
       "      <td>210000</td>\n",
       "      <td>低楼层(共6层)</td>\n",
       "      <td>2005年建板楼</td>\n",
       "      <td>南</td>\n",
       "      <td>2017.07.26</td>\n",
       "      <td>21</td>\n",
       "      <td>距离2号线雍和宫站293米 随时看房 集中供暖</td>\n",
       "      <td>https://bj.lianjia.com/zufang/101101672514.html</td>\n",
       "    </tr>\n",
       "  </tbody>\n",
       "</table>\n",
       "</div>"
      ],
      "text/plain": [
       "     district address               title house_type  area   price     floor  \\\n",
       "2658    和平里租房  雍和家园二期  雍和家园 底商出租 使用面积720米       6室3厅   720  210000  低楼层(共6层)   \n",
       "\n",
       "     build_time direction update_time  view_num                extra_info  \\\n",
       "2658   2005年建板楼         南  2017.07.26        21   距离2号线雍和宫站293米 随时看房 集中供暖   \n",
       "\n",
       "                                                 link  \n",
       "2658  https://bj.lianjia.com/zufang/101101672514.html  "
      ]
     },
     "execution_count": 20,
     "metadata": {},
     "output_type": "execute_result"
    }
   ],
   "source": [
    "house_data[house_data.price==house_data.price.max()]"
   ]
  },
  {
   "cell_type": "code",
   "execution_count": 21,
   "id": "ad524965",
   "metadata": {
    "ExecuteTime": {
     "end_time": "2022-12-28T11:20:19.784608Z",
     "start_time": "2022-12-28T11:20:19.770645Z"
    }
   },
   "outputs": [
    {
     "data": {
      "text/html": [
       "<div>\n",
       "<style scoped>\n",
       "    .dataframe tbody tr th:only-of-type {\n",
       "        vertical-align: middle;\n",
       "    }\n",
       "\n",
       "    .dataframe tbody tr th {\n",
       "        vertical-align: top;\n",
       "    }\n",
       "\n",
       "    .dataframe thead th {\n",
       "        text-align: right;\n",
       "    }\n",
       "</style>\n",
       "<table border=\"1\" class=\"dataframe\">\n",
       "  <thead>\n",
       "    <tr style=\"text-align: right;\">\n",
       "      <th></th>\n",
       "      <th>district</th>\n",
       "      <th>address</th>\n",
       "      <th>title</th>\n",
       "      <th>house_type</th>\n",
       "      <th>area</th>\n",
       "      <th>price</th>\n",
       "      <th>floor</th>\n",
       "      <th>build_time</th>\n",
       "      <th>direction</th>\n",
       "      <th>update_time</th>\n",
       "      <th>view_num</th>\n",
       "      <th>extra_info</th>\n",
       "      <th>link</th>\n",
       "    </tr>\n",
       "  </thead>\n",
       "  <tbody>\n",
       "    <tr>\n",
       "      <th>2658</th>\n",
       "      <td>和平里租房</td>\n",
       "      <td>雍和家园二期</td>\n",
       "      <td>雍和家园 底商出租 使用面积720米</td>\n",
       "      <td>6室3厅</td>\n",
       "      <td>720</td>\n",
       "      <td>210000</td>\n",
       "      <td>低楼层(共6层)</td>\n",
       "      <td>2005年建板楼</td>\n",
       "      <td>南</td>\n",
       "      <td>2017.07.26</td>\n",
       "      <td>21</td>\n",
       "      <td>距离2号线雍和宫站293米 随时看房 集中供暖</td>\n",
       "      <td>https://bj.lianjia.com/zufang/101101672514.html</td>\n",
       "    </tr>\n",
       "  </tbody>\n",
       "</table>\n",
       "</div>"
      ],
      "text/plain": [
       "     district address               title house_type  area   price     floor  \\\n",
       "2658    和平里租房  雍和家园二期  雍和家园 底商出租 使用面积720米       6室3厅   720  210000  低楼层(共6层)   \n",
       "\n",
       "     build_time direction update_time  view_num                extra_info  \\\n",
       "2658   2005年建板楼         南  2017.07.26        21   距离2号线雍和宫站293米 随时看房 集中供暖   \n",
       "\n",
       "                                                 link  \n",
       "2658  https://bj.lianjia.com/zufang/101101672514.html  "
      ]
     },
     "execution_count": 21,
     "metadata": {},
     "output_type": "execute_result"
    }
   ],
   "source": [
    "house_data.nlargest(1, 'price')"
   ]
  },
  {
   "cell_type": "markdown",
   "id": "e0c17f60",
   "metadata": {},
   "source": [
    "### 统计看房人数最多的前 20 的区域"
   ]
  },
  {
   "cell_type": "code",
   "execution_count": 22,
   "id": "879620e7",
   "metadata": {
    "ExecuteTime": {
     "end_time": "2022-12-28T11:20:19.800566Z",
     "start_time": "2022-12-28T11:20:19.785605Z"
    }
   },
   "outputs": [
    {
     "data": {
      "text/plain": [
       "district\n",
       "望京租房     1569\n",
       "北苑租房     1237\n",
       "双井租房      877\n",
       "酒仙桥租房     833\n",
       "广安门租房     812\n",
       "朝青租房      737\n",
       "回龙观租房     705\n",
       "马甸租房      576\n",
       "紫竹桥租房     515\n",
       "东直门租房     473\n",
       "官园租房      467\n",
       "亦庄租房      454\n",
       "安贞租房      452\n",
       "鲁谷租房      434\n",
       "金融街租房     433\n",
       "广渠门租房     428\n",
       "石佛营租房     402\n",
       "天通苑租房     399\n",
       "万柳租房      397\n",
       "清河租房      390\n",
       "Name: view_num, dtype: int64"
      ]
     },
     "execution_count": 22,
     "metadata": {},
     "output_type": "execute_result"
    }
   ],
   "source": [
    "result = house_data.groupby('district')['view_num'].sum().sort_values(ascending=False).head(20)\n",
    "result"
   ]
  },
  {
   "cell_type": "code",
   "execution_count": 23,
   "id": "89f02d66",
   "metadata": {
    "ExecuteTime": {
     "end_time": "2022-12-28T11:20:20.427443Z",
     "start_time": "2022-12-28T11:20:19.802560Z"
    }
   },
   "outputs": [
    {
     "data": {
      "text/plain": [
       "<AxesSubplot: xlabel='district'>"
      ]
     },
     "execution_count": 23,
     "metadata": {},
     "output_type": "execute_result"
    },
    {
     "data": {
      "image/png": "[encoded data removed]",
      "text/plain": [
       "<Figure size 2000x800 with 1 Axes>"
      ]
     },
     "metadata": {},
     "output_type": "display_data"
    }
   ],
   "source": [
    "import matplotlib.pyplot as plt\n",
    "# Windows 设置显示中文\n",
    "plt.rcParams['font.sans-serif'] = 'SimHei'\n",
    "result.plot.bar(figsize=(20, 8))"
   ]
  },
  {
   "cell_type": "markdown",
   "id": "d5418b1a",
   "metadata": {},
   "source": [
    "### 查看看房人数最多的房屋朝向"
   ]
  },
  {
   "cell_type": "code",
   "execution_count": 24,
   "id": "4cf02bf2",
   "metadata": {
    "ExecuteTime": {
     "end_time": "2022-12-28T11:20:20.442588Z",
     "start_time": "2022-12-28T11:20:20.429439Z"
    }
   },
   "outputs": [
    {
     "data": {
      "text/plain": [
       "direction\n",
       "南 北    11785\n",
       "Name: view_num, dtype: int64"
      ]
     },
     "execution_count": 24,
     "metadata": {},
     "output_type": "execute_result"
    }
   ],
   "source": [
    "house_data.groupby('direction')['view_num'].sum().sort_values(ascending=False).head(1)"
   ]
  },
  {
   "cell_type": "code",
   "execution_count": 25,
   "id": "af83e1f2",
   "metadata": {
    "ExecuteTime": {
     "end_time": "2022-12-28T11:20:20.457606Z",
     "start_time": "2022-12-28T11:20:20.444589Z"
    }
   },
   "outputs": [
    {
     "data": {
      "text/plain": [
       "direction\n",
       "南 北    11785\n",
       "Name: view_num, dtype: int64"
      ]
     },
     "execution_count": 25,
     "metadata": {},
     "output_type": "execute_result"
    }
   ],
   "source": [
    "house_data.groupby('direction')['view_num'].sum().nlargest(1)"
   ]
  },
  {
   "cell_type": "markdown",
   "id": "eb74ebe5",
   "metadata": {},
   "source": [
    "### 查看出租房屋的户型分布情况\n"
   ]
  },
  {
   "cell_type": "code",
   "execution_count": 26,
   "id": "22fe5288",
   "metadata": {
    "ExecuteTime": {
     "end_time": "2022-12-28T11:20:20.706077Z",
     "start_time": "2022-12-28T11:20:20.459605Z"
    }
   },
   "outputs": [
    {
     "data": {
      "text/plain": [
       "<AxesSubplot: xlabel='house_type'>"
      ]
     },
     "execution_count": 26,
     "metadata": {},
     "output_type": "execute_result"
    },
    {
     "data": {
      "image/png": "[encoded data removed]",
      "text/plain": [
       "<Figure size 2000x800 with 1 Axes>"
      ]
     },
     "metadata": {},
     "output_type": "display_data"
    }
   ],
   "source": [
    "result = house_data.groupby('house_type')['title'].count().sort_values(ascending=False)\n",
    "result.plot.bar(figsize=(20, 8))"
   ]
  },
  {
   "cell_type": "markdown",
   "id": "75cdfe11",
   "metadata": {},
   "source": [
    "### 查看热门小区(即：看房人数 TOP5 的小区)"
   ]
  },
  {
   "cell_type": "code",
   "execution_count": 27,
   "id": "ef5bdae3",
   "metadata": {
    "ExecuteTime": {
     "end_time": "2022-12-28T11:20:20.831879Z",
     "start_time": "2022-12-28T11:20:20.708079Z"
    }
   },
   "outputs": [
    {
     "data": {
      "text/plain": [
       "<AxesSubplot: xlabel='address'>"
      ]
     },
     "execution_count": 27,
     "metadata": {},
     "output_type": "execute_result"
    },
    {
     "data": {
      "image/png": "[encoded data removed]",
      "text/plain": [
       "<Figure size 640x480 with 1 Axes>"
      ]
     },
     "metadata": {},
     "output_type": "display_data"
    }
   ],
   "source": [
    "result = house_data.groupby('address')['view_num'].sum().sort_values(ascending=False).head()\n",
    "result.plot.bar()"
   ]
  },
  {
   "cell_type": "markdown",
   "id": "436c576e",
   "metadata": {},
   "source": [
    "### 查看出租房源最多的小区"
   ]
  },
  {
   "cell_type": "code",
   "execution_count": 28,
   "id": "1f610033",
   "metadata": {
    "ExecuteTime": {
     "end_time": "2022-12-28T11:20:20.847806Z",
     "start_time": "2022-12-28T11:20:20.838830Z"
    }
   },
   "outputs": [
    {
     "data": {
      "text/plain": [
       "address\n",
       "远洋山水    19\n",
       "Name: title, dtype: int64"
      ]
     },
     "execution_count": 28,
     "metadata": {},
     "output_type": "execute_result"
    }
   ],
   "source": [
    "house_data.groupby('address')['title'].count().nlargest(n=1)"
   ]
  },
  {
   "cell_type": "markdown",
   "id": "f0313389",
   "metadata": {},
   "source": [
    "###  查看望京租房价格在2000以下的房屋信息"
   ]
  },
  {
   "cell_type": "code",
   "execution_count": 29,
   "id": "f7721a75",
   "metadata": {
    "ExecuteTime": {
     "end_time": "2022-12-28T11:20:20.863763Z",
     "start_time": "2022-12-28T11:20:20.849801Z"
    }
   },
   "outputs": [
    {
     "data": {
      "text/html": [
       "<div>\n",
       "<style scoped>\n",
       "    .dataframe tbody tr th:only-of-type {\n",
       "        vertical-align: middle;\n",
       "    }\n",
       "\n",
       "    .dataframe tbody tr th {\n",
       "        vertical-align: top;\n",
       "    }\n",
       "\n",
       "    .dataframe thead th {\n",
       "        text-align: right;\n",
       "    }\n",
       "</style>\n",
       "<table border=\"1\" class=\"dataframe\">\n",
       "  <thead>\n",
       "    <tr style=\"text-align: right;\">\n",
       "      <th></th>\n",
       "      <th>district</th>\n",
       "      <th>address</th>\n",
       "      <th>title</th>\n",
       "      <th>house_type</th>\n",
       "      <th>area</th>\n",
       "      <th>price</th>\n",
       "      <th>floor</th>\n",
       "      <th>build_time</th>\n",
       "      <th>direction</th>\n",
       "      <th>update_time</th>\n",
       "      <th>view_num</th>\n",
       "      <th>extra_info</th>\n",
       "      <th>link</th>\n",
       "    </tr>\n",
       "  </thead>\n",
       "  <tbody>\n",
       "  </tbody>\n",
       "</table>\n",
       "</div>"
      ],
      "text/plain": [
       "Empty DataFrame\n",
       "Columns: [district, address, title, house_type, area, price, floor, build_time, direction, update_time, view_num, extra_info, link]\n",
       "Index: []"
      ]
     },
     "execution_count": 29,
     "metadata": {},
     "output_type": "execute_result"
    }
   ],
   "source": [
    "house_data.query('district==\"望京租房\" & price<=2000')"
   ]
  },
  {
   "cell_type": "code",
   "execution_count": 30,
   "id": "74c29ba0",
   "metadata": {
    "ExecuteTime": {
     "end_time": "2022-12-28T11:20:20.879719Z",
     "start_time": "2022-12-28T11:20:20.865759Z"
    }
   },
   "outputs": [
    {
     "data": {
      "text/html": [
       "<div>\n",
       "<style scoped>\n",
       "    .dataframe tbody tr th:only-of-type {\n",
       "        vertical-align: middle;\n",
       "    }\n",
       "\n",
       "    .dataframe tbody tr th {\n",
       "        vertical-align: top;\n",
       "    }\n",
       "\n",
       "    .dataframe thead th {\n",
       "        text-align: right;\n",
       "    }\n",
       "</style>\n",
       "<table border=\"1\" class=\"dataframe\">\n",
       "  <thead>\n",
       "    <tr style=\"text-align: right;\">\n",
       "      <th></th>\n",
       "      <th>district</th>\n",
       "      <th>address</th>\n",
       "      <th>title</th>\n",
       "      <th>house_type</th>\n",
       "      <th>area</th>\n",
       "      <th>price</th>\n",
       "      <th>floor</th>\n",
       "      <th>build_time</th>\n",
       "      <th>direction</th>\n",
       "      <th>update_time</th>\n",
       "      <th>view_num</th>\n",
       "      <th>extra_info</th>\n",
       "      <th>link</th>\n",
       "    </tr>\n",
       "  </thead>\n",
       "  <tbody>\n",
       "  </tbody>\n",
       "</table>\n",
       "</div>"
      ],
      "text/plain": [
       "Empty DataFrame\n",
       "Columns: [district, address, title, house_type, area, price, floor, build_time, direction, update_time, view_num, extra_info, link]\n",
       "Index: []"
      ]
     },
     "execution_count": 30,
     "metadata": {},
     "output_type": "execute_result"
    }
   ],
   "source": [
    "house_data[(house_data['district']=='望京租房') & (house_data['price'] <= 2000)]"
   ]
  },
  {
   "cell_type": "markdown",
   "id": "521f6bf2",
   "metadata": {},
   "source": [
    "### 查看租房价格在2000以下的房屋信息，并按照价格从低到高排序"
   ]
  },
  {
   "cell_type": "code",
   "execution_count": 31,
   "id": "263dde1f",
   "metadata": {
    "ExecuteTime": {
     "end_time": "2022-12-28T11:20:20.895677Z",
     "start_time": "2022-12-28T11:20:20.880717Z"
    }
   },
   "outputs": [
    {
     "data": {
      "text/html": [
       "<div>\n",
       "<style scoped>\n",
       "    .dataframe tbody tr th:only-of-type {\n",
       "        vertical-align: middle;\n",
       "    }\n",
       "\n",
       "    .dataframe tbody tr th {\n",
       "        vertical-align: top;\n",
       "    }\n",
       "\n",
       "    .dataframe thead th {\n",
       "        text-align: right;\n",
       "    }\n",
       "</style>\n",
       "<table border=\"1\" class=\"dataframe\">\n",
       "  <thead>\n",
       "    <tr style=\"text-align: right;\">\n",
       "      <th></th>\n",
       "      <th>district</th>\n",
       "      <th>address</th>\n",
       "      <th>title</th>\n",
       "      <th>house_type</th>\n",
       "      <th>area</th>\n",
       "      <th>price</th>\n",
       "      <th>floor</th>\n",
       "      <th>build_time</th>\n",
       "      <th>direction</th>\n",
       "      <th>update_time</th>\n",
       "      <th>view_num</th>\n",
       "      <th>extra_info</th>\n",
       "      <th>link</th>\n",
       "    </tr>\n",
       "  </thead>\n",
       "  <tbody>\n",
       "    <tr>\n",
       "      <th>2527</th>\n",
       "      <td>良乡租房</td>\n",
       "      <td>伟业嘉园西里</td>\n",
       "      <td>半地下室 家电齐全 集中供暖 简单装修</td>\n",
       "      <td>1室1厅</td>\n",
       "      <td>46</td>\n",
       "      <td>1300</td>\n",
       "      <td>地下室(共5层)</td>\n",
       "      <td>2005年建</td>\n",
       "      <td>南</td>\n",
       "      <td>2017.07.19</td>\n",
       "      <td>14</td>\n",
       "      <td>随时看房 集中供暖</td>\n",
       "      <td>https://bj.lianjia.com/zufang/101101538484.html</td>\n",
       "    </tr>\n",
       "    <tr>\n",
       "      <th>591</th>\n",
       "      <td>北关租房</td>\n",
       "      <td>西潞苑小区</td>\n",
       "      <td>西潞苑小区 西向正规二居室 两个房间都有空调 短租房</td>\n",
       "      <td>2室1厅</td>\n",
       "      <td>78</td>\n",
       "      <td>1500</td>\n",
       "      <td>中楼层(共4层)</td>\n",
       "      <td>1999年建板楼</td>\n",
       "      <td>西</td>\n",
       "      <td>2017.07.26</td>\n",
       "      <td>1</td>\n",
       "      <td>随时看房 集中供暖</td>\n",
       "      <td>https://bj.lianjia.com/zufang/101101848906.html</td>\n",
       "    </tr>\n",
       "    <tr>\n",
       "      <th>629</th>\n",
       "      <td>北关租房</td>\n",
       "      <td>西潞苑小区</td>\n",
       "      <td>西潞苑小区 西向正规二居室 两个房间都有空调 短租房</td>\n",
       "      <td>2室1厅</td>\n",
       "      <td>78</td>\n",
       "      <td>1500</td>\n",
       "      <td>中楼层(共4层)</td>\n",
       "      <td>1999年建板楼</td>\n",
       "      <td>西</td>\n",
       "      <td>2017.07.26</td>\n",
       "      <td>1</td>\n",
       "      <td>随时看房 集中供暖</td>\n",
       "      <td>https://bj.lianjia.com/zufang/101101848906.html</td>\n",
       "    </tr>\n",
       "    <tr>\n",
       "      <th>1614</th>\n",
       "      <td>良乡租房</td>\n",
       "      <td>北关东路社区</td>\n",
       "      <td>北关东路社区 1室1厅 1700元</td>\n",
       "      <td>1室1厅</td>\n",
       "      <td>36</td>\n",
       "      <td>1700</td>\n",
       "      <td>中楼层(共5层)</td>\n",
       "      <td>1979年建</td>\n",
       "      <td>南</td>\n",
       "      <td>2017.07.23</td>\n",
       "      <td>5</td>\n",
       "      <td>随时看房</td>\n",
       "      <td>https://bj.lianjia.com/zufang/101101846245.html</td>\n",
       "    </tr>\n",
       "    <tr>\n",
       "      <th>1040</th>\n",
       "      <td>鼓楼大街租房</td>\n",
       "      <td>北环里小区</td>\n",
       "      <td>中间楼层东向&lt;span&gt;开间&lt;/span&gt; 简单装修 看房随时</td>\n",
       "      <td>1室1厅</td>\n",
       "      <td>41</td>\n",
       "      <td>1800</td>\n",
       "      <td>中楼层(共5层)</td>\n",
       "      <td>2004年建板楼</td>\n",
       "      <td>东</td>\n",
       "      <td>2017.07.23</td>\n",
       "      <td>9</td>\n",
       "      <td>距离昌平线昌平站909米 随时看房 集中供暖</td>\n",
       "      <td>https://bj.lianjia.com/zufang/101101770182.html</td>\n",
       "    </tr>\n",
       "    <tr>\n",
       "      <th>2610</th>\n",
       "      <td>南口租房</td>\n",
       "      <td>南厂北区</td>\n",
       "      <td>南厂北区新装两居             。</td>\n",
       "      <td>2室1厅</td>\n",
       "      <td>58</td>\n",
       "      <td>1800</td>\n",
       "      <td>高楼层(共6层)</td>\n",
       "      <td>1990年建</td>\n",
       "      <td>南 北</td>\n",
       "      <td>2017.07.22</td>\n",
       "      <td>0</td>\n",
       "      <td>随时看房 精装修</td>\n",
       "      <td>https://bj.lianjia.com/zufang/101101824745.html</td>\n",
       "    </tr>\n",
       "    <tr>\n",
       "      <th>2660</th>\n",
       "      <td>鼓楼大街租房</td>\n",
       "      <td>北环里小区</td>\n",
       "      <td>北环里小区（天成苑）  1950元/月</td>\n",
       "      <td>1室0厅</td>\n",
       "      <td>37</td>\n",
       "      <td>1900</td>\n",
       "      <td>中楼层(共5层)</td>\n",
       "      <td>2004年建板楼</td>\n",
       "      <td>东</td>\n",
       "      <td>2017.07.21</td>\n",
       "      <td>7</td>\n",
       "      <td>距离昌平线昌平站885米 随时看房 集中供暖</td>\n",
       "      <td>https://bj.lianjia.com/zufang/101101715900.html</td>\n",
       "    </tr>\n",
       "    <tr>\n",
       "      <th>953</th>\n",
       "      <td>阎村租房</td>\n",
       "      <td>天恒乐活城</td>\n",
       "      <td>天恒乐活城西北电梯一居改两居 有装修基本家具家电</td>\n",
       "      <td>2室1厅</td>\n",
       "      <td>61</td>\n",
       "      <td>1950</td>\n",
       "      <td>中楼层(共18层)</td>\n",
       "      <td>2013年建板塔结合</td>\n",
       "      <td>西北</td>\n",
       "      <td>2017.07.14</td>\n",
       "      <td>12</td>\n",
       "      <td>随时看房 精装修 自供暖</td>\n",
       "      <td>https://bj.lianjia.com/zufang/101101644848.html</td>\n",
       "    </tr>\n",
       "    <tr>\n",
       "      <th>2180</th>\n",
       "      <td>李桥租房</td>\n",
       "      <td>樱花园二区</td>\n",
       "      <td>樱花园二区 1室1厅 2000元</td>\n",
       "      <td>1室1厅</td>\n",
       "      <td>34</td>\n",
       "      <td>2000</td>\n",
       "      <td>中楼层(共6层)</td>\n",
       "      <td>1999年建板楼</td>\n",
       "      <td>东南</td>\n",
       "      <td>2017.07.22</td>\n",
       "      <td>16</td>\n",
       "      <td>随时看房 集中供暖</td>\n",
       "      <td>https://bj.lianjia.com/zufang/101101776862.html</td>\n",
       "    </tr>\n",
       "    <tr>\n",
       "      <th>2318</th>\n",
       "      <td>沙河租房</td>\n",
       "      <td>北街家园八区</td>\n",
       "      <td>北街家园八区开间，次顶层视野开阔</td>\n",
       "      <td>1室1厅</td>\n",
       "      <td>35</td>\n",
       "      <td>2000</td>\n",
       "      <td>高楼层(共18层)</td>\n",
       "      <td>2010年建板塔结合</td>\n",
       "      <td>西</td>\n",
       "      <td>2017.07.26</td>\n",
       "      <td>1</td>\n",
       "      <td>随时看房 集中供暖</td>\n",
       "      <td>https://bj.lianjia.com/zufang/101101850374.html</td>\n",
       "    </tr>\n",
       "    <tr>\n",
       "      <th>2391</th>\n",
       "      <td>良乡租房</td>\n",
       "      <td>花园巷小区</td>\n",
       "      <td>修造厂二区，花园巷小区，全南两居，有钥匙随时可看</td>\n",
       "      <td>2室1厅</td>\n",
       "      <td>72</td>\n",
       "      <td>2000</td>\n",
       "      <td>高楼层(共6层)</td>\n",
       "      <td>2001年建板楼</td>\n",
       "      <td>南</td>\n",
       "      <td>2017.07.16</td>\n",
       "      <td>7</td>\n",
       "      <td>随时看房 集中供暖</td>\n",
       "      <td>https://bj.lianjia.com/zufang/101101641287.html</td>\n",
       "    </tr>\n",
       "  </tbody>\n",
       "</table>\n",
       "</div>"
      ],
      "text/plain": [
       "     district address                            title house_type  area  \\\n",
       "2527     良乡租房  伟业嘉园西里             半地下室 家电齐全 集中供暖 简单装修        1室1厅    46   \n",
       "591      北关租房   西潞苑小区       西潞苑小区 西向正规二居室 两个房间都有空调 短租房       2室1厅    78   \n",
       "629      北关租房   西潞苑小区       西潞苑小区 西向正规二居室 两个房间都有空调 短租房       2室1厅    78   \n",
       "1614     良乡租房  北关东路社区                北关东路社区 1室1厅 1700元       1室1厅    36   \n",
       "1040   鼓楼大街租房   北环里小区  中间楼层东向<span>开间</span> 简单装修 看房随时       1室1厅    41   \n",
       "2610     南口租房    南厂北区           南厂北区新装两居             。       2室1厅    58   \n",
       "2660   鼓楼大街租房   北环里小区              北环里小区（天成苑）  1950元/月       1室0厅    37   \n",
       "953      阎村租房   天恒乐活城         天恒乐活城西北电梯一居改两居 有装修基本家具家电       2室1厅    61   \n",
       "2180     李桥租房   樱花园二区                 樱花园二区 1室1厅 2000元       1室1厅    34   \n",
       "2318     沙河租房  北街家园八区                 北街家园八区开间，次顶层视野开阔       1室1厅    35   \n",
       "2391     良乡租房   花园巷小区         修造厂二区，花园巷小区，全南两居，有钥匙随时可看       2室1厅    72   \n",
       "\n",
       "      price      floor  build_time direction update_time  view_num  \\\n",
       "2527   1300   地下室(共5层)      2005年建         南  2017.07.19        14   \n",
       "591    1500   中楼层(共4层)    1999年建板楼         西  2017.07.26         1   \n",
       "629    1500   中楼层(共4层)    1999年建板楼         西  2017.07.26         1   \n",
       "1614   1700   中楼层(共5层)      1979年建         南  2017.07.23         5   \n",
       "1040   1800   中楼层(共5层)    2004年建板楼         东  2017.07.23         9   \n",
       "2610   1800   高楼层(共6层)      1990年建       南 北  2017.07.22         0   \n",
       "2660   1900   中楼层(共5层)    2004年建板楼         东  2017.07.21         7   \n",
       "953    1950  中楼层(共18层)  2013年建板塔结合        西北  2017.07.14        12   \n",
       "2180   2000   中楼层(共6层)    1999年建板楼        东南  2017.07.22        16   \n",
       "2318   2000  高楼层(共18层)  2010年建板塔结合         西  2017.07.26         1   \n",
       "2391   2000   高楼层(共6层)    2001年建板楼         南  2017.07.16         7   \n",
       "\n",
       "                   extra_info                                             link  \n",
       "2527                随时看房 集中供暖  https://bj.lianjia.com/zufang/101101538484.html  \n",
       "591                 随时看房 集中供暖  https://bj.lianjia.com/zufang/101101848906.html  \n",
       "629                 随时看房 集中供暖  https://bj.lianjia.com/zufang/101101848906.html  \n",
       "1614                     随时看房  https://bj.lianjia.com/zufang/101101846245.html  \n",
       "1040   距离昌平线昌平站909米 随时看房 集中供暖  https://bj.lianjia.com/zufang/101101770182.html  \n",
       "2610                 随时看房 精装修  https://bj.lianjia.com/zufang/101101824745.html  \n",
       "2660   距离昌平线昌平站885米 随时看房 集中供暖  https://bj.lianjia.com/zufang/101101715900.html  \n",
       "953              随时看房 精装修 自供暖  https://bj.lianjia.com/zufang/101101644848.html  \n",
       "2180                随时看房 集中供暖  https://bj.lianjia.com/zufang/101101776862.html  \n",
       "2318                随时看房 集中供暖  https://bj.lianjia.com/zufang/101101850374.html  \n",
       "2391                随时看房 集中供暖  https://bj.lianjia.com/zufang/101101641287.html  "
      ]
     },
     "execution_count": 31,
     "metadata": {},
     "output_type": "execute_result"
    }
   ],
   "source": [
    "house_data.query('price <= 2000').sort_values('price')"
   ]
  },
  {
   "cell_type": "code",
   "execution_count": 32,
   "id": "1b7ee7ad",
   "metadata": {
    "ExecuteTime": {
     "end_time": "2022-12-28T11:20:20.911635Z",
     "start_time": "2022-12-28T11:20:20.897672Z"
    }
   },
   "outputs": [
    {
     "data": {
      "text/html": [
       "<div>\n",
       "<style scoped>\n",
       "    .dataframe tbody tr th:only-of-type {\n",
       "        vertical-align: middle;\n",
       "    }\n",
       "\n",
       "    .dataframe tbody tr th {\n",
       "        vertical-align: top;\n",
       "    }\n",
       "\n",
       "    .dataframe thead th {\n",
       "        text-align: right;\n",
       "    }\n",
       "</style>\n",
       "<table border=\"1\" class=\"dataframe\">\n",
       "  <thead>\n",
       "    <tr style=\"text-align: right;\">\n",
       "      <th></th>\n",
       "      <th>district</th>\n",
       "      <th>address</th>\n",
       "      <th>title</th>\n",
       "      <th>house_type</th>\n",
       "      <th>area</th>\n",
       "      <th>price</th>\n",
       "      <th>floor</th>\n",
       "      <th>build_time</th>\n",
       "      <th>direction</th>\n",
       "      <th>update_time</th>\n",
       "      <th>view_num</th>\n",
       "      <th>extra_info</th>\n",
       "      <th>link</th>\n",
       "    </tr>\n",
       "  </thead>\n",
       "  <tbody>\n",
       "    <tr>\n",
       "      <th>2527</th>\n",
       "      <td>良乡租房</td>\n",
       "      <td>伟业嘉园西里</td>\n",
       "      <td>半地下室 家电齐全 集中供暖 简单装修</td>\n",
       "      <td>1室1厅</td>\n",
       "      <td>46</td>\n",
       "      <td>1300</td>\n",
       "      <td>地下室(共5层)</td>\n",
       "      <td>2005年建</td>\n",
       "      <td>南</td>\n",
       "      <td>2017.07.19</td>\n",
       "      <td>14</td>\n",
       "      <td>随时看房 集中供暖</td>\n",
       "      <td>https://bj.lianjia.com/zufang/101101538484.html</td>\n",
       "    </tr>\n",
       "    <tr>\n",
       "      <th>591</th>\n",
       "      <td>北关租房</td>\n",
       "      <td>西潞苑小区</td>\n",
       "      <td>西潞苑小区 西向正规二居室 两个房间都有空调 短租房</td>\n",
       "      <td>2室1厅</td>\n",
       "      <td>78</td>\n",
       "      <td>1500</td>\n",
       "      <td>中楼层(共4层)</td>\n",
       "      <td>1999年建板楼</td>\n",
       "      <td>西</td>\n",
       "      <td>2017.07.26</td>\n",
       "      <td>1</td>\n",
       "      <td>随时看房 集中供暖</td>\n",
       "      <td>https://bj.lianjia.com/zufang/101101848906.html</td>\n",
       "    </tr>\n",
       "    <tr>\n",
       "      <th>629</th>\n",
       "      <td>北关租房</td>\n",
       "      <td>西潞苑小区</td>\n",
       "      <td>西潞苑小区 西向正规二居室 两个房间都有空调 短租房</td>\n",
       "      <td>2室1厅</td>\n",
       "      <td>78</td>\n",
       "      <td>1500</td>\n",
       "      <td>中楼层(共4层)</td>\n",
       "      <td>1999年建板楼</td>\n",
       "      <td>西</td>\n",
       "      <td>2017.07.26</td>\n",
       "      <td>1</td>\n",
       "      <td>随时看房 集中供暖</td>\n",
       "      <td>https://bj.lianjia.com/zufang/101101848906.html</td>\n",
       "    </tr>\n",
       "    <tr>\n",
       "      <th>1614</th>\n",
       "      <td>良乡租房</td>\n",
       "      <td>北关东路社区</td>\n",
       "      <td>北关东路社区 1室1厅 1700元</td>\n",
       "      <td>1室1厅</td>\n",
       "      <td>36</td>\n",
       "      <td>1700</td>\n",
       "      <td>中楼层(共5层)</td>\n",
       "      <td>1979年建</td>\n",
       "      <td>南</td>\n",
       "      <td>2017.07.23</td>\n",
       "      <td>5</td>\n",
       "      <td>随时看房</td>\n",
       "      <td>https://bj.lianjia.com/zufang/101101846245.html</td>\n",
       "    </tr>\n",
       "    <tr>\n",
       "      <th>1040</th>\n",
       "      <td>鼓楼大街租房</td>\n",
       "      <td>北环里小区</td>\n",
       "      <td>中间楼层东向&lt;span&gt;开间&lt;/span&gt; 简单装修 看房随时</td>\n",
       "      <td>1室1厅</td>\n",
       "      <td>41</td>\n",
       "      <td>1800</td>\n",
       "      <td>中楼层(共5层)</td>\n",
       "      <td>2004年建板楼</td>\n",
       "      <td>东</td>\n",
       "      <td>2017.07.23</td>\n",
       "      <td>9</td>\n",
       "      <td>距离昌平线昌平站909米 随时看房 集中供暖</td>\n",
       "      <td>https://bj.lianjia.com/zufang/101101770182.html</td>\n",
       "    </tr>\n",
       "    <tr>\n",
       "      <th>2610</th>\n",
       "      <td>南口租房</td>\n",
       "      <td>南厂北区</td>\n",
       "      <td>南厂北区新装两居             。</td>\n",
       "      <td>2室1厅</td>\n",
       "      <td>58</td>\n",
       "      <td>1800</td>\n",
       "      <td>高楼层(共6层)</td>\n",
       "      <td>1990年建</td>\n",
       "      <td>南 北</td>\n",
       "      <td>2017.07.22</td>\n",
       "      <td>0</td>\n",
       "      <td>随时看房 精装修</td>\n",
       "      <td>https://bj.lianjia.com/zufang/101101824745.html</td>\n",
       "    </tr>\n",
       "    <tr>\n",
       "      <th>2660</th>\n",
       "      <td>鼓楼大街租房</td>\n",
       "      <td>北环里小区</td>\n",
       "      <td>北环里小区（天成苑）  1950元/月</td>\n",
       "      <td>1室0厅</td>\n",
       "      <td>37</td>\n",
       "      <td>1900</td>\n",
       "      <td>中楼层(共5层)</td>\n",
       "      <td>2004年建板楼</td>\n",
       "      <td>东</td>\n",
       "      <td>2017.07.21</td>\n",
       "      <td>7</td>\n",
       "      <td>距离昌平线昌平站885米 随时看房 集中供暖</td>\n",
       "      <td>https://bj.lianjia.com/zufang/101101715900.html</td>\n",
       "    </tr>\n",
       "    <tr>\n",
       "      <th>953</th>\n",
       "      <td>阎村租房</td>\n",
       "      <td>天恒乐活城</td>\n",
       "      <td>天恒乐活城西北电梯一居改两居 有装修基本家具家电</td>\n",
       "      <td>2室1厅</td>\n",
       "      <td>61</td>\n",
       "      <td>1950</td>\n",
       "      <td>中楼层(共18层)</td>\n",
       "      <td>2013年建板塔结合</td>\n",
       "      <td>西北</td>\n",
       "      <td>2017.07.14</td>\n",
       "      <td>12</td>\n",
       "      <td>随时看房 精装修 自供暖</td>\n",
       "      <td>https://bj.lianjia.com/zufang/101101644848.html</td>\n",
       "    </tr>\n",
       "    <tr>\n",
       "      <th>2180</th>\n",
       "      <td>李桥租房</td>\n",
       "      <td>樱花园二区</td>\n",
       "      <td>樱花园二区 1室1厅 2000元</td>\n",
       "      <td>1室1厅</td>\n",
       "      <td>34</td>\n",
       "      <td>2000</td>\n",
       "      <td>中楼层(共6层)</td>\n",
       "      <td>1999年建板楼</td>\n",
       "      <td>东南</td>\n",
       "      <td>2017.07.22</td>\n",
       "      <td>16</td>\n",
       "      <td>随时看房 集中供暖</td>\n",
       "      <td>https://bj.lianjia.com/zufang/101101776862.html</td>\n",
       "    </tr>\n",
       "    <tr>\n",
       "      <th>2318</th>\n",
       "      <td>沙河租房</td>\n",
       "      <td>北街家园八区</td>\n",
       "      <td>北街家园八区开间，次顶层视野开阔</td>\n",
       "      <td>1室1厅</td>\n",
       "      <td>35</td>\n",
       "      <td>2000</td>\n",
       "      <td>高楼层(共18层)</td>\n",
       "      <td>2010年建板塔结合</td>\n",
       "      <td>西</td>\n",
       "      <td>2017.07.26</td>\n",
       "      <td>1</td>\n",
       "      <td>随时看房 集中供暖</td>\n",
       "      <td>https://bj.lianjia.com/zufang/101101850374.html</td>\n",
       "    </tr>\n",
       "    <tr>\n",
       "      <th>2391</th>\n",
       "      <td>良乡租房</td>\n",
       "      <td>花园巷小区</td>\n",
       "      <td>修造厂二区，花园巷小区，全南两居，有钥匙随时可看</td>\n",
       "      <td>2室1厅</td>\n",
       "      <td>72</td>\n",
       "      <td>2000</td>\n",
       "      <td>高楼层(共6层)</td>\n",
       "      <td>2001年建板楼</td>\n",
       "      <td>南</td>\n",
       "      <td>2017.07.16</td>\n",
       "      <td>7</td>\n",
       "      <td>随时看房 集中供暖</td>\n",
       "      <td>https://bj.lianjia.com/zufang/101101641287.html</td>\n",
       "    </tr>\n",
       "  </tbody>\n",
       "</table>\n",
       "</div>"
      ],
      "text/plain": [
       "     district address                            title house_type  area  \\\n",
       "2527     良乡租房  伟业嘉园西里             半地下室 家电齐全 集中供暖 简单装修        1室1厅    46   \n",
       "591      北关租房   西潞苑小区       西潞苑小区 西向正规二居室 两个房间都有空调 短租房       2室1厅    78   \n",
       "629      北关租房   西潞苑小区       西潞苑小区 西向正规二居室 两个房间都有空调 短租房       2室1厅    78   \n",
       "1614     良乡租房  北关东路社区                北关东路社区 1室1厅 1700元       1室1厅    36   \n",
       "1040   鼓楼大街租房   北环里小区  中间楼层东向<span>开间</span> 简单装修 看房随时       1室1厅    41   \n",
       "2610     南口租房    南厂北区           南厂北区新装两居             。       2室1厅    58   \n",
       "2660   鼓楼大街租房   北环里小区              北环里小区（天成苑）  1950元/月       1室0厅    37   \n",
       "953      阎村租房   天恒乐活城         天恒乐活城西北电梯一居改两居 有装修基本家具家电       2室1厅    61   \n",
       "2180     李桥租房   樱花园二区                 樱花园二区 1室1厅 2000元       1室1厅    34   \n",
       "2318     沙河租房  北街家园八区                 北街家园八区开间，次顶层视野开阔       1室1厅    35   \n",
       "2391     良乡租房   花园巷小区         修造厂二区，花园巷小区，全南两居，有钥匙随时可看       2室1厅    72   \n",
       "\n",
       "      price      floor  build_time direction update_time  view_num  \\\n",
       "2527   1300   地下室(共5层)      2005年建         南  2017.07.19        14   \n",
       "591    1500   中楼层(共4层)    1999年建板楼         西  2017.07.26         1   \n",
       "629    1500   中楼层(共4层)    1999年建板楼         西  2017.07.26         1   \n",
       "1614   1700   中楼层(共5层)      1979年建         南  2017.07.23         5   \n",
       "1040   1800   中楼层(共5层)    2004年建板楼         东  2017.07.23         9   \n",
       "2610   1800   高楼层(共6层)      1990年建       南 北  2017.07.22         0   \n",
       "2660   1900   中楼层(共5层)    2004年建板楼         东  2017.07.21         7   \n",
       "953    1950  中楼层(共18层)  2013年建板塔结合        西北  2017.07.14        12   \n",
       "2180   2000   中楼层(共6层)    1999年建板楼        东南  2017.07.22        16   \n",
       "2318   2000  高楼层(共18层)  2010年建板塔结合         西  2017.07.26         1   \n",
       "2391   2000   高楼层(共6层)    2001年建板楼         南  2017.07.16         7   \n",
       "\n",
       "                   extra_info                                             link  \n",
       "2527                随时看房 集中供暖  https://bj.lianjia.com/zufang/101101538484.html  \n",
       "591                 随时看房 集中供暖  https://bj.lianjia.com/zufang/101101848906.html  \n",
       "629                 随时看房 集中供暖  https://bj.lianjia.com/zufang/101101848906.html  \n",
       "1614                     随时看房  https://bj.lianjia.com/zufang/101101846245.html  \n",
       "1040   距离昌平线昌平站909米 随时看房 集中供暖  https://bj.lianjia.com/zufang/101101770182.html  \n",
       "2610                 随时看房 精装修  https://bj.lianjia.com/zufang/101101824745.html  \n",
       "2660   距离昌平线昌平站885米 随时看房 集中供暖  https://bj.lianjia.com/zufang/101101715900.html  \n",
       "953              随时看房 精装修 自供暖  https://bj.lianjia.com/zufang/101101644848.html  \n",
       "2180                随时看房 集中供暖  https://bj.lianjia.com/zufang/101101776862.html  \n",
       "2318                随时看房 集中供暖  https://bj.lianjia.com/zufang/101101850374.html  \n",
       "2391                随时看房 集中供暖  https://bj.lianjia.com/zufang/101101641287.html  "
      ]
     },
     "execution_count": 32,
     "metadata": {},
     "output_type": "execute_result"
    }
   ],
   "source": [
    "house_data[house_data['price'] <= 2000].sort_values('price')"
   ]
  }
 ],
 "metadata": {
  "kernelspec": {
   "display_name": "Python 3 (ipykernel)",
   "language": "python",
   "name": "python3"
  },
  "language_info": {
   "codemirror_mode": {
    "name": "ipython",
    "version": 3
   },
   "file_extension": ".py",
   "mimetype": "text/x-python",
   "name": "python",
   "nbconvert_exporter": "python",
   "pygments_lexer": "ipython3",
   "version": "3.8.15"
  },
  "toc": {
   "base_numbering": 1,
   "nav_menu": {},
   "number_sections": true,
   "sideBar": true,
   "skip_h1_title": false,
   "title_cell": "Table of Contents",
   "title_sidebar": "Contents",
   "toc_cell": false,
   "toc_position": {},
   "toc_section_display": true,
   "toc_window_display": false
  },
  "varInspector": {
   "cols": {
    "lenName": 16,
    "lenType": 16,
    "lenVar": 40
   },
   "kernels_config": {
    "python": {
     "delete_cmd_postfix": "",
     "delete_cmd_prefix": "del ",
     "library": "var_list.py",
     "varRefreshCmd": "print(var_dic_list())"
    },
    "r": {
     "delete_cmd_postfix": ") ",
     "delete_cmd_prefix": "rm(",
     "library": "var_list.r",
     "varRefreshCmd": "cat(var_dic_list()) "
    }
   },
   "types_to_exclude": [
    "module",
    "function",
    "builtin_function_or_method",
    "instance",
    "_Feature"
   ],
   "window_display": false
  }
 },
 "nbformat": 4,
 "nbformat_minor": 5
}
