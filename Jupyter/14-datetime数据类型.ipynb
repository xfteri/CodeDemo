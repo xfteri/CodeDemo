{
 "cells": [
  {
   "cell_type": "markdown",
   "id": "e65b5c9d",
   "metadata": {},
   "source": [
    "# datetime数据类型"
   ]
  },
  {
   "cell_type": "code",
   "execution_count": 1,
   "id": "c0cd3306",
   "metadata": {
    "ExecuteTime": {
     "end_time": "2022-12-28T11:30:43.429653Z",
     "start_time": "2022-12-28T11:30:43.149420Z"
    }
   },
   "outputs": [],
   "source": [
    "import pandas as pd"
   ]
  },
  {
   "cell_type": "markdown",
   "id": "1830e014",
   "metadata": {},
   "source": [
    "- 学习目标\n",
    "- 能够使用 pandas 来处理日期时间类型数据"
   ]
  },
  {
   "cell_type": "markdown",
   "id": "e1d8cbdd",
   "metadata": {},
   "source": [
    "## Python 的 datetime 对象\n",
    "- Python 内置了datetime 对象，可以在 datetime 库中找到"
   ]
  },
  {
   "cell_type": "code",
   "execution_count": 2,
   "id": "f663a542",
   "metadata": {
    "ExecuteTime": {
     "end_time": "2022-12-28T11:30:43.444582Z",
     "start_time": "2022-12-28T11:30:43.431616Z"
    }
   },
   "outputs": [
    {
     "data": {
      "text/plain": [
       "datetime.datetime(2022, 12, 28, 19, 30, 43, 432613)"
      ]
     },
     "execution_count": 2,
     "metadata": {},
     "output_type": "execute_result"
    }
   ],
   "source": [
    "from datetime import datetime\n",
    "# 获取当前时间\n",
    "t1 = datetime.now()\n",
    "t1"
   ]
  },
  {
   "cell_type": "code",
   "execution_count": 3,
   "id": "caebfc94",
   "metadata": {
    "ExecuteTime": {
     "end_time": "2022-12-28T11:30:43.459542Z",
     "start_time": "2022-12-28T11:30:43.445579Z"
    }
   },
   "outputs": [
    {
     "data": {
      "text/plain": [
       "datetime.datetime(2022, 11, 11, 0, 0)"
      ]
     },
     "execution_count": 3,
     "metadata": {},
     "output_type": "execute_result"
    }
   ],
   "source": [
    "# 手动创建datetime\n",
    "t2 = datetime(2022,11,11)\n",
    "t2"
   ]
  },
  {
   "cell_type": "code",
   "execution_count": 4,
   "id": "0bf81261",
   "metadata": {
    "ExecuteTime": {
     "end_time": "2022-12-28T11:30:43.475500Z",
     "start_time": "2022-12-28T11:30:43.462536Z"
    }
   },
   "outputs": [
    {
     "data": {
      "text/plain": [
       "datetime.datetime(2022, 11, 11, 11, 11, 11)"
      ]
     },
     "execution_count": 4,
     "metadata": {},
     "output_type": "execute_result"
    }
   ],
   "source": [
    "t3 = datetime(2022,11,11,11,11,11)\n",
    "t3"
   ]
  },
  {
   "cell_type": "code",
   "execution_count": 5,
   "id": "5a3f9173",
   "metadata": {
    "ExecuteTime": {
     "end_time": "2022-12-28T11:30:43.491456Z",
     "start_time": "2022-12-28T11:30:43.476497Z"
    }
   },
   "outputs": [
    {
     "name": "stdout",
     "output_type": "stream",
     "text": [
      "47 days, 19:30:43.432613\n"
     ]
    }
   ],
   "source": [
    "# 两个datetime相减\n",
    "diff = t1 -t2\n",
    "print(diff)"
   ]
  },
  {
   "cell_type": "code",
   "execution_count": 6,
   "id": "14eb0ee0",
   "metadata": {
    "ExecuteTime": {
     "end_time": "2022-12-28T11:30:43.507414Z",
     "start_time": "2022-12-28T11:30:43.492453Z"
    }
   },
   "outputs": [
    {
     "name": "stdout",
     "output_type": "stream",
     "text": [
      "<class 'datetime.timedelta'>\n"
     ]
    }
   ],
   "source": [
    "# 查看两个日期相减的结果类型\n",
    "print(type(diff))"
   ]
  },
  {
   "cell_type": "markdown",
   "id": "abd61881",
   "metadata": {},
   "source": [
    "# pandas 中的数据转换成 datetime"
   ]
  },
  {
   "cell_type": "markdown",
   "id": "e00302e9",
   "metadata": {},
   "source": [
    "- pandas 可以使用 to_datetime 函数把数据转换成 datetime 类型"
   ]
  },
  {
   "cell_type": "markdown",
   "id": "b73fd11e",
   "metadata": {},
   "source": [
    "## 加载 country_timeseries.csv 数据，并查看前5行的前5列数据"
   ]
  },
  {
   "cell_type": "code",
   "execution_count": 7,
   "id": "cbec5e5f",
   "metadata": {
    "ExecuteTime": {
     "end_time": "2022-12-28T11:30:43.632585Z",
     "start_time": "2022-12-28T11:30:43.508411Z"
    }
   },
   "outputs": [
    {
     "data": {
      "text/html": [
       "<div>\n",
       "<style scoped>\n",
       "    .dataframe tbody tr th:only-of-type {\n",
       "        vertical-align: middle;\n",
       "    }\n",
       "\n",
       "    .dataframe tbody tr th {\n",
       "        vertical-align: top;\n",
       "    }\n",
       "\n",
       "    .dataframe thead th {\n",
       "        text-align: right;\n",
       "    }\n",
       "</style>\n",
       "<table border=\"1\" class=\"dataframe\">\n",
       "  <thead>\n",
       "    <tr style=\"text-align: right;\">\n",
       "      <th></th>\n",
       "      <th>Date</th>\n",
       "      <th>Day</th>\n",
       "      <th>Cases_Guinea</th>\n",
       "      <th>Cases_Liberia</th>\n",
       "      <th>Cases_SierraLeone</th>\n",
       "      <th>Cases_Nigeria</th>\n",
       "      <th>Cases_Senegal</th>\n",
       "      <th>Cases_UnitedStates</th>\n",
       "      <th>Cases_Spain</th>\n",
       "      <th>Cases_Mali</th>\n",
       "      <th>Deaths_Guinea</th>\n",
       "      <th>Deaths_Liberia</th>\n",
       "      <th>Deaths_SierraLeone</th>\n",
       "      <th>Deaths_Nigeria</th>\n",
       "      <th>Deaths_Senegal</th>\n",
       "      <th>Deaths_UnitedStates</th>\n",
       "      <th>Deaths_Spain</th>\n",
       "      <th>Deaths_Mali</th>\n",
       "    </tr>\n",
       "  </thead>\n",
       "  <tbody>\n",
       "    <tr>\n",
       "      <th>0</th>\n",
       "      <td>1/5/2015</td>\n",
       "      <td>289</td>\n",
       "      <td>2776.0</td>\n",
       "      <td>NaN</td>\n",
       "      <td>10030.0</td>\n",
       "      <td>NaN</td>\n",
       "      <td>NaN</td>\n",
       "      <td>NaN</td>\n",
       "      <td>NaN</td>\n",
       "      <td>NaN</td>\n",
       "      <td>1786.0</td>\n",
       "      <td>NaN</td>\n",
       "      <td>2977.0</td>\n",
       "      <td>NaN</td>\n",
       "      <td>NaN</td>\n",
       "      <td>NaN</td>\n",
       "      <td>NaN</td>\n",
       "      <td>NaN</td>\n",
       "    </tr>\n",
       "    <tr>\n",
       "      <th>1</th>\n",
       "      <td>1/4/2015</td>\n",
       "      <td>288</td>\n",
       "      <td>2775.0</td>\n",
       "      <td>NaN</td>\n",
       "      <td>9780.0</td>\n",
       "      <td>NaN</td>\n",
       "      <td>NaN</td>\n",
       "      <td>NaN</td>\n",
       "      <td>NaN</td>\n",
       "      <td>NaN</td>\n",
       "      <td>1781.0</td>\n",
       "      <td>NaN</td>\n",
       "      <td>2943.0</td>\n",
       "      <td>NaN</td>\n",
       "      <td>NaN</td>\n",
       "      <td>NaN</td>\n",
       "      <td>NaN</td>\n",
       "      <td>NaN</td>\n",
       "    </tr>\n",
       "    <tr>\n",
       "      <th>2</th>\n",
       "      <td>1/3/2015</td>\n",
       "      <td>287</td>\n",
       "      <td>2769.0</td>\n",
       "      <td>8166.0</td>\n",
       "      <td>9722.0</td>\n",
       "      <td>NaN</td>\n",
       "      <td>NaN</td>\n",
       "      <td>NaN</td>\n",
       "      <td>NaN</td>\n",
       "      <td>NaN</td>\n",
       "      <td>1767.0</td>\n",
       "      <td>3496.0</td>\n",
       "      <td>2915.0</td>\n",
       "      <td>NaN</td>\n",
       "      <td>NaN</td>\n",
       "      <td>NaN</td>\n",
       "      <td>NaN</td>\n",
       "      <td>NaN</td>\n",
       "    </tr>\n",
       "    <tr>\n",
       "      <th>3</th>\n",
       "      <td>1/2/2015</td>\n",
       "      <td>286</td>\n",
       "      <td>NaN</td>\n",
       "      <td>8157.0</td>\n",
       "      <td>NaN</td>\n",
       "      <td>NaN</td>\n",
       "      <td>NaN</td>\n",
       "      <td>NaN</td>\n",
       "      <td>NaN</td>\n",
       "      <td>NaN</td>\n",
       "      <td>NaN</td>\n",
       "      <td>3496.0</td>\n",
       "      <td>NaN</td>\n",
       "      <td>NaN</td>\n",
       "      <td>NaN</td>\n",
       "      <td>NaN</td>\n",
       "      <td>NaN</td>\n",
       "      <td>NaN</td>\n",
       "    </tr>\n",
       "    <tr>\n",
       "      <th>4</th>\n",
       "      <td>12/31/2014</td>\n",
       "      <td>284</td>\n",
       "      <td>2730.0</td>\n",
       "      <td>8115.0</td>\n",
       "      <td>9633.0</td>\n",
       "      <td>NaN</td>\n",
       "      <td>NaN</td>\n",
       "      <td>NaN</td>\n",
       "      <td>NaN</td>\n",
       "      <td>NaN</td>\n",
       "      <td>1739.0</td>\n",
       "      <td>3471.0</td>\n",
       "      <td>2827.0</td>\n",
       "      <td>NaN</td>\n",
       "      <td>NaN</td>\n",
       "      <td>NaN</td>\n",
       "      <td>NaN</td>\n",
       "      <td>NaN</td>\n",
       "    </tr>\n",
       "  </tbody>\n",
       "</table>\n",
       "</div>"
      ],
      "text/plain": [
       "         Date  Day  Cases_Guinea  Cases_Liberia  Cases_SierraLeone  \\\n",
       "0    1/5/2015  289        2776.0            NaN            10030.0   \n",
       "1    1/4/2015  288        2775.0            NaN             9780.0   \n",
       "2    1/3/2015  287        2769.0         8166.0             9722.0   \n",
       "3    1/2/2015  286           NaN         8157.0                NaN   \n",
       "4  12/31/2014  284        2730.0         8115.0             9633.0   \n",
       "\n",
       "   Cases_Nigeria  Cases_Senegal  Cases_UnitedStates  Cases_Spain  Cases_Mali  \\\n",
       "0            NaN            NaN                 NaN          NaN         NaN   \n",
       "1            NaN            NaN                 NaN          NaN         NaN   \n",
       "2            NaN            NaN                 NaN          NaN         NaN   \n",
       "3            NaN            NaN                 NaN          NaN         NaN   \n",
       "4            NaN            NaN                 NaN          NaN         NaN   \n",
       "\n",
       "   Deaths_Guinea  Deaths_Liberia  Deaths_SierraLeone  Deaths_Nigeria  \\\n",
       "0         1786.0             NaN              2977.0             NaN   \n",
       "1         1781.0             NaN              2943.0             NaN   \n",
       "2         1767.0          3496.0              2915.0             NaN   \n",
       "3            NaN          3496.0                 NaN             NaN   \n",
       "4         1739.0          3471.0              2827.0             NaN   \n",
       "\n",
       "   Deaths_Senegal  Deaths_UnitedStates  Deaths_Spain  Deaths_Mali  \n",
       "0             NaN                  NaN           NaN          NaN  \n",
       "1             NaN                  NaN           NaN          NaN  \n",
       "2             NaN                  NaN           NaN          NaN  \n",
       "3             NaN                  NaN           NaN          NaN  \n",
       "4             NaN                  NaN           NaN          NaN  "
      ]
     },
     "execution_count": 7,
     "metadata": {},
     "output_type": "execute_result"
    }
   ],
   "source": [
    "ebola = pd.read_csv('./data/country_timeseries.csv')\n",
    "ebola.head(5)"
   ]
  },
  {
   "cell_type": "code",
   "execution_count": 8,
   "id": "786dbce1",
   "metadata": {
    "ExecuteTime": {
     "end_time": "2022-12-28T11:30:43.647513Z",
     "start_time": "2022-12-28T11:30:43.633559Z"
    }
   },
   "outputs": [
    {
     "data": {
      "text/html": [
       "<div>\n",
       "<style scoped>\n",
       "    .dataframe tbody tr th:only-of-type {\n",
       "        vertical-align: middle;\n",
       "    }\n",
       "\n",
       "    .dataframe tbody tr th {\n",
       "        vertical-align: top;\n",
       "    }\n",
       "\n",
       "    .dataframe thead th {\n",
       "        text-align: right;\n",
       "    }\n",
       "</style>\n",
       "<table border=\"1\" class=\"dataframe\">\n",
       "  <thead>\n",
       "    <tr style=\"text-align: right;\">\n",
       "      <th></th>\n",
       "      <th>Date</th>\n",
       "      <th>Day</th>\n",
       "      <th>Cases_Guinea</th>\n",
       "      <th>Cases_Liberia</th>\n",
       "      <th>Cases_SierraLeone</th>\n",
       "    </tr>\n",
       "  </thead>\n",
       "  <tbody>\n",
       "    <tr>\n",
       "      <th>0</th>\n",
       "      <td>1/5/2015</td>\n",
       "      <td>289</td>\n",
       "      <td>2776.0</td>\n",
       "      <td>NaN</td>\n",
       "      <td>10030.0</td>\n",
       "    </tr>\n",
       "    <tr>\n",
       "      <th>1</th>\n",
       "      <td>1/4/2015</td>\n",
       "      <td>288</td>\n",
       "      <td>2775.0</td>\n",
       "      <td>NaN</td>\n",
       "      <td>9780.0</td>\n",
       "    </tr>\n",
       "    <tr>\n",
       "      <th>2</th>\n",
       "      <td>1/3/2015</td>\n",
       "      <td>287</td>\n",
       "      <td>2769.0</td>\n",
       "      <td>8166.0</td>\n",
       "      <td>9722.0</td>\n",
       "    </tr>\n",
       "    <tr>\n",
       "      <th>3</th>\n",
       "      <td>1/2/2015</td>\n",
       "      <td>286</td>\n",
       "      <td>NaN</td>\n",
       "      <td>8157.0</td>\n",
       "      <td>NaN</td>\n",
       "    </tr>\n",
       "    <tr>\n",
       "      <th>4</th>\n",
       "      <td>12/31/2014</td>\n",
       "      <td>284</td>\n",
       "      <td>2730.0</td>\n",
       "      <td>8115.0</td>\n",
       "      <td>9633.0</td>\n",
       "    </tr>\n",
       "  </tbody>\n",
       "</table>\n",
       "</div>"
      ],
      "text/plain": [
       "         Date  Day  Cases_Guinea  Cases_Liberia  Cases_SierraLeone\n",
       "0    1/5/2015  289        2776.0            NaN            10030.0\n",
       "1    1/4/2015  288        2775.0            NaN             9780.0\n",
       "2    1/3/2015  287        2769.0         8166.0             9722.0\n",
       "3    1/2/2015  286           NaN         8157.0                NaN\n",
       "4  12/31/2014  284        2730.0         8115.0             9633.0"
      ]
     },
     "execution_count": 8,
     "metadata": {},
     "output_type": "execute_result"
    }
   ],
   "source": [
    "ebola.iloc[:5,:5]"
   ]
  },
  {
   "cell_type": "code",
   "execution_count": 9,
   "id": "d1564d2a",
   "metadata": {
    "ExecuteTime": {
     "end_time": "2022-12-28T11:30:43.663470Z",
     "start_time": "2022-12-28T11:30:43.649509Z"
    }
   },
   "outputs": [
    {
     "name": "stdout",
     "output_type": "stream",
     "text": [
      "<class 'pandas.core.frame.DataFrame'>\n",
      "RangeIndex: 122 entries, 0 to 121\n",
      "Data columns (total 18 columns):\n",
      " #   Column               Non-Null Count  Dtype  \n",
      "---  ------               --------------  -----  \n",
      " 0   Date                 122 non-null    object \n",
      " 1   Day                  122 non-null    int64  \n",
      " 2   Cases_Guinea         93 non-null     float64\n",
      " 3   Cases_Liberia        83 non-null     float64\n",
      " 4   Cases_SierraLeone    87 non-null     float64\n",
      " 5   Cases_Nigeria        38 non-null     float64\n",
      " 6   Cases_Senegal        25 non-null     float64\n",
      " 7   Cases_UnitedStates   18 non-null     float64\n",
      " 8   Cases_Spain          16 non-null     float64\n",
      " 9   Cases_Mali           12 non-null     float64\n",
      " 10  Deaths_Guinea        92 non-null     float64\n",
      " 11  Deaths_Liberia       81 non-null     float64\n",
      " 12  Deaths_SierraLeone   87 non-null     float64\n",
      " 13  Deaths_Nigeria       38 non-null     float64\n",
      " 14  Deaths_Senegal       22 non-null     float64\n",
      " 15  Deaths_UnitedStates  18 non-null     float64\n",
      " 16  Deaths_Spain         16 non-null     float64\n",
      " 17  Deaths_Mali          12 non-null     float64\n",
      "dtypes: float64(16), int64(1), object(1)\n",
      "memory usage: 17.3+ KB\n"
     ]
    }
   ],
   "source": [
    "# 注：从数据中看出 Date 列是日期，但通过info查看加载后数据为object类型\n",
    "ebola.info()"
   ]
  },
  {
   "cell_type": "markdown",
   "id": "6f51fa5c",
   "metadata": {},
   "source": [
    "## 可以通过 pandas 的 to_datetime方法把 Date 列转换为datetime，然后创建新列"
   ]
  },
  {
   "cell_type": "code",
   "execution_count": 10,
   "id": "b9cc8887",
   "metadata": {
    "ExecuteTime": {
     "end_time": "2022-12-28T11:30:43.679429Z",
     "start_time": "2022-12-28T11:30:43.666464Z"
    }
   },
   "outputs": [
    {
     "name": "stdout",
     "output_type": "stream",
     "text": [
      "<class 'pandas.core.frame.DataFrame'>\n",
      "RangeIndex: 122 entries, 0 to 121\n",
      "Data columns (total 19 columns):\n",
      " #   Column               Non-Null Count  Dtype         \n",
      "---  ------               --------------  -----         \n",
      " 0   Date                 122 non-null    object        \n",
      " 1   Day                  122 non-null    int64         \n",
      " 2   Cases_Guinea         93 non-null     float64       \n",
      " 3   Cases_Liberia        83 non-null     float64       \n",
      " 4   Cases_SierraLeone    87 non-null     float64       \n",
      " 5   Cases_Nigeria        38 non-null     float64       \n",
      " 6   Cases_Senegal        25 non-null     float64       \n",
      " 7   Cases_UnitedStates   18 non-null     float64       \n",
      " 8   Cases_Spain          16 non-null     float64       \n",
      " 9   Cases_Mali           12 non-null     float64       \n",
      " 10  Deaths_Guinea        92 non-null     float64       \n",
      " 11  Deaths_Liberia       81 non-null     float64       \n",
      " 12  Deaths_SierraLeone   87 non-null     float64       \n",
      " 13  Deaths_Nigeria       38 non-null     float64       \n",
      " 14  Deaths_Senegal       22 non-null     float64       \n",
      " 15  Deaths_UnitedStates  18 non-null     float64       \n",
      " 16  Deaths_Spain         16 non-null     float64       \n",
      " 17  Deaths_Mali          12 non-null     float64       \n",
      " 18  Date_Dt              122 non-null    datetime64[ns]\n",
      "dtypes: datetime64[ns](1), float64(16), int64(1), object(1)\n",
      "memory usage: 18.2+ KB\n"
     ]
    }
   ],
   "source": [
    "ebola['Date_Dt'] = pd.to_datetime(ebola['Date'])\n",
    "ebola.info()"
   ]
  },
  {
   "cell_type": "markdown",
   "id": "cc5cebfd",
   "metadata": {},
   "source": [
    "## 如果数据中包含日期时间数据，可以在加载的时候，通过parse_dates参数指定自动转换为 datetime`"
   ]
  },
  {
   "cell_type": "code",
   "execution_count": 11,
   "id": "595cddf8",
   "metadata": {
    "ExecuteTime": {
     "end_time": "2022-12-28T11:30:43.695387Z",
     "start_time": "2022-12-28T11:30:43.680427Z"
    }
   },
   "outputs": [
    {
     "name": "stdout",
     "output_type": "stream",
     "text": [
      "<class 'pandas.core.frame.DataFrame'>\n",
      "RangeIndex: 122 entries, 0 to 121\n",
      "Data columns (total 18 columns):\n",
      " #   Column               Non-Null Count  Dtype         \n",
      "---  ------               --------------  -----         \n",
      " 0   Date                 122 non-null    datetime64[ns]\n",
      " 1   Day                  122 non-null    int64         \n",
      " 2   Cases_Guinea         93 non-null     float64       \n",
      " 3   Cases_Liberia        83 non-null     float64       \n",
      " 4   Cases_SierraLeone    87 non-null     float64       \n",
      " 5   Cases_Nigeria        38 non-null     float64       \n",
      " 6   Cases_Senegal        25 non-null     float64       \n",
      " 7   Cases_UnitedStates   18 non-null     float64       \n",
      " 8   Cases_Spain          16 non-null     float64       \n",
      " 9   Cases_Mali           12 non-null     float64       \n",
      " 10  Deaths_Guinea        92 non-null     float64       \n",
      " 11  Deaths_Liberia       81 non-null     float64       \n",
      " 12  Deaths_SierraLeone   87 non-null     float64       \n",
      " 13  Deaths_Nigeria       38 non-null     float64       \n",
      " 14  Deaths_Senegal       22 non-null     float64       \n",
      " 15  Deaths_UnitedStates  18 non-null     float64       \n",
      " 16  Deaths_Spain         16 non-null     float64       \n",
      " 17  Deaths_Mali          12 non-null     float64       \n",
      "dtypes: datetime64[ns](1), float64(16), int64(1)\n",
      "memory usage: 17.3 KB\n"
     ]
    }
   ],
   "source": [
    "ebola = pd.read_csv('./data/country_timeseries.csv',parse_dates=['Date'])\n",
    "ebola.info()"
   ]
  },
  {
   "cell_type": "markdown",
   "id": "38e24ada",
   "metadata": {},
   "source": [
    "# 提取 datetime 的各个部分"
   ]
  },
  {
   "cell_type": "markdown",
   "id": "80417083",
   "metadata": {},
   "source": [
    "## 获取了一个 datetime 对象，就可以提取日期的各个部分了"
   ]
  },
  {
   "cell_type": "code",
   "execution_count": 12,
   "id": "2765dbc4",
   "metadata": {
    "ExecuteTime": {
     "end_time": "2022-12-28T11:30:43.710346Z",
     "start_time": "2022-12-28T11:30:43.700373Z"
    }
   },
   "outputs": [
    {
     "data": {
      "text/plain": [
       "Timestamp('2022-10-20 00:00:00')"
      ]
     },
     "execution_count": 12,
     "metadata": {},
     "output_type": "execute_result"
    }
   ],
   "source": [
    "dt = pd.to_datetime('2022-10-20')\n",
    "dt"
   ]
  },
  {
   "cell_type": "markdown",
   "id": "dba76b68",
   "metadata": {},
   "source": [
    "- 可以看到得到的数据是Timestamp类型，通过Timestamp可以获取年、月、日等部分"
   ]
  },
  {
   "cell_type": "code",
   "execution_count": 13,
   "id": "fe7d5cfd",
   "metadata": {
    "ExecuteTime": {
     "end_time": "2022-12-28T11:30:43.725345Z",
     "start_time": "2022-12-28T11:30:43.711344Z"
    }
   },
   "outputs": [
    {
     "data": {
      "text/plain": [
       "2022"
      ]
     },
     "execution_count": 13,
     "metadata": {},
     "output_type": "execute_result"
    }
   ],
   "source": [
    "dt.year"
   ]
  },
  {
   "cell_type": "code",
   "execution_count": 14,
   "id": "e22fe4bd",
   "metadata": {
    "ExecuteTime": {
     "end_time": "2022-12-28T11:30:43.741264Z",
     "start_time": "2022-12-28T11:30:43.726304Z"
    }
   },
   "outputs": [
    {
     "data": {
      "text/plain": [
       "10"
      ]
     },
     "execution_count": 14,
     "metadata": {},
     "output_type": "execute_result"
    }
   ],
   "source": [
    "dt.month"
   ]
  },
  {
   "cell_type": "code",
   "execution_count": 15,
   "id": "4384efad",
   "metadata": {
    "ExecuteTime": {
     "end_time": "2022-12-28T11:30:43.757222Z",
     "start_time": "2022-12-28T11:30:43.742262Z"
    }
   },
   "outputs": [
    {
     "data": {
      "text/plain": [
       "20"
      ]
     },
     "execution_count": 15,
     "metadata": {},
     "output_type": "execute_result"
    }
   ],
   "source": [
    "dt.day"
   ]
  },
  {
   "cell_type": "markdown",
   "id": "d4cef20c",
   "metadata": {},
   "source": [
    "## 通过 ebola 数据集的 Date 列，创建新列 year、month、day"
   ]
  },
  {
   "cell_type": "code",
   "execution_count": 16,
   "id": "e79f4e7b",
   "metadata": {
    "ExecuteTime": {
     "end_time": "2022-12-28T11:30:43.773180Z",
     "start_time": "2022-12-28T11:30:43.758219Z"
    }
   },
   "outputs": [
    {
     "data": {
      "text/plain": [
       "0      2015\n",
       "1      2015\n",
       "2      2015\n",
       "3      2015\n",
       "4      2014\n",
       "       ... \n",
       "117    2014\n",
       "118    2014\n",
       "119    2014\n",
       "120    2014\n",
       "121    2014\n",
       "Name: year, Length: 122, dtype: int64"
      ]
     },
     "execution_count": 16,
     "metadata": {},
     "output_type": "execute_result"
    }
   ],
   "source": [
    "ebola['year'] = ebola['Date'].dt.year\n",
    "ebola['year']"
   ]
  },
  {
   "cell_type": "code",
   "execution_count": 17,
   "id": "17cba65f",
   "metadata": {
    "ExecuteTime": {
     "end_time": "2022-12-28T11:30:43.789137Z",
     "start_time": "2022-12-28T11:30:43.774176Z"
    }
   },
   "outputs": [
    {
     "data": {
      "text/plain": [
       "0       1\n",
       "1       1\n",
       "2       1\n",
       "3       1\n",
       "4      12\n",
       "       ..\n",
       "117     3\n",
       "118     3\n",
       "119     3\n",
       "120     3\n",
       "121     3\n",
       "Name: month, Length: 122, dtype: int64"
      ]
     },
     "execution_count": 17,
     "metadata": {},
     "output_type": "execute_result"
    }
   ],
   "source": [
    "ebola['month'] = ebola['Date'].dt.month\n",
    "ebola['month']"
   ]
  },
  {
   "cell_type": "code",
   "execution_count": 18,
   "id": "88b50977",
   "metadata": {
    "ExecuteTime": {
     "end_time": "2022-12-28T11:30:43.805094Z",
     "start_time": "2022-12-28T11:30:43.791131Z"
    }
   },
   "outputs": [
    {
     "data": {
      "text/plain": [
       "0       5\n",
       "1       4\n",
       "2       3\n",
       "3       2\n",
       "4      31\n",
       "       ..\n",
       "117    27\n",
       "118    26\n",
       "119    25\n",
       "120    24\n",
       "121    22\n",
       "Name: day, Length: 122, dtype: int64"
      ]
     },
     "execution_count": 18,
     "metadata": {},
     "output_type": "execute_result"
    }
   ],
   "source": [
    "ebola['day'] = ebola['Date'].dt.day\n",
    "ebola['day']"
   ]
  },
  {
   "cell_type": "code",
   "execution_count": 19,
   "id": "c32d3604",
   "metadata": {
    "ExecuteTime": {
     "end_time": "2022-12-28T11:30:43.820054Z",
     "start_time": "2022-12-28T11:30:43.807089Z"
    }
   },
   "outputs": [
    {
     "data": {
      "text/html": [
       "<div>\n",
       "<style scoped>\n",
       "    .dataframe tbody tr th:only-of-type {\n",
       "        vertical-align: middle;\n",
       "    }\n",
       "\n",
       "    .dataframe tbody tr th {\n",
       "        vertical-align: top;\n",
       "    }\n",
       "\n",
       "    .dataframe thead th {\n",
       "        text-align: right;\n",
       "    }\n",
       "</style>\n",
       "<table border=\"1\" class=\"dataframe\">\n",
       "  <thead>\n",
       "    <tr style=\"text-align: right;\">\n",
       "      <th></th>\n",
       "      <th>Date</th>\n",
       "      <th>year</th>\n",
       "      <th>month</th>\n",
       "      <th>day</th>\n",
       "    </tr>\n",
       "  </thead>\n",
       "  <tbody>\n",
       "    <tr>\n",
       "      <th>0</th>\n",
       "      <td>2015-01-05</td>\n",
       "      <td>2015</td>\n",
       "      <td>1</td>\n",
       "      <td>5</td>\n",
       "    </tr>\n",
       "    <tr>\n",
       "      <th>1</th>\n",
       "      <td>2015-01-04</td>\n",
       "      <td>2015</td>\n",
       "      <td>1</td>\n",
       "      <td>4</td>\n",
       "    </tr>\n",
       "    <tr>\n",
       "      <th>2</th>\n",
       "      <td>2015-01-03</td>\n",
       "      <td>2015</td>\n",
       "      <td>1</td>\n",
       "      <td>3</td>\n",
       "    </tr>\n",
       "    <tr>\n",
       "      <th>3</th>\n",
       "      <td>2015-01-02</td>\n",
       "      <td>2015</td>\n",
       "      <td>1</td>\n",
       "      <td>2</td>\n",
       "    </tr>\n",
       "    <tr>\n",
       "      <th>4</th>\n",
       "      <td>2014-12-31</td>\n",
       "      <td>2014</td>\n",
       "      <td>12</td>\n",
       "      <td>31</td>\n",
       "    </tr>\n",
       "  </tbody>\n",
       "</table>\n",
       "</div>"
      ],
      "text/plain": [
       "        Date  year  month  day\n",
       "0 2015-01-05  2015      1    5\n",
       "1 2015-01-04  2015      1    4\n",
       "2 2015-01-03  2015      1    3\n",
       "3 2015-01-02  2015      1    2\n",
       "4 2014-12-31  2014     12   31"
      ]
     },
     "execution_count": 19,
     "metadata": {},
     "output_type": "execute_result"
    }
   ],
   "source": [
    "ebola[['Date','year','month','day']].head()"
   ]
  },
  {
   "cell_type": "code",
   "execution_count": 20,
   "id": "565047dd",
   "metadata": {
    "ExecuteTime": {
     "end_time": "2022-12-28T11:30:43.835012Z",
     "start_time": "2022-12-28T11:30:43.822049Z"
    }
   },
   "outputs": [
    {
     "name": "stdout",
     "output_type": "stream",
     "text": [
      "<class 'pandas.core.frame.DataFrame'>\n",
      "RangeIndex: 122 entries, 0 to 121\n",
      "Data columns (total 21 columns):\n",
      " #   Column               Non-Null Count  Dtype         \n",
      "---  ------               --------------  -----         \n",
      " 0   Date                 122 non-null    datetime64[ns]\n",
      " 1   Day                  122 non-null    int64         \n",
      " 2   Cases_Guinea         93 non-null     float64       \n",
      " 3   Cases_Liberia        83 non-null     float64       \n",
      " 4   Cases_SierraLeone    87 non-null     float64       \n",
      " 5   Cases_Nigeria        38 non-null     float64       \n",
      " 6   Cases_Senegal        25 non-null     float64       \n",
      " 7   Cases_UnitedStates   18 non-null     float64       \n",
      " 8   Cases_Spain          16 non-null     float64       \n",
      " 9   Cases_Mali           12 non-null     float64       \n",
      " 10  Deaths_Guinea        92 non-null     float64       \n",
      " 11  Deaths_Liberia       81 non-null     float64       \n",
      " 12  Deaths_SierraLeone   87 non-null     float64       \n",
      " 13  Deaths_Nigeria       38 non-null     float64       \n",
      " 14  Deaths_Senegal       22 non-null     float64       \n",
      " 15  Deaths_UnitedStates  18 non-null     float64       \n",
      " 16  Deaths_Spain         16 non-null     float64       \n",
      " 17  Deaths_Mali          12 non-null     float64       \n",
      " 18  year                 122 non-null    int64         \n",
      " 19  month                122 non-null    int64         \n",
      " 20  day                  122 non-null    int64         \n",
      "dtypes: datetime64[ns](1), float64(16), int64(4)\n",
      "memory usage: 20.1 KB\n"
     ]
    }
   ],
   "source": [
    "ebola.info()"
   ]
  },
  {
   "cell_type": "markdown",
   "id": "85602a9e",
   "metadata": {},
   "source": [
    "# 日期运算和Timedelta"
   ]
  },
  {
   "cell_type": "markdown",
   "id": "6a459be0",
   "metadata": {},
   "source": [
    "- Ebola 数据集中的 Day 列表示一个国家爆发 Ebola 疫情的天数。这一列数据可以通过日期运算重建该列俊辉"
   ]
  },
  {
   "cell_type": "markdown",
   "id": "51ac4f92",
   "metadata": {},
   "source": [
    "## 获取疫情爆发的第一天"
   ]
  },
  {
   "cell_type": "code",
   "execution_count": 21,
   "id": "3dbd9eac",
   "metadata": {
    "ExecuteTime": {
     "end_time": "2022-12-28T11:30:43.850970Z",
     "start_time": "2022-12-28T11:30:43.836009Z"
    }
   },
   "outputs": [
    {
     "data": {
      "text/plain": [
       "Timestamp('2014-03-22 00:00:00')"
      ]
     },
     "execution_count": 21,
     "metadata": {},
     "output_type": "execute_result"
    }
   ],
   "source": [
    "ebola['Date'].min()"
   ]
  },
  {
   "cell_type": "markdown",
   "id": "4e36755a",
   "metadata": {},
   "source": [
    "- 结果说明：疫情爆发的第一天（数据集中最早的一天）是2014-03-22"
   ]
  },
  {
   "cell_type": "markdown",
   "id": "64844f29",
   "metadata": {},
   "source": [
    "## 计算疫情爆发的天数时，只需要用每个日期减去这个日期即可"
   ]
  },
  {
   "cell_type": "code",
   "execution_count": 22,
   "id": "8891da85",
   "metadata": {
    "ExecuteTime": {
     "end_time": "2022-12-28T11:30:43.865931Z",
     "start_time": "2022-12-28T11:30:43.851987Z"
    }
   },
   "outputs": [
    {
     "data": {
      "text/html": [
       "<div>\n",
       "<style scoped>\n",
       "    .dataframe tbody tr th:only-of-type {\n",
       "        vertical-align: middle;\n",
       "    }\n",
       "\n",
       "    .dataframe tbody tr th {\n",
       "        vertical-align: top;\n",
       "    }\n",
       "\n",
       "    .dataframe thead th {\n",
       "        text-align: right;\n",
       "    }\n",
       "</style>\n",
       "<table border=\"1\" class=\"dataframe\">\n",
       "  <thead>\n",
       "    <tr style=\"text-align: right;\">\n",
       "      <th></th>\n",
       "      <th>Date</th>\n",
       "      <th>Day</th>\n",
       "      <th>outbreak_day</th>\n",
       "    </tr>\n",
       "  </thead>\n",
       "  <tbody>\n",
       "    <tr>\n",
       "      <th>0</th>\n",
       "      <td>2015-01-05</td>\n",
       "      <td>289</td>\n",
       "      <td>289 days</td>\n",
       "    </tr>\n",
       "    <tr>\n",
       "      <th>1</th>\n",
       "      <td>2015-01-04</td>\n",
       "      <td>288</td>\n",
       "      <td>288 days</td>\n",
       "    </tr>\n",
       "    <tr>\n",
       "      <th>2</th>\n",
       "      <td>2015-01-03</td>\n",
       "      <td>287</td>\n",
       "      <td>287 days</td>\n",
       "    </tr>\n",
       "    <tr>\n",
       "      <th>3</th>\n",
       "      <td>2015-01-02</td>\n",
       "      <td>286</td>\n",
       "      <td>286 days</td>\n",
       "    </tr>\n",
       "    <tr>\n",
       "      <th>4</th>\n",
       "      <td>2014-12-31</td>\n",
       "      <td>284</td>\n",
       "      <td>284 days</td>\n",
       "    </tr>\n",
       "    <tr>\n",
       "      <th>...</th>\n",
       "      <td>...</td>\n",
       "      <td>...</td>\n",
       "      <td>...</td>\n",
       "    </tr>\n",
       "    <tr>\n",
       "      <th>117</th>\n",
       "      <td>2014-03-27</td>\n",
       "      <td>5</td>\n",
       "      <td>5 days</td>\n",
       "    </tr>\n",
       "    <tr>\n",
       "      <th>118</th>\n",
       "      <td>2014-03-26</td>\n",
       "      <td>4</td>\n",
       "      <td>4 days</td>\n",
       "    </tr>\n",
       "    <tr>\n",
       "      <th>119</th>\n",
       "      <td>2014-03-25</td>\n",
       "      <td>3</td>\n",
       "      <td>3 days</td>\n",
       "    </tr>\n",
       "    <tr>\n",
       "      <th>120</th>\n",
       "      <td>2014-03-24</td>\n",
       "      <td>2</td>\n",
       "      <td>2 days</td>\n",
       "    </tr>\n",
       "    <tr>\n",
       "      <th>121</th>\n",
       "      <td>2014-03-22</td>\n",
       "      <td>0</td>\n",
       "      <td>0 days</td>\n",
       "    </tr>\n",
       "  </tbody>\n",
       "</table>\n",
       "<p>122 rows × 3 columns</p>\n",
       "</div>"
      ],
      "text/plain": [
       "          Date  Day outbreak_day\n",
       "0   2015-01-05  289     289 days\n",
       "1   2015-01-04  288     288 days\n",
       "2   2015-01-03  287     287 days\n",
       "3   2015-01-02  286     286 days\n",
       "4   2014-12-31  284     284 days\n",
       "..         ...  ...          ...\n",
       "117 2014-03-27    5       5 days\n",
       "118 2014-03-26    4       4 days\n",
       "119 2014-03-25    3       3 days\n",
       "120 2014-03-24    2       2 days\n",
       "121 2014-03-22    0       0 days\n",
       "\n",
       "[122 rows x 3 columns]"
      ]
     },
     "execution_count": 22,
     "metadata": {},
     "output_type": "execute_result"
    }
   ],
   "source": [
    "ebola['outbreak_day'] = ebola['Date'] - ebola['Date'].min()\n",
    "ebola[['Date','Day','outbreak_day']]"
   ]
  },
  {
   "cell_type": "code",
   "execution_count": 23,
   "id": "57acdee7",
   "metadata": {
    "ExecuteTime": {
     "end_time": "2022-12-28T11:30:43.880890Z",
     "start_time": "2022-12-28T11:30:43.867925Z"
    }
   },
   "outputs": [
    {
     "data": {
      "text/html": [
       "<div>\n",
       "<style scoped>\n",
       "    .dataframe tbody tr th:only-of-type {\n",
       "        vertical-align: middle;\n",
       "    }\n",
       "\n",
       "    .dataframe tbody tr th {\n",
       "        vertical-align: top;\n",
       "    }\n",
       "\n",
       "    .dataframe thead th {\n",
       "        text-align: right;\n",
       "    }\n",
       "</style>\n",
       "<table border=\"1\" class=\"dataframe\">\n",
       "  <thead>\n",
       "    <tr style=\"text-align: right;\">\n",
       "      <th></th>\n",
       "      <th>Date</th>\n",
       "      <th>Day</th>\n",
       "      <th>outbreak_day</th>\n",
       "    </tr>\n",
       "  </thead>\n",
       "  <tbody>\n",
       "    <tr>\n",
       "      <th>117</th>\n",
       "      <td>2014-03-27</td>\n",
       "      <td>5</td>\n",
       "      <td>5 days</td>\n",
       "    </tr>\n",
       "    <tr>\n",
       "      <th>118</th>\n",
       "      <td>2014-03-26</td>\n",
       "      <td>4</td>\n",
       "      <td>4 days</td>\n",
       "    </tr>\n",
       "    <tr>\n",
       "      <th>119</th>\n",
       "      <td>2014-03-25</td>\n",
       "      <td>3</td>\n",
       "      <td>3 days</td>\n",
       "    </tr>\n",
       "    <tr>\n",
       "      <th>120</th>\n",
       "      <td>2014-03-24</td>\n",
       "      <td>2</td>\n",
       "      <td>2 days</td>\n",
       "    </tr>\n",
       "    <tr>\n",
       "      <th>121</th>\n",
       "      <td>2014-03-22</td>\n",
       "      <td>0</td>\n",
       "      <td>0 days</td>\n",
       "    </tr>\n",
       "  </tbody>\n",
       "</table>\n",
       "</div>"
      ],
      "text/plain": [
       "          Date  Day outbreak_day\n",
       "117 2014-03-27    5       5 days\n",
       "118 2014-03-26    4       4 days\n",
       "119 2014-03-25    3       3 days\n",
       "120 2014-03-24    2       2 days\n",
       "121 2014-03-22    0       0 days"
      ]
     },
     "execution_count": 23,
     "metadata": {},
     "output_type": "execute_result"
    }
   ],
   "source": [
    "ebola[['Date','Day','outbreak_day']].tail()"
   ]
  },
  {
   "cell_type": "markdown",
   "id": "0e9e26a7",
   "metadata": {},
   "source": [
    "## 执行这种日期运算，会得到一个timedelta对象"
   ]
  },
  {
   "cell_type": "code",
   "execution_count": 24,
   "id": "0ff4e17b",
   "metadata": {
    "ExecuteTime": {
     "end_time": "2022-12-28T11:30:43.896847Z",
     "start_time": "2022-12-28T11:30:43.881888Z"
    }
   },
   "outputs": [
    {
     "name": "stdout",
     "output_type": "stream",
     "text": [
      "<class 'pandas.core.frame.DataFrame'>\n",
      "RangeIndex: 122 entries, 0 to 121\n",
      "Data columns (total 22 columns):\n",
      " #   Column               Non-Null Count  Dtype          \n",
      "---  ------               --------------  -----          \n",
      " 0   Date                 122 non-null    datetime64[ns] \n",
      " 1   Day                  122 non-null    int64          \n",
      " 2   Cases_Guinea         93 non-null     float64        \n",
      " 3   Cases_Liberia        83 non-null     float64        \n",
      " 4   Cases_SierraLeone    87 non-null     float64        \n",
      " 5   Cases_Nigeria        38 non-null     float64        \n",
      " 6   Cases_Senegal        25 non-null     float64        \n",
      " 7   Cases_UnitedStates   18 non-null     float64        \n",
      " 8   Cases_Spain          16 non-null     float64        \n",
      " 9   Cases_Mali           12 non-null     float64        \n",
      " 10  Deaths_Guinea        92 non-null     float64        \n",
      " 11  Deaths_Liberia       81 non-null     float64        \n",
      " 12  Deaths_SierraLeone   87 non-null     float64        \n",
      " 13  Deaths_Nigeria       38 non-null     float64        \n",
      " 14  Deaths_Senegal       22 non-null     float64        \n",
      " 15  Deaths_UnitedStates  18 non-null     float64        \n",
      " 16  Deaths_Spain         16 non-null     float64        \n",
      " 17  Deaths_Mali          12 non-null     float64        \n",
      " 18  year                 122 non-null    int64          \n",
      " 19  month                122 non-null    int64          \n",
      " 20  day                  122 non-null    int64          \n",
      " 21  outbreak_day         122 non-null    timedelta64[ns]\n",
      "dtypes: datetime64[ns](1), float64(16), int64(4), timedelta64[ns](1)\n",
      "memory usage: 21.1 KB\n"
     ]
    }
   ],
   "source": [
    "ebola.info()"
   ]
  },
  {
   "cell_type": "markdown",
   "id": "9ddff8a2",
   "metadata": {},
   "source": [
    "# 案例：银行数据分析"
   ]
  },
  {
   "cell_type": "markdown",
   "id": "3945f094",
   "metadata": {},
   "source": [
    "## 加载 banklist.csv 数据，并查看数据信息"
   ]
  },
  {
   "cell_type": "code",
   "execution_count": 25,
   "id": "f4510262",
   "metadata": {
    "ExecuteTime": {
     "end_time": "2022-12-28T11:30:44.021544Z",
     "start_time": "2022-12-28T11:30:43.897844Z"
    }
   },
   "outputs": [
    {
     "data": {
      "text/html": [
       "<div>\n",
       "<style scoped>\n",
       "    .dataframe tbody tr th:only-of-type {\n",
       "        vertical-align: middle;\n",
       "    }\n",
       "\n",
       "    .dataframe tbody tr th {\n",
       "        vertical-align: top;\n",
       "    }\n",
       "\n",
       "    .dataframe thead th {\n",
       "        text-align: right;\n",
       "    }\n",
       "</style>\n",
       "<table border=\"1\" class=\"dataframe\">\n",
       "  <thead>\n",
       "    <tr style=\"text-align: right;\">\n",
       "      <th></th>\n",
       "      <th>Bank Name</th>\n",
       "      <th>City</th>\n",
       "      <th>ST</th>\n",
       "      <th>CERT</th>\n",
       "      <th>Acquiring Institution</th>\n",
       "      <th>Closing Date</th>\n",
       "      <th>Updated Date</th>\n",
       "    </tr>\n",
       "  </thead>\n",
       "  <tbody>\n",
       "    <tr>\n",
       "      <th>0</th>\n",
       "      <td>Fayette County Bank</td>\n",
       "      <td>Saint Elmo</td>\n",
       "      <td>IL</td>\n",
       "      <td>1802</td>\n",
       "      <td>United Fidelity Bank, fsb</td>\n",
       "      <td>26-May-17</td>\n",
       "      <td>26-Jul-17</td>\n",
       "    </tr>\n",
       "    <tr>\n",
       "      <th>1</th>\n",
       "      <td>Guaranty Bank, (d/b/a BestBank in Georgia &amp; Mi...</td>\n",
       "      <td>Milwaukee</td>\n",
       "      <td>WI</td>\n",
       "      <td>30003</td>\n",
       "      <td>First-Citizens Bank &amp; Trust Company</td>\n",
       "      <td>5-May-17</td>\n",
       "      <td>26-Jul-17</td>\n",
       "    </tr>\n",
       "    <tr>\n",
       "      <th>2</th>\n",
       "      <td>First NBC Bank</td>\n",
       "      <td>New Orleans</td>\n",
       "      <td>LA</td>\n",
       "      <td>58302</td>\n",
       "      <td>Whitney Bank</td>\n",
       "      <td>28-Apr-17</td>\n",
       "      <td>26-Jul-17</td>\n",
       "    </tr>\n",
       "    <tr>\n",
       "      <th>3</th>\n",
       "      <td>Proficio Bank</td>\n",
       "      <td>Cottonwood Heights</td>\n",
       "      <td>UT</td>\n",
       "      <td>35495</td>\n",
       "      <td>Cache Valley Bank</td>\n",
       "      <td>3-Mar-17</td>\n",
       "      <td>18-May-17</td>\n",
       "    </tr>\n",
       "    <tr>\n",
       "      <th>4</th>\n",
       "      <td>Seaway Bank and Trust Company</td>\n",
       "      <td>Chicago</td>\n",
       "      <td>IL</td>\n",
       "      <td>19328</td>\n",
       "      <td>State Bank of Texas</td>\n",
       "      <td>27-Jan-17</td>\n",
       "      <td>18-May-17</td>\n",
       "    </tr>\n",
       "  </tbody>\n",
       "</table>\n",
       "</div>"
      ],
      "text/plain": [
       "                                           Bank Name                City  ST  \\\n",
       "0                                Fayette County Bank          Saint Elmo  IL   \n",
       "1  Guaranty Bank, (d/b/a BestBank in Georgia & Mi...           Milwaukee  WI   \n",
       "2                                     First NBC Bank         New Orleans  LA   \n",
       "3                                      Proficio Bank  Cottonwood Heights  UT   \n",
       "4                      Seaway Bank and Trust Company             Chicago  IL   \n",
       "\n",
       "    CERT                Acquiring Institution Closing Date Updated Date  \n",
       "0   1802            United Fidelity Bank, fsb    26-May-17    26-Jul-17  \n",
       "1  30003  First-Citizens Bank & Trust Company     5-May-17    26-Jul-17  \n",
       "2  58302                         Whitney Bank    28-Apr-17    26-Jul-17  \n",
       "3  35495                    Cache Valley Bank     3-Mar-17    18-May-17  \n",
       "4  19328                  State Bank of Texas    27-Jan-17    18-May-17  "
      ]
     },
     "execution_count": 25,
     "metadata": {},
     "output_type": "execute_result"
    }
   ],
   "source": [
    "bank = pd.read_csv('./data/banklist.csv')\n",
    "bank.head()"
   ]
  },
  {
   "cell_type": "code",
   "execution_count": 26,
   "id": "7789724d",
   "metadata": {
    "ExecuteTime": {
     "end_time": "2022-12-28T11:30:44.036510Z",
     "start_time": "2022-12-28T11:30:44.023508Z"
    }
   },
   "outputs": [
    {
     "name": "stdout",
     "output_type": "stream",
     "text": [
      "<class 'pandas.core.frame.DataFrame'>\n",
      "RangeIndex: 553 entries, 0 to 552\n",
      "Data columns (total 7 columns):\n",
      " #   Column                 Non-Null Count  Dtype \n",
      "---  ------                 --------------  ----- \n",
      " 0   Bank Name              553 non-null    object\n",
      " 1   City                   553 non-null    object\n",
      " 2   ST                     553 non-null    object\n",
      " 3   CERT                   553 non-null    int64 \n",
      " 4   Acquiring Institution  553 non-null    object\n",
      " 5   Closing Date           553 non-null    object\n",
      " 6   Updated Date           553 non-null    object\n",
      "dtypes: int64(1), object(6)\n",
      "memory usage: 30.4+ KB\n"
     ]
    }
   ],
   "source": [
    "bank.info()"
   ]
  },
  {
   "cell_type": "markdown",
   "id": "9d7c9472",
   "metadata": {},
   "source": [
    "## 重新加载 banklist.csv 数据，并指定把 Closing Date 和 Updated Date 转换为datetime类型"
   ]
  },
  {
   "cell_type": "code",
   "execution_count": 27,
   "id": "f8b67328",
   "metadata": {
    "ExecuteTime": {
     "end_time": "2022-12-28T11:30:44.129225Z",
     "start_time": "2022-12-28T11:30:44.037471Z"
    }
   },
   "outputs": [
    {
     "name": "stdout",
     "output_type": "stream",
     "text": [
      "<class 'pandas.core.frame.DataFrame'>\n",
      "RangeIndex: 553 entries, 0 to 552\n",
      "Data columns (total 7 columns):\n",
      " #   Column                 Non-Null Count  Dtype         \n",
      "---  ------                 --------------  -----         \n",
      " 0   Bank Name              553 non-null    object        \n",
      " 1   City                   553 non-null    object        \n",
      " 2   ST                     553 non-null    object        \n",
      " 3   CERT                   553 non-null    int64         \n",
      " 4   Acquiring Institution  553 non-null    object        \n",
      " 5   Closing Date           553 non-null    datetime64[ns]\n",
      " 6   Updated Date           553 non-null    datetime64[ns]\n",
      "dtypes: datetime64[ns](2), int64(1), object(4)\n",
      "memory usage: 30.4+ KB\n"
     ]
    }
   ],
   "source": [
    "banks = pd.read_csv('./data/banklist.csv',parse_dates=['Closing Date','Updated Date'])\n",
    "banks.info()"
   ]
  },
  {
   "cell_type": "markdown",
   "id": "cc15dc8b",
   "metadata": {},
   "source": [
    "## 添加两列，分别表示银行破产的季度和年份"
   ]
  },
  {
   "cell_type": "code",
   "execution_count": 28,
   "id": "e672aec1",
   "metadata": {
    "ExecuteTime": {
     "end_time": "2022-12-28T11:30:44.160142Z",
     "start_time": "2022-12-28T11:30:44.135209Z"
    }
   },
   "outputs": [
    {
     "data": {
      "text/html": [
       "<div>\n",
       "<style scoped>\n",
       "    .dataframe tbody tr th:only-of-type {\n",
       "        vertical-align: middle;\n",
       "    }\n",
       "\n",
       "    .dataframe tbody tr th {\n",
       "        vertical-align: top;\n",
       "    }\n",
       "\n",
       "    .dataframe thead th {\n",
       "        text-align: right;\n",
       "    }\n",
       "</style>\n",
       "<table border=\"1\" class=\"dataframe\">\n",
       "  <thead>\n",
       "    <tr style=\"text-align: right;\">\n",
       "      <th></th>\n",
       "      <th>Bank Name</th>\n",
       "      <th>City</th>\n",
       "      <th>ST</th>\n",
       "      <th>CERT</th>\n",
       "      <th>Acquiring Institution</th>\n",
       "      <th>Closing Date</th>\n",
       "      <th>Updated Date</th>\n",
       "      <th>Closing Quarter</th>\n",
       "      <th>Closing Year</th>\n",
       "    </tr>\n",
       "  </thead>\n",
       "  <tbody>\n",
       "    <tr>\n",
       "      <th>0</th>\n",
       "      <td>Fayette County Bank</td>\n",
       "      <td>Saint Elmo</td>\n",
       "      <td>IL</td>\n",
       "      <td>1802</td>\n",
       "      <td>United Fidelity Bank, fsb</td>\n",
       "      <td>2017-05-26</td>\n",
       "      <td>2017-07-26</td>\n",
       "      <td>2</td>\n",
       "      <td>2017</td>\n",
       "    </tr>\n",
       "    <tr>\n",
       "      <th>1</th>\n",
       "      <td>Guaranty Bank, (d/b/a BestBank in Georgia &amp; Mi...</td>\n",
       "      <td>Milwaukee</td>\n",
       "      <td>WI</td>\n",
       "      <td>30003</td>\n",
       "      <td>First-Citizens Bank &amp; Trust Company</td>\n",
       "      <td>2017-05-05</td>\n",
       "      <td>2017-07-26</td>\n",
       "      <td>2</td>\n",
       "      <td>2017</td>\n",
       "    </tr>\n",
       "    <tr>\n",
       "      <th>2</th>\n",
       "      <td>First NBC Bank</td>\n",
       "      <td>New Orleans</td>\n",
       "      <td>LA</td>\n",
       "      <td>58302</td>\n",
       "      <td>Whitney Bank</td>\n",
       "      <td>2017-04-28</td>\n",
       "      <td>2017-07-26</td>\n",
       "      <td>2</td>\n",
       "      <td>2017</td>\n",
       "    </tr>\n",
       "    <tr>\n",
       "      <th>3</th>\n",
       "      <td>Proficio Bank</td>\n",
       "      <td>Cottonwood Heights</td>\n",
       "      <td>UT</td>\n",
       "      <td>35495</td>\n",
       "      <td>Cache Valley Bank</td>\n",
       "      <td>2017-03-03</td>\n",
       "      <td>2017-05-18</td>\n",
       "      <td>1</td>\n",
       "      <td>2017</td>\n",
       "    </tr>\n",
       "    <tr>\n",
       "      <th>4</th>\n",
       "      <td>Seaway Bank and Trust Company</td>\n",
       "      <td>Chicago</td>\n",
       "      <td>IL</td>\n",
       "      <td>19328</td>\n",
       "      <td>State Bank of Texas</td>\n",
       "      <td>2017-01-27</td>\n",
       "      <td>2017-05-18</td>\n",
       "      <td>1</td>\n",
       "      <td>2017</td>\n",
       "    </tr>\n",
       "  </tbody>\n",
       "</table>\n",
       "</div>"
      ],
      "text/plain": [
       "                                           Bank Name                City  ST  \\\n",
       "0                                Fayette County Bank          Saint Elmo  IL   \n",
       "1  Guaranty Bank, (d/b/a BestBank in Georgia & Mi...           Milwaukee  WI   \n",
       "2                                     First NBC Bank         New Orleans  LA   \n",
       "3                                      Proficio Bank  Cottonwood Heights  UT   \n",
       "4                      Seaway Bank and Trust Company             Chicago  IL   \n",
       "\n",
       "    CERT                Acquiring Institution Closing Date Updated Date  \\\n",
       "0   1802            United Fidelity Bank, fsb   2017-05-26   2017-07-26   \n",
       "1  30003  First-Citizens Bank & Trust Company   2017-05-05   2017-07-26   \n",
       "2  58302                         Whitney Bank   2017-04-28   2017-07-26   \n",
       "3  35495                    Cache Valley Bank   2017-03-03   2017-05-18   \n",
       "4  19328                  State Bank of Texas   2017-01-27   2017-05-18   \n",
       "\n",
       "   Closing Quarter  Closing Year  \n",
       "0                2          2017  \n",
       "1                2          2017  \n",
       "2                2          2017  \n",
       "3                1          2017  \n",
       "4                1          2017  "
      ]
     },
     "execution_count": 28,
     "metadata": {},
     "output_type": "execute_result"
    }
   ],
   "source": [
    "banks['Closing Quarter'],banks['Closing Year'] = banks['Closing Date'].dt.quarter,banks['Closing Date'].dt.year\n",
    "banks.head()"
   ]
  },
  {
   "cell_type": "markdown",
   "id": "9ea31e4e",
   "metadata": {},
   "source": [
    "## 可以根据新添加的两列，计算每年破产银行数量以及计算每年每季度破产银行数量"
   ]
  },
  {
   "cell_type": "code",
   "execution_count": 29,
   "id": "134843e4",
   "metadata": {
    "ExecuteTime": {
     "end_time": "2022-12-28T11:30:44.176133Z",
     "start_time": "2022-12-28T11:30:44.162138Z"
    }
   },
   "outputs": [
    {
     "data": {
      "text/plain": [
       "Closing Year\n",
       "2000      2\n",
       "2001      4\n",
       "2002     11\n",
       "2003      3\n",
       "2004      4\n",
       "2007      3\n",
       "2008     25\n",
       "2009    140\n",
       "2010    157\n",
       "2011     92\n",
       "2012     51\n",
       "2013     24\n",
       "2014     18\n",
       "2015      8\n",
       "2016      5\n",
       "2017      6\n",
       "dtype: int64"
      ]
     },
     "execution_count": 29,
     "metadata": {},
     "output_type": "execute_result"
    }
   ],
   "source": [
    "closing_year = banks.groupby('Closing Year').size()\n",
    "closing_year"
   ]
  },
  {
   "cell_type": "code",
   "execution_count": 30,
   "id": "af2a3184",
   "metadata": {
    "ExecuteTime": {
     "end_time": "2022-12-28T11:30:44.708687Z",
     "start_time": "2022-12-28T11:30:44.178094Z"
    }
   },
   "outputs": [
    {
     "data": {
      "text/plain": [
       "<AxesSubplot: xlabel='Closing Year'>"
      ]
     },
     "execution_count": 30,
     "metadata": {},
     "output_type": "execute_result"
    },
    {
     "data": {
      "image/png": "[encoded data removed]",
      "text/plain": [
       "<Figure size 1600x800 with 1 Axes>"
      ]
     },
     "metadata": {},
     "output_type": "display_data"
    }
   ],
   "source": [
    "# pandas绘图\n",
    "closing_year.plot(figsize=(16,8))"
   ]
  },
  {
   "cell_type": "code",
   "execution_count": 31,
   "id": "cb7ec226",
   "metadata": {
    "ExecuteTime": {
     "end_time": "2022-12-28T11:30:44.723649Z",
     "start_time": "2022-12-28T11:30:44.713675Z"
    }
   },
   "outputs": [
    {
     "data": {
      "text/plain": [
       "Closing Year  Closing Quarter\n",
       "2000          4                   2\n",
       "2001          1                   1\n",
       "              2                   1\n",
       "              3                   2\n",
       "2002          1                   6\n",
       "              2                   2\n",
       "              3                   1\n",
       "              4                   2\n",
       "2003          1                   1\n",
       "              2                   1\n",
       "              4                   1\n",
       "2004          1                   3\n",
       "              2                   1\n",
       "2007          1                   1\n",
       "              3                   1\n",
       "              4                   1\n",
       "2008          1                   2\n",
       "              2                   2\n",
       "              3                   9\n",
       "              4                  12\n",
       "2009          1                  21\n",
       "              2                  24\n",
       "              3                  50\n",
       "              4                  45\n",
       "2010          1                  41\n",
       "              2                  45\n",
       "              3                  41\n",
       "              4                  30\n",
       "2011          1                  26\n",
       "              2                  22\n",
       "              3                  26\n",
       "              4                  18\n",
       "2012          1                  16\n",
       "              2                  15\n",
       "              3                  12\n",
       "              4                   8\n",
       "2013          1                   4\n",
       "              2                  12\n",
       "              3                   6\n",
       "              4                   2\n",
       "2014          1                   5\n",
       "              2                   7\n",
       "              3                   2\n",
       "              4                   4\n",
       "2015          1                   4\n",
       "              2                   1\n",
       "              3                   1\n",
       "              4                   2\n",
       "2016          1                   1\n",
       "              2                   2\n",
       "              3                   2\n",
       "2017          1                   3\n",
       "              2                   3\n",
       "dtype: int64"
      ]
     },
     "execution_count": 31,
     "metadata": {},
     "output_type": "execute_result"
    }
   ],
   "source": [
    "closing_year_quater = banks.groupby(['Closing Year','Closing Quarter']).size()\n",
    "closing_year_quater"
   ]
  },
  {
   "cell_type": "code",
   "execution_count": 32,
   "id": "aed1cbd7",
   "metadata": {
    "ExecuteTime": {
     "end_time": "2022-12-28T11:30:44.880844Z",
     "start_time": "2022-12-28T11:30:44.724647Z"
    }
   },
   "outputs": [
    {
     "data": {
      "text/plain": [
       "<AxesSubplot: xlabel='Closing Year,Closing Quarter'>"
      ]
     },
     "execution_count": 32,
     "metadata": {},
     "output_type": "execute_result"
    },
    {
     "data": {
      "image/png": "[encoded data removed]",
      "text/plain": [
       "<Figure size 1600x800 with 1 Axes>"
      ]
     },
     "metadata": {},
     "output_type": "display_data"
    }
   ],
   "source": [
    "closing_year_quater.plot(figsize=(16,8))"
   ]
  },
  {
   "cell_type": "markdown",
   "id": "b6e7ee80",
   "metadata": {},
   "source": [
    "# 案例：处理股票数据"
   ]
  },
  {
   "cell_type": "markdown",
   "id": "ee90e84f",
   "metadata": {},
   "source": [
    "- 股票价格是包含日期的典型数据俊辉"
   ]
  },
  {
   "cell_type": "markdown",
   "id": "5c66854d",
   "metadata": {},
   "source": [
    "## 加载股票数据集"
   ]
  },
  {
   "cell_type": "markdown",
   "id": "33c4b2f8",
   "metadata": {},
   "source": [
    "### 加载 TSLA.csv 股票数据"
   ]
  },
  {
   "cell_type": "code",
   "execution_count": 33,
   "id": "4ac7140e",
   "metadata": {
    "ExecuteTime": {
     "end_time": "2022-12-28T11:30:44.911291Z",
     "start_time": "2022-12-28T11:30:44.882840Z"
    }
   },
   "outputs": [
    {
     "data": {
      "text/html": [
       "<div>\n",
       "<style scoped>\n",
       "    .dataframe tbody tr th:only-of-type {\n",
       "        vertical-align: middle;\n",
       "    }\n",
       "\n",
       "    .dataframe tbody tr th {\n",
       "        vertical-align: top;\n",
       "    }\n",
       "\n",
       "    .dataframe thead th {\n",
       "        text-align: right;\n",
       "    }\n",
       "</style>\n",
       "<table border=\"1\" class=\"dataframe\">\n",
       "  <thead>\n",
       "    <tr style=\"text-align: right;\">\n",
       "      <th></th>\n",
       "      <th>Date</th>\n",
       "      <th>High</th>\n",
       "      <th>Low</th>\n",
       "      <th>Open</th>\n",
       "      <th>Close</th>\n",
       "      <th>Volume</th>\n",
       "      <th>Adj Close</th>\n",
       "    </tr>\n",
       "  </thead>\n",
       "  <tbody>\n",
       "    <tr>\n",
       "      <th>0</th>\n",
       "      <td>2015-08-19</td>\n",
       "      <td>260.649994</td>\n",
       "      <td>255.020004</td>\n",
       "      <td>260.329987</td>\n",
       "      <td>255.250000</td>\n",
       "      <td>3604300</td>\n",
       "      <td>255.250000</td>\n",
       "    </tr>\n",
       "    <tr>\n",
       "      <th>1</th>\n",
       "      <td>2015-08-20</td>\n",
       "      <td>254.559998</td>\n",
       "      <td>241.899994</td>\n",
       "      <td>252.059998</td>\n",
       "      <td>242.179993</td>\n",
       "      <td>4905800</td>\n",
       "      <td>242.179993</td>\n",
       "    </tr>\n",
       "    <tr>\n",
       "      <th>2</th>\n",
       "      <td>2015-08-21</td>\n",
       "      <td>243.800003</td>\n",
       "      <td>230.509995</td>\n",
       "      <td>236.000000</td>\n",
       "      <td>230.770004</td>\n",
       "      <td>6590200</td>\n",
       "      <td>230.770004</td>\n",
       "    </tr>\n",
       "    <tr>\n",
       "      <th>3</th>\n",
       "      <td>2015-08-24</td>\n",
       "      <td>231.399994</td>\n",
       "      <td>195.000000</td>\n",
       "      <td>202.789993</td>\n",
       "      <td>218.869995</td>\n",
       "      <td>9581600</td>\n",
       "      <td>218.869995</td>\n",
       "    </tr>\n",
       "    <tr>\n",
       "      <th>4</th>\n",
       "      <td>2015-08-25</td>\n",
       "      <td>230.899994</td>\n",
       "      <td>219.119995</td>\n",
       "      <td>230.520004</td>\n",
       "      <td>220.029999</td>\n",
       "      <td>4327300</td>\n",
       "      <td>220.029999</td>\n",
       "    </tr>\n",
       "  </tbody>\n",
       "</table>\n",
       "</div>"
      ],
      "text/plain": [
       "         Date        High         Low        Open       Close   Volume  \\\n",
       "0  2015-08-19  260.649994  255.020004  260.329987  255.250000  3604300   \n",
       "1  2015-08-20  254.559998  241.899994  252.059998  242.179993  4905800   \n",
       "2  2015-08-21  243.800003  230.509995  236.000000  230.770004  6590200   \n",
       "3  2015-08-24  231.399994  195.000000  202.789993  218.869995  9581600   \n",
       "4  2015-08-25  230.899994  219.119995  230.520004  220.029999  4327300   \n",
       "\n",
       "    Adj Close  \n",
       "0  255.250000  \n",
       "1  242.179993  \n",
       "2  230.770004  \n",
       "3  218.869995  \n",
       "4  220.029999  "
      ]
     },
     "execution_count": 33,
     "metadata": {},
     "output_type": "execute_result"
    }
   ],
   "source": [
    "tesla = pd.read_csv('./data/TSLA.csv')\n",
    "tesla.head()"
   ]
  },
  {
   "cell_type": "code",
   "execution_count": 34,
   "id": "bb570717",
   "metadata": {
    "ExecuteTime": {
     "end_time": "2022-12-28T11:30:44.927213Z",
     "start_time": "2022-12-28T11:30:44.913250Z"
    }
   },
   "outputs": [
    {
     "name": "stdout",
     "output_type": "stream",
     "text": [
      "<class 'pandas.core.frame.DataFrame'>\n",
      "RangeIndex: 1215 entries, 0 to 1214\n",
      "Data columns (total 7 columns):\n",
      " #   Column     Non-Null Count  Dtype  \n",
      "---  ------     --------------  -----  \n",
      " 0   Date       1215 non-null   object \n",
      " 1   High       1215 non-null   float64\n",
      " 2   Low        1215 non-null   float64\n",
      " 3   Open       1215 non-null   float64\n",
      " 4   Close      1215 non-null   float64\n",
      " 5   Volume     1215 non-null   int64  \n",
      " 6   Adj Close  1215 non-null   float64\n",
      "dtypes: float64(5), int64(1), object(1)\n",
      "memory usage: 66.6+ KB\n"
     ]
    }
   ],
   "source": [
    "# 可以看出，tesla股票数据中第一列为日期，在加载数据的时候，可以直接解析日期数据\n",
    "tesla.info()"
   ]
  },
  {
   "cell_type": "code",
   "execution_count": 35,
   "id": "6b3e16cf",
   "metadata": {
    "ExecuteTime": {
     "end_time": "2022-12-28T11:30:44.943170Z",
     "start_time": "2022-12-28T11:30:44.929208Z"
    }
   },
   "outputs": [
    {
     "name": "stdout",
     "output_type": "stream",
     "text": [
      "<class 'pandas.core.frame.DataFrame'>\n",
      "RangeIndex: 1215 entries, 0 to 1214\n",
      "Data columns (total 7 columns):\n",
      " #   Column     Non-Null Count  Dtype         \n",
      "---  ------     --------------  -----         \n",
      " 0   Date       1215 non-null   datetime64[ns]\n",
      " 1   High       1215 non-null   float64       \n",
      " 2   Low        1215 non-null   float64       \n",
      " 3   Open       1215 non-null   float64       \n",
      " 4   Close      1215 non-null   float64       \n",
      " 5   Volume     1215 non-null   int64         \n",
      " 6   Adj Close  1215 non-null   float64       \n",
      "dtypes: datetime64[ns](1), float64(5), int64(1)\n",
      "memory usage: 66.6 KB\n"
     ]
    }
   ],
   "source": [
    "tesla = pd.read_csv('./data/TSLA.csv',parse_dates=[0])\n",
    "tesla.info()"
   ]
  },
  {
   "cell_type": "markdown",
   "id": "f32c8cbe",
   "metadata": {},
   "source": [
    "## 基于日期数据获取数据子集"
   ]
  },
  {
   "cell_type": "markdown",
   "id": "64a3cd1a",
   "metadata": {},
   "source": [
    "### 获取2015年8月的股票数据"
   ]
  },
  {
   "cell_type": "code",
   "execution_count": 36,
   "id": "a1e236a5",
   "metadata": {
    "ExecuteTime": {
     "end_time": "2022-12-28T11:30:44.959128Z",
     "start_time": "2022-12-28T11:30:44.945165Z"
    }
   },
   "outputs": [
    {
     "data": {
      "text/html": [
       "<div>\n",
       "<style scoped>\n",
       "    .dataframe tbody tr th:only-of-type {\n",
       "        vertical-align: middle;\n",
       "    }\n",
       "\n",
       "    .dataframe tbody tr th {\n",
       "        vertical-align: top;\n",
       "    }\n",
       "\n",
       "    .dataframe thead th {\n",
       "        text-align: right;\n",
       "    }\n",
       "</style>\n",
       "<table border=\"1\" class=\"dataframe\">\n",
       "  <thead>\n",
       "    <tr style=\"text-align: right;\">\n",
       "      <th></th>\n",
       "      <th>Date</th>\n",
       "      <th>High</th>\n",
       "      <th>Low</th>\n",
       "      <th>Open</th>\n",
       "      <th>Close</th>\n",
       "      <th>Volume</th>\n",
       "      <th>Adj Close</th>\n",
       "    </tr>\n",
       "  </thead>\n",
       "  <tbody>\n",
       "    <tr>\n",
       "      <th>743</th>\n",
       "      <td>2018-08-01</td>\n",
       "      <td>303.000000</td>\n",
       "      <td>293.000000</td>\n",
       "      <td>297.989990</td>\n",
       "      <td>300.839996</td>\n",
       "      <td>10129400</td>\n",
       "      <td>300.839996</td>\n",
       "    </tr>\n",
       "    <tr>\n",
       "      <th>744</th>\n",
       "      <td>2018-08-02</td>\n",
       "      <td>349.989990</td>\n",
       "      <td>323.160004</td>\n",
       "      <td>328.440002</td>\n",
       "      <td>349.540009</td>\n",
       "      <td>23215000</td>\n",
       "      <td>349.540009</td>\n",
       "    </tr>\n",
       "    <tr>\n",
       "      <th>745</th>\n",
       "      <td>2018-08-03</td>\n",
       "      <td>355.000000</td>\n",
       "      <td>342.529999</td>\n",
       "      <td>347.809998</td>\n",
       "      <td>348.170013</td>\n",
       "      <td>13656500</td>\n",
       "      <td>348.170013</td>\n",
       "    </tr>\n",
       "    <tr>\n",
       "      <th>746</th>\n",
       "      <td>2018-08-06</td>\n",
       "      <td>354.980011</td>\n",
       "      <td>341.820007</td>\n",
       "      <td>345.459991</td>\n",
       "      <td>341.989990</td>\n",
       "      <td>8564300</td>\n",
       "      <td>341.989990</td>\n",
       "    </tr>\n",
       "    <tr>\n",
       "      <th>747</th>\n",
       "      <td>2018-08-07</td>\n",
       "      <td>387.459991</td>\n",
       "      <td>339.149994</td>\n",
       "      <td>343.839996</td>\n",
       "      <td>379.570007</td>\n",
       "      <td>30875800</td>\n",
       "      <td>379.570007</td>\n",
       "    </tr>\n",
       "    <tr>\n",
       "      <th>748</th>\n",
       "      <td>2018-08-08</td>\n",
       "      <td>382.640015</td>\n",
       "      <td>367.119995</td>\n",
       "      <td>369.089996</td>\n",
       "      <td>370.339996</td>\n",
       "      <td>24571200</td>\n",
       "      <td>370.339996</td>\n",
       "    </tr>\n",
       "    <tr>\n",
       "      <th>749</th>\n",
       "      <td>2018-08-09</td>\n",
       "      <td>367.010010</td>\n",
       "      <td>345.730011</td>\n",
       "      <td>365.549988</td>\n",
       "      <td>352.450012</td>\n",
       "      <td>17183800</td>\n",
       "      <td>352.450012</td>\n",
       "    </tr>\n",
       "    <tr>\n",
       "      <th>750</th>\n",
       "      <td>2018-08-10</td>\n",
       "      <td>360.000000</td>\n",
       "      <td>346.000000</td>\n",
       "      <td>354.000000</td>\n",
       "      <td>355.489990</td>\n",
       "      <td>11552000</td>\n",
       "      <td>355.489990</td>\n",
       "    </tr>\n",
       "    <tr>\n",
       "      <th>751</th>\n",
       "      <td>2018-08-13</td>\n",
       "      <td>363.190002</td>\n",
       "      <td>349.019989</td>\n",
       "      <td>361.130005</td>\n",
       "      <td>356.410004</td>\n",
       "      <td>10463900</td>\n",
       "      <td>356.410004</td>\n",
       "    </tr>\n",
       "    <tr>\n",
       "      <th>752</th>\n",
       "      <td>2018-08-14</td>\n",
       "      <td>359.200012</td>\n",
       "      <td>347.100006</td>\n",
       "      <td>358.450012</td>\n",
       "      <td>347.640015</td>\n",
       "      <td>6986400</td>\n",
       "      <td>347.640015</td>\n",
       "    </tr>\n",
       "    <tr>\n",
       "      <th>753</th>\n",
       "      <td>2018-08-15</td>\n",
       "      <td>344.489990</td>\n",
       "      <td>332.140015</td>\n",
       "      <td>341.910004</td>\n",
       "      <td>338.690002</td>\n",
       "      <td>9101300</td>\n",
       "      <td>338.690002</td>\n",
       "    </tr>\n",
       "    <tr>\n",
       "      <th>754</th>\n",
       "      <td>2018-08-16</td>\n",
       "      <td>342.279999</td>\n",
       "      <td>333.820007</td>\n",
       "      <td>339.910004</td>\n",
       "      <td>335.450012</td>\n",
       "      <td>6064000</td>\n",
       "      <td>335.450012</td>\n",
       "    </tr>\n",
       "    <tr>\n",
       "      <th>755</th>\n",
       "      <td>2018-08-17</td>\n",
       "      <td>326.769989</td>\n",
       "      <td>303.529999</td>\n",
       "      <td>323.500000</td>\n",
       "      <td>305.500000</td>\n",
       "      <td>18958600</td>\n",
       "      <td>305.500000</td>\n",
       "    </tr>\n",
       "    <tr>\n",
       "      <th>756</th>\n",
       "      <td>2018-08-20</td>\n",
       "      <td>308.500000</td>\n",
       "      <td>288.200012</td>\n",
       "      <td>291.700012</td>\n",
       "      <td>308.440002</td>\n",
       "      <td>17402300</td>\n",
       "      <td>308.440002</td>\n",
       "    </tr>\n",
       "    <tr>\n",
       "      <th>757</th>\n",
       "      <td>2018-08-21</td>\n",
       "      <td>324.790009</td>\n",
       "      <td>309.000000</td>\n",
       "      <td>310.609985</td>\n",
       "      <td>321.899994</td>\n",
       "      <td>13172200</td>\n",
       "      <td>321.899994</td>\n",
       "    </tr>\n",
       "    <tr>\n",
       "      <th>758</th>\n",
       "      <td>2018-08-22</td>\n",
       "      <td>323.880005</td>\n",
       "      <td>314.670013</td>\n",
       "      <td>320.869995</td>\n",
       "      <td>321.640015</td>\n",
       "      <td>5946000</td>\n",
       "      <td>321.640015</td>\n",
       "    </tr>\n",
       "    <tr>\n",
       "      <th>759</th>\n",
       "      <td>2018-08-23</td>\n",
       "      <td>327.320007</td>\n",
       "      <td>318.100006</td>\n",
       "      <td>319.140015</td>\n",
       "      <td>320.100006</td>\n",
       "      <td>5147300</td>\n",
       "      <td>320.100006</td>\n",
       "    </tr>\n",
       "    <tr>\n",
       "      <th>760</th>\n",
       "      <td>2018-08-24</td>\n",
       "      <td>323.850006</td>\n",
       "      <td>319.399994</td>\n",
       "      <td>320.700012</td>\n",
       "      <td>322.820007</td>\n",
       "      <td>3602600</td>\n",
       "      <td>322.820007</td>\n",
       "    </tr>\n",
       "    <tr>\n",
       "      <th>761</th>\n",
       "      <td>2018-08-27</td>\n",
       "      <td>322.440002</td>\n",
       "      <td>308.809998</td>\n",
       "      <td>318.000000</td>\n",
       "      <td>319.269989</td>\n",
       "      <td>13079300</td>\n",
       "      <td>319.269989</td>\n",
       "    </tr>\n",
       "    <tr>\n",
       "      <th>762</th>\n",
       "      <td>2018-08-28</td>\n",
       "      <td>318.880005</td>\n",
       "      <td>311.190002</td>\n",
       "      <td>318.410004</td>\n",
       "      <td>311.859985</td>\n",
       "      <td>7649100</td>\n",
       "      <td>311.859985</td>\n",
       "    </tr>\n",
       "    <tr>\n",
       "      <th>763</th>\n",
       "      <td>2018-08-29</td>\n",
       "      <td>311.850006</td>\n",
       "      <td>303.690002</td>\n",
       "      <td>310.269989</td>\n",
       "      <td>305.010010</td>\n",
       "      <td>7447400</td>\n",
       "      <td>305.010010</td>\n",
       "    </tr>\n",
       "    <tr>\n",
       "      <th>764</th>\n",
       "      <td>2018-08-30</td>\n",
       "      <td>304.600006</td>\n",
       "      <td>297.720001</td>\n",
       "      <td>302.260010</td>\n",
       "      <td>303.149994</td>\n",
       "      <td>7216700</td>\n",
       "      <td>303.149994</td>\n",
       "    </tr>\n",
       "    <tr>\n",
       "      <th>765</th>\n",
       "      <td>2018-08-31</td>\n",
       "      <td>305.309998</td>\n",
       "      <td>298.600006</td>\n",
       "      <td>302.000000</td>\n",
       "      <td>301.660004</td>\n",
       "      <td>5375100</td>\n",
       "      <td>301.660004</td>\n",
       "    </tr>\n",
       "  </tbody>\n",
       "</table>\n",
       "</div>"
      ],
      "text/plain": [
       "          Date        High         Low        Open       Close    Volume  \\\n",
       "743 2018-08-01  303.000000  293.000000  297.989990  300.839996  10129400   \n",
       "744 2018-08-02  349.989990  323.160004  328.440002  349.540009  23215000   \n",
       "745 2018-08-03  355.000000  342.529999  347.809998  348.170013  13656500   \n",
       "746 2018-08-06  354.980011  341.820007  345.459991  341.989990   8564300   \n",
       "747 2018-08-07  387.459991  339.149994  343.839996  379.570007  30875800   \n",
       "748 2018-08-08  382.640015  367.119995  369.089996  370.339996  24571200   \n",
       "749 2018-08-09  367.010010  345.730011  365.549988  352.450012  17183800   \n",
       "750 2018-08-10  360.000000  346.000000  354.000000  355.489990  11552000   \n",
       "751 2018-08-13  363.190002  349.019989  361.130005  356.410004  10463900   \n",
       "752 2018-08-14  359.200012  347.100006  358.450012  347.640015   6986400   \n",
       "753 2018-08-15  344.489990  332.140015  341.910004  338.690002   9101300   \n",
       "754 2018-08-16  342.279999  333.820007  339.910004  335.450012   6064000   \n",
       "755 2018-08-17  326.769989  303.529999  323.500000  305.500000  18958600   \n",
       "756 2018-08-20  308.500000  288.200012  291.700012  308.440002  17402300   \n",
       "757 2018-08-21  324.790009  309.000000  310.609985  321.899994  13172200   \n",
       "758 2018-08-22  323.880005  314.670013  320.869995  321.640015   5946000   \n",
       "759 2018-08-23  327.320007  318.100006  319.140015  320.100006   5147300   \n",
       "760 2018-08-24  323.850006  319.399994  320.700012  322.820007   3602600   \n",
       "761 2018-08-27  322.440002  308.809998  318.000000  319.269989  13079300   \n",
       "762 2018-08-28  318.880005  311.190002  318.410004  311.859985   7649100   \n",
       "763 2018-08-29  311.850006  303.690002  310.269989  305.010010   7447400   \n",
       "764 2018-08-30  304.600006  297.720001  302.260010  303.149994   7216700   \n",
       "765 2018-08-31  305.309998  298.600006  302.000000  301.660004   5375100   \n",
       "\n",
       "      Adj Close  \n",
       "743  300.839996  \n",
       "744  349.540009  \n",
       "745  348.170013  \n",
       "746  341.989990  \n",
       "747  379.570007  \n",
       "748  370.339996  \n",
       "749  352.450012  \n",
       "750  355.489990  \n",
       "751  356.410004  \n",
       "752  347.640015  \n",
       "753  338.690002  \n",
       "754  335.450012  \n",
       "755  305.500000  \n",
       "756  308.440002  \n",
       "757  321.899994  \n",
       "758  321.640015  \n",
       "759  320.100006  \n",
       "760  322.820007  \n",
       "761  319.269989  \n",
       "762  311.859985  \n",
       "763  305.010010  \n",
       "764  303.149994  \n",
       "765  301.660004  "
      ]
     },
     "execution_count": 36,
     "metadata": {},
     "output_type": "execute_result"
    }
   ],
   "source": [
    "tesla.loc[(tesla['Date'].dt.year==2018)&(tesla['Date'].dt.month==8)]"
   ]
  },
  {
   "cell_type": "markdown",
   "id": "90d6f367",
   "metadata": {},
   "source": [
    "- DatetimeIndex 对象\n",
    "- 在处理包含datetime的数据时，经常需要把datetime对象设置成DateFrame的行标签索引"
   ]
  },
  {
   "cell_type": "markdown",
   "id": "ab8ef636",
   "metadata": {},
   "source": [
    "#### 首先把 tesla 数据集的 Date 列指定为行标签索引"
   ]
  },
  {
   "cell_type": "code",
   "execution_count": 37,
   "id": "7c7c4343",
   "metadata": {
    "ExecuteTime": {
     "end_time": "2022-12-28T11:30:44.975085Z",
     "start_time": "2022-12-28T11:30:44.960124Z"
    }
   },
   "outputs": [
    {
     "data": {
      "text/plain": [
       "DatetimeIndex(['2015-08-19', '2015-08-20', '2015-08-21', '2015-08-24',\n",
       "               '2015-08-25', '2015-08-26', '2015-08-27', '2015-08-28',\n",
       "               '2015-08-31', '2015-09-01',\n",
       "               ...\n",
       "               '2020-06-03', '2020-06-04', '2020-06-05', '2020-06-08',\n",
       "               '2020-06-09', '2020-06-10', '2020-06-11', '2020-06-12',\n",
       "               '2020-06-15', '2020-06-16'],\n",
       "              dtype='datetime64[ns]', name='Date', length=1215, freq=None)"
      ]
     },
     "execution_count": 37,
     "metadata": {},
     "output_type": "execute_result"
    }
   ],
   "source": [
    "tesla.set_index('Date',inplace=True)\n",
    "tesla.index"
   ]
  },
  {
   "cell_type": "markdown",
   "id": "0beafe2e",
   "metadata": {},
   "source": [
    "- 把索引设置为日期对象后，可以直接使用日期来获取某些数据"
   ]
  },
  {
   "cell_type": "markdown",
   "id": "7db8c1d0",
   "metadata": {},
   "source": [
    "#### 示例：获取 2016 年的股票数据"
   ]
  },
  {
   "cell_type": "code",
   "execution_count": 38,
   "id": "630ff5c8",
   "metadata": {
    "ExecuteTime": {
     "end_time": "2022-12-28T11:30:44.991077Z",
     "start_time": "2022-12-28T11:30:44.976086Z"
    }
   },
   "outputs": [
    {
     "name": "stderr",
     "output_type": "stream",
     "text": [
      "C:\\Users\\hp\\AppData\\Local\\Temp\\ipykernel_17044\\29760123.py:1: FutureWarning: Indexing a DataFrame with a datetimelike index using a single string to slice the rows, like `frame[string]`, is deprecated and will be removed in a future version. Use `frame.loc[string]` instead.\n",
      "  tesla['2016']\n"
     ]
    },
    {
     "data": {
      "text/html": [
       "<div>\n",
       "<style scoped>\n",
       "    .dataframe tbody tr th:only-of-type {\n",
       "        vertical-align: middle;\n",
       "    }\n",
       "\n",
       "    .dataframe tbody tr th {\n",
       "        vertical-align: top;\n",
       "    }\n",
       "\n",
       "    .dataframe thead th {\n",
       "        text-align: right;\n",
       "    }\n",
       "</style>\n",
       "<table border=\"1\" class=\"dataframe\">\n",
       "  <thead>\n",
       "    <tr style=\"text-align: right;\">\n",
       "      <th></th>\n",
       "      <th>High</th>\n",
       "      <th>Low</th>\n",
       "      <th>Open</th>\n",
       "      <th>Close</th>\n",
       "      <th>Volume</th>\n",
       "      <th>Adj Close</th>\n",
       "    </tr>\n",
       "    <tr>\n",
       "      <th>Date</th>\n",
       "      <th></th>\n",
       "      <th></th>\n",
       "      <th></th>\n",
       "      <th></th>\n",
       "      <th></th>\n",
       "      <th></th>\n",
       "    </tr>\n",
       "  </thead>\n",
       "  <tbody>\n",
       "    <tr>\n",
       "      <th>2016-01-04</th>\n",
       "      <td>231.380005</td>\n",
       "      <td>219.000000</td>\n",
       "      <td>230.720001</td>\n",
       "      <td>223.410004</td>\n",
       "      <td>6827100</td>\n",
       "      <td>223.410004</td>\n",
       "    </tr>\n",
       "    <tr>\n",
       "      <th>2016-01-05</th>\n",
       "      <td>226.889999</td>\n",
       "      <td>220.000000</td>\n",
       "      <td>226.360001</td>\n",
       "      <td>223.429993</td>\n",
       "      <td>3186800</td>\n",
       "      <td>223.429993</td>\n",
       "    </tr>\n",
       "    <tr>\n",
       "      <th>2016-01-06</th>\n",
       "      <td>220.050003</td>\n",
       "      <td>215.979996</td>\n",
       "      <td>220.000000</td>\n",
       "      <td>219.039993</td>\n",
       "      <td>3779100</td>\n",
       "      <td>219.039993</td>\n",
       "    </tr>\n",
       "    <tr>\n",
       "      <th>2016-01-07</th>\n",
       "      <td>218.440002</td>\n",
       "      <td>213.669998</td>\n",
       "      <td>214.190002</td>\n",
       "      <td>215.649994</td>\n",
       "      <td>3554300</td>\n",
       "      <td>215.649994</td>\n",
       "    </tr>\n",
       "    <tr>\n",
       "      <th>2016-01-08</th>\n",
       "      <td>220.440002</td>\n",
       "      <td>210.770004</td>\n",
       "      <td>217.860001</td>\n",
       "      <td>211.000000</td>\n",
       "      <td>3628100</td>\n",
       "      <td>211.000000</td>\n",
       "    </tr>\n",
       "    <tr>\n",
       "      <th>...</th>\n",
       "      <td>...</td>\n",
       "      <td>...</td>\n",
       "      <td>...</td>\n",
       "      <td>...</td>\n",
       "      <td>...</td>\n",
       "      <td>...</td>\n",
       "    </tr>\n",
       "    <tr>\n",
       "      <th>2016-12-23</th>\n",
       "      <td>213.449997</td>\n",
       "      <td>207.710007</td>\n",
       "      <td>208.000000</td>\n",
       "      <td>213.339996</td>\n",
       "      <td>4670500</td>\n",
       "      <td>213.339996</td>\n",
       "    </tr>\n",
       "    <tr>\n",
       "      <th>2016-12-27</th>\n",
       "      <td>222.250000</td>\n",
       "      <td>214.419998</td>\n",
       "      <td>214.880005</td>\n",
       "      <td>219.529999</td>\n",
       "      <td>5915700</td>\n",
       "      <td>219.529999</td>\n",
       "    </tr>\n",
       "    <tr>\n",
       "      <th>2016-12-28</th>\n",
       "      <td>223.800003</td>\n",
       "      <td>217.199997</td>\n",
       "      <td>221.529999</td>\n",
       "      <td>219.740005</td>\n",
       "      <td>3782500</td>\n",
       "      <td>219.740005</td>\n",
       "    </tr>\n",
       "    <tr>\n",
       "      <th>2016-12-29</th>\n",
       "      <td>219.199997</td>\n",
       "      <td>214.119995</td>\n",
       "      <td>218.559998</td>\n",
       "      <td>214.679993</td>\n",
       "      <td>4045000</td>\n",
       "      <td>214.679993</td>\n",
       "    </tr>\n",
       "    <tr>\n",
       "      <th>2016-12-30</th>\n",
       "      <td>217.500000</td>\n",
       "      <td>211.679993</td>\n",
       "      <td>216.300003</td>\n",
       "      <td>213.690002</td>\n",
       "      <td>4642600</td>\n",
       "      <td>213.690002</td>\n",
       "    </tr>\n",
       "  </tbody>\n",
       "</table>\n",
       "<p>252 rows × 6 columns</p>\n",
       "</div>"
      ],
      "text/plain": [
       "                  High         Low        Open       Close   Volume  \\\n",
       "Date                                                                  \n",
       "2016-01-04  231.380005  219.000000  230.720001  223.410004  6827100   \n",
       "2016-01-05  226.889999  220.000000  226.360001  223.429993  3186800   \n",
       "2016-01-06  220.050003  215.979996  220.000000  219.039993  3779100   \n",
       "2016-01-07  218.440002  213.669998  214.190002  215.649994  3554300   \n",
       "2016-01-08  220.440002  210.770004  217.860001  211.000000  3628100   \n",
       "...                ...         ...         ...         ...      ...   \n",
       "2016-12-23  213.449997  207.710007  208.000000  213.339996  4670500   \n",
       "2016-12-27  222.250000  214.419998  214.880005  219.529999  5915700   \n",
       "2016-12-28  223.800003  217.199997  221.529999  219.740005  3782500   \n",
       "2016-12-29  219.199997  214.119995  218.559998  214.679993  4045000   \n",
       "2016-12-30  217.500000  211.679993  216.300003  213.690002  4642600   \n",
       "\n",
       "             Adj Close  \n",
       "Date                    \n",
       "2016-01-04  223.410004  \n",
       "2016-01-05  223.429993  \n",
       "2016-01-06  219.039993  \n",
       "2016-01-07  215.649994  \n",
       "2016-01-08  211.000000  \n",
       "...                ...  \n",
       "2016-12-23  213.339996  \n",
       "2016-12-27  219.529999  \n",
       "2016-12-28  219.740005  \n",
       "2016-12-29  214.679993  \n",
       "2016-12-30  213.690002  \n",
       "\n",
       "[252 rows x 6 columns]"
      ]
     },
     "execution_count": 38,
     "metadata": {},
     "output_type": "execute_result"
    }
   ],
   "source": [
    "tesla['2016']"
   ]
  },
  {
   "cell_type": "markdown",
   "id": "10707748",
   "metadata": {},
   "source": [
    "#### 示例：获取 2018-08 的股票数据"
   ]
  },
  {
   "cell_type": "code",
   "execution_count": 39,
   "id": "e1cbe2fd",
   "metadata": {
    "ExecuteTime": {
     "end_time": "2022-12-28T11:30:45.007000Z",
     "start_time": "2022-12-28T11:30:44.992039Z"
    }
   },
   "outputs": [
    {
     "name": "stderr",
     "output_type": "stream",
     "text": [
      "C:\\Users\\hp\\AppData\\Local\\Temp\\ipykernel_17044\\1846028480.py:1: FutureWarning: Indexing a DataFrame with a datetimelike index using a single string to slice the rows, like `frame[string]`, is deprecated and will be removed in a future version. Use `frame.loc[string]` instead.\n",
      "  tesla['2018-08']\n"
     ]
    },
    {
     "data": {
      "text/html": [
       "<div>\n",
       "<style scoped>\n",
       "    .dataframe tbody tr th:only-of-type {\n",
       "        vertical-align: middle;\n",
       "    }\n",
       "\n",
       "    .dataframe tbody tr th {\n",
       "        vertical-align: top;\n",
       "    }\n",
       "\n",
       "    .dataframe thead th {\n",
       "        text-align: right;\n",
       "    }\n",
       "</style>\n",
       "<table border=\"1\" class=\"dataframe\">\n",
       "  <thead>\n",
       "    <tr style=\"text-align: right;\">\n",
       "      <th></th>\n",
       "      <th>High</th>\n",
       "      <th>Low</th>\n",
       "      <th>Open</th>\n",
       "      <th>Close</th>\n",
       "      <th>Volume</th>\n",
       "      <th>Adj Close</th>\n",
       "    </tr>\n",
       "    <tr>\n",
       "      <th>Date</th>\n",
       "      <th></th>\n",
       "      <th></th>\n",
       "      <th></th>\n",
       "      <th></th>\n",
       "      <th></th>\n",
       "      <th></th>\n",
       "    </tr>\n",
       "  </thead>\n",
       "  <tbody>\n",
       "    <tr>\n",
       "      <th>2018-08-01</th>\n",
       "      <td>303.000000</td>\n",
       "      <td>293.000000</td>\n",
       "      <td>297.989990</td>\n",
       "      <td>300.839996</td>\n",
       "      <td>10129400</td>\n",
       "      <td>300.839996</td>\n",
       "    </tr>\n",
       "    <tr>\n",
       "      <th>2018-08-02</th>\n",
       "      <td>349.989990</td>\n",
       "      <td>323.160004</td>\n",
       "      <td>328.440002</td>\n",
       "      <td>349.540009</td>\n",
       "      <td>23215000</td>\n",
       "      <td>349.540009</td>\n",
       "    </tr>\n",
       "    <tr>\n",
       "      <th>2018-08-03</th>\n",
       "      <td>355.000000</td>\n",
       "      <td>342.529999</td>\n",
       "      <td>347.809998</td>\n",
       "      <td>348.170013</td>\n",
       "      <td>13656500</td>\n",
       "      <td>348.170013</td>\n",
       "    </tr>\n",
       "    <tr>\n",
       "      <th>2018-08-06</th>\n",
       "      <td>354.980011</td>\n",
       "      <td>341.820007</td>\n",
       "      <td>345.459991</td>\n",
       "      <td>341.989990</td>\n",
       "      <td>8564300</td>\n",
       "      <td>341.989990</td>\n",
       "    </tr>\n",
       "    <tr>\n",
       "      <th>2018-08-07</th>\n",
       "      <td>387.459991</td>\n",
       "      <td>339.149994</td>\n",
       "      <td>343.839996</td>\n",
       "      <td>379.570007</td>\n",
       "      <td>30875800</td>\n",
       "      <td>379.570007</td>\n",
       "    </tr>\n",
       "    <tr>\n",
       "      <th>2018-08-08</th>\n",
       "      <td>382.640015</td>\n",
       "      <td>367.119995</td>\n",
       "      <td>369.089996</td>\n",
       "      <td>370.339996</td>\n",
       "      <td>24571200</td>\n",
       "      <td>370.339996</td>\n",
       "    </tr>\n",
       "    <tr>\n",
       "      <th>2018-08-09</th>\n",
       "      <td>367.010010</td>\n",
       "      <td>345.730011</td>\n",
       "      <td>365.549988</td>\n",
       "      <td>352.450012</td>\n",
       "      <td>17183800</td>\n",
       "      <td>352.450012</td>\n",
       "    </tr>\n",
       "    <tr>\n",
       "      <th>2018-08-10</th>\n",
       "      <td>360.000000</td>\n",
       "      <td>346.000000</td>\n",
       "      <td>354.000000</td>\n",
       "      <td>355.489990</td>\n",
       "      <td>11552000</td>\n",
       "      <td>355.489990</td>\n",
       "    </tr>\n",
       "    <tr>\n",
       "      <th>2018-08-13</th>\n",
       "      <td>363.190002</td>\n",
       "      <td>349.019989</td>\n",
       "      <td>361.130005</td>\n",
       "      <td>356.410004</td>\n",
       "      <td>10463900</td>\n",
       "      <td>356.410004</td>\n",
       "    </tr>\n",
       "    <tr>\n",
       "      <th>2018-08-14</th>\n",
       "      <td>359.200012</td>\n",
       "      <td>347.100006</td>\n",
       "      <td>358.450012</td>\n",
       "      <td>347.640015</td>\n",
       "      <td>6986400</td>\n",
       "      <td>347.640015</td>\n",
       "    </tr>\n",
       "    <tr>\n",
       "      <th>2018-08-15</th>\n",
       "      <td>344.489990</td>\n",
       "      <td>332.140015</td>\n",
       "      <td>341.910004</td>\n",
       "      <td>338.690002</td>\n",
       "      <td>9101300</td>\n",
       "      <td>338.690002</td>\n",
       "    </tr>\n",
       "    <tr>\n",
       "      <th>2018-08-16</th>\n",
       "      <td>342.279999</td>\n",
       "      <td>333.820007</td>\n",
       "      <td>339.910004</td>\n",
       "      <td>335.450012</td>\n",
       "      <td>6064000</td>\n",
       "      <td>335.450012</td>\n",
       "    </tr>\n",
       "    <tr>\n",
       "      <th>2018-08-17</th>\n",
       "      <td>326.769989</td>\n",
       "      <td>303.529999</td>\n",
       "      <td>323.500000</td>\n",
       "      <td>305.500000</td>\n",
       "      <td>18958600</td>\n",
       "      <td>305.500000</td>\n",
       "    </tr>\n",
       "    <tr>\n",
       "      <th>2018-08-20</th>\n",
       "      <td>308.500000</td>\n",
       "      <td>288.200012</td>\n",
       "      <td>291.700012</td>\n",
       "      <td>308.440002</td>\n",
       "      <td>17402300</td>\n",
       "      <td>308.440002</td>\n",
       "    </tr>\n",
       "    <tr>\n",
       "      <th>2018-08-21</th>\n",
       "      <td>324.790009</td>\n",
       "      <td>309.000000</td>\n",
       "      <td>310.609985</td>\n",
       "      <td>321.899994</td>\n",
       "      <td>13172200</td>\n",
       "      <td>321.899994</td>\n",
       "    </tr>\n",
       "    <tr>\n",
       "      <th>2018-08-22</th>\n",
       "      <td>323.880005</td>\n",
       "      <td>314.670013</td>\n",
       "      <td>320.869995</td>\n",
       "      <td>321.640015</td>\n",
       "      <td>5946000</td>\n",
       "      <td>321.640015</td>\n",
       "    </tr>\n",
       "    <tr>\n",
       "      <th>2018-08-23</th>\n",
       "      <td>327.320007</td>\n",
       "      <td>318.100006</td>\n",
       "      <td>319.140015</td>\n",
       "      <td>320.100006</td>\n",
       "      <td>5147300</td>\n",
       "      <td>320.100006</td>\n",
       "    </tr>\n",
       "    <tr>\n",
       "      <th>2018-08-24</th>\n",
       "      <td>323.850006</td>\n",
       "      <td>319.399994</td>\n",
       "      <td>320.700012</td>\n",
       "      <td>322.820007</td>\n",
       "      <td>3602600</td>\n",
       "      <td>322.820007</td>\n",
       "    </tr>\n",
       "    <tr>\n",
       "      <th>2018-08-27</th>\n",
       "      <td>322.440002</td>\n",
       "      <td>308.809998</td>\n",
       "      <td>318.000000</td>\n",
       "      <td>319.269989</td>\n",
       "      <td>13079300</td>\n",
       "      <td>319.269989</td>\n",
       "    </tr>\n",
       "    <tr>\n",
       "      <th>2018-08-28</th>\n",
       "      <td>318.880005</td>\n",
       "      <td>311.190002</td>\n",
       "      <td>318.410004</td>\n",
       "      <td>311.859985</td>\n",
       "      <td>7649100</td>\n",
       "      <td>311.859985</td>\n",
       "    </tr>\n",
       "    <tr>\n",
       "      <th>2018-08-29</th>\n",
       "      <td>311.850006</td>\n",
       "      <td>303.690002</td>\n",
       "      <td>310.269989</td>\n",
       "      <td>305.010010</td>\n",
       "      <td>7447400</td>\n",
       "      <td>305.010010</td>\n",
       "    </tr>\n",
       "    <tr>\n",
       "      <th>2018-08-30</th>\n",
       "      <td>304.600006</td>\n",
       "      <td>297.720001</td>\n",
       "      <td>302.260010</td>\n",
       "      <td>303.149994</td>\n",
       "      <td>7216700</td>\n",
       "      <td>303.149994</td>\n",
       "    </tr>\n",
       "    <tr>\n",
       "      <th>2018-08-31</th>\n",
       "      <td>305.309998</td>\n",
       "      <td>298.600006</td>\n",
       "      <td>302.000000</td>\n",
       "      <td>301.660004</td>\n",
       "      <td>5375100</td>\n",
       "      <td>301.660004</td>\n",
       "    </tr>\n",
       "  </tbody>\n",
       "</table>\n",
       "</div>"
      ],
      "text/plain": [
       "                  High         Low        Open       Close    Volume  \\\n",
       "Date                                                                   \n",
       "2018-08-01  303.000000  293.000000  297.989990  300.839996  10129400   \n",
       "2018-08-02  349.989990  323.160004  328.440002  349.540009  23215000   \n",
       "2018-08-03  355.000000  342.529999  347.809998  348.170013  13656500   \n",
       "2018-08-06  354.980011  341.820007  345.459991  341.989990   8564300   \n",
       "2018-08-07  387.459991  339.149994  343.839996  379.570007  30875800   \n",
       "2018-08-08  382.640015  367.119995  369.089996  370.339996  24571200   \n",
       "2018-08-09  367.010010  345.730011  365.549988  352.450012  17183800   \n",
       "2018-08-10  360.000000  346.000000  354.000000  355.489990  11552000   \n",
       "2018-08-13  363.190002  349.019989  361.130005  356.410004  10463900   \n",
       "2018-08-14  359.200012  347.100006  358.450012  347.640015   6986400   \n",
       "2018-08-15  344.489990  332.140015  341.910004  338.690002   9101300   \n",
       "2018-08-16  342.279999  333.820007  339.910004  335.450012   6064000   \n",
       "2018-08-17  326.769989  303.529999  323.500000  305.500000  18958600   \n",
       "2018-08-20  308.500000  288.200012  291.700012  308.440002  17402300   \n",
       "2018-08-21  324.790009  309.000000  310.609985  321.899994  13172200   \n",
       "2018-08-22  323.880005  314.670013  320.869995  321.640015   5946000   \n",
       "2018-08-23  327.320007  318.100006  319.140015  320.100006   5147300   \n",
       "2018-08-24  323.850006  319.399994  320.700012  322.820007   3602600   \n",
       "2018-08-27  322.440002  308.809998  318.000000  319.269989  13079300   \n",
       "2018-08-28  318.880005  311.190002  318.410004  311.859985   7649100   \n",
       "2018-08-29  311.850006  303.690002  310.269989  305.010010   7447400   \n",
       "2018-08-30  304.600006  297.720001  302.260010  303.149994   7216700   \n",
       "2018-08-31  305.309998  298.600006  302.000000  301.660004   5375100   \n",
       "\n",
       "             Adj Close  \n",
       "Date                    \n",
       "2018-08-01  300.839996  \n",
       "2018-08-02  349.540009  \n",
       "2018-08-03  348.170013  \n",
       "2018-08-06  341.989990  \n",
       "2018-08-07  379.570007  \n",
       "2018-08-08  370.339996  \n",
       "2018-08-09  352.450012  \n",
       "2018-08-10  355.489990  \n",
       "2018-08-13  356.410004  \n",
       "2018-08-14  347.640015  \n",
       "2018-08-15  338.690002  \n",
       "2018-08-16  335.450012  \n",
       "2018-08-17  305.500000  \n",
       "2018-08-20  308.440002  \n",
       "2018-08-21  321.899994  \n",
       "2018-08-22  321.640015  \n",
       "2018-08-23  320.100006  \n",
       "2018-08-24  322.820007  \n",
       "2018-08-27  319.269989  \n",
       "2018-08-28  311.859985  \n",
       "2018-08-29  305.010010  \n",
       "2018-08-30  303.149994  \n",
       "2018-08-31  301.660004  "
      ]
     },
     "execution_count": 39,
     "metadata": {},
     "output_type": "execute_result"
    }
   ],
   "source": [
    "tesla['2018-08']"
   ]
  },
  {
   "cell_type": "code",
   "execution_count": 40,
   "id": "1f5f6882",
   "metadata": {
    "ExecuteTime": {
     "end_time": "2022-12-28T11:30:45.022958Z",
     "start_time": "2022-12-28T11:30:45.007997Z"
    }
   },
   "outputs": [],
   "source": [
    "# TimedeltaIndex 对象"
   ]
  },
  {
   "cell_type": "code",
   "execution_count": 41,
   "id": "b2f62e06",
   "metadata": {
    "ExecuteTime": {
     "end_time": "2022-12-28T11:30:45.037917Z",
     "start_time": "2022-12-28T11:30:45.023953Z"
    }
   },
   "outputs": [],
   "source": [
    "tesla = tesla.reset_index()"
   ]
  },
  {
   "cell_type": "markdown",
   "id": "846534b6",
   "metadata": {},
   "source": [
    "#### 创建一个timedelta列和RefDate列"
   ]
  },
  {
   "cell_type": "code",
   "execution_count": 42,
   "id": "883358cb",
   "metadata": {
    "ExecuteTime": {
     "end_time": "2022-12-28T11:30:45.052877Z",
     "start_time": "2022-12-28T11:30:45.039912Z"
    }
   },
   "outputs": [
    {
     "data": {
      "text/plain": [
       "0         0 days\n",
       "1         1 days\n",
       "2         2 days\n",
       "3         5 days\n",
       "4         6 days\n",
       "          ...   \n",
       "1210   1757 days\n",
       "1211   1758 days\n",
       "1212   1759 days\n",
       "1213   1762 days\n",
       "1214   1763 days\n",
       "Name: Ref Date, Length: 1215, dtype: timedelta64[ns]"
      ]
     },
     "execution_count": 42,
     "metadata": {},
     "output_type": "execute_result"
    }
   ],
   "source": [
    "tesla['Ref Date'] = tesla['Date'] - tesla['Date'].min()\n",
    "tesla['Ref Date']"
   ]
  },
  {
   "cell_type": "markdown",
   "id": "847f29d8",
   "metadata": {},
   "source": [
    "#### 把 Ref Date 列设置为行标签索引"
   ]
  },
  {
   "cell_type": "code",
   "execution_count": 43,
   "id": "c13c5926",
   "metadata": {
    "ExecuteTime": {
     "end_time": "2022-12-28T11:30:45.068834Z",
     "start_time": "2022-12-28T11:30:45.054871Z"
    }
   },
   "outputs": [
    {
     "data": {
      "text/html": [
       "<div>\n",
       "<style scoped>\n",
       "    .dataframe tbody tr th:only-of-type {\n",
       "        vertical-align: middle;\n",
       "    }\n",
       "\n",
       "    .dataframe tbody tr th {\n",
       "        vertical-align: top;\n",
       "    }\n",
       "\n",
       "    .dataframe thead th {\n",
       "        text-align: right;\n",
       "    }\n",
       "</style>\n",
       "<table border=\"1\" class=\"dataframe\">\n",
       "  <thead>\n",
       "    <tr style=\"text-align: right;\">\n",
       "      <th></th>\n",
       "      <th>Date</th>\n",
       "      <th>High</th>\n",
       "      <th>Low</th>\n",
       "      <th>Open</th>\n",
       "      <th>Close</th>\n",
       "      <th>Volume</th>\n",
       "      <th>Adj Close</th>\n",
       "      <th>Ref Date</th>\n",
       "    </tr>\n",
       "    <tr>\n",
       "      <th>Ref Date</th>\n",
       "      <th></th>\n",
       "      <th></th>\n",
       "      <th></th>\n",
       "      <th></th>\n",
       "      <th></th>\n",
       "      <th></th>\n",
       "      <th></th>\n",
       "      <th></th>\n",
       "    </tr>\n",
       "  </thead>\n",
       "  <tbody>\n",
       "    <tr>\n",
       "      <th>0 days</th>\n",
       "      <td>2015-08-19</td>\n",
       "      <td>260.649994</td>\n",
       "      <td>255.020004</td>\n",
       "      <td>260.329987</td>\n",
       "      <td>255.250000</td>\n",
       "      <td>3604300</td>\n",
       "      <td>255.250000</td>\n",
       "      <td>0 days</td>\n",
       "    </tr>\n",
       "    <tr>\n",
       "      <th>1 days</th>\n",
       "      <td>2015-08-20</td>\n",
       "      <td>254.559998</td>\n",
       "      <td>241.899994</td>\n",
       "      <td>252.059998</td>\n",
       "      <td>242.179993</td>\n",
       "      <td>4905800</td>\n",
       "      <td>242.179993</td>\n",
       "      <td>1 days</td>\n",
       "    </tr>\n",
       "    <tr>\n",
       "      <th>2 days</th>\n",
       "      <td>2015-08-21</td>\n",
       "      <td>243.800003</td>\n",
       "      <td>230.509995</td>\n",
       "      <td>236.000000</td>\n",
       "      <td>230.770004</td>\n",
       "      <td>6590200</td>\n",
       "      <td>230.770004</td>\n",
       "      <td>2 days</td>\n",
       "    </tr>\n",
       "    <tr>\n",
       "      <th>5 days</th>\n",
       "      <td>2015-08-24</td>\n",
       "      <td>231.399994</td>\n",
       "      <td>195.000000</td>\n",
       "      <td>202.789993</td>\n",
       "      <td>218.869995</td>\n",
       "      <td>9581600</td>\n",
       "      <td>218.869995</td>\n",
       "      <td>5 days</td>\n",
       "    </tr>\n",
       "    <tr>\n",
       "      <th>6 days</th>\n",
       "      <td>2015-08-25</td>\n",
       "      <td>230.899994</td>\n",
       "      <td>219.119995</td>\n",
       "      <td>230.520004</td>\n",
       "      <td>220.029999</td>\n",
       "      <td>4327300</td>\n",
       "      <td>220.029999</td>\n",
       "      <td>6 days</td>\n",
       "    </tr>\n",
       "    <tr>\n",
       "      <th>...</th>\n",
       "      <td>...</td>\n",
       "      <td>...</td>\n",
       "      <td>...</td>\n",
       "      <td>...</td>\n",
       "      <td>...</td>\n",
       "      <td>...</td>\n",
       "      <td>...</td>\n",
       "      <td>...</td>\n",
       "    </tr>\n",
       "    <tr>\n",
       "      <th>1757 days</th>\n",
       "      <td>2020-06-10</td>\n",
       "      <td>1027.479980</td>\n",
       "      <td>982.500000</td>\n",
       "      <td>991.880005</td>\n",
       "      <td>1025.050049</td>\n",
       "      <td>18563400</td>\n",
       "      <td>1025.050049</td>\n",
       "      <td>1757 days</td>\n",
       "    </tr>\n",
       "    <tr>\n",
       "      <th>1758 days</th>\n",
       "      <td>2020-06-11</td>\n",
       "      <td>1018.960022</td>\n",
       "      <td>972.000000</td>\n",
       "      <td>990.200012</td>\n",
       "      <td>972.840027</td>\n",
       "      <td>15916500</td>\n",
       "      <td>972.840027</td>\n",
       "      <td>1758 days</td>\n",
       "    </tr>\n",
       "    <tr>\n",
       "      <th>1759 days</th>\n",
       "      <td>2020-06-12</td>\n",
       "      <td>987.979980</td>\n",
       "      <td>912.599976</td>\n",
       "      <td>980.000000</td>\n",
       "      <td>935.280029</td>\n",
       "      <td>16730200</td>\n",
       "      <td>935.280029</td>\n",
       "      <td>1759 days</td>\n",
       "    </tr>\n",
       "    <tr>\n",
       "      <th>1762 days</th>\n",
       "      <td>2020-06-15</td>\n",
       "      <td>998.840027</td>\n",
       "      <td>908.500000</td>\n",
       "      <td>917.789978</td>\n",
       "      <td>990.900024</td>\n",
       "      <td>15697200</td>\n",
       "      <td>990.900024</td>\n",
       "      <td>1762 days</td>\n",
       "    </tr>\n",
       "    <tr>\n",
       "      <th>1763 days</th>\n",
       "      <td>2020-06-16</td>\n",
       "      <td>1012.880005</td>\n",
       "      <td>962.390015</td>\n",
       "      <td>1011.849976</td>\n",
       "      <td>982.130005</td>\n",
       "      <td>14051100</td>\n",
       "      <td>982.130005</td>\n",
       "      <td>1763 days</td>\n",
       "    </tr>\n",
       "  </tbody>\n",
       "</table>\n",
       "<p>1215 rows × 8 columns</p>\n",
       "</div>"
      ],
      "text/plain": [
       "                Date         High         Low         Open        Close  \\\n",
       "Ref Date                                                                  \n",
       "0 days    2015-08-19   260.649994  255.020004   260.329987   255.250000   \n",
       "1 days    2015-08-20   254.559998  241.899994   252.059998   242.179993   \n",
       "2 days    2015-08-21   243.800003  230.509995   236.000000   230.770004   \n",
       "5 days    2015-08-24   231.399994  195.000000   202.789993   218.869995   \n",
       "6 days    2015-08-25   230.899994  219.119995   230.520004   220.029999   \n",
       "...              ...          ...         ...          ...          ...   \n",
       "1757 days 2020-06-10  1027.479980  982.500000   991.880005  1025.050049   \n",
       "1758 days 2020-06-11  1018.960022  972.000000   990.200012   972.840027   \n",
       "1759 days 2020-06-12   987.979980  912.599976   980.000000   935.280029   \n",
       "1762 days 2020-06-15   998.840027  908.500000   917.789978   990.900024   \n",
       "1763 days 2020-06-16  1012.880005  962.390015  1011.849976   982.130005   \n",
       "\n",
       "             Volume    Adj Close  Ref Date  \n",
       "Ref Date                                    \n",
       "0 days      3604300   255.250000    0 days  \n",
       "1 days      4905800   242.179993    1 days  \n",
       "2 days      6590200   230.770004    2 days  \n",
       "5 days      9581600   218.869995    5 days  \n",
       "6 days      4327300   220.029999    6 days  \n",
       "...             ...          ...       ...  \n",
       "1757 days  18563400  1025.050049 1757 days  \n",
       "1758 days  15916500   972.840027 1758 days  \n",
       "1759 days  16730200   935.280029 1759 days  \n",
       "1762 days  15697200   990.900024 1762 days  \n",
       "1763 days  14051100   982.130005 1763 days  \n",
       "\n",
       "[1215 rows x 8 columns]"
      ]
     },
     "execution_count": 43,
     "metadata": {},
     "output_type": "execute_result"
    }
   ],
   "source": [
    "tesla.index = tesla['Ref Date']\n",
    "tesla"
   ]
  },
  {
   "cell_type": "code",
   "execution_count": 44,
   "id": "3b31b8d3",
   "metadata": {
    "ExecuteTime": {
     "end_time": "2022-12-28T11:30:45.084791Z",
     "start_time": "2022-12-28T11:30:45.069832Z"
    }
   },
   "outputs": [
    {
     "name": "stdout",
     "output_type": "stream",
     "text": [
      "<class 'pandas.core.frame.DataFrame'>\n",
      "TimedeltaIndex: 1215 entries, 0 days to 1763 days\n",
      "Data columns (total 8 columns):\n",
      " #   Column     Non-Null Count  Dtype          \n",
      "---  ------     --------------  -----          \n",
      " 0   Date       1215 non-null   datetime64[ns] \n",
      " 1   High       1215 non-null   float64        \n",
      " 2   Low        1215 non-null   float64        \n",
      " 3   Open       1215 non-null   float64        \n",
      " 4   Close      1215 non-null   float64        \n",
      " 5   Volume     1215 non-null   int64          \n",
      " 6   Adj Close  1215 non-null   float64        \n",
      " 7   Ref Date   1215 non-null   timedelta64[ns]\n",
      "dtypes: datetime64[ns](1), float64(5), int64(1), timedelta64[ns](1)\n",
      "memory usage: 85.4 KB\n"
     ]
    }
   ],
   "source": [
    "tesla.info()"
   ]
  },
  {
   "cell_type": "markdown",
   "id": "816f5c48",
   "metadata": {},
   "source": [
    "#### 可以基于 Ref_Date 来选择数据"
   ]
  },
  {
   "cell_type": "code",
   "execution_count": 45,
   "id": "5ae758ff",
   "metadata": {
    "ExecuteTime": {
     "end_time": "2022-12-28T11:30:45.100748Z",
     "start_time": "2022-12-28T11:30:45.085789Z"
    }
   },
   "outputs": [
    {
     "data": {
      "text/html": [
       "<div>\n",
       "<style scoped>\n",
       "    .dataframe tbody tr th:only-of-type {\n",
       "        vertical-align: middle;\n",
       "    }\n",
       "\n",
       "    .dataframe tbody tr th {\n",
       "        vertical-align: top;\n",
       "    }\n",
       "\n",
       "    .dataframe thead th {\n",
       "        text-align: right;\n",
       "    }\n",
       "</style>\n",
       "<table border=\"1\" class=\"dataframe\">\n",
       "  <thead>\n",
       "    <tr style=\"text-align: right;\">\n",
       "      <th></th>\n",
       "      <th>Date</th>\n",
       "      <th>High</th>\n",
       "      <th>Low</th>\n",
       "      <th>Open</th>\n",
       "      <th>Close</th>\n",
       "      <th>Volume</th>\n",
       "      <th>Adj Close</th>\n",
       "      <th>Ref Date</th>\n",
       "    </tr>\n",
       "    <tr>\n",
       "      <th>Ref Date</th>\n",
       "      <th></th>\n",
       "      <th></th>\n",
       "      <th></th>\n",
       "      <th></th>\n",
       "      <th></th>\n",
       "      <th></th>\n",
       "      <th></th>\n",
       "      <th></th>\n",
       "    </tr>\n",
       "  </thead>\n",
       "  <tbody>\n",
       "    <tr>\n",
       "      <th>0 days</th>\n",
       "      <td>2015-08-19</td>\n",
       "      <td>260.649994</td>\n",
       "      <td>255.020004</td>\n",
       "      <td>260.329987</td>\n",
       "      <td>255.250000</td>\n",
       "      <td>3604300</td>\n",
       "      <td>255.250000</td>\n",
       "      <td>0 days</td>\n",
       "    </tr>\n",
       "    <tr>\n",
       "      <th>1 days</th>\n",
       "      <td>2015-08-20</td>\n",
       "      <td>254.559998</td>\n",
       "      <td>241.899994</td>\n",
       "      <td>252.059998</td>\n",
       "      <td>242.179993</td>\n",
       "      <td>4905800</td>\n",
       "      <td>242.179993</td>\n",
       "      <td>1 days</td>\n",
       "    </tr>\n",
       "    <tr>\n",
       "      <th>2 days</th>\n",
       "      <td>2015-08-21</td>\n",
       "      <td>243.800003</td>\n",
       "      <td>230.509995</td>\n",
       "      <td>236.000000</td>\n",
       "      <td>230.770004</td>\n",
       "      <td>6590200</td>\n",
       "      <td>230.770004</td>\n",
       "      <td>2 days</td>\n",
       "    </tr>\n",
       "    <tr>\n",
       "      <th>5 days</th>\n",
       "      <td>2015-08-24</td>\n",
       "      <td>231.399994</td>\n",
       "      <td>195.000000</td>\n",
       "      <td>202.789993</td>\n",
       "      <td>218.869995</td>\n",
       "      <td>9581600</td>\n",
       "      <td>218.869995</td>\n",
       "      <td>5 days</td>\n",
       "    </tr>\n",
       "  </tbody>\n",
       "</table>\n",
       "</div>"
      ],
      "text/plain": [
       "               Date        High         Low        Open       Close   Volume  \\\n",
       "Ref Date                                                                       \n",
       "0 days   2015-08-19  260.649994  255.020004  260.329987  255.250000  3604300   \n",
       "1 days   2015-08-20  254.559998  241.899994  252.059998  242.179993  4905800   \n",
       "2 days   2015-08-21  243.800003  230.509995  236.000000  230.770004  6590200   \n",
       "5 days   2015-08-24  231.399994  195.000000  202.789993  218.869995  9581600   \n",
       "\n",
       "           Adj Close Ref Date  \n",
       "Ref Date                       \n",
       "0 days    255.250000   0 days  \n",
       "1 days    242.179993   1 days  \n",
       "2 days    230.770004   2 days  \n",
       "5 days    218.869995   5 days  "
      ]
     },
     "execution_count": 45,
     "metadata": {},
     "output_type": "execute_result"
    }
   ],
   "source": [
    "tesla['0 days':'5 days']"
   ]
  },
  {
   "cell_type": "markdown",
   "id": "c61d3b4f",
   "metadata": {},
   "source": [
    "# 日期范围"
   ]
  },
  {
   "cell_type": "markdown",
   "id": "4f7b26e4",
   "metadata": {},
   "source": [
    "- 包含日期的数据集中，并非每一个都包含固定频率。比如在ebola数据集中，日期并没有规律"
   ]
  },
  {
   "cell_type": "code",
   "execution_count": 46,
   "id": "3ab099c8",
   "metadata": {
    "ExecuteTime": {
     "end_time": "2022-12-28T11:30:45.116707Z",
     "start_time": "2022-12-28T11:30:45.101746Z"
    }
   },
   "outputs": [
    {
     "data": {
      "text/html": [
       "<div>\n",
       "<style scoped>\n",
       "    .dataframe tbody tr th:only-of-type {\n",
       "        vertical-align: middle;\n",
       "    }\n",
       "\n",
       "    .dataframe tbody tr th {\n",
       "        vertical-align: top;\n",
       "    }\n",
       "\n",
       "    .dataframe thead th {\n",
       "        text-align: right;\n",
       "    }\n",
       "</style>\n",
       "<table border=\"1\" class=\"dataframe\">\n",
       "  <thead>\n",
       "    <tr style=\"text-align: right;\">\n",
       "      <th></th>\n",
       "      <th>Date</th>\n",
       "      <th>Day</th>\n",
       "      <th>Cases_Guinea</th>\n",
       "      <th>Cases_Liberia</th>\n",
       "      <th>Cases_SierraLeone</th>\n",
       "    </tr>\n",
       "  </thead>\n",
       "  <tbody>\n",
       "    <tr>\n",
       "      <th>0</th>\n",
       "      <td>2015-01-05</td>\n",
       "      <td>289</td>\n",
       "      <td>2776.0</td>\n",
       "      <td>NaN</td>\n",
       "      <td>10030.0</td>\n",
       "    </tr>\n",
       "    <tr>\n",
       "      <th>1</th>\n",
       "      <td>2015-01-04</td>\n",
       "      <td>288</td>\n",
       "      <td>2775.0</td>\n",
       "      <td>NaN</td>\n",
       "      <td>9780.0</td>\n",
       "    </tr>\n",
       "    <tr>\n",
       "      <th>2</th>\n",
       "      <td>2015-01-03</td>\n",
       "      <td>287</td>\n",
       "      <td>2769.0</td>\n",
       "      <td>8166.0</td>\n",
       "      <td>9722.0</td>\n",
       "    </tr>\n",
       "    <tr>\n",
       "      <th>3</th>\n",
       "      <td>2015-01-02</td>\n",
       "      <td>286</td>\n",
       "      <td>NaN</td>\n",
       "      <td>8157.0</td>\n",
       "      <td>NaN</td>\n",
       "    </tr>\n",
       "    <tr>\n",
       "      <th>4</th>\n",
       "      <td>2014-12-31</td>\n",
       "      <td>284</td>\n",
       "      <td>2730.0</td>\n",
       "      <td>8115.0</td>\n",
       "      <td>9633.0</td>\n",
       "    </tr>\n",
       "  </tbody>\n",
       "</table>\n",
       "</div>"
      ],
      "text/plain": [
       "        Date  Day  Cases_Guinea  Cases_Liberia  Cases_SierraLeone\n",
       "0 2015-01-05  289        2776.0            NaN            10030.0\n",
       "1 2015-01-04  288        2775.0            NaN             9780.0\n",
       "2 2015-01-03  287        2769.0         8166.0             9722.0\n",
       "3 2015-01-02  286           NaN         8157.0                NaN\n",
       "4 2014-12-31  284        2730.0         8115.0             9633.0"
      ]
     },
     "execution_count": 46,
     "metadata": {},
     "output_type": "execute_result"
    }
   ],
   "source": [
    "ebola_head = ebola.iloc[:5,:5]\n",
    "ebola_head"
   ]
  },
  {
   "cell_type": "markdown",
   "id": "03d5b60b",
   "metadata": {},
   "source": [
    "- 从上面的数据中可以看到，缺少2015年1月1日，如果想让日期连续，可以创建一个日期范围来为数据集重建索引。"
   ]
  },
  {
   "cell_type": "markdown",
   "id": "13a200c6",
   "metadata": {},
   "source": [
    "## 可以使用 date_range 函数来创建连续的日期范围"
   ]
  },
  {
   "cell_type": "code",
   "execution_count": 47,
   "id": "7d9a37b4",
   "metadata": {
    "ExecuteTime": {
     "end_time": "2022-12-28T11:30:45.132663Z",
     "start_time": "2022-12-28T11:30:45.117703Z"
    }
   },
   "outputs": [
    {
     "data": {
      "text/plain": [
       "DatetimeIndex(['2014-12-31', '2015-01-01', '2015-01-02', '2015-01-03',\n",
       "               '2015-01-04', '2015-01-05'],\n",
       "              dtype='datetime64[ns]', freq='D')"
      ]
     },
     "execution_count": 47,
     "metadata": {},
     "output_type": "execute_result"
    }
   ],
   "source": [
    "head_range = pd.date_range(start='2014-12-31',end='2015-01-05')\n",
    "head_range"
   ]
  },
  {
   "cell_type": "markdown",
   "id": "b456dd44",
   "metadata": {},
   "source": [
    "## 对于 ebola_head 数据首先设置日期索引，然后为数据重建连续索引"
   ]
  },
  {
   "cell_type": "code",
   "execution_count": 48,
   "id": "a9563e02",
   "metadata": {
    "ExecuteTime": {
     "end_time": "2022-12-28T11:30:45.148621Z",
     "start_time": "2022-12-28T11:30:45.133661Z"
    }
   },
   "outputs": [
    {
     "data": {
      "text/html": [
       "<div>\n",
       "<style scoped>\n",
       "    .dataframe tbody tr th:only-of-type {\n",
       "        vertical-align: middle;\n",
       "    }\n",
       "\n",
       "    .dataframe tbody tr th {\n",
       "        vertical-align: top;\n",
       "    }\n",
       "\n",
       "    .dataframe thead th {\n",
       "        text-align: right;\n",
       "    }\n",
       "</style>\n",
       "<table border=\"1\" class=\"dataframe\">\n",
       "  <thead>\n",
       "    <tr style=\"text-align: right;\">\n",
       "      <th></th>\n",
       "      <th>Date</th>\n",
       "      <th>Day</th>\n",
       "      <th>Cases_Guinea</th>\n",
       "      <th>Cases_Liberia</th>\n",
       "      <th>Cases_SierraLeone</th>\n",
       "    </tr>\n",
       "    <tr>\n",
       "      <th>Date</th>\n",
       "      <th></th>\n",
       "      <th></th>\n",
       "      <th></th>\n",
       "      <th></th>\n",
       "      <th></th>\n",
       "    </tr>\n",
       "  </thead>\n",
       "  <tbody>\n",
       "    <tr>\n",
       "      <th>2015-01-05</th>\n",
       "      <td>2015-01-05</td>\n",
       "      <td>289</td>\n",
       "      <td>2776.0</td>\n",
       "      <td>NaN</td>\n",
       "      <td>10030.0</td>\n",
       "    </tr>\n",
       "    <tr>\n",
       "      <th>2015-01-04</th>\n",
       "      <td>2015-01-04</td>\n",
       "      <td>288</td>\n",
       "      <td>2775.0</td>\n",
       "      <td>NaN</td>\n",
       "      <td>9780.0</td>\n",
       "    </tr>\n",
       "    <tr>\n",
       "      <th>2015-01-03</th>\n",
       "      <td>2015-01-03</td>\n",
       "      <td>287</td>\n",
       "      <td>2769.0</td>\n",
       "      <td>8166.0</td>\n",
       "      <td>9722.0</td>\n",
       "    </tr>\n",
       "    <tr>\n",
       "      <th>2015-01-02</th>\n",
       "      <td>2015-01-02</td>\n",
       "      <td>286</td>\n",
       "      <td>NaN</td>\n",
       "      <td>8157.0</td>\n",
       "      <td>NaN</td>\n",
       "    </tr>\n",
       "    <tr>\n",
       "      <th>2014-12-31</th>\n",
       "      <td>2014-12-31</td>\n",
       "      <td>284</td>\n",
       "      <td>2730.0</td>\n",
       "      <td>8115.0</td>\n",
       "      <td>9633.0</td>\n",
       "    </tr>\n",
       "  </tbody>\n",
       "</table>\n",
       "</div>"
      ],
      "text/plain": [
       "                 Date  Day  Cases_Guinea  Cases_Liberia  Cases_SierraLeone\n",
       "Date                                                                      \n",
       "2015-01-05 2015-01-05  289        2776.0            NaN            10030.0\n",
       "2015-01-04 2015-01-04  288        2775.0            NaN             9780.0\n",
       "2015-01-03 2015-01-03  287        2769.0         8166.0             9722.0\n",
       "2015-01-02 2015-01-02  286           NaN         8157.0                NaN\n",
       "2014-12-31 2014-12-31  284        2730.0         8115.0             9633.0"
      ]
     },
     "execution_count": 48,
     "metadata": {},
     "output_type": "execute_result"
    }
   ],
   "source": [
    "ebola_head.index = ebola_head['Date']\n",
    "ebola_head"
   ]
  },
  {
   "cell_type": "code",
   "execution_count": 49,
   "id": "e4fd5b22",
   "metadata": {
    "ExecuteTime": {
     "end_time": "2022-12-28T11:30:45.164578Z",
     "start_time": "2022-12-28T11:30:45.149618Z"
    }
   },
   "outputs": [
    {
     "data": {
      "text/html": [
       "<div>\n",
       "<style scoped>\n",
       "    .dataframe tbody tr th:only-of-type {\n",
       "        vertical-align: middle;\n",
       "    }\n",
       "\n",
       "    .dataframe tbody tr th {\n",
       "        vertical-align: top;\n",
       "    }\n",
       "\n",
       "    .dataframe thead th {\n",
       "        text-align: right;\n",
       "    }\n",
       "</style>\n",
       "<table border=\"1\" class=\"dataframe\">\n",
       "  <thead>\n",
       "    <tr style=\"text-align: right;\">\n",
       "      <th></th>\n",
       "      <th>Date</th>\n",
       "      <th>Day</th>\n",
       "      <th>Cases_Guinea</th>\n",
       "      <th>Cases_Liberia</th>\n",
       "      <th>Cases_SierraLeone</th>\n",
       "    </tr>\n",
       "  </thead>\n",
       "  <tbody>\n",
       "    <tr>\n",
       "      <th>2014-12-31</th>\n",
       "      <td>2014-12-31</td>\n",
       "      <td>284.0</td>\n",
       "      <td>2730.0</td>\n",
       "      <td>8115.0</td>\n",
       "      <td>9633.0</td>\n",
       "    </tr>\n",
       "    <tr>\n",
       "      <th>2015-01-01</th>\n",
       "      <td>NaT</td>\n",
       "      <td>NaN</td>\n",
       "      <td>NaN</td>\n",
       "      <td>NaN</td>\n",
       "      <td>NaN</td>\n",
       "    </tr>\n",
       "    <tr>\n",
       "      <th>2015-01-02</th>\n",
       "      <td>2015-01-02</td>\n",
       "      <td>286.0</td>\n",
       "      <td>NaN</td>\n",
       "      <td>8157.0</td>\n",
       "      <td>NaN</td>\n",
       "    </tr>\n",
       "    <tr>\n",
       "      <th>2015-01-03</th>\n",
       "      <td>2015-01-03</td>\n",
       "      <td>287.0</td>\n",
       "      <td>2769.0</td>\n",
       "      <td>8166.0</td>\n",
       "      <td>9722.0</td>\n",
       "    </tr>\n",
       "    <tr>\n",
       "      <th>2015-01-04</th>\n",
       "      <td>2015-01-04</td>\n",
       "      <td>288.0</td>\n",
       "      <td>2775.0</td>\n",
       "      <td>NaN</td>\n",
       "      <td>9780.0</td>\n",
       "    </tr>\n",
       "    <tr>\n",
       "      <th>2015-01-05</th>\n",
       "      <td>2015-01-05</td>\n",
       "      <td>289.0</td>\n",
       "      <td>2776.0</td>\n",
       "      <td>NaN</td>\n",
       "      <td>10030.0</td>\n",
       "    </tr>\n",
       "  </tbody>\n",
       "</table>\n",
       "</div>"
      ],
      "text/plain": [
       "                 Date    Day  Cases_Guinea  Cases_Liberia  Cases_SierraLeone\n",
       "2014-12-31 2014-12-31  284.0        2730.0         8115.0             9633.0\n",
       "2015-01-01        NaT    NaN           NaN            NaN                NaN\n",
       "2015-01-02 2015-01-02  286.0           NaN         8157.0                NaN\n",
       "2015-01-03 2015-01-03  287.0        2769.0         8166.0             9722.0\n",
       "2015-01-04 2015-01-04  288.0        2775.0            NaN             9780.0\n",
       "2015-01-05 2015-01-05  289.0        2776.0            NaN            10030.0"
      ]
     },
     "execution_count": 49,
     "metadata": {},
     "output_type": "execute_result"
    }
   ],
   "source": [
    "ebola_head.reindex(head_range)"
   ]
  },
  {
   "cell_type": "markdown",
   "id": "4ba8a01c",
   "metadata": {},
   "source": [
    "- 使用date_range函数创建日期序列时，可以传入一个参数freq，默认情况下freq取值为D，表示日期范围内的值是逐日递增的"
   ]
  },
  {
   "cell_type": "code",
   "execution_count": 50,
   "id": "1bda2734",
   "metadata": {
    "ExecuteTime": {
     "end_time": "2022-12-28T11:30:45.180536Z",
     "start_time": "2022-12-28T11:30:45.166573Z"
    }
   },
   "outputs": [
    {
     "data": {
      "text/plain": [
       "DatetimeIndex(['2022-01-03', '2022-01-04', '2022-01-05', '2022-01-06',\n",
       "               '2022-01-07'],\n",
       "              dtype='datetime64[ns]', freq='B')"
      ]
     },
     "execution_count": 50,
     "metadata": {},
     "output_type": "execute_result"
    }
   ],
   "source": [
    "# 产生2022-01-01到2022-01-07的工作日\n",
    "pd.date_range('2022-01-01','2022-01-07',freq='B')"
   ]
  },
  {
   "cell_type": "markdown",
   "id": "12a84a81",
   "metadata": {},
   "source": [
    "- freq 参数的可能取值：\n",
    "\n",
    "- Alias  Description\n",
    "- B  工作日\n",
    "- C  自定义工作日\n",
    "- D  日历日\n",
    "- W  每周\n",
    "- M  月末\n",
    "- SM  月中和月末（每月第15天和月末）\n",
    "- BM  月末工作日\n",
    "- CBM  自定义月末工作日\n",
    "- MS  月初\n",
    "- SMS  月初和月中（每月第1天和第15天）\n",
    "- BMS  月初工作日\n",
    "- CBMS  自定义月初工作日\n",
    "- Q  季度末\n",
    "- BQ  季度末工作日\n",
    "- QS  季度初\n",
    "- BQS  季度初工作日\n",
    "- A, Y  年末\n",
    "- BA, BY  年末工作日\n",
    "- AS, YS  年初\n",
    "- BAS, BYS  年初工作日\n",
    "- BH  工作时间\n",
    "- H  小时\n",
    "- T, min  分钟\n",
    "- S  秒\n",
    "- L, ms  毫秒\n",
    "- U, us  microseconds\n",
    "- N  纳秒"
   ]
  },
  {
   "cell_type": "markdown",
   "id": "dfd98250",
   "metadata": {},
   "source": [
    "## 在 freq 传入参数的基础上，可以做一些调整"
   ]
  },
  {
   "cell_type": "code",
   "execution_count": 51,
   "id": "e498deb5",
   "metadata": {
    "ExecuteTime": {
     "end_time": "2022-12-28T11:30:45.196493Z",
     "start_time": "2022-12-28T11:30:45.181533Z"
    }
   },
   "outputs": [
    {
     "data": {
      "text/plain": [
       "DatetimeIndex(['2022-01-03', '2022-01-05', '2022-01-07'], dtype='datetime64[ns]', freq='2B')"
      ]
     },
     "execution_count": 51,
     "metadata": {},
     "output_type": "execute_result"
    }
   ],
   "source": [
    "pd.date_range('2022-01-01','2022-01-07',freq='2B')"
   ]
  },
  {
   "cell_type": "markdown",
   "id": "f0dd4ef0",
   "metadata": {},
   "source": [
    "## freq 传入的参数可以传入多个"
   ]
  },
  {
   "cell_type": "code",
   "execution_count": 52,
   "id": "c5c1e433",
   "metadata": {
    "ExecuteTime": {
     "end_time": "2022-12-28T11:30:45.211455Z",
     "start_time": "2022-12-28T11:30:45.197491Z"
    }
   },
   "outputs": [
    {
     "data": {
      "text/plain": [
       "DatetimeIndex(['2022-01-06', '2022-02-03', '2022-03-03', '2022-04-07',\n",
       "               '2022-05-05', '2022-06-02', '2022-07-07', '2022-08-04',\n",
       "               '2022-09-01', '2022-10-06', '2022-11-03', '2022-12-01'],\n",
       "              dtype='datetime64[ns]', freq='WOM-1THU')"
      ]
     },
     "execution_count": 52,
     "metadata": {},
     "output_type": "execute_result"
    }
   ],
   "source": [
    "# 示例：2022年每个月的第一个星期四\n",
    "pd.date_range('2022-01-01','2022-12-31',freq='WOM-1THU')"
   ]
  },
  {
   "cell_type": "code",
   "execution_count": 53,
   "id": "b553d858",
   "metadata": {
    "ExecuteTime": {
     "end_time": "2022-12-28T11:30:45.226414Z",
     "start_time": "2022-12-28T11:30:45.212452Z"
    }
   },
   "outputs": [
    {
     "data": {
      "text/plain": [
       "DatetimeIndex(['2022-01-21', '2022-02-18', '2022-03-18', '2022-04-15',\n",
       "               '2022-05-20', '2022-06-17', '2022-07-15', '2022-08-19',\n",
       "               '2022-09-16', '2022-10-21', '2022-11-18', '2022-12-16'],\n",
       "              dtype='datetime64[ns]', freq='WOM-3FRI')"
      ]
     },
     "execution_count": 53,
     "metadata": {},
     "output_type": "execute_result"
    }
   ],
   "source": [
    "# 示例：2022年每个月的第三个星期五\n",
    "pd.date_range('2022-01-01','2022-12-31',freq='WOM-3FRI')"
   ]
  },
  {
   "cell_type": "markdown",
   "id": "01e70e60",
   "metadata": {},
   "source": [
    "# 案例：丹佛报警记录数据分析"
   ]
  },
  {
   "cell_type": "markdown",
   "id": "ee919fe3",
   "metadata": {},
   "source": [
    "## 加载丹佛市报警记录数据集 crime.csv"
   ]
  },
  {
   "cell_type": "code",
   "execution_count": 54,
   "id": "ad1d12c7",
   "metadata": {
    "ExecuteTime": {
     "end_time": "2022-12-28T11:30:46.241391Z",
     "start_time": "2022-12-28T11:30:45.228408Z"
    }
   },
   "outputs": [
    {
     "data": {
      "text/html": [
       "<div>\n",
       "<style scoped>\n",
       "    .dataframe tbody tr th:only-of-type {\n",
       "        vertical-align: middle;\n",
       "    }\n",
       "\n",
       "    .dataframe tbody tr th {\n",
       "        vertical-align: top;\n",
       "    }\n",
       "\n",
       "    .dataframe thead th {\n",
       "        text-align: right;\n",
       "    }\n",
       "</style>\n",
       "<table border=\"1\" class=\"dataframe\">\n",
       "  <thead>\n",
       "    <tr style=\"text-align: right;\">\n",
       "      <th></th>\n",
       "      <th>OFFENSE_TYPE_ID</th>\n",
       "      <th>OFFENSE_CATEGORY_ID</th>\n",
       "      <th>REPORTED_DATE</th>\n",
       "      <th>GEO_LON</th>\n",
       "      <th>GEO_LAT</th>\n",
       "      <th>NEIGHBORHOOD_ID</th>\n",
       "      <th>IS_CRIME</th>\n",
       "      <th>IS_TRAFFIC</th>\n",
       "    </tr>\n",
       "  </thead>\n",
       "  <tbody>\n",
       "    <tr>\n",
       "      <th>0</th>\n",
       "      <td>traffic-accident-dui-duid</td>\n",
       "      <td>traffic-accident</td>\n",
       "      <td>2014-06-29 02:01:00</td>\n",
       "      <td>-105.000149</td>\n",
       "      <td>39.745753</td>\n",
       "      <td>cbd</td>\n",
       "      <td>0</td>\n",
       "      <td>1</td>\n",
       "    </tr>\n",
       "    <tr>\n",
       "      <th>1</th>\n",
       "      <td>vehicular-eluding-no-chase</td>\n",
       "      <td>all-other-crimes</td>\n",
       "      <td>2014-06-29 01:54:00</td>\n",
       "      <td>-104.884660</td>\n",
       "      <td>39.738702</td>\n",
       "      <td>east-colfax</td>\n",
       "      <td>1</td>\n",
       "      <td>0</td>\n",
       "    </tr>\n",
       "    <tr>\n",
       "      <th>2</th>\n",
       "      <td>disturbing-the-peace</td>\n",
       "      <td>public-disorder</td>\n",
       "      <td>2014-06-29 02:00:00</td>\n",
       "      <td>-105.020719</td>\n",
       "      <td>39.706674</td>\n",
       "      <td>athmar-park</td>\n",
       "      <td>1</td>\n",
       "      <td>0</td>\n",
       "    </tr>\n",
       "    <tr>\n",
       "      <th>3</th>\n",
       "      <td>curfew</td>\n",
       "      <td>public-disorder</td>\n",
       "      <td>2014-06-29 02:18:00</td>\n",
       "      <td>-105.001552</td>\n",
       "      <td>39.769505</td>\n",
       "      <td>sunnyside</td>\n",
       "      <td>1</td>\n",
       "      <td>0</td>\n",
       "    </tr>\n",
       "    <tr>\n",
       "      <th>4</th>\n",
       "      <td>aggravated-assault</td>\n",
       "      <td>aggravated-assault</td>\n",
       "      <td>2014-06-29 04:17:00</td>\n",
       "      <td>-105.018557</td>\n",
       "      <td>39.679229</td>\n",
       "      <td>college-view-south-platte</td>\n",
       "      <td>1</td>\n",
       "      <td>0</td>\n",
       "    </tr>\n",
       "    <tr>\n",
       "      <th>...</th>\n",
       "      <td>...</td>\n",
       "      <td>...</td>\n",
       "      <td>...</td>\n",
       "      <td>...</td>\n",
       "      <td>...</td>\n",
       "      <td>...</td>\n",
       "      <td>...</td>\n",
       "      <td>...</td>\n",
       "    </tr>\n",
       "    <tr>\n",
       "      <th>460906</th>\n",
       "      <td>burglary-business-by-force</td>\n",
       "      <td>burglary</td>\n",
       "      <td>2017-09-13 05:48:00</td>\n",
       "      <td>-105.033840</td>\n",
       "      <td>39.762365</td>\n",
       "      <td>west-highland</td>\n",
       "      <td>1</td>\n",
       "      <td>0</td>\n",
       "    </tr>\n",
       "    <tr>\n",
       "      <th>460907</th>\n",
       "      <td>weapon-unlawful-discharge-of</td>\n",
       "      <td>all-other-crimes</td>\n",
       "      <td>2017-09-12 20:37:00</td>\n",
       "      <td>-105.040313</td>\n",
       "      <td>39.721264</td>\n",
       "      <td>barnum-west</td>\n",
       "      <td>1</td>\n",
       "      <td>0</td>\n",
       "    </tr>\n",
       "    <tr>\n",
       "      <th>460908</th>\n",
       "      <td>traf-habitual-offender</td>\n",
       "      <td>all-other-crimes</td>\n",
       "      <td>2017-09-12 16:32:00</td>\n",
       "      <td>-104.847024</td>\n",
       "      <td>39.779596</td>\n",
       "      <td>montbello</td>\n",
       "      <td>1</td>\n",
       "      <td>0</td>\n",
       "    </tr>\n",
       "    <tr>\n",
       "      <th>460909</th>\n",
       "      <td>criminal-mischief-other</td>\n",
       "      <td>public-disorder</td>\n",
       "      <td>2017-09-12 13:04:00</td>\n",
       "      <td>-104.949183</td>\n",
       "      <td>39.756353</td>\n",
       "      <td>skyland</td>\n",
       "      <td>1</td>\n",
       "      <td>0</td>\n",
       "    </tr>\n",
       "    <tr>\n",
       "      <th>460910</th>\n",
       "      <td>theft-other</td>\n",
       "      <td>larceny</td>\n",
       "      <td>2017-09-12 09:30:00</td>\n",
       "      <td>-104.985739</td>\n",
       "      <td>39.735045</td>\n",
       "      <td>capitol-hill</td>\n",
       "      <td>1</td>\n",
       "      <td>0</td>\n",
       "    </tr>\n",
       "  </tbody>\n",
       "</table>\n",
       "<p>460911 rows × 8 columns</p>\n",
       "</div>"
      ],
      "text/plain": [
       "                     OFFENSE_TYPE_ID OFFENSE_CATEGORY_ID       REPORTED_DATE  \\\n",
       "0          traffic-accident-dui-duid    traffic-accident 2014-06-29 02:01:00   \n",
       "1         vehicular-eluding-no-chase    all-other-crimes 2014-06-29 01:54:00   \n",
       "2               disturbing-the-peace     public-disorder 2014-06-29 02:00:00   \n",
       "3                             curfew     public-disorder 2014-06-29 02:18:00   \n",
       "4                 aggravated-assault  aggravated-assault 2014-06-29 04:17:00   \n",
       "...                              ...                 ...                 ...   \n",
       "460906    burglary-business-by-force            burglary 2017-09-13 05:48:00   \n",
       "460907  weapon-unlawful-discharge-of    all-other-crimes 2017-09-12 20:37:00   \n",
       "460908        traf-habitual-offender    all-other-crimes 2017-09-12 16:32:00   \n",
       "460909       criminal-mischief-other     public-disorder 2017-09-12 13:04:00   \n",
       "460910                   theft-other             larceny 2017-09-12 09:30:00   \n",
       "\n",
       "           GEO_LON    GEO_LAT            NEIGHBORHOOD_ID  IS_CRIME  IS_TRAFFIC  \n",
       "0      -105.000149  39.745753                        cbd         0           1  \n",
       "1      -104.884660  39.738702                east-colfax         1           0  \n",
       "2      -105.020719  39.706674                athmar-park         1           0  \n",
       "3      -105.001552  39.769505                  sunnyside         1           0  \n",
       "4      -105.018557  39.679229  college-view-south-platte         1           0  \n",
       "...            ...        ...                        ...       ...         ...  \n",
       "460906 -105.033840  39.762365              west-highland         1           0  \n",
       "460907 -105.040313  39.721264                barnum-west         1           0  \n",
       "460908 -104.847024  39.779596                  montbello         1           0  \n",
       "460909 -104.949183  39.756353                    skyland         1           0  \n",
       "460910 -104.985739  39.735045               capitol-hill         1           0  \n",
       "\n",
       "[460911 rows x 8 columns]"
      ]
     },
     "execution_count": 54,
     "metadata": {},
     "output_type": "execute_result"
    }
   ],
   "source": [
    "crime = pd.read_csv('./data/crime.csv',parse_dates=['REPORTED_DATE'])\n",
    "crime"
   ]
  },
  {
   "cell_type": "code",
   "execution_count": 55,
   "id": "9a22e4a0",
   "metadata": {
    "ExecuteTime": {
     "end_time": "2022-12-28T11:30:46.380986Z",
     "start_time": "2022-12-28T11:30:46.242358Z"
    }
   },
   "outputs": [
    {
     "name": "stdout",
     "output_type": "stream",
     "text": [
      "<class 'pandas.core.frame.DataFrame'>\n",
      "RangeIndex: 460911 entries, 0 to 460910\n",
      "Data columns (total 8 columns):\n",
      " #   Column               Non-Null Count   Dtype         \n",
      "---  ------               --------------   -----         \n",
      " 0   OFFENSE_TYPE_ID      460911 non-null  object        \n",
      " 1   OFFENSE_CATEGORY_ID  460911 non-null  object        \n",
      " 2   REPORTED_DATE        460911 non-null  datetime64[ns]\n",
      " 3   GEO_LON              457296 non-null  float64       \n",
      " 4   GEO_LAT              457296 non-null  float64       \n",
      " 5   NEIGHBORHOOD_ID      460911 non-null  object        \n",
      " 6   IS_CRIME             460911 non-null  int64         \n",
      " 7   IS_TRAFFIC           460911 non-null  int64         \n",
      "dtypes: datetime64[ns](1), float64(2), int64(2), object(3)\n",
      "memory usage: 28.1+ MB\n"
     ]
    }
   ],
   "source": [
    "crime.info()"
   ]
  },
  {
   "cell_type": "markdown",
   "id": "5b36ffab",
   "metadata": {},
   "source": [
    "## 设置报警时间为行标签索引"
   ]
  },
  {
   "cell_type": "code",
   "execution_count": 56,
   "id": "43b3226e",
   "metadata": {
    "ExecuteTime": {
     "end_time": "2022-12-28T11:30:46.412505Z",
     "start_time": "2022-12-28T11:30:46.381984Z"
    }
   },
   "outputs": [
    {
     "data": {
      "text/html": [
       "<div>\n",
       "<style scoped>\n",
       "    .dataframe tbody tr th:only-of-type {\n",
       "        vertical-align: middle;\n",
       "    }\n",
       "\n",
       "    .dataframe tbody tr th {\n",
       "        vertical-align: top;\n",
       "    }\n",
       "\n",
       "    .dataframe thead th {\n",
       "        text-align: right;\n",
       "    }\n",
       "</style>\n",
       "<table border=\"1\" class=\"dataframe\">\n",
       "  <thead>\n",
       "    <tr style=\"text-align: right;\">\n",
       "      <th></th>\n",
       "      <th>OFFENSE_TYPE_ID</th>\n",
       "      <th>OFFENSE_CATEGORY_ID</th>\n",
       "      <th>GEO_LON</th>\n",
       "      <th>GEO_LAT</th>\n",
       "      <th>NEIGHBORHOOD_ID</th>\n",
       "      <th>IS_CRIME</th>\n",
       "      <th>IS_TRAFFIC</th>\n",
       "    </tr>\n",
       "    <tr>\n",
       "      <th>REPORTED_DATE</th>\n",
       "      <th></th>\n",
       "      <th></th>\n",
       "      <th></th>\n",
       "      <th></th>\n",
       "      <th></th>\n",
       "      <th></th>\n",
       "      <th></th>\n",
       "    </tr>\n",
       "  </thead>\n",
       "  <tbody>\n",
       "    <tr>\n",
       "      <th>2014-06-29 02:01:00</th>\n",
       "      <td>traffic-accident-dui-duid</td>\n",
       "      <td>traffic-accident</td>\n",
       "      <td>-105.000149</td>\n",
       "      <td>39.745753</td>\n",
       "      <td>cbd</td>\n",
       "      <td>0</td>\n",
       "      <td>1</td>\n",
       "    </tr>\n",
       "    <tr>\n",
       "      <th>2014-06-29 01:54:00</th>\n",
       "      <td>vehicular-eluding-no-chase</td>\n",
       "      <td>all-other-crimes</td>\n",
       "      <td>-104.884660</td>\n",
       "      <td>39.738702</td>\n",
       "      <td>east-colfax</td>\n",
       "      <td>1</td>\n",
       "      <td>0</td>\n",
       "    </tr>\n",
       "    <tr>\n",
       "      <th>2014-06-29 02:00:00</th>\n",
       "      <td>disturbing-the-peace</td>\n",
       "      <td>public-disorder</td>\n",
       "      <td>-105.020719</td>\n",
       "      <td>39.706674</td>\n",
       "      <td>athmar-park</td>\n",
       "      <td>1</td>\n",
       "      <td>0</td>\n",
       "    </tr>\n",
       "    <tr>\n",
       "      <th>2014-06-29 02:18:00</th>\n",
       "      <td>curfew</td>\n",
       "      <td>public-disorder</td>\n",
       "      <td>-105.001552</td>\n",
       "      <td>39.769505</td>\n",
       "      <td>sunnyside</td>\n",
       "      <td>1</td>\n",
       "      <td>0</td>\n",
       "    </tr>\n",
       "    <tr>\n",
       "      <th>2014-06-29 04:17:00</th>\n",
       "      <td>aggravated-assault</td>\n",
       "      <td>aggravated-assault</td>\n",
       "      <td>-105.018557</td>\n",
       "      <td>39.679229</td>\n",
       "      <td>college-view-south-platte</td>\n",
       "      <td>1</td>\n",
       "      <td>0</td>\n",
       "    </tr>\n",
       "    <tr>\n",
       "      <th>...</th>\n",
       "      <td>...</td>\n",
       "      <td>...</td>\n",
       "      <td>...</td>\n",
       "      <td>...</td>\n",
       "      <td>...</td>\n",
       "      <td>...</td>\n",
       "      <td>...</td>\n",
       "    </tr>\n",
       "    <tr>\n",
       "      <th>2017-09-13 05:48:00</th>\n",
       "      <td>burglary-business-by-force</td>\n",
       "      <td>burglary</td>\n",
       "      <td>-105.033840</td>\n",
       "      <td>39.762365</td>\n",
       "      <td>west-highland</td>\n",
       "      <td>1</td>\n",
       "      <td>0</td>\n",
       "    </tr>\n",
       "    <tr>\n",
       "      <th>2017-09-12 20:37:00</th>\n",
       "      <td>weapon-unlawful-discharge-of</td>\n",
       "      <td>all-other-crimes</td>\n",
       "      <td>-105.040313</td>\n",
       "      <td>39.721264</td>\n",
       "      <td>barnum-west</td>\n",
       "      <td>1</td>\n",
       "      <td>0</td>\n",
       "    </tr>\n",
       "    <tr>\n",
       "      <th>2017-09-12 16:32:00</th>\n",
       "      <td>traf-habitual-offender</td>\n",
       "      <td>all-other-crimes</td>\n",
       "      <td>-104.847024</td>\n",
       "      <td>39.779596</td>\n",
       "      <td>montbello</td>\n",
       "      <td>1</td>\n",
       "      <td>0</td>\n",
       "    </tr>\n",
       "    <tr>\n",
       "      <th>2017-09-12 13:04:00</th>\n",
       "      <td>criminal-mischief-other</td>\n",
       "      <td>public-disorder</td>\n",
       "      <td>-104.949183</td>\n",
       "      <td>39.756353</td>\n",
       "      <td>skyland</td>\n",
       "      <td>1</td>\n",
       "      <td>0</td>\n",
       "    </tr>\n",
       "    <tr>\n",
       "      <th>2017-09-12 09:30:00</th>\n",
       "      <td>theft-other</td>\n",
       "      <td>larceny</td>\n",
       "      <td>-104.985739</td>\n",
       "      <td>39.735045</td>\n",
       "      <td>capitol-hill</td>\n",
       "      <td>1</td>\n",
       "      <td>0</td>\n",
       "    </tr>\n",
       "  </tbody>\n",
       "</table>\n",
       "<p>460911 rows × 7 columns</p>\n",
       "</div>"
      ],
      "text/plain": [
       "                                  OFFENSE_TYPE_ID OFFENSE_CATEGORY_ID  \\\n",
       "REPORTED_DATE                                                           \n",
       "2014-06-29 02:01:00     traffic-accident-dui-duid    traffic-accident   \n",
       "2014-06-29 01:54:00    vehicular-eluding-no-chase    all-other-crimes   \n",
       "2014-06-29 02:00:00          disturbing-the-peace     public-disorder   \n",
       "2014-06-29 02:18:00                        curfew     public-disorder   \n",
       "2014-06-29 04:17:00            aggravated-assault  aggravated-assault   \n",
       "...                                           ...                 ...   \n",
       "2017-09-13 05:48:00    burglary-business-by-force            burglary   \n",
       "2017-09-12 20:37:00  weapon-unlawful-discharge-of    all-other-crimes   \n",
       "2017-09-12 16:32:00        traf-habitual-offender    all-other-crimes   \n",
       "2017-09-12 13:04:00       criminal-mischief-other     public-disorder   \n",
       "2017-09-12 09:30:00                   theft-other             larceny   \n",
       "\n",
       "                        GEO_LON    GEO_LAT            NEIGHBORHOOD_ID  \\\n",
       "REPORTED_DATE                                                           \n",
       "2014-06-29 02:01:00 -105.000149  39.745753                        cbd   \n",
       "2014-06-29 01:54:00 -104.884660  39.738702                east-colfax   \n",
       "2014-06-29 02:00:00 -105.020719  39.706674                athmar-park   \n",
       "2014-06-29 02:18:00 -105.001552  39.769505                  sunnyside   \n",
       "2014-06-29 04:17:00 -105.018557  39.679229  college-view-south-platte   \n",
       "...                         ...        ...                        ...   \n",
       "2017-09-13 05:48:00 -105.033840  39.762365              west-highland   \n",
       "2017-09-12 20:37:00 -105.040313  39.721264                barnum-west   \n",
       "2017-09-12 16:32:00 -104.847024  39.779596                  montbello   \n",
       "2017-09-12 13:04:00 -104.949183  39.756353                    skyland   \n",
       "2017-09-12 09:30:00 -104.985739  39.735045               capitol-hill   \n",
       "\n",
       "                     IS_CRIME  IS_TRAFFIC  \n",
       "REPORTED_DATE                              \n",
       "2014-06-29 02:01:00         0           1  \n",
       "2014-06-29 01:54:00         1           0  \n",
       "2014-06-29 02:00:00         1           0  \n",
       "2014-06-29 02:18:00         1           0  \n",
       "2014-06-29 04:17:00         1           0  \n",
       "...                       ...         ...  \n",
       "2017-09-13 05:48:00         1           0  \n",
       "2017-09-12 20:37:00         1           0  \n",
       "2017-09-12 16:32:00         1           0  \n",
       "2017-09-12 13:04:00         1           0  \n",
       "2017-09-12 09:30:00         1           0  \n",
       "\n",
       "[460911 rows x 7 columns]"
      ]
     },
     "execution_count": 56,
     "metadata": {},
     "output_type": "execute_result"
    }
   ],
   "source": [
    "crime = crime.set_index('REPORTED_DATE')\n",
    "crime"
   ]
  },
  {
   "cell_type": "markdown",
   "id": "84be5828",
   "metadata": {},
   "source": [
    "## 示例：获取 2016-05-02 的报警记录数据"
   ]
  },
  {
   "cell_type": "code",
   "execution_count": 57,
   "id": "676fbb5f",
   "metadata": {
    "ExecuteTime": {
     "end_time": "2022-12-28T11:30:46.490259Z",
     "start_time": "2022-12-28T11:30:46.413503Z"
    }
   },
   "outputs": [
    {
     "data": {
      "text/html": [
       "<div>\n",
       "<style scoped>\n",
       "    .dataframe tbody tr th:only-of-type {\n",
       "        vertical-align: middle;\n",
       "    }\n",
       "\n",
       "    .dataframe tbody tr th {\n",
       "        vertical-align: top;\n",
       "    }\n",
       "\n",
       "    .dataframe thead th {\n",
       "        text-align: right;\n",
       "    }\n",
       "</style>\n",
       "<table border=\"1\" class=\"dataframe\">\n",
       "  <thead>\n",
       "    <tr style=\"text-align: right;\">\n",
       "      <th></th>\n",
       "      <th>OFFENSE_TYPE_ID</th>\n",
       "      <th>OFFENSE_CATEGORY_ID</th>\n",
       "      <th>GEO_LON</th>\n",
       "      <th>GEO_LAT</th>\n",
       "      <th>NEIGHBORHOOD_ID</th>\n",
       "      <th>IS_CRIME</th>\n",
       "      <th>IS_TRAFFIC</th>\n",
       "    </tr>\n",
       "    <tr>\n",
       "      <th>REPORTED_DATE</th>\n",
       "      <th></th>\n",
       "      <th></th>\n",
       "      <th></th>\n",
       "      <th></th>\n",
       "      <th></th>\n",
       "      <th></th>\n",
       "      <th></th>\n",
       "    </tr>\n",
       "  </thead>\n",
       "  <tbody>\n",
       "    <tr>\n",
       "      <th>2016-05-02 01:11:00</th>\n",
       "      <td>public-order-crimes-other</td>\n",
       "      <td>all-other-crimes</td>\n",
       "      <td>-104.959488</td>\n",
       "      <td>39.771389</td>\n",
       "      <td>clayton</td>\n",
       "      <td>1</td>\n",
       "      <td>0</td>\n",
       "    </tr>\n",
       "    <tr>\n",
       "      <th>2016-05-02 17:30:00</th>\n",
       "      <td>traffic-accident-hit-and-run</td>\n",
       "      <td>traffic-accident</td>\n",
       "      <td>-104.985704</td>\n",
       "      <td>39.781041</td>\n",
       "      <td>globeville</td>\n",
       "      <td>0</td>\n",
       "      <td>1</td>\n",
       "    </tr>\n",
       "    <tr>\n",
       "      <th>2016-05-02 15:15:00</th>\n",
       "      <td>theft-of-motor-vehicle</td>\n",
       "      <td>auto-theft</td>\n",
       "      <td>-104.957429</td>\n",
       "      <td>39.779528</td>\n",
       "      <td>elyria-swansea</td>\n",
       "      <td>1</td>\n",
       "      <td>0</td>\n",
       "    </tr>\n",
       "    <tr>\n",
       "      <th>2016-05-02 15:59:00</th>\n",
       "      <td>traffic-accident</td>\n",
       "      <td>traffic-accident</td>\n",
       "      <td>-104.786379</td>\n",
       "      <td>39.798384</td>\n",
       "      <td>gateway-green-valley-ranch</td>\n",
       "      <td>0</td>\n",
       "      <td>1</td>\n",
       "    </tr>\n",
       "    <tr>\n",
       "      <th>2016-05-02 11:50:00</th>\n",
       "      <td>police-false-information</td>\n",
       "      <td>all-other-crimes</td>\n",
       "      <td>-104.987485</td>\n",
       "      <td>39.739897</td>\n",
       "      <td>civic-center</td>\n",
       "      <td>1</td>\n",
       "      <td>0</td>\n",
       "    </tr>\n",
       "    <tr>\n",
       "      <th>...</th>\n",
       "      <td>...</td>\n",
       "      <td>...</td>\n",
       "      <td>...</td>\n",
       "      <td>...</td>\n",
       "      <td>...</td>\n",
       "      <td>...</td>\n",
       "      <td>...</td>\n",
       "    </tr>\n",
       "    <tr>\n",
       "      <th>2016-05-02 08:00:00</th>\n",
       "      <td>threats-to-injure</td>\n",
       "      <td>public-disorder</td>\n",
       "      <td>-105.025724</td>\n",
       "      <td>39.676018</td>\n",
       "      <td>harvey-park</td>\n",
       "      <td>1</td>\n",
       "      <td>0</td>\n",
       "    </tr>\n",
       "    <tr>\n",
       "      <th>2016-05-02 11:37:00</th>\n",
       "      <td>robbery-street</td>\n",
       "      <td>robbery</td>\n",
       "      <td>-104.838333</td>\n",
       "      <td>39.789666</td>\n",
       "      <td>montbello</td>\n",
       "      <td>1</td>\n",
       "      <td>0</td>\n",
       "    </tr>\n",
       "    <tr>\n",
       "      <th>2016-05-02 19:09:00</th>\n",
       "      <td>arson-other</td>\n",
       "      <td>arson</td>\n",
       "      <td>-105.002641</td>\n",
       "      <td>39.771464</td>\n",
       "      <td>sunnyside</td>\n",
       "      <td>1</td>\n",
       "      <td>0</td>\n",
       "    </tr>\n",
       "    <tr>\n",
       "      <th>2016-05-02 08:46:00</th>\n",
       "      <td>obscene-material-possess</td>\n",
       "      <td>other-crimes-against-persons</td>\n",
       "      <td>-104.890031</td>\n",
       "      <td>39.723889</td>\n",
       "      <td>lowry-field</td>\n",
       "      <td>1</td>\n",
       "      <td>0</td>\n",
       "    </tr>\n",
       "    <tr>\n",
       "      <th>2016-05-02 01:44:00</th>\n",
       "      <td>assault-dv</td>\n",
       "      <td>other-crimes-against-persons</td>\n",
       "      <td>-104.768596</td>\n",
       "      <td>39.803010</td>\n",
       "      <td>dia</td>\n",
       "      <td>1</td>\n",
       "      <td>0</td>\n",
       "    </tr>\n",
       "  </tbody>\n",
       "</table>\n",
       "<p>278 rows × 7 columns</p>\n",
       "</div>"
      ],
      "text/plain": [
       "                                  OFFENSE_TYPE_ID  \\\n",
       "REPORTED_DATE                                       \n",
       "2016-05-02 01:11:00     public-order-crimes-other   \n",
       "2016-05-02 17:30:00  traffic-accident-hit-and-run   \n",
       "2016-05-02 15:15:00        theft-of-motor-vehicle   \n",
       "2016-05-02 15:59:00              traffic-accident   \n",
       "2016-05-02 11:50:00      police-false-information   \n",
       "...                                           ...   \n",
       "2016-05-02 08:00:00             threats-to-injure   \n",
       "2016-05-02 11:37:00                robbery-street   \n",
       "2016-05-02 19:09:00                   arson-other   \n",
       "2016-05-02 08:46:00      obscene-material-possess   \n",
       "2016-05-02 01:44:00                    assault-dv   \n",
       "\n",
       "                              OFFENSE_CATEGORY_ID     GEO_LON    GEO_LAT  \\\n",
       "REPORTED_DATE                                                              \n",
       "2016-05-02 01:11:00              all-other-crimes -104.959488  39.771389   \n",
       "2016-05-02 17:30:00              traffic-accident -104.985704  39.781041   \n",
       "2016-05-02 15:15:00                    auto-theft -104.957429  39.779528   \n",
       "2016-05-02 15:59:00              traffic-accident -104.786379  39.798384   \n",
       "2016-05-02 11:50:00              all-other-crimes -104.987485  39.739897   \n",
       "...                                           ...         ...        ...   \n",
       "2016-05-02 08:00:00               public-disorder -105.025724  39.676018   \n",
       "2016-05-02 11:37:00                       robbery -104.838333  39.789666   \n",
       "2016-05-02 19:09:00                         arson -105.002641  39.771464   \n",
       "2016-05-02 08:46:00  other-crimes-against-persons -104.890031  39.723889   \n",
       "2016-05-02 01:44:00  other-crimes-against-persons -104.768596  39.803010   \n",
       "\n",
       "                                NEIGHBORHOOD_ID  IS_CRIME  IS_TRAFFIC  \n",
       "REPORTED_DATE                                                          \n",
       "2016-05-02 01:11:00                     clayton         1           0  \n",
       "2016-05-02 17:30:00                  globeville         0           1  \n",
       "2016-05-02 15:15:00              elyria-swansea         1           0  \n",
       "2016-05-02 15:59:00  gateway-green-valley-ranch         0           1  \n",
       "2016-05-02 11:50:00                civic-center         1           0  \n",
       "...                                         ...       ...         ...  \n",
       "2016-05-02 08:00:00                 harvey-park         1           0  \n",
       "2016-05-02 11:37:00                   montbello         1           0  \n",
       "2016-05-02 19:09:00                   sunnyside         1           0  \n",
       "2016-05-02 08:46:00                 lowry-field         1           0  \n",
       "2016-05-02 01:44:00                         dia         1           0  \n",
       "\n",
       "[278 rows x 7 columns]"
      ]
     },
     "execution_count": 57,
     "metadata": {},
     "output_type": "execute_result"
    }
   ],
   "source": [
    "crime.loc['2016-05-02']"
   ]
  },
  {
   "cell_type": "markdown",
   "id": "a51b6435",
   "metadata": {},
   "source": [
    "## 示例：获取 2015-03-01 到 2015-06-01 之间的报警记录数据"
   ]
  },
  {
   "cell_type": "code",
   "execution_count": 58,
   "id": "6a8d1820",
   "metadata": {
    "ExecuteTime": {
     "end_time": "2022-12-28T11:30:46.522206Z",
     "start_time": "2022-12-28T11:30:46.491256Z"
    }
   },
   "outputs": [
    {
     "name": "stderr",
     "output_type": "stream",
     "text": [
      "C:\\Users\\hp\\AppData\\Local\\Temp\\ipykernel_17044\\688302702.py:1: FutureWarning: Value based partial slicing on non-monotonic DatetimeIndexes with non-existing keys is deprecated and will raise a KeyError in a future Version.\n",
      "  crime.loc['2015-03-01':'2015-06-01'].sort_index()\n"
     ]
    },
    {
     "data": {
      "text/html": [
       "<div>\n",
       "<style scoped>\n",
       "    .dataframe tbody tr th:only-of-type {\n",
       "        vertical-align: middle;\n",
       "    }\n",
       "\n",
       "    .dataframe tbody tr th {\n",
       "        vertical-align: top;\n",
       "    }\n",
       "\n",
       "    .dataframe thead th {\n",
       "        text-align: right;\n",
       "    }\n",
       "</style>\n",
       "<table border=\"1\" class=\"dataframe\">\n",
       "  <thead>\n",
       "    <tr style=\"text-align: right;\">\n",
       "      <th></th>\n",
       "      <th>OFFENSE_TYPE_ID</th>\n",
       "      <th>OFFENSE_CATEGORY_ID</th>\n",
       "      <th>GEO_LON</th>\n",
       "      <th>GEO_LAT</th>\n",
       "      <th>NEIGHBORHOOD_ID</th>\n",
       "      <th>IS_CRIME</th>\n",
       "      <th>IS_TRAFFIC</th>\n",
       "    </tr>\n",
       "    <tr>\n",
       "      <th>REPORTED_DATE</th>\n",
       "      <th></th>\n",
       "      <th></th>\n",
       "      <th></th>\n",
       "      <th></th>\n",
       "      <th></th>\n",
       "      <th></th>\n",
       "      <th></th>\n",
       "    </tr>\n",
       "  </thead>\n",
       "  <tbody>\n",
       "    <tr>\n",
       "      <th>2015-03-01 00:09:00</th>\n",
       "      <td>robbery-residence</td>\n",
       "      <td>robbery</td>\n",
       "      <td>-104.956960</td>\n",
       "      <td>39.758409</td>\n",
       "      <td>skyland</td>\n",
       "      <td>1</td>\n",
       "      <td>0</td>\n",
       "    </tr>\n",
       "    <tr>\n",
       "      <th>2015-03-01 00:40:00</th>\n",
       "      <td>theft-of-motor-vehicle</td>\n",
       "      <td>auto-theft</td>\n",
       "      <td>-104.858895</td>\n",
       "      <td>39.658884</td>\n",
       "      <td>kennedy</td>\n",
       "      <td>1</td>\n",
       "      <td>0</td>\n",
       "    </tr>\n",
       "    <tr>\n",
       "      <th>2015-03-01 00:44:00</th>\n",
       "      <td>assault-simple</td>\n",
       "      <td>other-crimes-against-persons</td>\n",
       "      <td>-104.890551</td>\n",
       "      <td>39.740155</td>\n",
       "      <td>east-colfax</td>\n",
       "      <td>1</td>\n",
       "      <td>0</td>\n",
       "    </tr>\n",
       "    <tr>\n",
       "      <th>2015-03-01 01:08:00</th>\n",
       "      <td>assault-simple</td>\n",
       "      <td>other-crimes-against-persons</td>\n",
       "      <td>-104.974901</td>\n",
       "      <td>39.670054</td>\n",
       "      <td>rosedale</td>\n",
       "      <td>1</td>\n",
       "      <td>0</td>\n",
       "    </tr>\n",
       "    <tr>\n",
       "      <th>2015-03-01 01:12:00</th>\n",
       "      <td>drug-poss-paraphernalia</td>\n",
       "      <td>drug-alcohol</td>\n",
       "      <td>-104.887845</td>\n",
       "      <td>39.738856</td>\n",
       "      <td>east-colfax</td>\n",
       "      <td>1</td>\n",
       "      <td>0</td>\n",
       "    </tr>\n",
       "    <tr>\n",
       "      <th>...</th>\n",
       "      <td>...</td>\n",
       "      <td>...</td>\n",
       "      <td>...</td>\n",
       "      <td>...</td>\n",
       "      <td>...</td>\n",
       "      <td>...</td>\n",
       "      <td>...</td>\n",
       "    </tr>\n",
       "    <tr>\n",
       "      <th>2015-06-01 23:04:00</th>\n",
       "      <td>traf-other</td>\n",
       "      <td>all-other-crimes</td>\n",
       "      <td>-104.839797</td>\n",
       "      <td>39.779319</td>\n",
       "      <td>montbello</td>\n",
       "      <td>1</td>\n",
       "      <td>0</td>\n",
       "    </tr>\n",
       "    <tr>\n",
       "      <th>2015-06-01 23:16:00</th>\n",
       "      <td>theft-shoplift</td>\n",
       "      <td>larceny</td>\n",
       "      <td>-104.897950</td>\n",
       "      <td>39.769688</td>\n",
       "      <td>stapleton</td>\n",
       "      <td>1</td>\n",
       "      <td>0</td>\n",
       "    </tr>\n",
       "    <tr>\n",
       "      <th>2015-06-01 23:26:00</th>\n",
       "      <td>theft-other</td>\n",
       "      <td>larceny</td>\n",
       "      <td>-104.800904</td>\n",
       "      <td>39.795383</td>\n",
       "      <td>gateway-green-valley-ranch</td>\n",
       "      <td>1</td>\n",
       "      <td>0</td>\n",
       "    </tr>\n",
       "    <tr>\n",
       "      <th>2015-06-01 23:31:00</th>\n",
       "      <td>robbery-business</td>\n",
       "      <td>robbery</td>\n",
       "      <td>-105.023420</td>\n",
       "      <td>39.661596</td>\n",
       "      <td>college-view-south-platte</td>\n",
       "      <td>1</td>\n",
       "      <td>0</td>\n",
       "    </tr>\n",
       "    <tr>\n",
       "      <th>2015-06-01 23:59:00</th>\n",
       "      <td>traffic-accident-hit-and-run</td>\n",
       "      <td>traffic-accident</td>\n",
       "      <td>-105.025191</td>\n",
       "      <td>39.784227</td>\n",
       "      <td>berkeley</td>\n",
       "      <td>0</td>\n",
       "      <td>1</td>\n",
       "    </tr>\n",
       "  </tbody>\n",
       "</table>\n",
       "<p>22390 rows × 7 columns</p>\n",
       "</div>"
      ],
      "text/plain": [
       "                                  OFFENSE_TYPE_ID  \\\n",
       "REPORTED_DATE                                       \n",
       "2015-03-01 00:09:00             robbery-residence   \n",
       "2015-03-01 00:40:00        theft-of-motor-vehicle   \n",
       "2015-03-01 00:44:00                assault-simple   \n",
       "2015-03-01 01:08:00                assault-simple   \n",
       "2015-03-01 01:12:00       drug-poss-paraphernalia   \n",
       "...                                           ...   \n",
       "2015-06-01 23:04:00                    traf-other   \n",
       "2015-06-01 23:16:00                theft-shoplift   \n",
       "2015-06-01 23:26:00                   theft-other   \n",
       "2015-06-01 23:31:00              robbery-business   \n",
       "2015-06-01 23:59:00  traffic-accident-hit-and-run   \n",
       "\n",
       "                              OFFENSE_CATEGORY_ID     GEO_LON    GEO_LAT  \\\n",
       "REPORTED_DATE                                                              \n",
       "2015-03-01 00:09:00                       robbery -104.956960  39.758409   \n",
       "2015-03-01 00:40:00                    auto-theft -104.858895  39.658884   \n",
       "2015-03-01 00:44:00  other-crimes-against-persons -104.890551  39.740155   \n",
       "2015-03-01 01:08:00  other-crimes-against-persons -104.974901  39.670054   \n",
       "2015-03-01 01:12:00                  drug-alcohol -104.887845  39.738856   \n",
       "...                                           ...         ...        ...   \n",
       "2015-06-01 23:04:00              all-other-crimes -104.839797  39.779319   \n",
       "2015-06-01 23:16:00                       larceny -104.897950  39.769688   \n",
       "2015-06-01 23:26:00                       larceny -104.800904  39.795383   \n",
       "2015-06-01 23:31:00                       robbery -105.023420  39.661596   \n",
       "2015-06-01 23:59:00              traffic-accident -105.025191  39.784227   \n",
       "\n",
       "                                NEIGHBORHOOD_ID  IS_CRIME  IS_TRAFFIC  \n",
       "REPORTED_DATE                                                          \n",
       "2015-03-01 00:09:00                     skyland         1           0  \n",
       "2015-03-01 00:40:00                     kennedy         1           0  \n",
       "2015-03-01 00:44:00                 east-colfax         1           0  \n",
       "2015-03-01 01:08:00                    rosedale         1           0  \n",
       "2015-03-01 01:12:00                 east-colfax         1           0  \n",
       "...                                         ...       ...         ...  \n",
       "2015-06-01 23:04:00                   montbello         1           0  \n",
       "2015-06-01 23:16:00                   stapleton         1           0  \n",
       "2015-06-01 23:26:00  gateway-green-valley-ranch         1           0  \n",
       "2015-06-01 23:31:00   college-view-south-platte         1           0  \n",
       "2015-06-01 23:59:00                    berkeley         0           1  \n",
       "\n",
       "[22390 rows x 7 columns]"
      ]
     },
     "execution_count": 58,
     "metadata": {},
     "output_type": "execute_result"
    }
   ],
   "source": [
    "crime.loc['2015-03-01':'2015-06-01'].sort_index()"
   ]
  },
  {
   "cell_type": "markdown",
   "id": "f5bda3bc",
   "metadata": {},
   "source": [
    "## 时间段可以包括小时分钟"
   ]
  },
  {
   "cell_type": "code",
   "execution_count": 59,
   "id": "cff20caa",
   "metadata": {
    "ExecuteTime": {
     "end_time": "2022-12-28T11:30:46.553091Z",
     "start_time": "2022-12-28T11:30:46.524169Z"
    }
   },
   "outputs": [
    {
     "name": "stderr",
     "output_type": "stream",
     "text": [
      "C:\\Users\\hp\\AppData\\Local\\Temp\\ipykernel_17044\\171111075.py:1: FutureWarning: Value based partial slicing on non-monotonic DatetimeIndexes with non-existing keys is deprecated and will raise a KeyError in a future Version.\n",
      "  crime.loc['2015-03-01 22':'2015-06-01 20:35:00'].sort_index()\n"
     ]
    },
    {
     "data": {
      "text/html": [
       "<div>\n",
       "<style scoped>\n",
       "    .dataframe tbody tr th:only-of-type {\n",
       "        vertical-align: middle;\n",
       "    }\n",
       "\n",
       "    .dataframe tbody tr th {\n",
       "        vertical-align: top;\n",
       "    }\n",
       "\n",
       "    .dataframe thead th {\n",
       "        text-align: right;\n",
       "    }\n",
       "</style>\n",
       "<table border=\"1\" class=\"dataframe\">\n",
       "  <thead>\n",
       "    <tr style=\"text-align: right;\">\n",
       "      <th></th>\n",
       "      <th>OFFENSE_TYPE_ID</th>\n",
       "      <th>OFFENSE_CATEGORY_ID</th>\n",
       "      <th>GEO_LON</th>\n",
       "      <th>GEO_LAT</th>\n",
       "      <th>NEIGHBORHOOD_ID</th>\n",
       "      <th>IS_CRIME</th>\n",
       "      <th>IS_TRAFFIC</th>\n",
       "    </tr>\n",
       "    <tr>\n",
       "      <th>REPORTED_DATE</th>\n",
       "      <th></th>\n",
       "      <th></th>\n",
       "      <th></th>\n",
       "      <th></th>\n",
       "      <th></th>\n",
       "      <th></th>\n",
       "      <th></th>\n",
       "    </tr>\n",
       "  </thead>\n",
       "  <tbody>\n",
       "    <tr>\n",
       "      <th>2015-03-01 22:01:00</th>\n",
       "      <td>traffic-accident-hit-and-run</td>\n",
       "      <td>traffic-accident</td>\n",
       "      <td>-104.987055</td>\n",
       "      <td>39.735476</td>\n",
       "      <td>capitol-hill</td>\n",
       "      <td>0</td>\n",
       "      <td>1</td>\n",
       "    </tr>\n",
       "    <tr>\n",
       "      <th>2015-03-01 22:04:00</th>\n",
       "      <td>traffic-accident-hit-and-run</td>\n",
       "      <td>traffic-accident</td>\n",
       "      <td>-105.026933</td>\n",
       "      <td>39.713318</td>\n",
       "      <td>barnum</td>\n",
       "      <td>0</td>\n",
       "      <td>1</td>\n",
       "    </tr>\n",
       "    <tr>\n",
       "      <th>2015-03-01 22:11:00</th>\n",
       "      <td>traffic-accident</td>\n",
       "      <td>traffic-accident</td>\n",
       "      <td>-104.996451</td>\n",
       "      <td>39.742193</td>\n",
       "      <td>cbd</td>\n",
       "      <td>0</td>\n",
       "      <td>1</td>\n",
       "    </tr>\n",
       "    <tr>\n",
       "      <th>2015-03-01 22:24:00</th>\n",
       "      <td>disturbing-the-peace</td>\n",
       "      <td>public-disorder</td>\n",
       "      <td>-104.907900</td>\n",
       "      <td>39.701397</td>\n",
       "      <td>washington-virginia-vale</td>\n",
       "      <td>1</td>\n",
       "      <td>0</td>\n",
       "    </tr>\n",
       "    <tr>\n",
       "      <th>2015-03-01 22:24:00</th>\n",
       "      <td>assault-dv</td>\n",
       "      <td>other-crimes-against-persons</td>\n",
       "      <td>-104.907900</td>\n",
       "      <td>39.701397</td>\n",
       "      <td>washington-virginia-vale</td>\n",
       "      <td>1</td>\n",
       "      <td>0</td>\n",
       "    </tr>\n",
       "    <tr>\n",
       "      <th>...</th>\n",
       "      <td>...</td>\n",
       "      <td>...</td>\n",
       "      <td>...</td>\n",
       "      <td>...</td>\n",
       "      <td>...</td>\n",
       "      <td>...</td>\n",
       "      <td>...</td>\n",
       "    </tr>\n",
       "    <tr>\n",
       "      <th>2015-06-01 20:20:00</th>\n",
       "      <td>traf-other</td>\n",
       "      <td>all-other-crimes</td>\n",
       "      <td>-104.987148</td>\n",
       "      <td>39.680049</td>\n",
       "      <td>platt-park</td>\n",
       "      <td>1</td>\n",
       "      <td>0</td>\n",
       "    </tr>\n",
       "    <tr>\n",
       "      <th>2015-06-01 20:21:00</th>\n",
       "      <td>theft-of-motor-vehicle</td>\n",
       "      <td>auto-theft</td>\n",
       "      <td>-104.931999</td>\n",
       "      <td>39.758171</td>\n",
       "      <td>north-park-hill</td>\n",
       "      <td>1</td>\n",
       "      <td>0</td>\n",
       "    </tr>\n",
       "    <tr>\n",
       "      <th>2015-06-01 20:26:00</th>\n",
       "      <td>criminal-mischief-graffiti</td>\n",
       "      <td>public-disorder</td>\n",
       "      <td>-104.958202</td>\n",
       "      <td>39.728807</td>\n",
       "      <td>congress-park</td>\n",
       "      <td>1</td>\n",
       "      <td>0</td>\n",
       "    </tr>\n",
       "    <tr>\n",
       "      <th>2015-06-01 20:28:00</th>\n",
       "      <td>traf-other</td>\n",
       "      <td>all-other-crimes</td>\n",
       "      <td>-105.025083</td>\n",
       "      <td>39.700411</td>\n",
       "      <td>westwood</td>\n",
       "      <td>1</td>\n",
       "      <td>0</td>\n",
       "    </tr>\n",
       "    <tr>\n",
       "      <th>2015-06-01 20:30:00</th>\n",
       "      <td>burglary-residence-by-force</td>\n",
       "      <td>burglary</td>\n",
       "      <td>-105.023098</td>\n",
       "      <td>39.766580</td>\n",
       "      <td>highland</td>\n",
       "      <td>1</td>\n",
       "      <td>0</td>\n",
       "    </tr>\n",
       "  </tbody>\n",
       "</table>\n",
       "<p>22205 rows × 7 columns</p>\n",
       "</div>"
      ],
      "text/plain": [
       "                                  OFFENSE_TYPE_ID  \\\n",
       "REPORTED_DATE                                       \n",
       "2015-03-01 22:01:00  traffic-accident-hit-and-run   \n",
       "2015-03-01 22:04:00  traffic-accident-hit-and-run   \n",
       "2015-03-01 22:11:00              traffic-accident   \n",
       "2015-03-01 22:24:00          disturbing-the-peace   \n",
       "2015-03-01 22:24:00                    assault-dv   \n",
       "...                                           ...   \n",
       "2015-06-01 20:20:00                    traf-other   \n",
       "2015-06-01 20:21:00        theft-of-motor-vehicle   \n",
       "2015-06-01 20:26:00    criminal-mischief-graffiti   \n",
       "2015-06-01 20:28:00                    traf-other   \n",
       "2015-06-01 20:30:00   burglary-residence-by-force   \n",
       "\n",
       "                              OFFENSE_CATEGORY_ID     GEO_LON    GEO_LAT  \\\n",
       "REPORTED_DATE                                                              \n",
       "2015-03-01 22:01:00              traffic-accident -104.987055  39.735476   \n",
       "2015-03-01 22:04:00              traffic-accident -105.026933  39.713318   \n",
       "2015-03-01 22:11:00              traffic-accident -104.996451  39.742193   \n",
       "2015-03-01 22:24:00               public-disorder -104.907900  39.701397   \n",
       "2015-03-01 22:24:00  other-crimes-against-persons -104.907900  39.701397   \n",
       "...                                           ...         ...        ...   \n",
       "2015-06-01 20:20:00              all-other-crimes -104.987148  39.680049   \n",
       "2015-06-01 20:21:00                    auto-theft -104.931999  39.758171   \n",
       "2015-06-01 20:26:00               public-disorder -104.958202  39.728807   \n",
       "2015-06-01 20:28:00              all-other-crimes -105.025083  39.700411   \n",
       "2015-06-01 20:30:00                      burglary -105.023098  39.766580   \n",
       "\n",
       "                              NEIGHBORHOOD_ID  IS_CRIME  IS_TRAFFIC  \n",
       "REPORTED_DATE                                                        \n",
       "2015-03-01 22:01:00              capitol-hill         0           1  \n",
       "2015-03-01 22:04:00                    barnum         0           1  \n",
       "2015-03-01 22:11:00                       cbd         0           1  \n",
       "2015-03-01 22:24:00  washington-virginia-vale         1           0  \n",
       "2015-03-01 22:24:00  washington-virginia-vale         1           0  \n",
       "...                                       ...       ...         ...  \n",
       "2015-06-01 20:20:00                platt-park         1           0  \n",
       "2015-06-01 20:21:00           north-park-hill         1           0  \n",
       "2015-06-01 20:26:00             congress-park         1           0  \n",
       "2015-06-01 20:28:00                  westwood         1           0  \n",
       "2015-06-01 20:30:00                  highland         1           0  \n",
       "\n",
       "[22205 rows x 7 columns]"
      ]
     },
     "execution_count": 59,
     "metadata": {},
     "output_type": "execute_result"
    }
   ],
   "source": [
    "crime.loc['2015-03-01 22':'2015-06-01 20:35:00'].sort_index()"
   ]
  },
  {
   "cell_type": "markdown",
   "id": "61ae891c",
   "metadata": {},
   "source": [
    "## 示例：查询凌晨两点到五点的报警记录"
   ]
  },
  {
   "cell_type": "code",
   "execution_count": 60,
   "id": "3e40ae09",
   "metadata": {
    "ExecuteTime": {
     "end_time": "2022-12-28T11:30:46.583010Z",
     "start_time": "2022-12-28T11:30:46.555085Z"
    }
   },
   "outputs": [
    {
     "data": {
      "text/html": [
       "<div>\n",
       "<style scoped>\n",
       "    .dataframe tbody tr th:only-of-type {\n",
       "        vertical-align: middle;\n",
       "    }\n",
       "\n",
       "    .dataframe tbody tr th {\n",
       "        vertical-align: top;\n",
       "    }\n",
       "\n",
       "    .dataframe thead th {\n",
       "        text-align: right;\n",
       "    }\n",
       "</style>\n",
       "<table border=\"1\" class=\"dataframe\">\n",
       "  <thead>\n",
       "    <tr style=\"text-align: right;\">\n",
       "      <th></th>\n",
       "      <th>OFFENSE_TYPE_ID</th>\n",
       "      <th>OFFENSE_CATEGORY_ID</th>\n",
       "      <th>GEO_LON</th>\n",
       "      <th>GEO_LAT</th>\n",
       "      <th>NEIGHBORHOOD_ID</th>\n",
       "      <th>IS_CRIME</th>\n",
       "      <th>IS_TRAFFIC</th>\n",
       "    </tr>\n",
       "    <tr>\n",
       "      <th>REPORTED_DATE</th>\n",
       "      <th></th>\n",
       "      <th></th>\n",
       "      <th></th>\n",
       "      <th></th>\n",
       "      <th></th>\n",
       "      <th></th>\n",
       "      <th></th>\n",
       "    </tr>\n",
       "  </thead>\n",
       "  <tbody>\n",
       "    <tr>\n",
       "      <th>2014-06-29 02:01:00</th>\n",
       "      <td>traffic-accident-dui-duid</td>\n",
       "      <td>traffic-accident</td>\n",
       "      <td>-105.000149</td>\n",
       "      <td>39.745753</td>\n",
       "      <td>cbd</td>\n",
       "      <td>0</td>\n",
       "      <td>1</td>\n",
       "    </tr>\n",
       "    <tr>\n",
       "      <th>2014-06-29 02:00:00</th>\n",
       "      <td>disturbing-the-peace</td>\n",
       "      <td>public-disorder</td>\n",
       "      <td>-105.020719</td>\n",
       "      <td>39.706674</td>\n",
       "      <td>athmar-park</td>\n",
       "      <td>1</td>\n",
       "      <td>0</td>\n",
       "    </tr>\n",
       "    <tr>\n",
       "      <th>2014-06-29 02:18:00</th>\n",
       "      <td>curfew</td>\n",
       "      <td>public-disorder</td>\n",
       "      <td>-105.001552</td>\n",
       "      <td>39.769505</td>\n",
       "      <td>sunnyside</td>\n",
       "      <td>1</td>\n",
       "      <td>0</td>\n",
       "    </tr>\n",
       "    <tr>\n",
       "      <th>2014-06-29 04:17:00</th>\n",
       "      <td>aggravated-assault</td>\n",
       "      <td>aggravated-assault</td>\n",
       "      <td>-105.018557</td>\n",
       "      <td>39.679229</td>\n",
       "      <td>college-view-south-platte</td>\n",
       "      <td>1</td>\n",
       "      <td>0</td>\n",
       "    </tr>\n",
       "    <tr>\n",
       "      <th>2014-06-29 04:22:00</th>\n",
       "      <td>violation-of-restraining-order</td>\n",
       "      <td>all-other-crimes</td>\n",
       "      <td>-104.972447</td>\n",
       "      <td>39.739449</td>\n",
       "      <td>cheesman-park</td>\n",
       "      <td>1</td>\n",
       "      <td>0</td>\n",
       "    </tr>\n",
       "    <tr>\n",
       "      <th>...</th>\n",
       "      <td>...</td>\n",
       "      <td>...</td>\n",
       "      <td>...</td>\n",
       "      <td>...</td>\n",
       "      <td>...</td>\n",
       "      <td>...</td>\n",
       "      <td>...</td>\n",
       "    </tr>\n",
       "    <tr>\n",
       "      <th>2017-08-25 04:41:00</th>\n",
       "      <td>theft-items-from-vehicle</td>\n",
       "      <td>theft-from-motor-vehicle</td>\n",
       "      <td>-104.880586</td>\n",
       "      <td>39.645164</td>\n",
       "      <td>hampden-south</td>\n",
       "      <td>1</td>\n",
       "      <td>0</td>\n",
       "    </tr>\n",
       "    <tr>\n",
       "      <th>2017-09-13 04:17:00</th>\n",
       "      <td>theft-of-motor-vehicle</td>\n",
       "      <td>auto-theft</td>\n",
       "      <td>-105.028694</td>\n",
       "      <td>39.708288</td>\n",
       "      <td>westwood</td>\n",
       "      <td>1</td>\n",
       "      <td>0</td>\n",
       "    </tr>\n",
       "    <tr>\n",
       "      <th>2017-09-13 02:21:00</th>\n",
       "      <td>assault-simple</td>\n",
       "      <td>other-crimes-against-persons</td>\n",
       "      <td>-104.925733</td>\n",
       "      <td>39.654184</td>\n",
       "      <td>university-hills</td>\n",
       "      <td>1</td>\n",
       "      <td>0</td>\n",
       "    </tr>\n",
       "    <tr>\n",
       "      <th>2017-09-13 03:21:00</th>\n",
       "      <td>traffic-accident-dui-duid</td>\n",
       "      <td>traffic-accident</td>\n",
       "      <td>-105.010711</td>\n",
       "      <td>39.757385</td>\n",
       "      <td>highland</td>\n",
       "      <td>0</td>\n",
       "      <td>1</td>\n",
       "    </tr>\n",
       "    <tr>\n",
       "      <th>2017-09-13 02:15:00</th>\n",
       "      <td>traffic-accident-hit-and-run</td>\n",
       "      <td>traffic-accident</td>\n",
       "      <td>-105.043950</td>\n",
       "      <td>39.787436</td>\n",
       "      <td>regis</td>\n",
       "      <td>0</td>\n",
       "      <td>1</td>\n",
       "    </tr>\n",
       "  </tbody>\n",
       "</table>\n",
       "<p>29229 rows × 7 columns</p>\n",
       "</div>"
      ],
      "text/plain": [
       "                                    OFFENSE_TYPE_ID  \\\n",
       "REPORTED_DATE                                         \n",
       "2014-06-29 02:01:00       traffic-accident-dui-duid   \n",
       "2014-06-29 02:00:00            disturbing-the-peace   \n",
       "2014-06-29 02:18:00                          curfew   \n",
       "2014-06-29 04:17:00              aggravated-assault   \n",
       "2014-06-29 04:22:00  violation-of-restraining-order   \n",
       "...                                             ...   \n",
       "2017-08-25 04:41:00        theft-items-from-vehicle   \n",
       "2017-09-13 04:17:00          theft-of-motor-vehicle   \n",
       "2017-09-13 02:21:00                  assault-simple   \n",
       "2017-09-13 03:21:00       traffic-accident-dui-duid   \n",
       "2017-09-13 02:15:00    traffic-accident-hit-and-run   \n",
       "\n",
       "                              OFFENSE_CATEGORY_ID     GEO_LON    GEO_LAT  \\\n",
       "REPORTED_DATE                                                              \n",
       "2014-06-29 02:01:00              traffic-accident -105.000149  39.745753   \n",
       "2014-06-29 02:00:00               public-disorder -105.020719  39.706674   \n",
       "2014-06-29 02:18:00               public-disorder -105.001552  39.769505   \n",
       "2014-06-29 04:17:00            aggravated-assault -105.018557  39.679229   \n",
       "2014-06-29 04:22:00              all-other-crimes -104.972447  39.739449   \n",
       "...                                           ...         ...        ...   \n",
       "2017-08-25 04:41:00      theft-from-motor-vehicle -104.880586  39.645164   \n",
       "2017-09-13 04:17:00                    auto-theft -105.028694  39.708288   \n",
       "2017-09-13 02:21:00  other-crimes-against-persons -104.925733  39.654184   \n",
       "2017-09-13 03:21:00              traffic-accident -105.010711  39.757385   \n",
       "2017-09-13 02:15:00              traffic-accident -105.043950  39.787436   \n",
       "\n",
       "                               NEIGHBORHOOD_ID  IS_CRIME  IS_TRAFFIC  \n",
       "REPORTED_DATE                                                         \n",
       "2014-06-29 02:01:00                        cbd         0           1  \n",
       "2014-06-29 02:00:00                athmar-park         1           0  \n",
       "2014-06-29 02:18:00                  sunnyside         1           0  \n",
       "2014-06-29 04:17:00  college-view-south-platte         1           0  \n",
       "2014-06-29 04:22:00              cheesman-park         1           0  \n",
       "...                                        ...       ...         ...  \n",
       "2017-08-25 04:41:00              hampden-south         1           0  \n",
       "2017-09-13 04:17:00                   westwood         1           0  \n",
       "2017-09-13 02:21:00           university-hills         1           0  \n",
       "2017-09-13 03:21:00                   highland         0           1  \n",
       "2017-09-13 02:15:00                      regis         0           1  \n",
       "\n",
       "[29229 rows x 7 columns]"
      ]
     },
     "execution_count": 60,
     "metadata": {},
     "output_type": "execute_result"
    }
   ],
   "source": [
    "crime.between_time('2:00','5:00')"
   ]
  },
  {
   "cell_type": "markdown",
   "id": "b069b80a",
   "metadata": {},
   "source": [
    "## 示例：查询在 5:47 分的报警记录"
   ]
  },
  {
   "cell_type": "code",
   "execution_count": 61,
   "id": "de9ed03c",
   "metadata": {
    "ExecuteTime": {
     "end_time": "2022-12-28T11:30:46.613927Z",
     "start_time": "2022-12-28T11:30:46.585006Z"
    }
   },
   "outputs": [
    {
     "data": {
      "text/html": [
       "<div>\n",
       "<style scoped>\n",
       "    .dataframe tbody tr th:only-of-type {\n",
       "        vertical-align: middle;\n",
       "    }\n",
       "\n",
       "    .dataframe tbody tr th {\n",
       "        vertical-align: top;\n",
       "    }\n",
       "\n",
       "    .dataframe thead th {\n",
       "        text-align: right;\n",
       "    }\n",
       "</style>\n",
       "<table border=\"1\" class=\"dataframe\">\n",
       "  <thead>\n",
       "    <tr style=\"text-align: right;\">\n",
       "      <th></th>\n",
       "      <th>OFFENSE_TYPE_ID</th>\n",
       "      <th>OFFENSE_CATEGORY_ID</th>\n",
       "      <th>GEO_LON</th>\n",
       "      <th>GEO_LAT</th>\n",
       "      <th>NEIGHBORHOOD_ID</th>\n",
       "      <th>IS_CRIME</th>\n",
       "      <th>IS_TRAFFIC</th>\n",
       "    </tr>\n",
       "    <tr>\n",
       "      <th>REPORTED_DATE</th>\n",
       "      <th></th>\n",
       "      <th></th>\n",
       "      <th></th>\n",
       "      <th></th>\n",
       "      <th></th>\n",
       "      <th></th>\n",
       "      <th></th>\n",
       "    </tr>\n",
       "  </thead>\n",
       "  <tbody>\n",
       "    <tr>\n",
       "      <th>2013-11-26 05:47:00</th>\n",
       "      <td>criminal-mischief-other</td>\n",
       "      <td>public-disorder</td>\n",
       "      <td>-104.991476</td>\n",
       "      <td>39.751536</td>\n",
       "      <td>cbd</td>\n",
       "      <td>1</td>\n",
       "      <td>0</td>\n",
       "    </tr>\n",
       "    <tr>\n",
       "      <th>2017-04-09 05:47:00</th>\n",
       "      <td>criminal-mischief-mtr-veh</td>\n",
       "      <td>public-disorder</td>\n",
       "      <td>-104.959394</td>\n",
       "      <td>39.678425</td>\n",
       "      <td>university</td>\n",
       "      <td>1</td>\n",
       "      <td>0</td>\n",
       "    </tr>\n",
       "    <tr>\n",
       "      <th>2017-02-19 05:47:00</th>\n",
       "      <td>criminal-mischief-other</td>\n",
       "      <td>public-disorder</td>\n",
       "      <td>-104.986767</td>\n",
       "      <td>39.741336</td>\n",
       "      <td>north-capitol-hill</td>\n",
       "      <td>1</td>\n",
       "      <td>0</td>\n",
       "    </tr>\n",
       "    <tr>\n",
       "      <th>2017-02-16 05:47:00</th>\n",
       "      <td>aggravated-assault</td>\n",
       "      <td>aggravated-assault</td>\n",
       "      <td>-104.934029</td>\n",
       "      <td>39.732320</td>\n",
       "      <td>hale</td>\n",
       "      <td>1</td>\n",
       "      <td>0</td>\n",
       "    </tr>\n",
       "    <tr>\n",
       "      <th>2017-02-12 05:47:00</th>\n",
       "      <td>police-interference</td>\n",
       "      <td>all-other-crimes</td>\n",
       "      <td>-104.976306</td>\n",
       "      <td>39.722644</td>\n",
       "      <td>speer</td>\n",
       "      <td>1</td>\n",
       "      <td>0</td>\n",
       "    </tr>\n",
       "    <tr>\n",
       "      <th>...</th>\n",
       "      <td>...</td>\n",
       "      <td>...</td>\n",
       "      <td>...</td>\n",
       "      <td>...</td>\n",
       "      <td>...</td>\n",
       "      <td>...</td>\n",
       "      <td>...</td>\n",
       "    </tr>\n",
       "    <tr>\n",
       "      <th>2013-09-10 05:47:00</th>\n",
       "      <td>traffic-accident</td>\n",
       "      <td>traffic-accident</td>\n",
       "      <td>-104.986311</td>\n",
       "      <td>39.708426</td>\n",
       "      <td>washington-park-west</td>\n",
       "      <td>0</td>\n",
       "      <td>1</td>\n",
       "    </tr>\n",
       "    <tr>\n",
       "      <th>2013-03-14 05:47:00</th>\n",
       "      <td>theft-other</td>\n",
       "      <td>larceny</td>\n",
       "      <td>-105.047861</td>\n",
       "      <td>39.727237</td>\n",
       "      <td>villa-park</td>\n",
       "      <td>1</td>\n",
       "      <td>0</td>\n",
       "    </tr>\n",
       "    <tr>\n",
       "      <th>2012-10-08 05:47:00</th>\n",
       "      <td>theft-items-from-vehicle</td>\n",
       "      <td>theft-from-motor-vehicle</td>\n",
       "      <td>-105.037308</td>\n",
       "      <td>39.768336</td>\n",
       "      <td>west-highland</td>\n",
       "      <td>1</td>\n",
       "      <td>0</td>\n",
       "    </tr>\n",
       "    <tr>\n",
       "      <th>2013-08-21 05:47:00</th>\n",
       "      <td>theft-items-from-vehicle</td>\n",
       "      <td>theft-from-motor-vehicle</td>\n",
       "      <td>-105.021310</td>\n",
       "      <td>39.758076</td>\n",
       "      <td>jefferson-park</td>\n",
       "      <td>1</td>\n",
       "      <td>0</td>\n",
       "    </tr>\n",
       "    <tr>\n",
       "      <th>2017-08-23 05:47:00</th>\n",
       "      <td>traffic-accident-hit-and-run</td>\n",
       "      <td>traffic-accident</td>\n",
       "      <td>-104.931056</td>\n",
       "      <td>39.702503</td>\n",
       "      <td>washington-virginia-vale</td>\n",
       "      <td>0</td>\n",
       "      <td>1</td>\n",
       "    </tr>\n",
       "  </tbody>\n",
       "</table>\n",
       "<p>118 rows × 7 columns</p>\n",
       "</div>"
      ],
      "text/plain": [
       "                                  OFFENSE_TYPE_ID       OFFENSE_CATEGORY_ID  \\\n",
       "REPORTED_DATE                                                                 \n",
       "2013-11-26 05:47:00       criminal-mischief-other           public-disorder   \n",
       "2017-04-09 05:47:00     criminal-mischief-mtr-veh           public-disorder   \n",
       "2017-02-19 05:47:00       criminal-mischief-other           public-disorder   \n",
       "2017-02-16 05:47:00            aggravated-assault        aggravated-assault   \n",
       "2017-02-12 05:47:00           police-interference          all-other-crimes   \n",
       "...                                           ...                       ...   \n",
       "2013-09-10 05:47:00              traffic-accident          traffic-accident   \n",
       "2013-03-14 05:47:00                   theft-other                   larceny   \n",
       "2012-10-08 05:47:00      theft-items-from-vehicle  theft-from-motor-vehicle   \n",
       "2013-08-21 05:47:00      theft-items-from-vehicle  theft-from-motor-vehicle   \n",
       "2017-08-23 05:47:00  traffic-accident-hit-and-run          traffic-accident   \n",
       "\n",
       "                        GEO_LON    GEO_LAT           NEIGHBORHOOD_ID  \\\n",
       "REPORTED_DATE                                                          \n",
       "2013-11-26 05:47:00 -104.991476  39.751536                       cbd   \n",
       "2017-04-09 05:47:00 -104.959394  39.678425                university   \n",
       "2017-02-19 05:47:00 -104.986767  39.741336        north-capitol-hill   \n",
       "2017-02-16 05:47:00 -104.934029  39.732320                      hale   \n",
       "2017-02-12 05:47:00 -104.976306  39.722644                     speer   \n",
       "...                         ...        ...                       ...   \n",
       "2013-09-10 05:47:00 -104.986311  39.708426      washington-park-west   \n",
       "2013-03-14 05:47:00 -105.047861  39.727237                villa-park   \n",
       "2012-10-08 05:47:00 -105.037308  39.768336             west-highland   \n",
       "2013-08-21 05:47:00 -105.021310  39.758076            jefferson-park   \n",
       "2017-08-23 05:47:00 -104.931056  39.702503  washington-virginia-vale   \n",
       "\n",
       "                     IS_CRIME  IS_TRAFFIC  \n",
       "REPORTED_DATE                              \n",
       "2013-11-26 05:47:00         1           0  \n",
       "2017-04-09 05:47:00         1           0  \n",
       "2017-02-19 05:47:00         1           0  \n",
       "2017-02-16 05:47:00         1           0  \n",
       "2017-02-12 05:47:00         1           0  \n",
       "...                       ...         ...  \n",
       "2013-09-10 05:47:00         0           1  \n",
       "2013-03-14 05:47:00         1           0  \n",
       "2012-10-08 05:47:00         1           0  \n",
       "2013-08-21 05:47:00         1           0  \n",
       "2017-08-23 05:47:00         0           1  \n",
       "\n",
       "[118 rows x 7 columns]"
      ]
     },
     "execution_count": 61,
     "metadata": {},
     "output_type": "execute_result"
    }
   ],
   "source": [
    "crime.at_time('5:47')"
   ]
  },
  {
   "cell_type": "markdown",
   "id": "18ce2b7b",
   "metadata": {},
   "source": [
    "- 在按时间段选取数据时，可以将时间索引排序，排序之后再选取效率更高"
   ]
  },
  {
   "cell_type": "code",
   "execution_count": 62,
   "id": "a338eb78",
   "metadata": {
    "ExecuteTime": {
     "end_time": "2022-12-28T11:30:54.319293Z",
     "start_time": "2022-12-28T11:30:46.615923Z"
    }
   },
   "outputs": [
    {
     "name": "stderr",
     "output_type": "stream",
     "text": [
      "<magic-timeit>:1: FutureWarning: Value based partial slicing on non-monotonic DatetimeIndexes with non-existing keys is deprecated and will raise a KeyError in a future Version.\n"
     ]
    },
    {
     "name": "stdout",
     "output_type": "stream",
     "text": [
      "9.44 ms ± 341 µs per loop (mean ± std. dev. of 7 runs, 100 loops each)\n"
     ]
    }
   ],
   "source": [
    "%timeit crime.loc['2015-03-04':'2016-06-01']"
   ]
  },
  {
   "cell_type": "code",
   "execution_count": 63,
   "id": "1f3b59d8",
   "metadata": {
    "ExecuteTime": {
     "end_time": "2022-12-28T11:31:01.947660Z",
     "start_time": "2022-12-28T11:30:54.321249Z"
    }
   },
   "outputs": [
    {
     "name": "stderr",
     "output_type": "stream",
     "text": [
      "<magic-timeit>:1: FutureWarning: Value based partial slicing on non-monotonic DatetimeIndexes with non-existing keys is deprecated and will raise a KeyError in a future Version.\n"
     ]
    },
    {
     "name": "stdout",
     "output_type": "stream",
     "text": [
      "9.27 ms ± 137 µs per loop (mean ± std. dev. of 7 runs, 100 loops each)\n"
     ]
    }
   ],
   "source": [
    "crime_sort = crime.sort_index()\n",
    "%timeit crime.loc['2015-03-04':'2016-06-01']"
   ]
  },
  {
   "cell_type": "markdown",
   "id": "991548fc",
   "metadata": {},
   "source": [
    "## 示例：计算每周的报警数量"
   ]
  },
  {
   "cell_type": "markdown",
   "id": "42fc7afb",
   "metadata": {},
   "source": [
    "- 为了统计每周的报警数量，需要按周分组。\n",
    "\n",
    "- resample重采样，可以按照指定时间周期分组"
   ]
  },
  {
   "cell_type": "code",
   "execution_count": 64,
   "id": "1db9619e",
   "metadata": {
    "ExecuteTime": {
     "end_time": "2022-12-28T11:31:01.995497Z",
     "start_time": "2022-12-28T11:31:01.949655Z"
    }
   },
   "outputs": [
    {
     "data": {
      "text/plain": [
       "REPORTED_DATE\n",
       "2012-01-08     877\n",
       "2012-01-15    1071\n",
       "2012-01-22     991\n",
       "2012-01-29     988\n",
       "2012-02-05     888\n",
       "              ... \n",
       "2017-09-03    1956\n",
       "2017-09-10    1733\n",
       "2017-09-17    1976\n",
       "2017-09-24    1839\n",
       "2017-10-01    1059\n",
       "Freq: W-SUN, Length: 300, dtype: int64"
      ]
     },
     "execution_count": 64,
     "metadata": {},
     "output_type": "execute_result"
    }
   ],
   "source": [
    "weekly_crimes = crime_sort.resample('W').size()\n",
    "weekly_crimes"
   ]
  },
  {
   "cell_type": "code",
   "execution_count": 65,
   "id": "3d6a5f1b",
   "metadata": {
    "ExecuteTime": {
     "end_time": "2022-12-28T11:31:02.026848Z",
     "start_time": "2022-12-28T11:31:01.997357Z"
    }
   },
   "outputs": [
    {
     "data": {
      "text/plain": [
       "REPORTED_DATE\n",
       "2012-01-05     462\n",
       "2012-01-12    1116\n",
       "2012-01-19     924\n",
       "2012-01-26    1061\n",
       "2012-02-02     926\n",
       "              ... \n",
       "2017-09-07    1803\n",
       "2017-09-14    1866\n",
       "2017-09-21    1926\n",
       "2017-09-28    1720\n",
       "2017-10-05      28\n",
       "Freq: W-THU, Length: 301, dtype: int64"
      ]
     },
     "execution_count": 65,
     "metadata": {},
     "output_type": "execute_result"
    }
   ],
   "source": [
    "crime_sort.resample('W-THU').size()"
   ]
  },
  {
   "cell_type": "code",
   "execution_count": 66,
   "id": "b32226d2",
   "metadata": {
    "ExecuteTime": {
     "end_time": "2022-12-28T11:31:02.042625Z",
     "start_time": "2022-12-28T11:31:02.028880Z"
    }
   },
   "outputs": [],
   "source": [
    "import matplotlib.pylab as plt"
   ]
  },
  {
   "cell_type": "code",
   "execution_count": 67,
   "id": "b5a00ef8",
   "metadata": {
    "ExecuteTime": {
     "end_time": "2022-12-28T11:31:02.279348Z",
     "start_time": "2022-12-28T11:31:02.043579Z"
    }
   },
   "outputs": [
    {
     "data": {
      "text/plain": [
       "<AxesSubplot: title={'center': '丹佛报警记录情况'}, xlabel='REPORTED_DATE'>"
      ]
     },
     "execution_count": 67,
     "metadata": {},
     "output_type": "execute_result"
    },
    {
     "data": {
      "image/png": "[encoded data removed]",
      "text/plain": [
       "<Figure size 1600x800 with 1 Axes>"
      ]
     },
     "metadata": {},
     "output_type": "display_data"
    }
   ],
   "source": [
    "plt.rcParams['font.sans-serif'] = 'SimHei'\n",
    "weekly_crimes.plot(figsize=(16,8),title='丹佛报警记录情况')"
   ]
  },
  {
   "cell_type": "markdown",
   "id": "827847eb",
   "metadata": {},
   "source": [
    "## 示例：分析每季度的犯罪和交通事故数据"
   ]
  },
  {
   "cell_type": "code",
   "execution_count": 68,
   "id": "12e9ce1a",
   "metadata": {
    "ExecuteTime": {
     "end_time": "2022-12-28T11:31:02.311263Z",
     "start_time": "2022-12-28T11:31:02.280347Z"
    }
   },
   "outputs": [
    {
     "data": {
      "text/html": [
       "<div>\n",
       "<style scoped>\n",
       "    .dataframe tbody tr th:only-of-type {\n",
       "        vertical-align: middle;\n",
       "    }\n",
       "\n",
       "    .dataframe tbody tr th {\n",
       "        vertical-align: top;\n",
       "    }\n",
       "\n",
       "    .dataframe thead th {\n",
       "        text-align: right;\n",
       "    }\n",
       "</style>\n",
       "<table border=\"1\" class=\"dataframe\">\n",
       "  <thead>\n",
       "    <tr style=\"text-align: right;\">\n",
       "      <th></th>\n",
       "      <th>IS_CRIME</th>\n",
       "      <th>IS_TRAFFIC</th>\n",
       "    </tr>\n",
       "    <tr>\n",
       "      <th>REPORTED_DATE</th>\n",
       "      <th></th>\n",
       "      <th></th>\n",
       "    </tr>\n",
       "  </thead>\n",
       "  <tbody>\n",
       "    <tr>\n",
       "      <th>2012-03-31</th>\n",
       "      <td>7882</td>\n",
       "      <td>4726</td>\n",
       "    </tr>\n",
       "    <tr>\n",
       "      <th>2012-06-30</th>\n",
       "      <td>9641</td>\n",
       "      <td>5255</td>\n",
       "    </tr>\n",
       "    <tr>\n",
       "      <th>2012-09-30</th>\n",
       "      <td>10566</td>\n",
       "      <td>5003</td>\n",
       "    </tr>\n",
       "    <tr>\n",
       "      <th>2012-12-31</th>\n",
       "      <td>9197</td>\n",
       "      <td>4802</td>\n",
       "    </tr>\n",
       "    <tr>\n",
       "      <th>2013-03-31</th>\n",
       "      <td>8730</td>\n",
       "      <td>4442</td>\n",
       "    </tr>\n",
       "    <tr>\n",
       "      <th>2013-06-30</th>\n",
       "      <td>12259</td>\n",
       "      <td>4510</td>\n",
       "    </tr>\n",
       "    <tr>\n",
       "      <th>2013-09-30</th>\n",
       "      <td>15799</td>\n",
       "      <td>4942</td>\n",
       "    </tr>\n",
       "    <tr>\n",
       "      <th>2013-12-31</th>\n",
       "      <td>13910</td>\n",
       "      <td>4968</td>\n",
       "    </tr>\n",
       "    <tr>\n",
       "      <th>2014-03-31</th>\n",
       "      <td>14487</td>\n",
       "      <td>5021</td>\n",
       "    </tr>\n",
       "    <tr>\n",
       "      <th>2014-06-30</th>\n",
       "      <td>15833</td>\n",
       "      <td>5225</td>\n",
       "    </tr>\n",
       "    <tr>\n",
       "      <th>2014-09-30</th>\n",
       "      <td>17342</td>\n",
       "      <td>5734</td>\n",
       "    </tr>\n",
       "    <tr>\n",
       "      <th>2014-12-31</th>\n",
       "      <td>15028</td>\n",
       "      <td>5783</td>\n",
       "    </tr>\n",
       "    <tr>\n",
       "      <th>2015-03-31</th>\n",
       "      <td>14989</td>\n",
       "      <td>5380</td>\n",
       "    </tr>\n",
       "    <tr>\n",
       "      <th>2015-06-30</th>\n",
       "      <td>16924</td>\n",
       "      <td>5825</td>\n",
       "    </tr>\n",
       "    <tr>\n",
       "      <th>2015-09-30</th>\n",
       "      <td>17891</td>\n",
       "      <td>5988</td>\n",
       "    </tr>\n",
       "    <tr>\n",
       "      <th>2015-12-31</th>\n",
       "      <td>16090</td>\n",
       "      <td>6117</td>\n",
       "    </tr>\n",
       "    <tr>\n",
       "      <th>2016-03-31</th>\n",
       "      <td>16423</td>\n",
       "      <td>5590</td>\n",
       "    </tr>\n",
       "    <tr>\n",
       "      <th>2016-06-30</th>\n",
       "      <td>17547</td>\n",
       "      <td>5861</td>\n",
       "    </tr>\n",
       "    <tr>\n",
       "      <th>2016-09-30</th>\n",
       "      <td>17427</td>\n",
       "      <td>6199</td>\n",
       "    </tr>\n",
       "    <tr>\n",
       "      <th>2016-12-31</th>\n",
       "      <td>15984</td>\n",
       "      <td>6094</td>\n",
       "    </tr>\n",
       "    <tr>\n",
       "      <th>2017-03-31</th>\n",
       "      <td>16426</td>\n",
       "      <td>5587</td>\n",
       "    </tr>\n",
       "    <tr>\n",
       "      <th>2017-06-30</th>\n",
       "      <td>17486</td>\n",
       "      <td>6148</td>\n",
       "    </tr>\n",
       "    <tr>\n",
       "      <th>2017-09-30</th>\n",
       "      <td>17990</td>\n",
       "      <td>6101</td>\n",
       "    </tr>\n",
       "  </tbody>\n",
       "</table>\n",
       "</div>"
      ],
      "text/plain": [
       "               IS_CRIME  IS_TRAFFIC\n",
       "REPORTED_DATE                      \n",
       "2012-03-31         7882        4726\n",
       "2012-06-30         9641        5255\n",
       "2012-09-30        10566        5003\n",
       "2012-12-31         9197        4802\n",
       "2013-03-31         8730        4442\n",
       "2013-06-30        12259        4510\n",
       "2013-09-30        15799        4942\n",
       "2013-12-31        13910        4968\n",
       "2014-03-31        14487        5021\n",
       "2014-06-30        15833        5225\n",
       "2014-09-30        17342        5734\n",
       "2014-12-31        15028        5783\n",
       "2015-03-31        14989        5380\n",
       "2015-06-30        16924        5825\n",
       "2015-09-30        17891        5988\n",
       "2015-12-31        16090        6117\n",
       "2016-03-31        16423        5590\n",
       "2016-06-30        17547        5861\n",
       "2016-09-30        17427        6199\n",
       "2016-12-31        15984        6094\n",
       "2017-03-31        16426        5587\n",
       "2017-06-30        17486        6148\n",
       "2017-09-30        17990        6101"
      ]
     },
     "execution_count": 68,
     "metadata": {},
     "output_type": "execute_result"
    }
   ],
   "source": [
    "# Q表示季度\n",
    "crime_quarterly = crime_sort.resample('Q')['IS_CRIME','IS_TRAFFIC'].sum()\n",
    "crime_quarterly"
   ]
  },
  {
   "cell_type": "code",
   "execution_count": 69,
   "id": "7bfd0ad5",
   "metadata": {
    "ExecuteTime": {
     "end_time": "2022-12-28T11:31:02.343209Z",
     "start_time": "2022-12-28T11:31:02.313262Z"
    }
   },
   "outputs": [
    {
     "data": {
      "text/html": [
       "<div>\n",
       "<style scoped>\n",
       "    .dataframe tbody tr th:only-of-type {\n",
       "        vertical-align: middle;\n",
       "    }\n",
       "\n",
       "    .dataframe tbody tr th {\n",
       "        vertical-align: top;\n",
       "    }\n",
       "\n",
       "    .dataframe thead th {\n",
       "        text-align: right;\n",
       "    }\n",
       "</style>\n",
       "<table border=\"1\" class=\"dataframe\">\n",
       "  <thead>\n",
       "    <tr style=\"text-align: right;\">\n",
       "      <th></th>\n",
       "      <th>IS_CRIME</th>\n",
       "      <th>IS_TRAFFIC</th>\n",
       "    </tr>\n",
       "    <tr>\n",
       "      <th>REPORTED_DATE</th>\n",
       "      <th></th>\n",
       "      <th></th>\n",
       "    </tr>\n",
       "  </thead>\n",
       "  <tbody>\n",
       "    <tr>\n",
       "      <th>2012-01-01</th>\n",
       "      <td>7882</td>\n",
       "      <td>4726</td>\n",
       "    </tr>\n",
       "    <tr>\n",
       "      <th>2012-04-01</th>\n",
       "      <td>9641</td>\n",
       "      <td>5255</td>\n",
       "    </tr>\n",
       "    <tr>\n",
       "      <th>2012-07-01</th>\n",
       "      <td>10566</td>\n",
       "      <td>5003</td>\n",
       "    </tr>\n",
       "    <tr>\n",
       "      <th>2012-10-01</th>\n",
       "      <td>9197</td>\n",
       "      <td>4802</td>\n",
       "    </tr>\n",
       "    <tr>\n",
       "      <th>2013-01-01</th>\n",
       "      <td>8730</td>\n",
       "      <td>4442</td>\n",
       "    </tr>\n",
       "    <tr>\n",
       "      <th>2013-04-01</th>\n",
       "      <td>12259</td>\n",
       "      <td>4510</td>\n",
       "    </tr>\n",
       "    <tr>\n",
       "      <th>2013-07-01</th>\n",
       "      <td>15799</td>\n",
       "      <td>4942</td>\n",
       "    </tr>\n",
       "    <tr>\n",
       "      <th>2013-10-01</th>\n",
       "      <td>13910</td>\n",
       "      <td>4968</td>\n",
       "    </tr>\n",
       "    <tr>\n",
       "      <th>2014-01-01</th>\n",
       "      <td>14487</td>\n",
       "      <td>5021</td>\n",
       "    </tr>\n",
       "    <tr>\n",
       "      <th>2014-04-01</th>\n",
       "      <td>15833</td>\n",
       "      <td>5225</td>\n",
       "    </tr>\n",
       "    <tr>\n",
       "      <th>2014-07-01</th>\n",
       "      <td>17342</td>\n",
       "      <td>5734</td>\n",
       "    </tr>\n",
       "    <tr>\n",
       "      <th>2014-10-01</th>\n",
       "      <td>15028</td>\n",
       "      <td>5783</td>\n",
       "    </tr>\n",
       "    <tr>\n",
       "      <th>2015-01-01</th>\n",
       "      <td>14989</td>\n",
       "      <td>5380</td>\n",
       "    </tr>\n",
       "    <tr>\n",
       "      <th>2015-04-01</th>\n",
       "      <td>16924</td>\n",
       "      <td>5825</td>\n",
       "    </tr>\n",
       "    <tr>\n",
       "      <th>2015-07-01</th>\n",
       "      <td>17891</td>\n",
       "      <td>5988</td>\n",
       "    </tr>\n",
       "    <tr>\n",
       "      <th>2015-10-01</th>\n",
       "      <td>16090</td>\n",
       "      <td>6117</td>\n",
       "    </tr>\n",
       "    <tr>\n",
       "      <th>2016-01-01</th>\n",
       "      <td>16423</td>\n",
       "      <td>5590</td>\n",
       "    </tr>\n",
       "    <tr>\n",
       "      <th>2016-04-01</th>\n",
       "      <td>17547</td>\n",
       "      <td>5861</td>\n",
       "    </tr>\n",
       "    <tr>\n",
       "      <th>2016-07-01</th>\n",
       "      <td>17427</td>\n",
       "      <td>6199</td>\n",
       "    </tr>\n",
       "    <tr>\n",
       "      <th>2016-10-01</th>\n",
       "      <td>15984</td>\n",
       "      <td>6094</td>\n",
       "    </tr>\n",
       "    <tr>\n",
       "      <th>2017-01-01</th>\n",
       "      <td>16426</td>\n",
       "      <td>5587</td>\n",
       "    </tr>\n",
       "    <tr>\n",
       "      <th>2017-04-01</th>\n",
       "      <td>17486</td>\n",
       "      <td>6148</td>\n",
       "    </tr>\n",
       "    <tr>\n",
       "      <th>2017-07-01</th>\n",
       "      <td>17990</td>\n",
       "      <td>6101</td>\n",
       "    </tr>\n",
       "  </tbody>\n",
       "</table>\n",
       "</div>"
      ],
      "text/plain": [
       "               IS_CRIME  IS_TRAFFIC\n",
       "REPORTED_DATE                      \n",
       "2012-01-01         7882        4726\n",
       "2012-04-01         9641        5255\n",
       "2012-07-01        10566        5003\n",
       "2012-10-01         9197        4802\n",
       "2013-01-01         8730        4442\n",
       "2013-04-01        12259        4510\n",
       "2013-07-01        15799        4942\n",
       "2013-10-01        13910        4968\n",
       "2014-01-01        14487        5021\n",
       "2014-04-01        15833        5225\n",
       "2014-07-01        17342        5734\n",
       "2014-10-01        15028        5783\n",
       "2015-01-01        14989        5380\n",
       "2015-04-01        16924        5825\n",
       "2015-07-01        17891        5988\n",
       "2015-10-01        16090        6117\n",
       "2016-01-01        16423        5590\n",
       "2016-04-01        17547        5861\n",
       "2016-07-01        17427        6199\n",
       "2016-10-01        15984        6094\n",
       "2017-01-01        16426        5587\n",
       "2017-04-01        17486        6148\n",
       "2017-07-01        17990        6101"
      ]
     },
     "execution_count": 69,
     "metadata": {},
     "output_type": "execute_result"
    }
   ],
   "source": [
    "# 所有日期都是该季度的最后一天，使用QS生成每季度的第一天\n",
    "crime_quarterly = crime_sort.resample('QS')['IS_CRIME','IS_TRAFFIC'].sum()\n",
    "crime_quarterly"
   ]
  },
  {
   "cell_type": "code",
   "execution_count": 70,
   "id": "a5b297eb",
   "metadata": {
    "ExecuteTime": {
     "end_time": "2022-12-28T11:31:02.579345Z",
     "start_time": "2022-12-28T11:31:02.344205Z"
    }
   },
   "outputs": [
    {
     "data": {
      "text/plain": [
       "Text(0.5, 1.0, '丹佛犯罪和交通事故数据')"
      ]
     },
     "execution_count": 70,
     "metadata": {},
     "output_type": "execute_result"
    },
    {
     "data": {
      "image/png": "[encoded data removed]",
      "text/plain": [
       "<Figure size 1600x800 with 1 Axes>"
      ]
     },
     "metadata": {},
     "output_type": "display_data"
    }
   ],
   "source": [
    "crime_quarterly.plot(figsize=(16,8))\n",
    "plt.title('丹佛犯罪和交通事故数据')"
   ]
  },
  {
   "cell_type": "markdown",
   "id": "9d690656",
   "metadata": {},
   "source": [
    "## 示例：分析每周每一天的报警记录情况：可以通过Timestamp的dt属性得到周几，然后统计"
   ]
  },
  {
   "cell_type": "code",
   "execution_count": 71,
   "id": "1d8d46ea",
   "metadata": {
    "ExecuteTime": {
     "end_time": "2022-12-28T11:31:03.335297Z",
     "start_time": "2022-12-28T11:31:02.581309Z"
    }
   },
   "outputs": [
    {
     "data": {
      "text/html": [
       "<div>\n",
       "<style scoped>\n",
       "    .dataframe tbody tr th:only-of-type {\n",
       "        vertical-align: middle;\n",
       "    }\n",
       "\n",
       "    .dataframe tbody tr th {\n",
       "        vertical-align: top;\n",
       "    }\n",
       "\n",
       "    .dataframe thead th {\n",
       "        text-align: right;\n",
       "    }\n",
       "</style>\n",
       "<table border=\"1\" class=\"dataframe\">\n",
       "  <thead>\n",
       "    <tr style=\"text-align: right;\">\n",
       "      <th></th>\n",
       "      <th>OFFENSE_TYPE_ID</th>\n",
       "      <th>OFFENSE_CATEGORY_ID</th>\n",
       "      <th>REPORTED_DATE</th>\n",
       "      <th>GEO_LON</th>\n",
       "      <th>GEO_LAT</th>\n",
       "      <th>NEIGHBORHOOD_ID</th>\n",
       "      <th>IS_CRIME</th>\n",
       "      <th>IS_TRAFFIC</th>\n",
       "    </tr>\n",
       "  </thead>\n",
       "  <tbody>\n",
       "    <tr>\n",
       "      <th>0</th>\n",
       "      <td>traffic-accident-dui-duid</td>\n",
       "      <td>traffic-accident</td>\n",
       "      <td>2014-06-29 02:01:00</td>\n",
       "      <td>-105.000149</td>\n",
       "      <td>39.745753</td>\n",
       "      <td>cbd</td>\n",
       "      <td>0</td>\n",
       "      <td>1</td>\n",
       "    </tr>\n",
       "    <tr>\n",
       "      <th>1</th>\n",
       "      <td>vehicular-eluding-no-chase</td>\n",
       "      <td>all-other-crimes</td>\n",
       "      <td>2014-06-29 01:54:00</td>\n",
       "      <td>-104.884660</td>\n",
       "      <td>39.738702</td>\n",
       "      <td>east-colfax</td>\n",
       "      <td>1</td>\n",
       "      <td>0</td>\n",
       "    </tr>\n",
       "    <tr>\n",
       "      <th>2</th>\n",
       "      <td>disturbing-the-peace</td>\n",
       "      <td>public-disorder</td>\n",
       "      <td>2014-06-29 02:00:00</td>\n",
       "      <td>-105.020719</td>\n",
       "      <td>39.706674</td>\n",
       "      <td>athmar-park</td>\n",
       "      <td>1</td>\n",
       "      <td>0</td>\n",
       "    </tr>\n",
       "    <tr>\n",
       "      <th>3</th>\n",
       "      <td>curfew</td>\n",
       "      <td>public-disorder</td>\n",
       "      <td>2014-06-29 02:18:00</td>\n",
       "      <td>-105.001552</td>\n",
       "      <td>39.769505</td>\n",
       "      <td>sunnyside</td>\n",
       "      <td>1</td>\n",
       "      <td>0</td>\n",
       "    </tr>\n",
       "    <tr>\n",
       "      <th>4</th>\n",
       "      <td>aggravated-assault</td>\n",
       "      <td>aggravated-assault</td>\n",
       "      <td>2014-06-29 04:17:00</td>\n",
       "      <td>-105.018557</td>\n",
       "      <td>39.679229</td>\n",
       "      <td>college-view-south-platte</td>\n",
       "      <td>1</td>\n",
       "      <td>0</td>\n",
       "    </tr>\n",
       "  </tbody>\n",
       "</table>\n",
       "</div>"
      ],
      "text/plain": [
       "              OFFENSE_TYPE_ID OFFENSE_CATEGORY_ID       REPORTED_DATE  \\\n",
       "0   traffic-accident-dui-duid    traffic-accident 2014-06-29 02:01:00   \n",
       "1  vehicular-eluding-no-chase    all-other-crimes 2014-06-29 01:54:00   \n",
       "2        disturbing-the-peace     public-disorder 2014-06-29 02:00:00   \n",
       "3                      curfew     public-disorder 2014-06-29 02:18:00   \n",
       "4          aggravated-assault  aggravated-assault 2014-06-29 04:17:00   \n",
       "\n",
       "      GEO_LON    GEO_LAT            NEIGHBORHOOD_ID  IS_CRIME  IS_TRAFFIC  \n",
       "0 -105.000149  39.745753                        cbd         0           1  \n",
       "1 -104.884660  39.738702                east-colfax         1           0  \n",
       "2 -105.020719  39.706674                athmar-park         1           0  \n",
       "3 -105.001552  39.769505                  sunnyside         1           0  \n",
       "4 -105.018557  39.679229  college-view-south-platte         1           0  "
      ]
     },
     "execution_count": 71,
     "metadata": {},
     "output_type": "execute_result"
    }
   ],
   "source": [
    "crime = pd.read_csv('./data/crime.csv',parse_dates=['REPORTED_DATE'])\n",
    "crime.head()"
   ]
  },
  {
   "cell_type": "code",
   "execution_count": 72,
   "id": "6f60c93c",
   "metadata": {
    "ExecuteTime": {
     "end_time": "2022-12-28T11:31:03.381340Z",
     "start_time": "2022-12-28T11:31:03.337288Z"
    }
   },
   "outputs": [
    {
     "data": {
      "text/plain": [
       "0    70024\n",
       "4    69621\n",
       "2    69538\n",
       "3    69287\n",
       "1    68394\n",
       "5    58834\n",
       "6    55213\n",
       "Name: REPORTED_DATE, dtype: int64"
      ]
     },
     "execution_count": 72,
     "metadata": {},
     "output_type": "execute_result"
    }
   ],
   "source": [
    "wd_counts = crime['REPORTED_DATE'].dt.weekday.value_counts()\n",
    "wd_counts"
   ]
  },
  {
   "cell_type": "code",
   "execution_count": 73,
   "id": "2f1ae439",
   "metadata": {
    "ExecuteTime": {
     "end_time": "2022-12-28T11:31:03.537809Z",
     "start_time": "2022-12-28T11:31:03.382336Z"
    }
   },
   "outputs": [
    {
     "data": {
      "text/plain": [
       "<AxesSubplot: title={'center': '丹佛犯罪和交通事故按周分析'}>"
      ]
     },
     "execution_count": 73,
     "metadata": {},
     "output_type": "execute_result"
    },
    {
     "data": {
      "image/png": "[encoded data removed]",
      "text/plain": [
       "<Figure size 640x480 with 1 Axes>"
      ]
     },
     "metadata": {},
     "output_type": "display_data"
    }
   ],
   "source": [
    "wd_counts.plot(kind='barh',title='丹佛犯罪和交通事故按周分析')"
   ]
  },
  {
   "cell_type": "markdown",
   "id": "4ab2a43b",
   "metadata": {},
   "source": [
    "## 示例：在上一步的基础上，进一步分析每周每天的犯罪记录和交通事故记录"
   ]
  },
  {
   "cell_type": "code",
   "execution_count": 74,
   "id": "1baa85f0",
   "metadata": {
    "ExecuteTime": {
     "end_time": "2022-12-28T11:31:03.568823Z",
     "start_time": "2022-12-28T11:31:03.538806Z"
    }
   },
   "outputs": [
    {
     "data": {
      "text/plain": [
       "4    20814\n",
       "3    19845\n",
       "2    19508\n",
       "1    18755\n",
       "0    17895\n",
       "5    15516\n",
       "6    12968\n",
       "Name: REPORTED_DATE, dtype: int64"
      ]
     },
     "execution_count": 74,
     "metadata": {},
     "output_type": "execute_result"
    }
   ],
   "source": [
    "left = crime[crime['IS_TRAFFIC']==1]['REPORTED_DATE'].dt.weekday.value_counts()\n",
    "left"
   ]
  },
  {
   "cell_type": "code",
   "execution_count": 75,
   "id": "9537d0d8",
   "metadata": {
    "ExecuteTime": {
     "end_time": "2022-12-28T11:31:03.630798Z",
     "start_time": "2022-12-28T11:31:03.569778Z"
    }
   },
   "outputs": [
    {
     "data": {
      "text/plain": [
       "0    52158\n",
       "2    50054\n",
       "1    49658\n",
       "3    49470\n",
       "4    48833\n",
       "5    43363\n",
       "6    42315\n",
       "Name: REPORTED_DATE, dtype: int64"
      ]
     },
     "execution_count": 75,
     "metadata": {},
     "output_type": "execute_result"
    }
   ],
   "source": [
    "right = crime[crime['IS_CRIME'] == 1]['REPORTED_DATE'].dt.weekday.value_counts()\n",
    "right"
   ]
  },
  {
   "cell_type": "code",
   "execution_count": 76,
   "id": "460c5118",
   "metadata": {
    "ExecuteTime": {
     "end_time": "2022-12-28T11:31:03.646762Z",
     "start_time": "2022-12-28T11:31:03.632800Z"
    }
   },
   "outputs": [
    {
     "data": {
      "text/html": [
       "<div>\n",
       "<style scoped>\n",
       "    .dataframe tbody tr th:only-of-type {\n",
       "        vertical-align: middle;\n",
       "    }\n",
       "\n",
       "    .dataframe tbody tr th {\n",
       "        vertical-align: top;\n",
       "    }\n",
       "\n",
       "    .dataframe thead th {\n",
       "        text-align: right;\n",
       "    }\n",
       "</style>\n",
       "<table border=\"1\" class=\"dataframe\">\n",
       "  <thead>\n",
       "    <tr style=\"text-align: right;\">\n",
       "      <th></th>\n",
       "      <th>REPORTED_DATE</th>\n",
       "      <th>REPORTED_DATE</th>\n",
       "    </tr>\n",
       "  </thead>\n",
       "  <tbody>\n",
       "    <tr>\n",
       "      <th>4</th>\n",
       "      <td>20814</td>\n",
       "      <td>48833</td>\n",
       "    </tr>\n",
       "    <tr>\n",
       "      <th>3</th>\n",
       "      <td>19845</td>\n",
       "      <td>49470</td>\n",
       "    </tr>\n",
       "    <tr>\n",
       "      <th>2</th>\n",
       "      <td>19508</td>\n",
       "      <td>50054</td>\n",
       "    </tr>\n",
       "    <tr>\n",
       "      <th>1</th>\n",
       "      <td>18755</td>\n",
       "      <td>49658</td>\n",
       "    </tr>\n",
       "    <tr>\n",
       "      <th>0</th>\n",
       "      <td>17895</td>\n",
       "      <td>52158</td>\n",
       "    </tr>\n",
       "    <tr>\n",
       "      <th>5</th>\n",
       "      <td>15516</td>\n",
       "      <td>43363</td>\n",
       "    </tr>\n",
       "    <tr>\n",
       "      <th>6</th>\n",
       "      <td>12968</td>\n",
       "      <td>42315</td>\n",
       "    </tr>\n",
       "  </tbody>\n",
       "</table>\n",
       "</div>"
      ],
      "text/plain": [
       "   REPORTED_DATE  REPORTED_DATE\n",
       "4          20814          48833\n",
       "3          19845          49470\n",
       "2          19508          50054\n",
       "1          18755          49658\n",
       "0          17895          52158\n",
       "5          15516          43363\n",
       "6          12968          42315"
      ]
     },
     "execution_count": 76,
     "metadata": {},
     "output_type": "execute_result"
    }
   ],
   "source": [
    "result = pd.concat([left,right],axis=1)\n",
    "result"
   ]
  },
  {
   "cell_type": "code",
   "execution_count": 77,
   "id": "472ee53b",
   "metadata": {
    "ExecuteTime": {
     "end_time": "2022-12-28T11:31:03.661722Z",
     "start_time": "2022-12-28T11:31:03.647759Z"
    }
   },
   "outputs": [
    {
     "data": {
      "text/html": [
       "<div>\n",
       "<style scoped>\n",
       "    .dataframe tbody tr th:only-of-type {\n",
       "        vertical-align: middle;\n",
       "    }\n",
       "\n",
       "    .dataframe tbody tr th {\n",
       "        vertical-align: top;\n",
       "    }\n",
       "\n",
       "    .dataframe thead th {\n",
       "        text-align: right;\n",
       "    }\n",
       "</style>\n",
       "<table border=\"1\" class=\"dataframe\">\n",
       "  <thead>\n",
       "    <tr style=\"text-align: right;\">\n",
       "      <th></th>\n",
       "      <th>IS_TRAFFIC</th>\n",
       "      <th>IS_CRIME</th>\n",
       "    </tr>\n",
       "  </thead>\n",
       "  <tbody>\n",
       "    <tr>\n",
       "      <th>4</th>\n",
       "      <td>20814</td>\n",
       "      <td>48833</td>\n",
       "    </tr>\n",
       "    <tr>\n",
       "      <th>3</th>\n",
       "      <td>19845</td>\n",
       "      <td>49470</td>\n",
       "    </tr>\n",
       "    <tr>\n",
       "      <th>2</th>\n",
       "      <td>19508</td>\n",
       "      <td>50054</td>\n",
       "    </tr>\n",
       "    <tr>\n",
       "      <th>1</th>\n",
       "      <td>18755</td>\n",
       "      <td>49658</td>\n",
       "    </tr>\n",
       "    <tr>\n",
       "      <th>0</th>\n",
       "      <td>17895</td>\n",
       "      <td>52158</td>\n",
       "    </tr>\n",
       "    <tr>\n",
       "      <th>5</th>\n",
       "      <td>15516</td>\n",
       "      <td>43363</td>\n",
       "    </tr>\n",
       "    <tr>\n",
       "      <th>6</th>\n",
       "      <td>12968</td>\n",
       "      <td>42315</td>\n",
       "    </tr>\n",
       "  </tbody>\n",
       "</table>\n",
       "</div>"
      ],
      "text/plain": [
       "   IS_TRAFFIC  IS_CRIME\n",
       "4       20814     48833\n",
       "3       19845     49470\n",
       "2       19508     50054\n",
       "1       18755     49658\n",
       "0       17895     52158\n",
       "5       15516     43363\n",
       "6       12968     42315"
      ]
     },
     "execution_count": 77,
     "metadata": {},
     "output_type": "execute_result"
    }
   ],
   "source": [
    "result.columns=['IS_TRAFFIC','IS_CRIME']\n",
    "result"
   ]
  },
  {
   "cell_type": "code",
   "execution_count": 78,
   "id": "10d39e53",
   "metadata": {
    "ExecuteTime": {
     "end_time": "2022-12-28T11:31:03.832453Z",
     "start_time": "2022-12-28T11:31:03.663716Z"
    }
   },
   "outputs": [
    {
     "data": {
      "text/plain": [
       "<AxesSubplot: >"
      ]
     },
     "execution_count": 78,
     "metadata": {},
     "output_type": "execute_result"
    },
    {
     "data": {
      "image/png": "[encoded data removed]",
      "text/plain": [
       "<Figure size 1600x800 with 1 Axes>"
      ]
     },
     "metadata": {},
     "output_type": "display_data"
    }
   ],
   "source": [
    "result.plot(kind='barh',figsize=(16,8))"
   ]
  },
  {
   "cell_type": "markdown",
   "id": "c04cc69c",
   "metadata": {},
   "source": [
    "# 总结\n",
    "- pandas 中，datetime64用来表示时间序列类型\n",
    "- 时间序列类型的数据可以作为行索引，对应的数据类型是DatetimeIndex类型\n",
    "- datetime64类型可以做差，返回的是timedelta类型\n",
    "- 转换成时间序列类型后，可以按照时间的特点对数据进行处理\n",
    "- 提取日期的各个部分（月，日，星期...)\n",
    "- 进行日期运算\n",
    "- 按照日期范围取值"
   ]
  }
 ],
 "metadata": {
  "kernelspec": {
   "display_name": "Python 3 (ipykernel)",
   "language": "python",
   "name": "python3"
  },
  "language_info": {
   "codemirror_mode": {
    "name": "ipython",
    "version": 3
   },
   "file_extension": ".py",
   "mimetype": "text/x-python",
   "name": "python",
   "nbconvert_exporter": "python",
   "pygments_lexer": "ipython3",
   "version": "3.8.15"
  },
  "toc": {
   "base_numbering": 1,
   "nav_menu": {},
   "number_sections": true,
   "sideBar": true,
   "skip_h1_title": false,
   "title_cell": "Table of Contents",
   "title_sidebar": "Contents",
   "toc_cell": false,
   "toc_position": {},
   "toc_section_display": true,
   "toc_window_display": false
  },
  "varInspector": {
   "cols": {
    "lenName": 16,
    "lenType": 16,
    "lenVar": 40
   },
   "kernels_config": {
    "python": {
     "delete_cmd_postfix": "",
     "delete_cmd_prefix": "del ",
     "library": "var_list.py",
     "varRefreshCmd": "print(var_dic_list())"
    },
    "r": {
     "delete_cmd_postfix": ") ",
     "delete_cmd_prefix": "rm(",
     "library": "var_list.r",
     "varRefreshCmd": "cat(var_dic_list()) "
    }
   },
   "types_to_exclude": [
    "module",
    "function",
    "builtin_function_or_method",
    "instance",
    "_Feature"
   ],
   "window_display": false
  }
 },
 "nbformat": 4,
 "nbformat_minor": 5
}
