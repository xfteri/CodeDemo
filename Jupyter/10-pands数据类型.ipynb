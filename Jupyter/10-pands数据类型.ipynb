{
 "cells": [
  {
   "cell_type": "code",
   "execution_count": 1,
   "id": "1546bcef",
   "metadata": {
    "ExecuteTime": {
     "end_time": "2022-12-28T11:22:34.912189Z",
     "start_time": "2022-12-28T11:22:34.672803Z"
    }
   },
   "outputs": [],
   "source": [
    "import pandas as pd"
   ]
  },
  {
   "cell_type": "markdown",
   "id": "759ca114",
   "metadata": {},
   "source": [
    "- 了解 Numpy 的特点\n",
    "- 应用 pandas 数据类型转换\n",
    "- 掌握 pandas 分类数据类型使用方法"
   ]
  },
  {
   "cell_type": "markdown",
   "id": "98d5865e",
   "metadata": {},
   "source": [
    "# pandas数据类型简介"
   ]
  },
  {
   "cell_type": "markdown",
   "id": "aba69b9a",
   "metadata": {},
   "source": [
    "## Numpy 介绍\n",
    "- Numpy（Numerical Python）是一个开源的Python科学计算库，用于快速处理任意维度的数组。\n",
    "    - 1）Numpy 支持常见的数组和矩阵操作，对于同样的数值计算任务，使用 Numpy 比直接使用 Python 要简洁的多\n",
    "    - 2）Numpy 使用ndarray对象来处理多维数组，该对象是一个快速而灵活的大数据容器"
   ]
  },
  {
   "cell_type": "code",
   "execution_count": 2,
   "id": "0ef92ebf",
   "metadata": {
    "ExecuteTime": {
     "end_time": "2022-12-28T11:22:34.928170Z",
     "start_time": "2022-12-28T11:22:34.914182Z"
    }
   },
   "outputs": [],
   "source": [
    "import numpy as np"
   ]
  },
  {
   "cell_type": "code",
   "execution_count": 3,
   "id": "5ceb8534",
   "metadata": {
    "ExecuteTime": {
     "end_time": "2022-12-28T11:22:34.944121Z",
     "start_time": "2022-12-28T11:22:34.929161Z"
    }
   },
   "outputs": [
    {
     "data": {
      "text/plain": [
       "array([[80, 89, 86, 67, 79],\n",
       "       [78, 97, 89, 67, 81],\n",
       "       [90, 94, 78, 67, 74],\n",
       "       [91, 91, 90, 67, 69],\n",
       "       [76, 87, 75, 67, 86],\n",
       "       [70, 79, 84, 67, 84],\n",
       "       [94, 92, 93, 67, 64],\n",
       "       [86, 85, 83, 67, 80]])"
      ]
     },
     "execution_count": 3,
     "metadata": {},
     "output_type": "execute_result"
    }
   ],
   "source": [
    "# 创建ndarray\n",
    "score = np.array([\n",
    "    [80, 89, 86, 67, 79],\n",
    "    [78, 97, 89, 67, 81],\n",
    "    [90, 94, 78, 67, 74],\n",
    "    [91, 91, 90, 67, 69],\n",
    "    [76, 87, 75, 67, 86],\n",
    "    [70, 79, 84, 67, 84],\n",
    "    [94, 92, 93, 67, 64],\n",
    "    [86, 85, 83, 67, 80]\n",
    "])\n",
    "score"
   ]
  },
  {
   "cell_type": "code",
   "execution_count": 4,
   "id": "7f2a325a",
   "metadata": {
    "ExecuteTime": {
     "end_time": "2022-12-28T11:22:34.962302Z",
     "start_time": "2022-12-28T11:22:34.946116Z"
    }
   },
   "outputs": [
    {
     "data": {
      "text/plain": [
       "numpy.ndarray"
      ]
     },
     "execution_count": 4,
     "metadata": {},
     "output_type": "execute_result"
    }
   ],
   "source": [
    "type(score)"
   ]
  },
  {
   "cell_type": "code",
   "execution_count": 5,
   "id": "18de5011",
   "metadata": {
    "ExecuteTime": {
     "end_time": "2022-12-28T11:22:34.975038Z",
     "start_time": "2022-12-28T11:22:34.965067Z"
    }
   },
   "outputs": [],
   "source": [
    "import random\n",
    "import time"
   ]
  },
  {
   "cell_type": "code",
   "execution_count": 6,
   "id": "142094f8",
   "metadata": {
    "ExecuteTime": {
     "end_time": "2022-12-28T11:22:35.207417Z",
     "start_time": "2022-12-28T11:22:34.978031Z"
    }
   },
   "outputs": [
    {
     "name": "stdout",
     "output_type": "stream",
     "text": [
      "0.003996133804321289 0.0009970664978027344\n"
     ]
    }
   ],
   "source": [
    "a = []\n",
    "for i in range(1000000):\n",
    "    a.append(random.random())\n",
    "t1 = time.time()\n",
    "sum1 = sum(a)\n",
    "t2 = time.time()\n",
    "\n",
    "b = np.array(a)\n",
    "t3 = time.time()\n",
    "sum2 = np.sum(b)\n",
    "t4 = time.time()\n",
    "\n",
    "print(t2-t1,t4-t3)"
   ]
  },
  {
   "cell_type": "markdown",
   "id": "0b19896a",
   "metadata": {},
   "source": [
    "## Numpy 的 ndarray"
   ]
  },
  {
   "cell_type": "markdown",
   "id": "4f249d47",
   "metadata": {},
   "source": [
    "### ndarray 的属性\n"
   ]
  },
  {
   "cell_type": "code",
   "execution_count": 7,
   "id": "4cc9c1ee",
   "metadata": {
    "ExecuteTime": {
     "end_time": "2022-12-28T11:22:35.238368Z",
     "start_time": "2022-12-28T11:22:35.208414Z"
    }
   },
   "outputs": [],
   "source": [
    "a = np.array([1,2,3,4])\n",
    "b = np.array([[1,2,3],[4,5,6]])\n",
    "c = np.array([[[1,2,3],[4,5,6]],[[1,2,3],[4,5,6]]])"
   ]
  },
  {
   "cell_type": "code",
   "execution_count": 8,
   "id": "c637b530",
   "metadata": {
    "ExecuteTime": {
     "end_time": "2022-12-28T11:22:35.254327Z",
     "start_time": "2022-12-28T11:22:35.239333Z"
    }
   },
   "outputs": [
    {
     "name": "stdout",
     "output_type": "stream",
     "text": [
      "(4,)\n",
      "(2, 3)\n",
      "(2, 2, 3)\n"
     ]
    }
   ],
   "source": [
    "# 数组维度的元组\n",
    "print(a.shape)\n",
    "print(b.shape)\n",
    "print(c.shape)"
   ]
  },
  {
   "cell_type": "code",
   "execution_count": 9,
   "id": "41fbbe2d",
   "metadata": {
    "ExecuteTime": {
     "end_time": "2022-12-28T11:22:35.269253Z",
     "start_time": "2022-12-28T11:22:35.256286Z"
    }
   },
   "outputs": [
    {
     "name": "stdout",
     "output_type": "stream",
     "text": [
      "3\n"
     ]
    }
   ],
   "source": [
    "# 数组维数\n",
    "print(c.ndim)"
   ]
  },
  {
   "cell_type": "code",
   "execution_count": 10,
   "id": "e96a7982",
   "metadata": {
    "ExecuteTime": {
     "end_time": "2022-12-28T11:22:35.285210Z",
     "start_time": "2022-12-28T11:22:35.273241Z"
    }
   },
   "outputs": [
    {
     "name": "stdout",
     "output_type": "stream",
     "text": [
      "12\n"
     ]
    }
   ],
   "source": [
    "# 数组中元素的数量\n",
    "print(c.size)"
   ]
  },
  {
   "cell_type": "code",
   "execution_count": 11,
   "id": "2d5ee972",
   "metadata": {
    "ExecuteTime": {
     "end_time": "2022-12-28T11:22:35.300168Z",
     "start_time": "2022-12-28T11:22:35.287204Z"
    }
   },
   "outputs": [
    {
     "name": "stdout",
     "output_type": "stream",
     "text": [
      "4\n"
     ]
    }
   ],
   "source": [
    "# 一个数组元素的长度\n",
    "print(c.itemsize)"
   ]
  },
  {
   "cell_type": "code",
   "execution_count": 12,
   "id": "2d128b9c",
   "metadata": {
    "ExecuteTime": {
     "end_time": "2022-12-28T11:22:35.315131Z",
     "start_time": "2022-12-28T11:22:35.302163Z"
    }
   },
   "outputs": [
    {
     "name": "stdout",
     "output_type": "stream",
     "text": [
      "int32\n"
     ]
    }
   ],
   "source": [
    "# 数组元素的类型\n",
    "print(c.dtype)"
   ]
  },
  {
   "cell_type": "markdown",
   "id": "eeea7831",
   "metadata": {},
   "source": [
    "### ndarray 的类型"
   ]
  },
  {
   "cell_type": "code",
   "execution_count": 13,
   "id": "c450529d",
   "metadata": {
    "ExecuteTime": {
     "end_time": "2022-12-28T11:22:35.331087Z",
     "start_time": "2022-12-28T11:22:35.316127Z"
    }
   },
   "outputs": [
    {
     "data": {
      "text/plain": [
       "dtype('float32')"
      ]
     },
     "execution_count": 13,
     "metadata": {},
     "output_type": "execute_result"
    }
   ],
   "source": [
    "# 创建 ndarry 的时候指定类型\n",
    "b = np.array([[1,2,3],[1,2,3]],dtype=np.float32)\n",
    "b.dtype"
   ]
  },
  {
   "cell_type": "markdown",
   "id": "87979a62",
   "metadata": {},
   "source": [
    "## pandas 的数据类型"
   ]
  },
  {
   "cell_type": "markdown",
   "id": "f22af499",
   "metadata": {},
   "source": [
    "### 我们以 seaborn 包中自带的 tips 数据集为例，具体来查看数据类型"
   ]
  },
  {
   "cell_type": "code",
   "execution_count": 14,
   "id": "eeefc534",
   "metadata": {
    "ExecuteTime": {
     "end_time": "2022-12-28T11:22:35.993131Z",
     "start_time": "2022-12-28T11:22:35.334081Z"
    }
   },
   "outputs": [],
   "source": [
    "import seaborn as sns"
   ]
  },
  {
   "cell_type": "code",
   "execution_count": 15,
   "id": "fc9533c9",
   "metadata": {
    "ExecuteTime": {
     "end_time": "2022-12-28T11:22:36.116289Z",
     "start_time": "2022-12-28T11:22:35.994090Z"
    }
   },
   "outputs": [
    {
     "data": {
      "text/html": [
       "<div>\n",
       "<style scoped>\n",
       "    .dataframe tbody tr th:only-of-type {\n",
       "        vertical-align: middle;\n",
       "    }\n",
       "\n",
       "    .dataframe tbody tr th {\n",
       "        vertical-align: top;\n",
       "    }\n",
       "\n",
       "    .dataframe thead th {\n",
       "        text-align: right;\n",
       "    }\n",
       "</style>\n",
       "<table border=\"1\" class=\"dataframe\">\n",
       "  <thead>\n",
       "    <tr style=\"text-align: right;\">\n",
       "      <th></th>\n",
       "      <th>total_bill</th>\n",
       "      <th>tip</th>\n",
       "      <th>sex</th>\n",
       "      <th>smoker</th>\n",
       "      <th>day</th>\n",
       "      <th>time</th>\n",
       "      <th>size</th>\n",
       "    </tr>\n",
       "  </thead>\n",
       "  <tbody>\n",
       "    <tr>\n",
       "      <th>0</th>\n",
       "      <td>16.99</td>\n",
       "      <td>1.01</td>\n",
       "      <td>Female</td>\n",
       "      <td>No</td>\n",
       "      <td>Sun</td>\n",
       "      <td>Dinner</td>\n",
       "      <td>2</td>\n",
       "    </tr>\n",
       "    <tr>\n",
       "      <th>1</th>\n",
       "      <td>10.34</td>\n",
       "      <td>1.66</td>\n",
       "      <td>Male</td>\n",
       "      <td>No</td>\n",
       "      <td>Sun</td>\n",
       "      <td>Dinner</td>\n",
       "      <td>3</td>\n",
       "    </tr>\n",
       "    <tr>\n",
       "      <th>2</th>\n",
       "      <td>21.01</td>\n",
       "      <td>3.50</td>\n",
       "      <td>Male</td>\n",
       "      <td>No</td>\n",
       "      <td>Sun</td>\n",
       "      <td>Dinner</td>\n",
       "      <td>3</td>\n",
       "    </tr>\n",
       "    <tr>\n",
       "      <th>3</th>\n",
       "      <td>23.68</td>\n",
       "      <td>3.31</td>\n",
       "      <td>Male</td>\n",
       "      <td>No</td>\n",
       "      <td>Sun</td>\n",
       "      <td>Dinner</td>\n",
       "      <td>2</td>\n",
       "    </tr>\n",
       "    <tr>\n",
       "      <th>4</th>\n",
       "      <td>24.59</td>\n",
       "      <td>3.61</td>\n",
       "      <td>Female</td>\n",
       "      <td>No</td>\n",
       "      <td>Sun</td>\n",
       "      <td>Dinner</td>\n",
       "      <td>4</td>\n",
       "    </tr>\n",
       "  </tbody>\n",
       "</table>\n",
       "</div>"
      ],
      "text/plain": [
       "   total_bill   tip     sex smoker  day    time  size\n",
       "0       16.99  1.01  Female     No  Sun  Dinner     2\n",
       "1       10.34  1.66    Male     No  Sun  Dinner     3\n",
       "2       21.01  3.50    Male     No  Sun  Dinner     3\n",
       "3       23.68  3.31    Male     No  Sun  Dinner     2\n",
       "4       24.59  3.61  Female     No  Sun  Dinner     4"
      ]
     },
     "execution_count": 15,
     "metadata": {},
     "output_type": "execute_result"
    }
   ],
   "source": [
    "tips = sns.load_dataset('tips',data_home='./seaborn-data',cache=True)\n",
    "tips.head()"
   ]
  },
  {
   "cell_type": "code",
   "execution_count": 16,
   "id": "527b2ecc",
   "metadata": {
    "ExecuteTime": {
     "end_time": "2022-12-28T11:22:36.131895Z",
     "start_time": "2022-12-28T11:22:36.117759Z"
    }
   },
   "outputs": [
    {
     "data": {
      "text/plain": [
       "total_bill     float64\n",
       "tip            float64\n",
       "sex           category\n",
       "smoker        category\n",
       "day           category\n",
       "time          category\n",
       "size             int64\n",
       "dtype: object"
      ]
     },
     "execution_count": 16,
     "metadata": {},
     "output_type": "execute_result"
    }
   ],
   "source": [
    "tips.dtypes"
   ]
  },
  {
   "cell_type": "markdown",
   "id": "bc1757f5",
   "metadata": {},
   "source": [
    "# 类型转换"
   ]
  },
  {
   "cell_type": "markdown",
   "id": "eaa0fb09",
   "metadata": {},
   "source": [
    "## astype函数\n",
    "- astype方法是通用函数，可用于把DataFrame中的任何列转换为其他dtype\n",
    "- 可以向astype方法提供任何内置类型或numpy类型来转换列的数据类型"
   ]
  },
  {
   "cell_type": "markdown",
   "id": "fe798863",
   "metadata": {},
   "source": [
    "## 转换为字符串对象"
   ]
  },
  {
   "cell_type": "code",
   "execution_count": 17,
   "id": "81147042",
   "metadata": {
    "ExecuteTime": {
     "end_time": "2022-12-28T11:22:36.146887Z",
     "start_time": "2022-12-28T11:22:36.132910Z"
    }
   },
   "outputs": [
    {
     "name": "stdout",
     "output_type": "stream",
     "text": [
      "total_bill     float64\n",
      "tip            float64\n",
      "sex           category\n",
      "smoker        category\n",
      "day           category\n",
      "time          category\n",
      "size             int64\n",
      "sex_str         object\n",
      "dtype: object\n"
     ]
    }
   ],
   "source": [
    "# 把一列的数据类型转换为字符串，可以使用 astype方法\n",
    "tips['sex_str'] = tips['sex'].astype(str)\n",
    "print(tips.dtypes)"
   ]
  },
  {
   "cell_type": "code",
   "execution_count": 18,
   "id": "4b09ff01",
   "metadata": {
    "ExecuteTime": {
     "end_time": "2022-12-28T11:22:36.177338Z",
     "start_time": "2022-12-28T11:22:36.147885Z"
    }
   },
   "outputs": [
    {
     "data": {
      "text/html": [
       "<div>\n",
       "<style scoped>\n",
       "    .dataframe tbody tr th:only-of-type {\n",
       "        vertical-align: middle;\n",
       "    }\n",
       "\n",
       "    .dataframe tbody tr th {\n",
       "        vertical-align: top;\n",
       "    }\n",
       "\n",
       "    .dataframe thead th {\n",
       "        text-align: right;\n",
       "    }\n",
       "</style>\n",
       "<table border=\"1\" class=\"dataframe\">\n",
       "  <thead>\n",
       "    <tr style=\"text-align: right;\">\n",
       "      <th></th>\n",
       "      <th>total_bill</th>\n",
       "      <th>tip</th>\n",
       "      <th>sex</th>\n",
       "      <th>smoker</th>\n",
       "      <th>day</th>\n",
       "      <th>time</th>\n",
       "      <th>size</th>\n",
       "      <th>sex_str</th>\n",
       "    </tr>\n",
       "  </thead>\n",
       "  <tbody>\n",
       "    <tr>\n",
       "      <th>0</th>\n",
       "      <td>16.99</td>\n",
       "      <td>1.01</td>\n",
       "      <td>Female</td>\n",
       "      <td>No</td>\n",
       "      <td>Sun</td>\n",
       "      <td>Dinner</td>\n",
       "      <td>2</td>\n",
       "      <td>Female</td>\n",
       "    </tr>\n",
       "    <tr>\n",
       "      <th>1</th>\n",
       "      <td>10.34</td>\n",
       "      <td>1.66</td>\n",
       "      <td>Male</td>\n",
       "      <td>No</td>\n",
       "      <td>Sun</td>\n",
       "      <td>Dinner</td>\n",
       "      <td>3</td>\n",
       "      <td>Male</td>\n",
       "    </tr>\n",
       "    <tr>\n",
       "      <th>2</th>\n",
       "      <td>21.01</td>\n",
       "      <td>3.50</td>\n",
       "      <td>Male</td>\n",
       "      <td>No</td>\n",
       "      <td>Sun</td>\n",
       "      <td>Dinner</td>\n",
       "      <td>3</td>\n",
       "      <td>Male</td>\n",
       "    </tr>\n",
       "    <tr>\n",
       "      <th>3</th>\n",
       "      <td>23.68</td>\n",
       "      <td>3.31</td>\n",
       "      <td>Male</td>\n",
       "      <td>No</td>\n",
       "      <td>Sun</td>\n",
       "      <td>Dinner</td>\n",
       "      <td>2</td>\n",
       "      <td>Male</td>\n",
       "    </tr>\n",
       "    <tr>\n",
       "      <th>4</th>\n",
       "      <td>24.59</td>\n",
       "      <td>3.61</td>\n",
       "      <td>Female</td>\n",
       "      <td>No</td>\n",
       "      <td>Sun</td>\n",
       "      <td>Dinner</td>\n",
       "      <td>4</td>\n",
       "      <td>Female</td>\n",
       "    </tr>\n",
       "    <tr>\n",
       "      <th>...</th>\n",
       "      <td>...</td>\n",
       "      <td>...</td>\n",
       "      <td>...</td>\n",
       "      <td>...</td>\n",
       "      <td>...</td>\n",
       "      <td>...</td>\n",
       "      <td>...</td>\n",
       "      <td>...</td>\n",
       "    </tr>\n",
       "    <tr>\n",
       "      <th>239</th>\n",
       "      <td>29.03</td>\n",
       "      <td>5.92</td>\n",
       "      <td>Male</td>\n",
       "      <td>No</td>\n",
       "      <td>Sat</td>\n",
       "      <td>Dinner</td>\n",
       "      <td>3</td>\n",
       "      <td>Male</td>\n",
       "    </tr>\n",
       "    <tr>\n",
       "      <th>240</th>\n",
       "      <td>27.18</td>\n",
       "      <td>2.00</td>\n",
       "      <td>Female</td>\n",
       "      <td>Yes</td>\n",
       "      <td>Sat</td>\n",
       "      <td>Dinner</td>\n",
       "      <td>2</td>\n",
       "      <td>Female</td>\n",
       "    </tr>\n",
       "    <tr>\n",
       "      <th>241</th>\n",
       "      <td>22.67</td>\n",
       "      <td>2.00</td>\n",
       "      <td>Male</td>\n",
       "      <td>Yes</td>\n",
       "      <td>Sat</td>\n",
       "      <td>Dinner</td>\n",
       "      <td>2</td>\n",
       "      <td>Male</td>\n",
       "    </tr>\n",
       "    <tr>\n",
       "      <th>242</th>\n",
       "      <td>17.82</td>\n",
       "      <td>1.75</td>\n",
       "      <td>Male</td>\n",
       "      <td>No</td>\n",
       "      <td>Sat</td>\n",
       "      <td>Dinner</td>\n",
       "      <td>2</td>\n",
       "      <td>Male</td>\n",
       "    </tr>\n",
       "    <tr>\n",
       "      <th>243</th>\n",
       "      <td>18.78</td>\n",
       "      <td>3.00</td>\n",
       "      <td>Female</td>\n",
       "      <td>No</td>\n",
       "      <td>Thur</td>\n",
       "      <td>Dinner</td>\n",
       "      <td>2</td>\n",
       "      <td>Female</td>\n",
       "    </tr>\n",
       "  </tbody>\n",
       "</table>\n",
       "<p>244 rows × 8 columns</p>\n",
       "</div>"
      ],
      "text/plain": [
       "     total_bill   tip     sex smoker   day    time  size sex_str\n",
       "0         16.99  1.01  Female     No   Sun  Dinner     2  Female\n",
       "1         10.34  1.66    Male     No   Sun  Dinner     3    Male\n",
       "2         21.01  3.50    Male     No   Sun  Dinner     3    Male\n",
       "3         23.68  3.31    Male     No   Sun  Dinner     2    Male\n",
       "4         24.59  3.61  Female     No   Sun  Dinner     4  Female\n",
       "..          ...   ...     ...    ...   ...     ...   ...     ...\n",
       "239       29.03  5.92    Male     No   Sat  Dinner     3    Male\n",
       "240       27.18  2.00  Female    Yes   Sat  Dinner     2  Female\n",
       "241       22.67  2.00    Male    Yes   Sat  Dinner     2    Male\n",
       "242       17.82  1.75    Male     No   Sat  Dinner     2    Male\n",
       "243       18.78  3.00  Female     No  Thur  Dinner     2  Female\n",
       "\n",
       "[244 rows x 8 columns]"
      ]
     },
     "execution_count": 18,
     "metadata": {},
     "output_type": "execute_result"
    }
   ],
   "source": [
    "tips"
   ]
  },
  {
   "cell_type": "code",
   "execution_count": 19,
   "id": "90311cde",
   "metadata": {
    "ExecuteTime": {
     "end_time": "2022-12-28T11:22:36.193302Z",
     "start_time": "2022-12-28T11:22:36.179373Z"
    }
   },
   "outputs": [
    {
     "name": "stdout",
     "output_type": "stream",
     "text": [
      "total_bill      object\n",
      "tip            float64\n",
      "sex           category\n",
      "smoker        category\n",
      "day           category\n",
      "time          category\n",
      "size             int64\n",
      "sex_str         object\n",
      "dtype: object\n"
     ]
    }
   ],
   "source": [
    "# 把total_bill列转为object/str类型\n",
    "tips['total_bill'] = tips['total_bill'].astype(str)\n",
    "print(tips.dtypes)"
   ]
  },
  {
   "cell_type": "code",
   "execution_count": 20,
   "id": "05b6e15e",
   "metadata": {
    "ExecuteTime": {
     "end_time": "2022-12-28T11:22:36.208633Z",
     "start_time": "2022-12-28T11:22:36.195662Z"
    }
   },
   "outputs": [
    {
     "name": "stdout",
     "output_type": "stream",
     "text": [
      "total_bill     float64\n",
      "tip            float64\n",
      "sex           category\n",
      "smoker        category\n",
      "day           category\n",
      "time          category\n",
      "size             int64\n",
      "sex_str         object\n",
      "dtype: object\n"
     ]
    }
   ],
   "source": [
    "# 再把`object/str类型的total_bill列转为float64/float类型\n",
    "tips['total_bill'] = tips['total_bill'].astype(float)\n",
    "print(tips.dtypes)"
   ]
  },
  {
   "cell_type": "markdown",
   "id": "a54abf0e",
   "metadata": {},
   "source": [
    "## to_numeric 函数"
   ]
  },
  {
   "cell_type": "markdown",
   "id": "3ddcd746",
   "metadata": {},
   "source": [
    "- 如果想把变量转换为数值类型（int、float），还可以使用 pandas 的 to_numeric 函数\n",
    "- astype 函数要求 DataFrame 每一列的数据类型必须相同，当有些数据中有缺失，但不是 NaN 时（如'missing'、'null'等），会使整列数据变成字符串类型而不是数值型，这个时候可以使用 to_numeric 处理"
   ]
  },
  {
   "cell_type": "code",
   "execution_count": 21,
   "id": "c46eaa20",
   "metadata": {
    "ExecuteTime": {
     "end_time": "2022-12-28T11:22:36.224585Z",
     "start_time": "2022-12-28T11:22:36.210622Z"
    }
   },
   "outputs": [
    {
     "data": {
      "text/html": [
       "<div>\n",
       "<style scoped>\n",
       "    .dataframe tbody tr th:only-of-type {\n",
       "        vertical-align: middle;\n",
       "    }\n",
       "\n",
       "    .dataframe tbody tr th {\n",
       "        vertical-align: top;\n",
       "    }\n",
       "\n",
       "    .dataframe thead th {\n",
       "        text-align: right;\n",
       "    }\n",
       "</style>\n",
       "<table border=\"1\" class=\"dataframe\">\n",
       "  <thead>\n",
       "    <tr style=\"text-align: right;\">\n",
       "      <th></th>\n",
       "      <th>total_bill</th>\n",
       "      <th>tip</th>\n",
       "      <th>sex</th>\n",
       "      <th>smoker</th>\n",
       "      <th>day</th>\n",
       "      <th>time</th>\n",
       "      <th>size</th>\n",
       "      <th>sex_str</th>\n",
       "    </tr>\n",
       "  </thead>\n",
       "  <tbody>\n",
       "    <tr>\n",
       "      <th>0</th>\n",
       "      <td>16.99</td>\n",
       "      <td>1.01</td>\n",
       "      <td>Female</td>\n",
       "      <td>No</td>\n",
       "      <td>Sun</td>\n",
       "      <td>Dinner</td>\n",
       "      <td>2</td>\n",
       "      <td>Female</td>\n",
       "    </tr>\n",
       "    <tr>\n",
       "      <th>1</th>\n",
       "      <td>missing</td>\n",
       "      <td>1.66</td>\n",
       "      <td>Male</td>\n",
       "      <td>No</td>\n",
       "      <td>Sun</td>\n",
       "      <td>Dinner</td>\n",
       "      <td>3</td>\n",
       "      <td>Male</td>\n",
       "    </tr>\n",
       "    <tr>\n",
       "      <th>2</th>\n",
       "      <td>21.01</td>\n",
       "      <td>3.50</td>\n",
       "      <td>Male</td>\n",
       "      <td>No</td>\n",
       "      <td>Sun</td>\n",
       "      <td>Dinner</td>\n",
       "      <td>3</td>\n",
       "      <td>Male</td>\n",
       "    </tr>\n",
       "    <tr>\n",
       "      <th>3</th>\n",
       "      <td>missing</td>\n",
       "      <td>3.31</td>\n",
       "      <td>Male</td>\n",
       "      <td>No</td>\n",
       "      <td>Sun</td>\n",
       "      <td>Dinner</td>\n",
       "      <td>2</td>\n",
       "      <td>Male</td>\n",
       "    </tr>\n",
       "    <tr>\n",
       "      <th>4</th>\n",
       "      <td>24.59</td>\n",
       "      <td>3.61</td>\n",
       "      <td>Female</td>\n",
       "      <td>No</td>\n",
       "      <td>Sun</td>\n",
       "      <td>Dinner</td>\n",
       "      <td>4</td>\n",
       "      <td>Female</td>\n",
       "    </tr>\n",
       "    <tr>\n",
       "      <th>5</th>\n",
       "      <td>missing</td>\n",
       "      <td>4.71</td>\n",
       "      <td>Male</td>\n",
       "      <td>No</td>\n",
       "      <td>Sun</td>\n",
       "      <td>Dinner</td>\n",
       "      <td>4</td>\n",
       "      <td>Male</td>\n",
       "    </tr>\n",
       "    <tr>\n",
       "      <th>6</th>\n",
       "      <td>8.77</td>\n",
       "      <td>2.00</td>\n",
       "      <td>Male</td>\n",
       "      <td>No</td>\n",
       "      <td>Sun</td>\n",
       "      <td>Dinner</td>\n",
       "      <td>2</td>\n",
       "      <td>Male</td>\n",
       "    </tr>\n",
       "    <tr>\n",
       "      <th>7</th>\n",
       "      <td>missing</td>\n",
       "      <td>3.12</td>\n",
       "      <td>Male</td>\n",
       "      <td>No</td>\n",
       "      <td>Sun</td>\n",
       "      <td>Dinner</td>\n",
       "      <td>4</td>\n",
       "      <td>Male</td>\n",
       "    </tr>\n",
       "    <tr>\n",
       "      <th>8</th>\n",
       "      <td>15.04</td>\n",
       "      <td>1.96</td>\n",
       "      <td>Male</td>\n",
       "      <td>No</td>\n",
       "      <td>Sun</td>\n",
       "      <td>Dinner</td>\n",
       "      <td>2</td>\n",
       "      <td>Male</td>\n",
       "    </tr>\n",
       "    <tr>\n",
       "      <th>9</th>\n",
       "      <td>14.78</td>\n",
       "      <td>3.23</td>\n",
       "      <td>Male</td>\n",
       "      <td>No</td>\n",
       "      <td>Sun</td>\n",
       "      <td>Dinner</td>\n",
       "      <td>2</td>\n",
       "      <td>Male</td>\n",
       "    </tr>\n",
       "  </tbody>\n",
       "</table>\n",
       "</div>"
      ],
      "text/plain": [
       "  total_bill   tip     sex smoker  day    time  size sex_str\n",
       "0      16.99  1.01  Female     No  Sun  Dinner     2  Female\n",
       "1    missing  1.66    Male     No  Sun  Dinner     3    Male\n",
       "2      21.01  3.50    Male     No  Sun  Dinner     3    Male\n",
       "3    missing  3.31    Male     No  Sun  Dinner     2    Male\n",
       "4      24.59  3.61  Female     No  Sun  Dinner     4  Female\n",
       "5    missing  4.71    Male     No  Sun  Dinner     4    Male\n",
       "6       8.77  2.00    Male     No  Sun  Dinner     2    Male\n",
       "7    missing  3.12    Male     No  Sun  Dinner     4    Male\n",
       "8      15.04  1.96    Male     No  Sun  Dinner     2    Male\n",
       "9      14.78  3.23    Male     No  Sun  Dinner     2    Male"
      ]
     },
     "execution_count": 21,
     "metadata": {},
     "output_type": "execute_result"
    }
   ],
   "source": [
    "# 抽取部分数据，人为制造'missing'作为缺失值的 df 数据\n",
    "tips_sub_miss = tips.head(10)\n",
    "tips_sub_miss.loc[[1,3,5,7],'total_bill'] = 'missing'\n",
    "tips_sub_miss"
   ]
  },
  {
   "cell_type": "code",
   "execution_count": 22,
   "id": "a8ad4b60",
   "metadata": {
    "ExecuteTime": {
     "end_time": "2022-12-28T11:22:36.240543Z",
     "start_time": "2022-12-28T11:22:36.226579Z"
    }
   },
   "outputs": [
    {
     "data": {
      "text/plain": [
       "total_bill      object\n",
       "tip            float64\n",
       "sex           category\n",
       "smoker        category\n",
       "day           category\n",
       "time          category\n",
       "size             int64\n",
       "sex_str         object\n",
       "dtype: object"
      ]
     },
     "execution_count": 22,
     "metadata": {},
     "output_type": "execute_result"
    }
   ],
   "source": [
    "# 此时 total_bill 列变成了字符串对象类型\n",
    "tips_sub_miss.dtypes"
   ]
  },
  {
   "cell_type": "code",
   "execution_count": 23,
   "id": "824a930d",
   "metadata": {
    "ExecuteTime": {
     "end_time": "2022-12-28T11:22:36.256499Z",
     "start_time": "2022-12-28T11:22:36.242538Z"
    }
   },
   "outputs": [],
   "source": [
    "# 这时使用 astype 方法把 total_bill 列转换回float类型，会抛错，pandas 无法把'missing'转换成float\n",
    "# tips_sub_miss['total_bill'].astype(float) 报错"
   ]
  },
  {
   "cell_type": "code",
   "execution_count": 24,
   "id": "53be828d",
   "metadata": {
    "ExecuteTime": {
     "end_time": "2022-12-28T11:22:36.272436Z",
     "start_time": "2022-12-28T11:22:36.258495Z"
    }
   },
   "outputs": [],
   "source": [
    "# pd.to_numeric(tips_sub_miss['total_bill'])"
   ]
  },
  {
   "cell_type": "code",
   "execution_count": 25,
   "id": "99706f03",
   "metadata": {
    "ExecuteTime": {
     "end_time": "2022-12-28T11:22:36.288450Z",
     "start_time": "2022-12-28T11:22:36.274391Z"
    }
   },
   "outputs": [],
   "source": [
    "# pd.to_numeric(tips_sub_miss['total_bill'])"
   ]
  },
  {
   "cell_type": "markdown",
   "id": "13705e7a",
   "metadata": {},
   "source": [
    "- to_numeric 函数有一个参数 errors，它决定了当该函数遇到无法转换的数值时该如何处理：\n",
    "    - 1）默认情况下，该值为 raise，如果 to_numeric 遇到无法转换的值时，会抛错\n",
    "    - 2）设置为coerce：如果 to_numeric 遇到无法转换的值时，会返回NaN\n",
    "    - 3）设置为ignore：如果 to_numeric 遇到无法转换的值时，会放弃转换，什么都不做"
   ]
  },
  {
   "cell_type": "code",
   "execution_count": 26,
   "id": "c1b3e9ef",
   "metadata": {
    "ExecuteTime": {
     "end_time": "2022-12-28T11:22:36.303759Z",
     "start_time": "2022-12-28T11:22:36.290409Z"
    }
   },
   "outputs": [
    {
     "data": {
      "text/plain": [
       "0    16.99\n",
       "1      NaN\n",
       "2    21.01\n",
       "3      NaN\n",
       "4    24.59\n",
       "5      NaN\n",
       "6     8.77\n",
       "7      NaN\n",
       "8    15.04\n",
       "9    14.78\n",
       "Name: total_bill, dtype: float64"
      ]
     },
     "execution_count": 26,
     "metadata": {},
     "output_type": "execute_result"
    }
   ],
   "source": [
    "pd.to_numeric(tips_sub_miss['total_bill'],errors = 'coerce')"
   ]
  },
  {
   "cell_type": "code",
   "execution_count": 27,
   "id": "a84fe734",
   "metadata": {
    "ExecuteTime": {
     "end_time": "2022-12-28T11:22:36.318811Z",
     "start_time": "2022-12-28T11:22:36.305754Z"
    }
   },
   "outputs": [
    {
     "data": {
      "text/plain": [
       "0      16.99\n",
       "1    missing\n",
       "2      21.01\n",
       "3    missing\n",
       "4      24.59\n",
       "5    missing\n",
       "6       8.77\n",
       "7    missing\n",
       "8      15.04\n",
       "9      14.78\n",
       "Name: total_bill, dtype: object"
      ]
     },
     "execution_count": 27,
     "metadata": {},
     "output_type": "execute_result"
    }
   ],
   "source": [
    "pd.to_numeric(tips_sub_miss['total_bill'],errors= 'ignore')"
   ]
  },
  {
   "cell_type": "markdown",
   "id": "e6b63d66",
   "metadata": {},
   "source": [
    "## category 转换为 object/str"
   ]
  },
  {
   "cell_type": "code",
   "execution_count": 28,
   "id": "4619c8ce",
   "metadata": {
    "ExecuteTime": {
     "end_time": "2022-12-28T11:22:36.349751Z",
     "start_time": "2022-12-28T11:22:36.325784Z"
    }
   },
   "outputs": [
    {
     "name": "stdout",
     "output_type": "stream",
     "text": [
      "<class 'pandas.core.frame.DataFrame'>\n",
      "RangeIndex: 244 entries, 0 to 243\n",
      "Data columns (total 8 columns):\n",
      " #   Column      Non-Null Count  Dtype   \n",
      "---  ------      --------------  -----   \n",
      " 0   total_bill  244 non-null    float64 \n",
      " 1   tip         244 non-null    float64 \n",
      " 2   sex         244 non-null    object  \n",
      " 3   smoker      244 non-null    category\n",
      " 4   day         244 non-null    category\n",
      " 5   time        244 non-null    category\n",
      " 6   size        244 non-null    int64   \n",
      " 7   sex_str     244 non-null    object  \n",
      "dtypes: category(3), float64(2), int64(1), object(2)\n",
      "memory usage: 10.8+ KB\n"
     ]
    }
   ],
   "source": [
    "tips['sex'] = tips['sex'].astype(str)\n",
    "tips.info()"
   ]
  },
  {
   "cell_type": "markdown",
   "id": "2bb87c39",
   "metadata": {},
   "source": [
    "## object/str转换为 category"
   ]
  },
  {
   "cell_type": "code",
   "execution_count": 29,
   "id": "651104da",
   "metadata": {
    "ExecuteTime": {
     "end_time": "2022-12-28T11:22:36.365748Z",
     "start_time": "2022-12-28T11:22:36.350743Z"
    }
   },
   "outputs": [
    {
     "name": "stdout",
     "output_type": "stream",
     "text": [
      "<class 'pandas.core.frame.DataFrame'>\n",
      "RangeIndex: 244 entries, 0 to 243\n",
      "Data columns (total 8 columns):\n",
      " #   Column      Non-Null Count  Dtype   \n",
      "---  ------      --------------  -----   \n",
      " 0   total_bill  244 non-null    float64 \n",
      " 1   tip         244 non-null    float64 \n",
      " 2   sex         244 non-null    category\n",
      " 3   smoker      244 non-null    category\n",
      " 4   day         244 non-null    category\n",
      " 5   time        244 non-null    category\n",
      " 6   size        244 non-null    int64   \n",
      " 7   sex_str     244 non-null    object  \n",
      "dtypes: category(4), float64(2), int64(1), object(1)\n",
      "memory usage: 9.3+ KB\n"
     ]
    }
   ],
   "source": [
    "tips['sex'] = tips['sex'].astype('category')\n",
    "tips.info()"
   ]
  },
  {
   "cell_type": "markdown",
   "id": "460494fd",
   "metadata": {},
   "source": [
    "## 深入 category 数据类型"
   ]
  },
  {
   "cell_type": "markdown",
   "id": "ba458838",
   "metadata": {},
   "source": [
    "### 通过 pd.Categorical 创建 category 类型数据，同时指定可选项"
   ]
  },
  {
   "cell_type": "code",
   "execution_count": 30,
   "id": "fcd7b5fe",
   "metadata": {
    "ExecuteTime": {
     "end_time": "2022-12-28T11:22:36.381660Z",
     "start_time": "2022-12-28T11:22:36.367698Z"
    }
   },
   "outputs": [
    {
     "data": {
      "text/plain": [
       "0      a\n",
       "1    NaN\n",
       "2      c\n",
       "3      d\n",
       "dtype: category\n",
       "Categories (3, object): ['c', 'd', 'a']"
      ]
     },
     "execution_count": 30,
     "metadata": {},
     "output_type": "execute_result"
    }
   ],
   "source": [
    "s = pd.Series(\n",
    "    pd.Categorical(['a','b','c','d'],\n",
    "                  categories=['c','d','a'])\n",
    ")\n",
    "s"
   ]
  },
  {
   "cell_type": "markdown",
   "id": "96eaf1f6",
   "metadata": {},
   "source": [
    "- 注意：不在 category 限定范围内的数据会被置为 NaN"
   ]
  },
  {
   "cell_type": "markdown",
   "id": "ca97a408",
   "metadata": {},
   "source": [
    "### 通过 dtype 参数创建 category 类型数据"
   ]
  },
  {
   "cell_type": "code",
   "execution_count": 31,
   "id": "244e2afb",
   "metadata": {
    "ExecuteTime": {
     "end_time": "2022-12-28T11:22:36.396590Z",
     "start_time": "2022-12-28T11:22:36.382693Z"
    }
   },
   "outputs": [
    {
     "data": {
      "text/plain": [
       "0    B\n",
       "1    D\n",
       "2    C\n",
       "3    A\n",
       "dtype: category\n",
       "Categories (4, object): ['A', 'B', 'C', 'D']"
      ]
     },
     "execution_count": 31,
     "metadata": {},
     "output_type": "execute_result"
    }
   ],
   "source": [
    "cat_series = pd.Series(['B','D','C','A'],dtype='category')\n",
    "cat_series"
   ]
  },
  {
   "cell_type": "markdown",
   "id": "188a3ab2",
   "metadata": {},
   "source": [
    "### 此时对数据进行排序"
   ]
  },
  {
   "cell_type": "code",
   "execution_count": 32,
   "id": "62e23bda",
   "metadata": {
    "ExecuteTime": {
     "end_time": "2022-12-28T11:22:36.412552Z",
     "start_time": "2022-12-28T11:22:36.397587Z"
    }
   },
   "outputs": [
    {
     "data": {
      "text/plain": [
       "3    A\n",
       "0    B\n",
       "2    C\n",
       "1    D\n",
       "dtype: category\n",
       "Categories (4, object): ['A', 'B', 'C', 'D']"
      ]
     },
     "execution_count": 32,
     "metadata": {},
     "output_type": "execute_result"
    }
   ],
   "source": [
    "# 排序\n",
    "cat_series.sort_values()"
   ]
  },
  {
   "cell_type": "markdown",
   "id": "bd976761",
   "metadata": {},
   "source": [
    "### 通过 CategoricalDtype 指定 category 数据的类型顺序"
   ]
  },
  {
   "cell_type": "code",
   "execution_count": 33,
   "id": "0d5eca8f",
   "metadata": {
    "ExecuteTime": {
     "end_time": "2022-12-28T11:22:36.428509Z",
     "start_time": "2022-12-28T11:22:36.413545Z"
    }
   },
   "outputs": [
    {
     "data": {
      "text/plain": [
       "CategoricalDtype(categories=['B', 'D', 'A', 'C'], ordered=True)"
      ]
     },
     "execution_count": 33,
     "metadata": {},
     "output_type": "execute_result"
    }
   ],
   "source": [
    "from pandas.api.types import CategoricalDtype\n",
    "cat  = CategoricalDtype(categories=['B','D','A','C'],ordered=True)\n",
    "cat"
   ]
  },
  {
   "cell_type": "code",
   "execution_count": 34,
   "id": "1b81f8dd",
   "metadata": {
    "ExecuteTime": {
     "end_time": "2022-12-28T11:22:36.443327Z",
     "start_time": "2022-12-28T11:22:36.430314Z"
    }
   },
   "outputs": [
    {
     "name": "stdout",
     "output_type": "stream",
     "text": [
      "0    B\n",
      "1    D\n",
      "2    C\n",
      "3    A\n",
      "dtype: category\n",
      "Categories (4, object): ['A', 'B', 'C', 'D']\n"
     ]
    }
   ],
   "source": [
    "print(cat_series)"
   ]
  },
  {
   "cell_type": "code",
   "execution_count": 35,
   "id": "f4281734",
   "metadata": {
    "ExecuteTime": {
     "end_time": "2022-12-28T11:22:36.458735Z",
     "start_time": "2022-12-28T11:22:36.444970Z"
    }
   },
   "outputs": [
    {
     "name": "stdout",
     "output_type": "stream",
     "text": [
      "3    A\n",
      "0    B\n",
      "2    C\n",
      "1    D\n",
      "dtype: category\n",
      "Categories (4, object): ['A', 'B', 'C', 'D']\n"
     ]
    }
   ],
   "source": [
    "print(cat_series.sort_values())"
   ]
  },
  {
   "cell_type": "code",
   "execution_count": 36,
   "id": "c714c0dc",
   "metadata": {
    "ExecuteTime": {
     "end_time": "2022-12-28T11:22:36.474397Z",
     "start_time": "2022-12-28T11:22:36.459732Z"
    }
   },
   "outputs": [
    {
     "name": "stdout",
     "output_type": "stream",
     "text": [
      "<bound method Series.sort_values of 0    B\n",
      "1    D\n",
      "2    C\n",
      "3    A\n",
      "dtype: category\n",
      "Categories (4, object): ['B' < 'D' < 'A' < 'C']>\n"
     ]
    }
   ],
   "source": [
    "print(cat_series.astype(cat).sort_values)"
   ]
  },
  {
   "cell_type": "markdown",
   "id": "b559729c",
   "metadata": {},
   "source": [
    "### 临时修改排序规则，可以使用categories类型的series对象.cat.reorder_categories()方法"
   ]
  },
  {
   "cell_type": "code",
   "execution_count": 37,
   "id": "5ec0d237",
   "metadata": {
    "ExecuteTime": {
     "end_time": "2022-12-28T11:22:36.490073Z",
     "start_time": "2022-12-28T11:22:36.476058Z"
    }
   },
   "outputs": [
    {
     "name": "stdout",
     "output_type": "stream",
     "text": [
      "0    B\n",
      "1    D\n",
      "2    C\n",
      "3    A\n",
      "dtype: category\n",
      "Categories (4, object): ['A', 'B', 'C', 'D']\n",
      "0    B\n",
      "1    D\n",
      "2    C\n",
      "3    A\n",
      "dtype: category\n",
      "Categories (4, object): ['D' < 'B' < 'C' < 'A']\n"
     ]
    },
    {
     "name": "stderr",
     "output_type": "stream",
     "text": [
      "C:\\Users\\hp\\AppData\\Local\\Temp\\ipykernel_11288\\1924512310.py:2: FutureWarning: The `inplace` parameter in pandas.Categorical.reorder_categories is deprecated and will be removed in a future version. Reordering categories will always return a new Categorical object.\n",
      "  cat_series.cat.reorder_categories(['D','B','C','A'],ordered=True,inplace=True)\n"
     ]
    }
   ],
   "source": [
    "print(cat_series)\n",
    "cat_series.cat.reorder_categories(['D','B','C','A'],ordered=True,inplace=True)\n",
    "print(cat_series)"
   ]
  },
  {
   "cell_type": "markdown",
   "id": "f789b2ae",
   "metadata": {},
   "source": [
    "# 总结\n",
    "- Numpy 的特点\n",
    "- Numpy 是一个高效科学计算库，pandas 的数据计算功能是对 Numpy 的封装\n",
    "- ndarray 是 Numpy 的基本数据结构，pandas 的 Series 和 DataFrame 好多函数和属性都与 ndarray 一样\n",
    "- Numpy 的计算效率比原生 Python 效率高很多，并且支持并行计算\n",
    "- pandas 数据类型转换\n",
    "- pandas 除了数值型的 int 和 float 类型外，还有object、category、bool、datetime类型，可以通过 as_type 和 to_numeric 函数进行数据类型转换\n",
    "- pandas 分类数据类型\n",
    "- category 类型，可以用来进行排序，并且可以自定义排序顺序\n",
    "- CategoricalDtype 可以用来定义顺序"
   ]
  }
 ],
 "metadata": {
  "kernelspec": {
   "display_name": "Python 3 (ipykernel)",
   "language": "python",
   "name": "python3"
  },
  "language_info": {
   "codemirror_mode": {
    "name": "ipython",
    "version": 3
   },
   "file_extension": ".py",
   "mimetype": "text/x-python",
   "name": "python",
   "nbconvert_exporter": "python",
   "pygments_lexer": "ipython3",
   "version": "3.8.15"
  },
  "toc": {
   "base_numbering": 1,
   "nav_menu": {},
   "number_sections": true,
   "sideBar": true,
   "skip_h1_title": false,
   "title_cell": "Table of Contents",
   "title_sidebar": "Contents",
   "toc_cell": false,
   "toc_position": {},
   "toc_section_display": true,
   "toc_window_display": false
  },
  "varInspector": {
   "cols": {
    "lenName": 16,
    "lenType": 16,
    "lenVar": 40
   },
   "kernels_config": {
    "python": {
     "delete_cmd_postfix": "",
     "delete_cmd_prefix": "del ",
     "library": "var_list.py",
     "varRefreshCmd": "print(var_dic_list())"
    },
    "r": {
     "delete_cmd_postfix": ") ",
     "delete_cmd_prefix": "rm(",
     "library": "var_list.r",
     "varRefreshCmd": "cat(var_dic_list()) "
    }
   },
   "types_to_exclude": [
    "module",
    "function",
    "builtin_function_or_method",
    "instance",
    "_Feature"
   ],
   "window_display": false
  }
 },
 "nbformat": 4,
 "nbformat_minor": 5
}
